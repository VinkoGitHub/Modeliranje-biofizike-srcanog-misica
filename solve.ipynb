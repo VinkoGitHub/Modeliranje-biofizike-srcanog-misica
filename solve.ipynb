{
 "cells": [
  {
   "cell_type": "markdown",
   "metadata": {},
   "source": [
    "### Importing required libraries"
   ]
  },
  {
   "cell_type": "code",
   "execution_count": 1,
   "metadata": {},
   "outputs": [],
   "source": [
    "from src.models.dynamics_models import BidomainModel\n",
    "from src.models.cell_models import *\n",
    "from src.utils import *\n",
    "import ufl"
   ]
  },
  {
   "cell_type": "markdown",
   "metadata": {},
   "source": [
    "### Defining a domain, cell model and the whole model and visualizing initial data"
   ]
  },
  {
   "cell_type": "code",
   "execution_count": 2,
   "metadata": {},
   "outputs": [
    {
     "name": "stdout",
     "output_type": "stream",
     "text": [
      "Info    : Meshing 1D...\n",
      "Info    : [  0%] Meshing curve 1 (Circle)\n",
      "Info    : [ 10%] Meshing curve 2 (Circle)\n",
      "Info    : [ 20%] Meshing curve 3 (Line)\n",
      "Info    : [ 30%] Meshing curve 4 (Line)\n",
      "Info    : [ 50%] Meshing curve 6 (Ellipse)\n",
      "Info    : [ 60%] Meshing curve 7 (Ellipse)\n",
      "Info    : [ 80%] Meshing curve 9 (Ellipse)\n",
      "Info    : [ 90%] Meshing curve 10 (Ellipse)\n",
      "Info    : [100%] Meshing curve 11 (Line)\n",
      "Info    : Done meshing 1D (Wall 0.0139119s, CPU 0.014419s)\n",
      "Info    : Meshing 2D...\n",
      "Info    : [  0%] Meshing surface 1 (Plane, Frontal-Delaunay)\n",
      "Info    : [ 20%] Meshing surface 2 (Surface of Revolution, Frontal-Delaunay)\n",
      "Info    : [ 40%] Meshing surface 3 (Surface of Revolution, Frontal-Delaunay)\n",
      "Info    : [ 60%] Meshing surface 4 (Plane, Frontal-Delaunay)\n",
      "Info    : [ 80%] Meshing surface 5 (Plane, Frontal-Delaunay)\n",
      "Info    : Done meshing 2D (Wall 0.243904s, CPU 0.236511s)\n",
      "Info    : Meshing 3D...\n",
      "Info    : 3D Meshing 1 volume with 1 connected component\n",
      "Info    : Tetrahedrizing 4826 nodes...\n",
      "Info    : Done tetrahedrizing 4834 nodes (Wall 0.0605766s, CPU 0.060197s)\n",
      "Info    : Reconstructing mesh...\n",
      "Info    :  - Creating surface mesh\n",
      "Info    :  - Identifying boundary edges\n",
      "Info    :  - Recovering boundary\n",
      "Info    : Done reconstructing mesh (Wall 0.140854s, CPU 0.140361s)\n",
      "Info    : Found volume 1\n",
      "Info    : It. 0 - 0 nodes created - worst tet radius 2.63737 (nodes removed 0 0)\n",
      "Info    : It. 500 - 499 nodes created - worst tet radius 1.67561 (nodes removed 0 1)\n",
      "Info    : It. 1000 - 999 nodes created - worst tet radius 1.46612 (nodes removed 0 1)\n",
      "Info    : It. 1500 - 1499 nodes created - worst tet radius 1.28869 (nodes removed 0 1)\n",
      "Info    : It. 2000 - 1999 nodes created - worst tet radius 1.18243 (nodes removed 0 1)\n",
      "Info    : It. 2500 - 2499 nodes created - worst tet radius 1.11782 (nodes removed 0 1)\n",
      "Info    : It. 3000 - 2999 nodes created - worst tet radius 1.06307 (nodes removed 0 1)\n",
      "Info    : It. 3500 - 3499 nodes created - worst tet radius 1.01823 (nodes removed 0 1)\n",
      "Info    : 3D refinement terminated (8565 nodes total):\n",
      "Info    :  - 0 Delaunay cavities modified for star shapeness\n",
      "Info    :  - 1 nodes could not be inserted\n",
      "Info    :  - 38824 tetrahedra created in 0.191037 sec. (203227 tets/s)\n",
      "Info    : 0 node relocations\n",
      "Info    : Done meshing 3D (Wall 0.541315s, CPU 0.54203s)\n",
      "Info    : Optimizing mesh...\n",
      "Info    : Optimizing volume 1\n",
      "Info    : Optimization starts (volume = 61.4159) with worst = 0.00433902 / average = 0.763317:\n",
      "Info    : 0.00 < quality < 0.10 :        96 elements\n",
      "Info    : 0.10 < quality < 0.20 :       264 elements\n",
      "Info    : 0.20 < quality < 0.30 :       485 elements\n",
      "Info    : 0.30 < quality < 0.40 :       769 elements\n",
      "Info    : 0.40 < quality < 0.50 :      1148 elements\n",
      "Info    : 0.50 < quality < 0.60 :      1999 elements\n",
      "Info    : 0.60 < quality < 0.70 :      4780 elements\n",
      "Info    : 0.70 < quality < 0.80 :     10013 elements\n",
      "Info    : 0.80 < quality < 0.90 :     13364 elements\n",
      "Info    : 0.90 < quality < 1.00 :      5906 elements\n",
      "Info    : 837 edge swaps, 23 node relocations (volume = 61.4159): worst = 0.149404 / average = 0.776794 (Wall 0.0155011s, CPU 0.015573s)\n",
      "Info    : 844 edge swaps, 25 node relocations (volume = 61.4159): worst = 0.245044 / average = 0.776874 (Wall 0.0183823s, CPU 0.018517s)\n",
      "Info    : No ill-shaped tets in the mesh :-)\n",
      "Info    : 0.00 < quality < 0.10 :         0 elements\n",
      "Info    : 0.10 < quality < 0.20 :         0 elements\n",
      "Info    : 0.20 < quality < 0.30 :         1 elements\n",
      "Info    : 0.30 < quality < 0.40 :       757 elements\n",
      "Info    : 0.40 < quality < 0.50 :      1087 elements\n",
      "Info    : 0.50 < quality < 0.60 :      1920 elements\n",
      "Info    : 0.60 < quality < 0.70 :      4900 elements\n",
      "Info    : 0.70 < quality < 0.80 :      9957 elements\n",
      "Info    : 0.80 < quality < 0.90 :     13546 elements\n",
      "Info    : 0.90 < quality < 1.00 :      5895 elements\n",
      "Info    : Done optimizing mesh (Wall 0.0631818s, CPU 0.059853s)\n",
      "Info    : 8569 nodes 48011 elements\n"
     ]
    }
   ],
   "source": [
    "domain = right_ventricle()\n",
    "cell_model = ReparametrizedFitzHughNagumo(domain)\n",
    "x = ufl.SpatialCoordinate(domain)"
   ]
  },
  {
   "cell_type": "code",
   "execution_count": 3,
   "metadata": {},
   "outputs": [],
   "source": [
    "class Model(BidomainModel):\n",
    "    def initial_V_m(self):\n",
    "        def value(x):\n",
    "            return cell_model.V_REST + 25 * np.exp(\n",
    "                -((x[0] - 0) ** 2) + -((x[1] - 0) ** 2) - (x[2] + 8) ** 2\n",
    "            )\n",
    "\n",
    "        self.V_m_n.interpolate(value)\n",
    "\n",
    "    def conductivity(\n",
    "        self,\n",
    "        longitudinal_fibres=[\n",
    "            x[1] / (x[0] ** 2 + x[1] ** 2),\n",
    "            -x[0] / (x[0] ** 2 + x[1] ** 2),\n",
    "        ],\n",
    "        transversal_fibres=[0, 0],\n",
    "    ):\n",
    "        return super().conductivity(longitudinal_fibres, transversal_fibres)\n",
    "\n",
    "    def ischemia(self):\n",
    "        return (\n",
    "            lambda x: (x[0] + 1.5) ** 2 + (x[1] - 0) ** 2 + (x[2] + 4) ** 2 < 1**2,\n",
    "            self.M_i / 10,\n",
    "            self.M_e / 10,\n",
    "        )\n",
    "\n",
    "\n",
    "model = Model(domain, cell_model)"
   ]
  },
  {
   "cell_type": "code",
   "execution_count": 4,
   "metadata": {},
   "outputs": [
    {
     "data": {
      "application/vnd.jupyter.widget-view+json": {
       "model_id": "58d776f57ca14f6c877befd92dbbeb38",
       "version_major": 2,
       "version_minor": 0
      },
      "text/plain": [
       "Widget(value='<iframe src=\"http://localhost:35413/index.html?ui=P_0x7f2e584fa710_0&reconnect=auto\" class=\"pyvi…"
      ]
     },
     "metadata": {},
     "output_type": "display_data"
    }
   ],
   "source": [
    "model.plot_initial_V_m(show_mesh=False, shadow=True)"
   ]
  },
  {
   "cell_type": "code",
   "execution_count": 5,
   "metadata": {},
   "outputs": [
    {
     "data": {
      "application/vnd.jupyter.widget-view+json": {
       "model_id": "af190f16754b4f3c808c84049a514bbc",
       "version_major": 2,
       "version_minor": 0
      },
      "text/plain": [
       "Widget(value='<iframe src=\"http://localhost:39623/index.html?ui=P_0x7f7d16f8af50_1&reconnect=auto\" class=\"pyvi…"
      ]
     },
     "metadata": {},
     "output_type": "display_data"
    }
   ],
   "source": [
    "def plot_function(\n",
    "    function: fem.Function,\n",
    "    function_name: str = \"function\",\n",
    "    camera_direction: list[float] = [1, 1, 1],\n",
    "    zoom: float = 1.0,\n",
    "    shadow: bool = False,\n",
    "    show_mesh: bool = True,\n",
    "    save_to: str | None = None,\n",
    "):\n",
    "    \"\"\"Plot a dolfinx fem Function.\"\"\"\n",
    "    # Create a pyvista mesh and attach the values of u\n",
    "    grid = pyvista.UnstructuredGrid(*vtk_mesh(function.function_space))\n",
    "    grid.point_data[\"function\"] = function.x.array\n",
    "    grid.set_active_scalars(\"function\")\n",
    "\n",
    "    # Create a light to illuminate a mesh\n",
    "    light = pyvista.Light(position=[3.0, 3.0, 0.0], intensity=0.2)\n",
    "\n",
    "    # We visualize the data\n",
    "    plotter = pyvista.Plotter()\n",
    "    plotter.add_text(\n",
    "        f\"{function_name}\", position=\"upper_edge\", font_size=14, color=\"black\"\n",
    "    )\n",
    "    plotter.add_mesh(grid, show_edges=show_mesh, lighting=shadow, cmap=\"coolwarm\")\n",
    "    plotter.view_vector(camera_direction)\n",
    "    plotter.add_light(light)\n",
    "    plotter.camera.zoom(zoom)\n",
    "    if save_to is not None:\n",
    "        plotter.save_graphic(save_to)\n",
    "    plotter.show()\n",
    "\n",
    "\n",
    "plot_function(model.V_m_n, show_mesh=False, shadow=None)"
   ]
  },
  {
   "cell_type": "code",
   "execution_count": 6,
   "metadata": {},
   "outputs": [
    {
     "data": {
      "application/vnd.jupyter.widget-view+json": {
       "model_id": "0cc9778a59134eebaf630c2e812b7532",
       "version_major": 2,
       "version_minor": 0
      },
      "text/plain": [
       "Widget(value='<iframe src=\"http://localhost:35413/index.html?ui=P_0x7f2e4b2886d0_2&reconnect=auto\" class=\"pyvi…"
      ]
     },
     "metadata": {},
     "output_type": "display_data"
    }
   ],
   "source": [
    "model.plot_ischemia(show_mesh=False, shadow=True)"
   ]
  },
  {
   "cell_type": "code",
   "execution_count": null,
   "metadata": {},
   "outputs": [
    {
     "data": {
      "application/vnd.jupyter.widget-view+json": {
       "model_id": "7000d512f3694d40b829f6c56ea793b6",
       "version_major": 2,
       "version_minor": 0
      },
      "text/plain": [
       "Widget(value='<iframe src=\"http://localhost:44639/index.html?ui=P_0x7f6a9fc8c7d0_2&reconnect=auto\" class=\"pyvi…"
      ]
     },
     "metadata": {},
     "output_type": "display_data"
    }
   ],
   "source": [
    "x_c, y_c = 0, 0\n",
    "plot_vector_field(\n",
    "    domain,\n",
    "    lambda x: [\n",
    "        (x[1] - y_c) / ((x[0] - x_c) ** 2 + (x[1] - y_c) ** 2 + 1),\n",
    "        -(x[0] - x_c) / ((x[0] - x_c) ** 2 + (x[1] - y_c) ** 2 + 1),\n",
    "        0,\n",
    "    ],\n",
    "    tolerance=0.03,\n",
    "    factor=1,\n",
    ")"
   ]
  },
  {
   "cell_type": "code",
   "execution_count": null,
   "metadata": {},
   "outputs": [
    {
     "ename": "NameError",
     "evalue": "name 'žnj' is not defined",
     "output_type": "error",
     "traceback": [
      "\u001b[0;31m---------------------------------------------------------------------------\u001b[0m",
      "\u001b[0;31mNameError\u001b[0m                                 Traceback (most recent call last)",
      "Cell \u001b[0;32mIn[7], line 1\u001b[0m\n\u001b[0;32m----> 1\u001b[0m \u001b[43mžnj\u001b[49m\n",
      "\u001b[0;31mNameError\u001b[0m: name 'žnj' is not defined"
     ]
    },
    {
     "name": "stderr",
     "output_type": "stream",
     "text": [
      "ERROR:wslink.protocol:Exception raised\n",
      "ERROR:wslink.protocol:KeyError('8a1c475b7218b56ead871f6b0892c0af_19298d')\n",
      "ERROR:wslink.protocol:Traceback (most recent call last):\n",
      "  File \"/home/drvinko/miniconda3/envs/diplomski/lib/python3.11/site-packages/wslink/protocol.py\", line 332, in onMessage\n",
      "    results = func(*args, **kwargs)\n",
      "              ^^^^^^^^^^^^^^^^^^^^^\n",
      "  File \"/home/drvinko/miniconda3/envs/diplomski/lib/python3.11/site-packages/trame_vtk/modules/vtk/protocols/local_rendering.py\", line 33, in get_array\n",
      "    self.context.get_cached_data_array(data_hash, binary)\n",
      "  File \"/home/drvinko/miniconda3/envs/diplomski/lib/python3.11/site-packages/trame_vtk/modules/vtk/serializers/synchronization_context.py\", line 30, in get_cached_data_array\n",
      "    cache_obj = self.data_array_cache[p_md5]\n",
      "                ~~~~~~~~~~~~~~~~~~~~~^^^^^^^\n",
      "KeyError: '8a1c475b7218b56ead871f6b0892c0af_19298d'\n",
      "\n"
     ]
    }
   ],
   "source": [
    "žnj"
   ]
  },
  {
   "cell_type": "markdown",
   "metadata": {},
   "source": [
    "### Solving equations with given parameters"
   ]
  },
  {
   "cell_type": "code",
   "execution_count": null,
   "metadata": {},
   "outputs": [],
   "source": [
    "model.solve(\n",
    "    T=1000,\n",
    "    steps=1000,\n",
    "    save_to=\"demo.mp4\",\n",
    "    signal_point=[0.0, -2.0, -4.0],\n",
    ")"
   ]
  },
  {
   "cell_type": "markdown",
   "metadata": {},
   "source": [
    "### Plotting a final plot of transmembrane potential"
   ]
  },
  {
   "cell_type": "code",
   "execution_count": null,
   "metadata": {},
   "outputs": [],
   "source": [
    "plot_function(model.V_m_n, \"V_m\", show_mesh=False)"
   ]
  },
  {
   "cell_type": "markdown",
   "metadata": {},
   "source": [
    "### Plotting a transmembrane potential in a given signal point"
   ]
  },
  {
   "cell_type": "code",
   "execution_count": null,
   "metadata": {},
   "outputs": [],
   "source": [
    "model.plot_signal()"
   ]
  },
  {
   "cell_type": "markdown",
   "metadata": {},
   "source": [
    "### Plotting a transmembrane potential solution of a cell model"
   ]
  },
  {
   "cell_type": "code",
   "execution_count": null,
   "metadata": {},
   "outputs": [],
   "source": [
    "cell_model.visualize(1000, -84)"
   ]
  }
 ],
 "metadata": {
  "kernelspec": {
   "display_name": "base",
   "language": "python",
   "name": "python3"
  },
  "language_info": {
   "codemirror_mode": {
    "name": "ipython",
    "version": 3
   },
   "file_extension": ".py",
   "mimetype": "text/x-python",
   "name": "python",
   "nbconvert_exporter": "python",
   "pygments_lexer": "ipython3",
   "version": "3.11.6"
  }
 },
 "nbformat": 4,
 "nbformat_minor": 2
}
