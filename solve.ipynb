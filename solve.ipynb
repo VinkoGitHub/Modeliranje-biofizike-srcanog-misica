{
 "cells": [
  {
   "cell_type": "markdown",
   "metadata": {},
   "source": [
    "### Importing required libraries"
   ]
  },
  {
   "cell_type": "code",
   "execution_count": null,
   "metadata": {},
   "outputs": [],
   "source": [
    "from src.utils import heart_slice, plot_function, plot_vector_field\n",
    "from src.models.dynamics_models import BidomainModel\n",
    "from src.models.cell_models import *\n",
    "import ufl"
   ]
  },
  {
   "cell_type": "markdown",
   "metadata": {},
   "source": [
    "### Defining a domain, cell model and the whole model and visualizing initial data"
   ]
  },
  {
   "cell_type": "code",
   "execution_count": null,
   "metadata": {},
   "outputs": [],
   "source": [
    "domain = heart_slice()\n",
    "cell_model = Noble(domain=domain)\n",
    "x = ufl.SpatialCoordinate(domain)\n",
    "\n",
    "\n",
    "class Model(BidomainModel):\n",
    "    def initial_V_m(self):\n",
    "        def value(x): \n",
    "            return -84 + 24*np.exp(-(x[0]-0)** 2 + -(x[1]-2.7) ** 2)\n",
    "        self.V_m_n.interpolate(value)\n",
    "\n",
    "    def conductivity(\n",
    "        self,\n",
    "        longitudinal_fibres=[\n",
    "            x[1] / (x[0] ** 2 + x[1] ** 2),\n",
    "            -x[0] / (x[0] ** 2 + x[1] ** 2),\n",
    "        ],\n",
    "        transversal_fibres=[0, 0],\n",
    "    ):\n",
    "        return super().conductivity(longitudinal_fibres, transversal_fibres)\n",
    "\n",
    "    def ischemia(self):\n",
    "        return (\n",
    "            lambda x: (x[0] - 2) ** 2 / 10 + (x[1] - 1.2) ** 2 < 0.4**2,\n",
    "            self.M_i / 10,\n",
    "            self.M_e / 10,\n",
    "        )\n",
    "\n",
    "\n",
    "model = Model(domain, cell_model)"
   ]
  },
  {
   "cell_type": "code",
   "execution_count": null,
   "metadata": {},
   "outputs": [],
   "source": [
    "model.plot_initial_V_m(show_mesh=False)"
   ]
  },
  {
   "cell_type": "code",
   "execution_count": null,
   "metadata": {},
   "outputs": [],
   "source": [
    "model.plot_ischemia(show_mesh=False)"
   ]
  },
  {
   "cell_type": "code",
   "execution_count": null,
   "metadata": {},
   "outputs": [],
   "source": [
    "x_c, y_c = 0, 0.8\n",
    "plot_vector_field(\n",
    "    domain,\n",
    "    lambda x: [\n",
    "        (x[1] - y_c) / ((x[0] - x_c) ** 2 + (x[1] - y_c) ** 2),\n",
    "        -(x[0] - x_c) / ((x[0] - x_c) ** 2 + (x[1] - y_c) ** 2),\n",
    "        0,\n",
    "    ],\n",
    "    tolerance=0.03,\n",
    "    factor=1,\n",
    ")"
   ]
  },
  {
   "cell_type": "markdown",
   "metadata": {},
   "source": [
    "### Solving equations with given parameters"
   ]
  },
  {
   "cell_type": "code",
   "execution_count": null,
   "metadata": {},
   "outputs": [],
   "source": [
    "model.solve(\n",
    "    T=1000,\n",
    "    steps=4000,\n",
    "    save_to=\"demo.mp4\",\n",
    "    signal_point=[-2.0, 1.0, 0.0],\n",
    ")"
   ]
  },
  {
   "cell_type": "markdown",
   "metadata": {},
   "source": [
    "### Plotting a final plot of transmembrane potential"
   ]
  },
  {
   "cell_type": "code",
   "execution_count": null,
   "metadata": {},
   "outputs": [],
   "source": [
    "plot_function(model.V_m_n, \"V_m\")"
   ]
  },
  {
   "cell_type": "markdown",
   "metadata": {},
   "source": [
    "### Plotting a transmembrane potential in a given signal point"
   ]
  },
  {
   "cell_type": "code",
   "execution_count": null,
   "metadata": {},
   "outputs": [],
   "source": [
    "model.plot_signal()"
   ]
  },
  {
   "cell_type": "markdown",
   "metadata": {},
   "source": [
    "### Plotting a transmembrane potential solution of a cell model"
   ]
  },
  {
   "cell_type": "code",
   "execution_count": null,
   "metadata": {},
   "outputs": [],
   "source": [
    "cell_model.visualize(1000, -84)"
   ]
  },
  {
   "cell_type": "code",
   "execution_count": null,
   "metadata": {},
   "outputs": [],
   "source": []
  }
 ],
 "metadata": {
  "kernelspec": {
   "display_name": "base",
   "language": "python",
   "name": "python3"
  },
  "language_info": {
   "codemirror_mode": {
    "name": "ipython",
    "version": 3
   },
   "file_extension": ".py",
   "mimetype": "text/x-python",
   "name": "python",
   "nbconvert_exporter": "python",
   "pygments_lexer": "ipython3",
   "version": "3.11.6"
  }
 },
 "nbformat": 4,
 "nbformat_minor": 2
}
