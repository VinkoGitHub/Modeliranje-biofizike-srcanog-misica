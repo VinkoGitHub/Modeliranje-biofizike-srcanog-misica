{
 "cells": [
  {
   "cell_type": "markdown",
   "metadata": {},
   "source": [
    "Idea for solving workflow:\n",
    " 1. define mesh using MeshHandler class\n",
    " 2. define cell model using CellModel class\n",
    " 3. define dynamics model using DynamicsModel class"
   ]
  },
  {
   "cell_type": "markdown",
   "metadata": {},
   "source": [
    "## Importing packages"
   ]
  },
  {
   "cell_type": "code",
   "execution_count": 3,
   "metadata": {},
   "outputs": [],
   "source": [
    "from dolfinx import fem, mesh, plot, io\n",
    "from dolfinx.fem.petsc import LinearProblem\n",
    "from configs import *\n",
    "import pyvista\n",
    "import utils\n",
    "import numpy as np\n",
    "import ufl\n",
    "from mpi4py import MPI"
   ]
  },
  {
   "cell_type": "markdown",
   "metadata": {},
   "source": [
    "## Create a mesh, elements and spaces\n"
   ]
  },
  {
   "cell_type": "code",
   "execution_count": 4,
   "metadata": {},
   "outputs": [
    {
     "ename": "RuntimeError",
     "evalue": "Unable to open HDF5 file. File coarse_mesh.h5 does not exist.",
     "output_type": "error",
     "traceback": [
      "\u001b[0;31m---------------------------------------------------------------------------\u001b[0m",
      "\u001b[0;31mRuntimeError\u001b[0m                              Traceback (most recent call last)",
      "Cell \u001b[0;32mIn[4], line 1\u001b[0m\n\u001b[0;32m----> 1\u001b[0m \u001b[38;5;28;01mwith\u001b[39;00m \u001b[43mio\u001b[49m\u001b[38;5;241;43m.\u001b[39;49m\u001b[43mXDMFFile\u001b[49m\u001b[43m(\u001b[49m\u001b[43mMPI\u001b[49m\u001b[38;5;241;43m.\u001b[39;49m\u001b[43mCOMM_WORLD\u001b[49m\u001b[43m,\u001b[49m\u001b[43m \u001b[49m\u001b[38;5;124;43m\"\u001b[39;49m\u001b[38;5;124;43mcoarse_mesh.xdmf\u001b[39;49m\u001b[38;5;124;43m\"\u001b[39;49m\u001b[43m,\u001b[49m\u001b[43m \u001b[49m\u001b[38;5;124;43m'\u001b[39;49m\u001b[38;5;124;43mr\u001b[39;49m\u001b[38;5;124;43m'\u001b[39;49m\u001b[43m)\u001b[49m \u001b[38;5;28;01mas\u001b[39;00m xdmf:\n\u001b[1;32m      2\u001b[0m     domain \u001b[38;5;241m=\u001b[39m xdmf\u001b[38;5;241m.\u001b[39mread_mesh(name\u001b[38;5;241m=\u001b[39m\u001b[38;5;124m\"\u001b[39m\u001b[38;5;124mGrid\u001b[39m\u001b[38;5;124m\"\u001b[39m)\n\u001b[1;32m      4\u001b[0m element \u001b[38;5;241m=\u001b[39m ufl\u001b[38;5;241m.\u001b[39mFiniteElement(\u001b[38;5;124m\"\u001b[39m\u001b[38;5;124mP\u001b[39m\u001b[38;5;124m\"\u001b[39m, domain\u001b[38;5;241m.\u001b[39mufl_cell(), degree\u001b[38;5;241m=\u001b[39m\u001b[38;5;241m2\u001b[39m)\n",
      "\u001b[0;31mRuntimeError\u001b[0m: Unable to open HDF5 file. File coarse_mesh.h5 does not exist."
     ]
    }
   ],
   "source": [
    "with io.XDMFFile(MPI.COMM_WORLD, \"coarse_mesh.xdmf\", 'r') as xdmf:\n",
    "    domain = xdmf.read_mesh(name=\"Grid\")\n",
    "\n",
    "element = ufl.FiniteElement(\"P\", domain.ufl_cell(), degree=2)\n",
    "W = fem.FunctionSpace(domain, ufl.MixedElement(element, element))  # P1 FEM space\n",
    "V1, sub1 = W.sub(0).collapse()\n",
    "V2, sub2 = W.sub(1).collapse()\n",
    "\n",
    "# Define test functions\n",
    "psi, phi = ufl.TestFunctions(W)\n",
    "\n",
    "# Define trialfunctions\n",
    "V_m, U_e = ufl.TrialFunctions(W)\n",
    "\n",
    "# Define functions\n",
    "v_ = fem.Function(W)\n",
    "w, w_n = fem.Function(V1), fem.Function(V1)\n",
    "V_m_n = fem.Function(V1)\n",
    "\n",
    "x = ufl.SpatialCoordinate(domain)\n",
    "d = domain.topology.dim"
   ]
  },
  {
   "cell_type": "markdown",
   "metadata": {},
   "source": [
    "## Initial transmembrane potential"
   ]
  },
  {
   "cell_type": "code",
   "execution_count": null,
   "metadata": {},
   "outputs": [],
   "source": []
  },
  {
   "cell_type": "markdown",
   "metadata": {},
   "source": [
    "# Conductivities"
   ]
  },
  {
   "cell_type": "code",
   "execution_count": null,
   "metadata": {},
   "outputs": [],
   "source": [
    "# Muscle fibres\n",
    "fib_l = ufl.as_vector(\n",
    "    [1, 0, 0]\n",
    "    # [x[1] / (x[0] ** 2 + x[1] ** 2 + 1), -x[0] / (x[0] ** 2 + x[1] ** 2 + 1)]\n",
    ")\n",
    "\n",
    "fib_n = ufl.as_vector([0, 1, 0])\n",
    "\n",
    "# Healthy conductivities\n",
    "M_i_val = (\n",
    "    SIGMA_IT * ufl.Identity(d)\n",
    "    + (SIGMA_IL - SIGMA_IT) * ufl.outer(fib_l, fib_l)\n",
    "    + (SIGMA_IN - SIGMA_IT) * ufl.outer(fib_n, fib_n)\n",
    ")\n",
    "M_e_val = (\n",
    "    SIGMA_ET * ufl.Identity(d)\n",
    "    + (SIGMA_EL - SIGMA_ET) * ufl.outer(fib_l, fib_l)\n",
    "    + (SIGMA_EN - SIGMA_ET) * ufl.outer(fib_n, fib_n)\n",
    ")\n",
    "\n",
    "# Ishemic conductivities\n",
    "tissue_location = (1.5, 1.5)\n",
    "tissue_radius = 0.5\n",
    "\n",
    "M_i = ufl.conditional(\n",
    "    (x[0] - tissue_location[0]) ** 2 + (x[1] - tissue_location[1]) ** 2\n",
    "    < tissue_radius**2,\n",
    "    M_i_val / 10,\n",
    "    M_i_val,\n",
    ")\n",
    "\n",
    "M_e = ufl.conditional(\n",
    "    (x[0] - tissue_location[0]) ** 2 + (x[1] - tissue_location[1]) ** 2\n",
    "    < tissue_radius**2,\n",
    "    M_e_val / 10,\n",
    "    M_e_val,\n",
    ")"
   ]
  },
  {
   "cell_type": "markdown",
   "metadata": {},
   "source": [
    "## Defining ufl expressions and a problem"
   ]
  },
  {
   "cell_type": "code",
   "execution_count": null,
   "metadata": {},
   "outputs": [],
   "source": [
    "F = (V_m - V_m_n) / DT * phi * ufl.dx + ufl.inner(\n",
    "    ufl.dot(M_i, ufl.grad(V_m / 2 + V_m_n / 2 + U_e)), ufl.grad(phi)\n",
    ") * ufl.dx\n",
    "F += (\n",
    "    ufl.inner(ufl.dot(M_i + M_e, ufl.grad(U_e)), ufl.grad(psi)) * ufl.dx\n",
    "    + ufl.inner(ufl.dot(M_i, ufl.grad(V_m / 2 + V_m_n / 2)), ufl.grad(psi)) * ufl.dx\n",
    ")\n",
    "problem = LinearProblem(a=ufl.lhs(F), L=ufl.rhs(F), u=v_)"
   ]
  },
  {
   "cell_type": "markdown",
   "metadata": {},
   "source": [
    "### Setting up the plotting environment"
   ]
  },
  {
   "cell_type": "code",
   "execution_count": null,
   "metadata": {},
   "outputs": [],
   "source": [
    "grid = pyvista.UnstructuredGrid(*plot.vtk_mesh(V1))\n",
    "plotter = pyvista.Plotter(notebook=True, off_screen=False)\n",
    "plotter.open_gif(\"V_m_time.gif\", fps=int(NUM_STEPS / 10))\n",
    "grid.point_data[\"V_m\"] = V_m_n.x.array\n",
    "plotter.add_mesh(\n",
    "    grid,\n",
    "    show_edges=False,\n",
    "    lighting=True,\n",
    "    smooth_shading=True,\n",
    "    clim=[-100, 50],\n",
    ")"
   ]
  },
  {
   "cell_type": "markdown",
   "metadata": {},
   "source": [
    "## Full time-stepping:"
   ]
  },
  {
   "cell_type": "code",
   "execution_count": 2,
   "metadata": {},
   "outputs": [
    {
     "ename": "NameError",
     "evalue": "name 'utils' is not defined",
     "output_type": "error",
     "traceback": [
      "\u001b[0;31m---------------------------------------------------------------------------\u001b[0m",
      "\u001b[0;31mNameError\u001b[0m                                 Traceback (most recent call last)",
      "Cell \u001b[0;32mIn[2], line 2\u001b[0m\n\u001b[1;32m      1\u001b[0m \u001b[38;5;66;03m# Defining a cell model\u001b[39;00m\n\u001b[0;32m----> 2\u001b[0m CellModel \u001b[38;5;241m=\u001b[39m \u001b[43mutils\u001b[49m\u001b[38;5;241m.\u001b[39mReparametrizedFitzHughNagumo()\n\u001b[1;32m      4\u001b[0m \u001b[38;5;66;03m# List of signal values for each time step\u001b[39;00m\n\u001b[1;32m      5\u001b[0m signal \u001b[38;5;241m=\u001b[39m []\n",
      "\u001b[0;31mNameError\u001b[0m: name 'utils' is not defined"
     ]
    }
   ],
   "source": [
    "# Defining a cell model\n",
    "CellModel = utils.ReparametrizedFitzHughNagumo()\n",
    "\n",
    "# List of signal values for each time step\n",
    "signal = []\n",
    "t = 0.0\n",
    "\n",
    "# Iterate through time\n",
    "while t < T:\n",
    "    # Appending the transmembrane potential value at some point to a list\n",
    "    #signal.append(utils.evaluate_function_at_point(V_m_n, domain, [1.5, 1.5, 0.0]))\n",
    "\n",
    "    # 1st step of Strang splitting\n",
    "    k1_V = CellModel.I_ion(V_m_n.x.array[:], w.x.array[:])\n",
    "    k2_V = CellModel.I_ion(V_m_n.x.array[:] + DT / 2 * k1_V, w.x.array[:])\n",
    "    V_m_n.x.array[:] = V_m_n.x.array[:] + DT / 4 * (k1_V + k2_V)\n",
    "\n",
    "    k1_w = CellModel.f(V_m_n.x.array[:], w.x.array[:])\n",
    "    k2_w = CellModel.f(V_m_n.x.array[:], w.x.array[:] + DT / 2 * k1_w)\n",
    "    w.x.array[:] = w.x.array[:] + DT / 4 * (k1_w + k2_w)\n",
    "\n",
    "    # 2nd step of Strang splitting\n",
    "    problem.solve()\n",
    "    v_.x.array[sub2] = v_.x.array[sub2] - np.mean(\n",
    "        v_.x.array[sub2]\n",
    "    )  # Normalize U_e to zero mean\n",
    "\n",
    "    # Update solution for V_m\n",
    "    V_m_n.x.array[:] = v_.x.array[sub1]\n",
    "\n",
    "    # 3rd step of Strang splitting\n",
    "    k1_V = CellModel.I_ion(V_m_n.x.array[:], w.x.array[:])\n",
    "    k2_V = CellModel.I_ion(V_m_n.x.array[:] + DT * k1_V, w.x.array[:])\n",
    "    V_m_n.x.array[:] = V_m_n.x.array[:] + DT / 2 * (k1_V + k2_V)\n",
    "\n",
    "    k1_w = CellModel.f(V_m_n.x.array[:], w.x.array[:])\n",
    "    k2_w = CellModel.f(V_m_n.x.array[:], w.x.array[:] + DT * k1_w)\n",
    "    w.x.array[:] = w.x.array[:] + DT / 2 * (k1_w + k2_w)\n",
    "\n",
    "    # Print time\n",
    "    print(\"t = %.3f\" % t)\n",
    "    # Update plot\n",
    "    plotter.clear()\n",
    "    grid.point_data[\"V_m\"] = V_m_n.x.array[:]\n",
    "    plotter.add_mesh(\n",
    "        grid,\n",
    "        show_edges=False,\n",
    "        lighting=True,\n",
    "        smooth_shading=True,\n",
    "        clim=[-100, 50],\n",
    "    )\n",
    "    plotter.add_title(\"t = %.3f\" % t, font_size=24)\n",
    "    plotter.view_vector([1, -1, -1])\n",
    "    plotter.write_frame()\n",
    "    t += DT\n",
    "\n",
    "plotter.close()"
   ]
  },
  {
   "cell_type": "markdown",
   "metadata": {},
   "source": [
    "### Plotting time dependence of transmembrane potential at a particular point"
   ]
  },
  {
   "cell_type": "code",
   "execution_count": null,
   "metadata": {},
   "outputs": [],
   "source": [
    "import matplotlib.pyplot as plt\n",
    "\n",
    "time = np.linspace(0, T, len(signal))\n",
    "plt.plot(time, signal)\n",
    "plt.xlabel(\"time [ms]\")\n",
    "plt.ylabel(\"signal [mV]\")\n",
    "plt.title(\"Time dependence of transmembrane potential\")"
   ]
  },
  {
   "cell_type": "markdown",
   "metadata": {},
   "source": [
    "### Plotting a final plot of transmembrane potential"
   ]
  },
  {
   "cell_type": "code",
   "execution_count": null,
   "metadata": {},
   "outputs": [],
   "source": [
    "utils.plot_function(V_m_n, V1, shadow=True)"
   ]
  },
  {
   "cell_type": "code",
   "execution_count": null,
   "metadata": {},
   "outputs": [],
   "source": []
  }
 ],
 "metadata": {
  "kernelspec": {
   "display_name": "base",
   "language": "python",
   "name": "python3"
  },
  "language_info": {
   "codemirror_mode": {
    "name": "ipython",
    "version": 3
   },
   "file_extension": ".py",
   "mimetype": "text/x-python",
   "name": "python",
   "nbconvert_exporter": "python",
   "pygments_lexer": "ipython3",
   "version": "3.11.6"
  }
 },
 "nbformat": 4,
 "nbformat_minor": 2
}
