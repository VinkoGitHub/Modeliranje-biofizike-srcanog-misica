{
 "cells": [
  {
   "cell_type": "code",
   "execution_count": null,
   "metadata": {},
   "outputs": [],
   "source": [
    "from src.utils import create_square, plot_function\n",
    "from src.models.cell_models import ReparametrizedFitzHughNagumo\n",
    "from src.models.dynamics_models import BidomainModel\n",
    "import numpy as np\n",
    "import ufl"
   ]
  },
  {
   "cell_type": "code",
   "execution_count": null,
   "metadata": {},
   "outputs": [],
   "source": [
    "domain = create_square(32, 32)\n",
    "x = ufl.SpatialCoordinate(domain)\n",
    "cell_model = ReparametrizedFitzHughNagumo()\n",
    "\n",
    "\n",
    "class Model(BidomainModel):\n",
    "    def __init__(\n",
    "        self,\n",
    "    ):\n",
    "        pass\n",
    "\n",
    "    def initial_V_m(self):\n",
    "        return lambda x: x[0] ** 2 + x[1] ** 2 < 0.2**2, 0.0\n",
    "\n",
    "    def ischemia(self):\n",
    "        return (\n",
    "            (x[0] - 0.5) ** 2 + (x[1] - 0.5) ** 2 < 0.5**2,\n",
    "            model.M_i / 10,\n",
    "            model.M_e / 10,\n",
    "        )\n",
    "\n",
    "model = Model()\n",
    "model.setup(domain)"
   ]
  },
  {
   "cell_type": "markdown",
   "metadata": {},
   "source": [
    "### Solve the equations with given parameters"
   ]
  },
  {
   "cell_type": "code",
   "execution_count": null,
   "metadata": {},
   "outputs": [],
   "source": [
    "V, signal = model.solve(\n",
    "    T=500,\n",
    "    steps=500,\n",
    "    cell_model=cell_model,\n",
    "    gif_name=\"demo.gif\",\n",
    "    signal_point=[0.2, 0.2, 0.0],\n",
    ")"
   ]
  },
  {
   "cell_type": "markdown",
   "metadata": {},
   "source": [
    "### Plotting a final plot of transmembrane potential"
   ]
  },
  {
   "cell_type": "code",
   "execution_count": null,
   "metadata": {},
   "outputs": [],
   "source": [
    "plot_function(V)"
   ]
  },
  {
   "cell_type": "markdown",
   "metadata": {},
   "source": [
    "### Plotting a transmembrane potential in a given signal point"
   ]
  },
  {
   "cell_type": "code",
   "execution_count": null,
   "metadata": {},
   "outputs": [],
   "source": [
    "import matplotlib.pyplot as plt\n",
    "\n",
    "time = np.linspace(0, 200, len(signal))\n",
    "plt.plot(time, signal)\n",
    "plt.xlabel(\"time [ms]\")\n",
    "plt.ylabel(\"signal [mV]\")\n",
    "plt.title(\"Time dependence of transmembrane potential\")"
   ]
  },
  {
   "cell_type": "markdown",
   "metadata": {},
   "source": [
    "### Plotting a transmembrane potential solution of a cell model"
   ]
  },
  {
   "cell_type": "code",
   "execution_count": null,
   "metadata": {},
   "outputs": [],
   "source": [
    "cell_model.visualize(300, -60, 0)"
   ]
  }
 ],
 "metadata": {
  "kernelspec": {
   "display_name": "base",
   "language": "python",
   "name": "python3"
  },
  "language_info": {
   "codemirror_mode": {
    "name": "ipython",
    "version": 3
   },
   "file_extension": ".py",
   "mimetype": "text/x-python",
   "name": "python",
   "nbconvert_exporter": "python",
   "pygments_lexer": "ipython3",
   "version": "3.11.6"
  }
 },
 "nbformat": 4,
 "nbformat_minor": 2
}
