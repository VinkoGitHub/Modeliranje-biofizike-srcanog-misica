{
 "cells": [
  {
   "cell_type": "markdown",
   "metadata": {},
   "source": [
    "## 2D attempt at solving the bidomain equations:"
   ]
  },
  {
   "cell_type": "code",
   "execution_count": 1,
   "metadata": {},
   "outputs": [],
   "source": [
    "from fenics import *\n",
    "import numpy as np\n",
    "from configs import *\n",
    "from utils import *\n",
    "import matplotlib.pyplot as plt\n",
    "from tqdm import tqdm"
   ]
  },
  {
   "cell_type": "markdown",
   "metadata": {},
   "source": [
    "### Generating a mesh:"
   ]
  },
  {
   "cell_type": "code",
   "execution_count": 12,
   "metadata": {},
   "outputs": [
    {
     "data": {
      "text/plain": [
       "<matplotlib.collections.PolyCollection at 0x7f7073ecb590>"
      ]
     },
     "execution_count": 12,
     "metadata": {},
     "output_type": "execute_result"
    },
    {
     "data": {
      "image/png": "[encoded data removed]",
      "text/plain": [
       "<Figure size 640x480 with 1 Axes>"
      ]
     },
     "metadata": {},
     "output_type": "display_data"
    }
   ],
   "source": [
    "mesh, cellfunction, facetfunction = mesh_maker()\n",
    "plot(cellfunction)"
   ]
  },
  {
   "cell_type": "markdown",
   "metadata": {},
   "source": [
    "### Bidomain model:"
   ]
  },
  {
   "cell_type": "code",
   "execution_count": 3,
   "metadata": {},
   "outputs": [],
   "source": [
    "# Define function space\n",
    "P1 = FiniteElement(\"P\", triangle, 2)\n",
    "element = MixedElement([P1, P1, P1])\n",
    "V = FunctionSpace(mesh, element)\n",
    "V1 = FunctionSpace(mesh, P1)\n",
    "\n",
    "# Define test functions\n",
    "phi, psi, theta = TestFunctions(V)\n",
    "\n",
    "# Define functions\n",
    "v = Function(V)\n",
    "v_n = Function(V)\n",
    "\n",
    "V_m, u, w = split(v)\n",
    "V_m_n, u_n, w_n = split(v_n)"
   ]
  },
  {
   "cell_type": "code",
   "execution_count": 4,
   "metadata": {},
   "outputs": [],
   "source": [
    "# defining expressions for later use\n",
    "\n",
    "# V_m = v[0], u = v[1], w = v[2]\n",
    "# Ionic current\n",
    "I_ion = Expression(\n",
    "    \"-v[2]/TAU_IN*pow((v[0] - V_MIN),2)*(V_MAX - v[0])/(V_MAX - V_MIN) + 1/TAU_OUT*(v[0] - V_MIN)/(V_MAX - V_MIN)\",\n",
    "    TAU_IN=TAU_IN,\n",
    "    TAU_OUT=TAU_OUT,\n",
    "    V_MIN=V_MIN,\n",
    "    V_MAX=V_MAX,\n",
    "    v=v,\n",
    "    degree=2,\n",
    ")\n",
    "# Gating variable\n",
    "g = Expression(\n",
    "    \"v[0] < V_GATE ? v[2]/TAU_OPEN - 1/TAU_OPEN/pow((V_MAX - V_MIN),2) : v[2]/TAU_CLOSE\",\n",
    "    TAU_OPEN=TAU_OPEN,\n",
    "    TAU_CLOSE=TAU_CLOSE,\n",
    "    V_GATE=V_GATE,\n",
    "    V_MAX=V_MAX,\n",
    "    V_MIN=V_MIN,\n",
    "    v=v,\n",
    "    degree=2,\n",
    ")\n",
    "# Fiber vector field\n",
    "fibers = Expression(\n",
    "    (\n",
    "        \"x[1]/sqrt(pow(x[0],2) + pow(x[1],2) + DOLFIN_EPS)\",\n",
    "        \"-x[0]/sqrt(pow(x[0],2) + pow(x[1],2) + DOLFIN_EPS)\",\n",
    "    ),\n",
    "    degree=2,\n",
    ")\n",
    "# Applied stimulus\n",
    "I_app = Expression(\n",
    "    \"exp(-pow(x[0]-X, 2)/size - pow(x[1]-Y, 2)/size - pow(t/t_act, 2))\",\n",
    "    X=X,\n",
    "    Y=Y,\n",
    "    t_act=T_ACT,\n",
    "    t=0,\n",
    "    size=(X + Y) / 2,\n",
    "    degree=2,\n",
    ")  # nije kao u radu"
   ]
  },
  {
   "cell_type": "code",
   "execution_count": 5,
   "metadata": {},
   "outputs": [],
   "source": [
    "# defining UFL language parts\n",
    "\n",
    "# conductivities\n",
    "sigma_il = Constant(SIGMA_IL)\n",
    "sigma_it = Constant(SIGMA_IT)\n",
    "sigma_el = Constant(SIGMA_EL)\n",
    "sigma_et = Constant(SIGMA_ET)\n",
    "sigma_tlt = Constant(SIGMA_TLT)\n",
    "\n",
    "d = mesh.topology().dim()\n",
    "\n",
    "sigma_i = sigma_it * Identity(d) + (sigma_il - sigma_it) * outer(fibers, fibers)\n",
    "sigma_e = sigma_et * Identity(d) + (sigma_el - sigma_et) * outer(fibers, fibers)\n",
    "sigma_t = sigma_tlt * Identity(d)\n",
    "\n",
    "# Constants used in variational forms\n",
    "dt = Constant(DT)\n",
    "A_m = Constant(A_M)\n",
    "C_m = Constant(C_M)"
   ]
  },
  {
   "cell_type": "code",
   "execution_count": 6,
   "metadata": {},
   "outputs": [],
   "source": [
    "# Define new measures associated with the interior domains and\n",
    "# exterior boundaries\n",
    "dx = Measure(\"dx\")(subdomain_data=cellfunction)\n",
    "ds = Measure(\"ds\")(subdomain_data=facetfunction)"
   ]
  },
  {
   "cell_type": "code",
   "execution_count": 7,
   "metadata": {},
   "outputs": [],
   "source": [
    "# Define variational problem\n",
    "F = (\n",
    "    A_m * (C_m * (V_m - V_m_n) + dt * I_ion) * phi * dx(1)\n",
    "    + dt * inner(dot(sigma_i, grad(V_m + u)), grad(phi)) * dx(1)\n",
    "    - dt * A_m * I_app * phi * dx(1)\n",
    ")\n",
    "F += (\n",
    "    inner(dot(sigma_i + sigma_e, grad(u)), grad(psi)) * dx(1)\n",
    "    + inner(dot(sigma_i, grad(V_m)), grad(psi)) * dx(1)\n",
    "    + inner(dot(sigma_t, grad(u)), grad(psi)) * dx(0)\n",
    ")\n",
    "F += (w - w_n + dt * g) * theta * dx(1)"
   ]
  },
  {
   "cell_type": "code",
   "execution_count": 8,
   "metadata": {},
   "outputs": [],
   "source": [
    "# Initial conditions\n",
    "V_m_0 = Expression(\"V_MIN\", V_MIN=V_MIN, degree=0)\n",
    "w_0 = Expression(\"1/pow((V_MAX - V_MIN), 2)\", V_MIN=V_MIN, V_MAX=V_MAX, degree=0)\n",
    "\n",
    "V_m_n, u_n, w_n = v_n.split(deepcopy=True)\n",
    "V_m, u, w = v.split(deepcopy=True)\n",
    "\n",
    "V_m_n = project(V_m_0, V1)\n",
    "w_n = project(w_0, V1)"
   ]
  },
  {
   "cell_type": "code",
   "execution_count": 9,
   "metadata": {},
   "outputs": [
    {
     "name": "stderr",
     "output_type": "stream",
     "text": [
      "  2%|▎         | 2/80 [00:00<00:08,  8.81it/s]"
     ]
    },
    {
     "name": "stdout",
     "output_type": "stream",
     "text": [
      "Solving nonlinear variational problem.\n",
      "  Newton iteration 0: r (abs) = 5.825e-03 (tol = 1.000e-02) r (rel) = 1.000e+00 (tol = 1.000e-02)\n",
      "  Newton solver finished in 0 iterations and 0 linear solver iterations.\n",
      "Solving nonlinear variational problem.\n",
      "  Newton iteration 0: r (abs) = 5.814e-03 (tol = 1.000e-02) r (rel) = 1.000e+00 (tol = 1.000e-02)\n",
      "  Newton solver finished in 0 iterations and 0 linear solver iterations.\n"
     ]
    },
    {
     "name": "stderr",
     "output_type": "stream",
     "text": [
      "  5%|▌         | 4/80 [00:00<00:08,  8.65it/s]"
     ]
    },
    {
     "name": "stdout",
     "output_type": "stream",
     "text": [
      "Solving nonlinear variational problem.\n",
      "  Newton iteration 0: r (abs) = 5.795e-03 (tol = 1.000e-02) r (rel) = 1.000e+00 (tol = 1.000e-02)\n",
      "  Newton solver finished in 0 iterations and 0 linear solver iterations.\n",
      "Solving nonlinear variational problem.\n",
      "  Newton iteration 0: r (abs) = 5.768e-03 (tol = 1.000e-02) r (rel) = 1.000e+00 (tol = 1.000e-02)\n",
      "  Newton solver finished in 0 iterations and 0 linear solver iterations.\n"
     ]
    },
    {
     "name": "stderr",
     "output_type": "stream",
     "text": [
      "  8%|▊         | 6/80 [00:00<00:08,  8.49it/s]"
     ]
    },
    {
     "name": "stdout",
     "output_type": "stream",
     "text": [
      "Solving nonlinear variational problem.\n",
      "  Newton iteration 0: r (abs) = 5.733e-03 (tol = 1.000e-02) r (rel) = 1.000e+00 (tol = 1.000e-02)\n",
      "  Newton solver finished in 0 iterations and 0 linear solver iterations.\n",
      "Solving nonlinear variational problem.\n",
      "  Newton iteration 0: r (abs) = 5.692e-03 (tol = 1.000e-02) r (rel) = 1.000e+00 (tol = 1.000e-02)\n",
      "  Newton solver finished in 0 iterations and 0 linear solver iterations.\n"
     ]
    },
    {
     "name": "stderr",
     "output_type": "stream",
     "text": [
      " 10%|█         | 8/80 [00:00<00:08,  8.43it/s]"
     ]
    },
    {
     "name": "stdout",
     "output_type": "stream",
     "text": [
      "Solving nonlinear variational problem.\n",
      "  Newton iteration 0: r (abs) = 5.643e-03 (tol = 1.000e-02) r (rel) = 1.000e+00 (tol = 1.000e-02)\n",
      "  Newton solver finished in 0 iterations and 0 linear solver iterations.\n",
      "Solving nonlinear variational problem.\n",
      "  Newton iteration 0: r (abs) = 5.587e-03 (tol = 1.000e-02) r (rel) = 1.000e+00 (tol = 1.000e-02)\n",
      "  Newton solver finished in 0 iterations and 0 linear solver iterations.\n",
      "Solving nonlinear variational problem.\n",
      "  Newton iteration 0: r (abs) = 5.524e-03 (tol = 1.000e-02) r (rel) = 1.000e+00 (tol = 1.000e-02)\n",
      "  Newton solver finished in 0 iterations and 0 linear solver iterations.\n"
     ]
    },
    {
     "name": "stderr",
     "output_type": "stream",
     "text": [
      " 14%|█▍        | 11/80 [00:01<00:08,  8.40it/s]"
     ]
    },
    {
     "name": "stdout",
     "output_type": "stream",
     "text": [
      "Solving nonlinear variational problem.\n",
      "  Newton iteration 0: r (abs) = 5.454e-03 (tol = 1.000e-02) r (rel) = 1.000e+00 (tol = 1.000e-02)\n",
      "  Newton solver finished in 0 iterations and 0 linear solver iterations.\n",
      "Solving nonlinear variational problem.\n",
      "  Newton iteration 0: r (abs) = 5.378e-03 (tol = 1.000e-02) r (rel) = 1.000e+00 (tol = 1.000e-02)\n",
      "  Newton solver finished in 0 iterations and 0 linear solver iterations.\n",
      "Solving nonlinear variational problem.\n",
      "  Newton iteration 0: r (abs) = 5.296e-03 (tol = 1.000e-02) r (rel) = 1.000e+00 (tol = 1.000e-02)\n",
      "  Newton solver finished in 0 iterations and 0 linear solver iterations.\n"
     ]
    },
    {
     "name": "stderr",
     "output_type": "stream",
     "text": [
      " 18%|█▊        | 14/80 [00:01<00:07,  8.49it/s]"
     ]
    },
    {
     "name": "stdout",
     "output_type": "stream",
     "text": [
      "Solving nonlinear variational problem.\n",
      "  Newton iteration 0: r (abs) = 5.209e-03 (tol = 1.000e-02) r (rel) = 1.000e+00 (tol = 1.000e-02)\n",
      "  Newton solver finished in 0 iterations and 0 linear solver iterations.\n",
      "Solving nonlinear variational problem.\n",
      "  Newton iteration 0: r (abs) = 5.115e-03 (tol = 1.000e-02) r (rel) = 1.000e+00 (tol = 1.000e-02)\n",
      "  Newton solver finished in 0 iterations and 0 linear solver iterations.\n",
      "Solving nonlinear variational problem.\n",
      "  Newton iteration 0: r (abs) = 5.017e-03 (tol = 1.000e-02) r (rel) = 1.000e+00 (tol = 1.000e-02)\n",
      "  Newton solver finished in 0 iterations and 0 linear solver iterations.\n"
     ]
    },
    {
     "name": "stderr",
     "output_type": "stream",
     "text": [
      " 21%|██▏       | 17/80 [00:02<00:07,  8.27it/s]"
     ]
    },
    {
     "name": "stdout",
     "output_type": "stream",
     "text": [
      "Solving nonlinear variational problem.\n",
      "  Newton iteration 0: r (abs) = 4.914e-03 (tol = 1.000e-02) r (rel) = 1.000e+00 (tol = 1.000e-02)\n",
      "  Newton solver finished in 0 iterations and 0 linear solver iterations.\n",
      "Solving nonlinear variational problem.\n",
      "  Newton iteration 0: r (abs) = 4.806e-03 (tol = 1.000e-02) r (rel) = 1.000e+00 (tol = 1.000e-02)\n",
      "  Newton solver finished in 0 iterations and 0 linear solver iterations.\n",
      "Solving nonlinear variational problem."
     ]
    },
    {
     "name": "stderr",
     "output_type": "stream",
     "text": [
      " 24%|██▍       | 19/80 [00:02<00:07,  8.23it/s]"
     ]
    },
    {
     "name": "stdout",
     "output_type": "stream",
     "text": [
      "\n",
      "  Newton iteration 0: r (abs) = 4.694e-03 (tol = 1.000e-02) r (rel) = 1.000e+00 (tol = 1.000e-02)\n",
      "  Newton solver finished in 0 iterations and 0 linear solver iterations.\n",
      "Solving nonlinear variational problem.\n",
      "  Newton iteration 0: r (abs) = 4.579e-03 (tol = 1.000e-02) r (rel) = 1.000e+00 (tol = 1.000e-02)\n",
      "  Newton solver finished in 0 iterations and 0 linear solver iterations.\n",
      "Solving nonlinear variational problem.\n",
      "  Newton iteration 0: r (abs) = 4.460e-03 (tol = 1.000e-02) r (rel) = 1.000e+00 (tol = 1.000e-02)\n",
      "  Newton solver finished in 0 iterations and 0 linear solver iterations.\n"
     ]
    },
    {
     "name": "stderr",
     "output_type": "stream",
     "text": [
      " 28%|██▊       | 22/80 [00:02<00:06,  8.31it/s]"
     ]
    },
    {
     "name": "stdout",
     "output_type": "stream",
     "text": [
      "Solving nonlinear variational problem.\n",
      "  Newton iteration 0: r (abs) = 4.338e-03 (tol = 1.000e-02) r (rel) = 1.000e+00 (tol = 1.000e-02)\n",
      "  Newton solver finished in 0 iterations and 0 linear solver iterations.\n",
      "Solving nonlinear variational problem.\n",
      "  Newton iteration 0: r (abs) = 4.213e-03 (tol = 1.000e-02) r (rel) = 1.000e+00 (tol = 1.000e-02)\n",
      "  Newton solver finished in 0 iterations and 0 linear solver iterations.\n",
      "Solving nonlinear variational problem."
     ]
    },
    {
     "name": "stderr",
     "output_type": "stream",
     "text": [
      " 30%|███       | 24/80 [00:02<00:06,  8.17it/s]"
     ]
    },
    {
     "name": "stdout",
     "output_type": "stream",
     "text": [
      "\n",
      "  Newton iteration 0: r (abs) = 4.086e-03 (tol = 1.000e-02) r (rel) = 1.000e+00 (tol = 1.000e-02)\n",
      "  Newton solver finished in 0 iterations and 0 linear solver iterations.\n",
      "Solving nonlinear variational problem.\n",
      "  Newton iteration 0: r (abs) = 3.957e-03 (tol = 1.000e-02) r (rel) = 1.000e+00 (tol = 1.000e-02)\n",
      "  Newton solver finished in 0 iterations and 0 linear solver iterations.\n"
     ]
    },
    {
     "name": "stderr",
     "output_type": "stream",
     "text": [
      " 32%|███▎      | 26/80 [00:03<00:06,  8.25it/s]"
     ]
    },
    {
     "name": "stdout",
     "output_type": "stream",
     "text": [
      "Solving nonlinear variational problem.\n",
      "  Newton iteration 0: r (abs) = 3.827e-03 (tol = 1.000e-02) r (rel) = 1.000e+00 (tol = 1.000e-02)\n",
      "  Newton solver finished in 0 iterations and 0 linear solver iterations.\n",
      "Solving nonlinear variational problem.\n",
      "  Newton iteration 0: r (abs) = 3.696e-03 (tol = 1.000e-02) r (rel) = 1.000e+00 (tol = 1.000e-02)\n",
      "  Newton solver finished in 0 iterations and 0 linear solver iterations.\n",
      "Solving nonlinear variational problem.\n",
      "  Newton iteration 0: r (abs) = 3.563e-03 (tol = 1.000e-02) r (rel) = 1.000e+00 (tol = 1.000e-02)\n",
      "  Newton solver finished in 0 iterations and 0 linear solver iterations.\n"
     ]
    },
    {
     "name": "stderr",
     "output_type": "stream",
     "text": [
      " 36%|███▋      | 29/80 [00:03<00:06,  8.20it/s]"
     ]
    },
    {
     "name": "stdout",
     "output_type": "stream",
     "text": [
      "Solving nonlinear variational problem.\n",
      "  Newton iteration 0: r (abs) = 3.431e-03 (tol = 1.000e-02) r (rel) = 1.000e+00 (tol = 1.000e-02)\n",
      "  Newton solver finished in 0 iterations and 0 linear solver iterations.\n",
      "Solving nonlinear variational problem.\n",
      "  Newton iteration 0: r (abs) = 3.298e-03 (tol = 1.000e-02) r (rel) = 1.000e+00 (tol = 1.000e-02)\n",
      "  Newton solver finished in 0 iterations and 0 linear solver iterations.\n",
      "Solving nonlinear variational problem.\n",
      "  Newton iteration 0: r (abs) = 3.166e-03 (tol = 1.000e-02) r (rel) = 1.000e+00 (tol = 1.000e-02)\n",
      "  Newton solver finished in 0 iterations and 0 linear solver iterations.\n"
     ]
    },
    {
     "name": "stderr",
     "output_type": "stream",
     "text": [
      " 41%|████▏     | 33/80 [00:03<00:05,  8.25it/s]"
     ]
    },
    {
     "name": "stdout",
     "output_type": "stream",
     "text": [
      "Solving nonlinear variational problem.\n",
      "  Newton iteration 0: r (abs) = 3.034e-03 (tol = 1.000e-02) r (rel) = 1.000e+00 (tol = 1.000e-02)\n",
      "  Newton solver finished in 0 iterations and 0 linear solver iterations.\n",
      "Solving nonlinear variational problem.\n",
      "  Newton iteration 0: r (abs) = 2.903e-03 (tol = 1.000e-02) r (rel) = 1.000e+00 (tol = 1.000e-02)\n",
      "  Newton solver finished in 0 iterations and 0 linear solver iterations.\n",
      "Solving nonlinear variational problem.\n",
      "  Newton iteration 0: r (abs) = 2.773e-03 (tol = 1.000e-02) r (rel) = 1.000e+00 (tol = 1.000e-02)\n",
      "  Newton solver finished in 0 iterations and 0 linear solver iterations.\n"
     ]
    },
    {
     "name": "stderr",
     "output_type": "stream",
     "text": [
      " 44%|████▍     | 35/80 [00:04<00:05,  8.38it/s]"
     ]
    },
    {
     "name": "stdout",
     "output_type": "stream",
     "text": [
      "Solving nonlinear variational problem.\n",
      "  Newton iteration 0: r (abs) = 2.644e-03 (tol = 1.000e-02) r (rel) = 1.000e+00 (tol = 1.000e-02)\n",
      "  Newton solver finished in 0 iterations and 0 linear solver iterations.\n",
      "Solving nonlinear variational problem.\n",
      "  Newton iteration 0: r (abs) = 2.518e-03 (tol = 1.000e-02) r (rel) = 1.000e+00 (tol = 1.000e-02)\n",
      "  Newton solver finished in 0 iterations and 0 linear solver iterations.\n"
     ]
    },
    {
     "name": "stderr",
     "output_type": "stream",
     "text": [
      " 46%|████▋     | 37/80 [00:04<00:05,  8.39it/s]"
     ]
    },
    {
     "name": "stdout",
     "output_type": "stream",
     "text": [
      "Solving nonlinear variational problem.\n",
      "  Newton iteration 0: r (abs) = 2.393e-03 (tol = 1.000e-02) r (rel) = 1.000e+00 (tol = 1.000e-02)\n",
      "  Newton solver finished in 0 iterations and 0 linear solver iterations.\n",
      "Solving nonlinear variational problem.\n",
      "  Newton iteration 0: r (abs) = 2.270e-03 (tol = 1.000e-02) r (rel) = 1.000e+00 (tol = 1.000e-02)\n",
      "  Newton solver finished in 0 iterations and 0 linear solver iterations.\n"
     ]
    },
    {
     "name": "stderr",
     "output_type": "stream",
     "text": [
      " 49%|████▉     | 39/80 [00:04<00:04,  8.34it/s]"
     ]
    },
    {
     "name": "stdout",
     "output_type": "stream",
     "text": [
      "Solving nonlinear variational problem.\n",
      "  Newton iteration 0: r (abs) = 2.150e-03 (tol = 1.000e-02) r (rel) = 1.000e+00 (tol = 1.000e-02)\n",
      "  Newton solver finished in 0 iterations and 0 linear solver iterations.\n",
      "Solving nonlinear variational problem.\n",
      "  Newton iteration 0: r (abs) = 2.032e-03 (tol = 1.000e-02) r (rel) = 1.000e+00 (tol = 1.000e-02)\n",
      "  Newton solver finished in 0 iterations and 0 linear solver iterations.\n"
     ]
    },
    {
     "name": "stderr",
     "output_type": "stream",
     "text": [
      " 51%|█████▏    | 41/80 [00:04<00:04,  7.90it/s]"
     ]
    },
    {
     "name": "stdout",
     "output_type": "stream",
     "text": [
      "Solving nonlinear variational problem.\n",
      "  Newton iteration 0: r (abs) = 1.917e-03 (tol = 1.000e-02) r (rel) = 1.000e+00 (tol = 1.000e-02)\n",
      "  Newton solver finished in 0 iterations and 0 linear solver iterations.\n",
      "Solving nonlinear variational problem.\n",
      "  Newton iteration 0: r (abs) = 1.804e-03 (tol = 1.000e-02) r (rel) = 1.000e+00 (tol = 1.000e-02)\n",
      "  Newton solver finished in 0 iterations and 0 linear solver iterations.\n"
     ]
    },
    {
     "name": "stderr",
     "output_type": "stream",
     "text": [
      " 55%|█████▌    | 44/80 [00:05<00:04,  8.24it/s]"
     ]
    },
    {
     "name": "stdout",
     "output_type": "stream",
     "text": [
      "Solving nonlinear variational problem.\n",
      "  Newton iteration 0: r (abs) = 1.695e-03 (tol = 1.000e-02) r (rel) = 1.000e+00 (tol = 1.000e-02)\n",
      "  Newton solver finished in 0 iterations and 0 linear solver iterations.\n",
      "Solving nonlinear variational problem.\n",
      "  Newton iteration 0: r (abs) = 1.589e-03 (tol = 1.000e-02) r (rel) = 1.000e+00 (tol = 1.000e-02)\n",
      "  Newton solver finished in 0 iterations and 0 linear solver iterations.\n",
      "Solving nonlinear variational problem.\n",
      "  Newton iteration 0: r (abs) = 1.486e-03 (tol = 1.000e-02) r (rel) = 1.000e+00 (tol = 1.000e-02)\n",
      "  Newton solver finished in 0 iterations and 0 linear solver iterations.\n"
     ]
    },
    {
     "name": "stderr",
     "output_type": "stream",
     "text": [
      " 57%|█████▊    | 46/80 [00:05<00:04,  8.38it/s]"
     ]
    },
    {
     "name": "stdout",
     "output_type": "stream",
     "text": [
      "Solving nonlinear variational problem.\n",
      "  Newton iteration 0: r (abs) = 1.387e-03 (tol = 1.000e-02) r (rel) = 1.000e+00 (tol = 1.000e-02)\n",
      "  Newton solver finished in 0 iterations and 0 linear solver iterations.\n",
      "Solving nonlinear variational problem.\n",
      "  Newton iteration 0: r (abs) = 1.291e-03 (tol = 1.000e-02) r (rel) = 1.000e+00 (tol = 1.000e-02)\n",
      "  Newton solver finished in 0 iterations and 0 linear solver iterations.\n",
      "Solving nonlinear variational problem."
     ]
    },
    {
     "name": "stderr",
     "output_type": "stream",
     "text": [
      " 60%|██████    | 48/80 [00:05<00:03,  8.54it/s]"
     ]
    },
    {
     "name": "stdout",
     "output_type": "stream",
     "text": [
      "\n",
      "  Newton iteration 0: r (abs) = 1.198e-03 (tol = 1.000e-02) r (rel) = 1.000e+00 (tol = 1.000e-02)\n",
      "  Newton solver finished in 0 iterations and 0 linear solver iterations.\n",
      "Solving nonlinear variational problem.\n",
      "  Newton iteration 0: r (abs) = 1.109e-03 (tol = 1.000e-02) r (rel) = 1.000e+00 (tol = 1.000e-02)\n",
      "  Newton solver finished in 0 iterations and 0 linear solver iterations.\n",
      "Solving nonlinear variational problem.\n",
      "  Newton iteration 0: r (abs) = 1.023e-03 (tol = 1.000e-02) r (rel) = 1.000e+00 (tol = 1.000e-02)\n",
      "  Newton solver finished in 0 iterations and 0 linear solver iterations.\n"
     ]
    },
    {
     "name": "stderr",
     "output_type": "stream",
     "text": [
      " 65%|██████▌   | 52/80 [00:06<00:03,  8.14it/s]"
     ]
    },
    {
     "name": "stdout",
     "output_type": "stream",
     "text": [
      "Solving nonlinear variational problem.\n",
      "  Newton iteration 0: r (abs) = 9.410e-04 (tol = 1.000e-02) r (rel) = 1.000e+00 (tol = 1.000e-02)\n",
      "  Newton solver finished in 0 iterations and 0 linear solver iterations.\n",
      "Solving nonlinear variational problem.\n",
      "  Newton iteration 0: r (abs) = 8.624e-04 (tol = 1.000e-02) r (rel) = 1.000e+00 (tol = 1.000e-02)\n",
      "  Newton solver finished in 0 iterations and 0 linear solver iterations.\n",
      "Solving nonlinear variational problem."
     ]
    },
    {
     "name": "stderr",
     "output_type": "stream",
     "text": [
      " 68%|██████▊   | 54/80 [00:06<00:03,  8.32it/s]"
     ]
    },
    {
     "name": "stdout",
     "output_type": "stream",
     "text": [
      "\n",
      "  Newton iteration 0: r (abs) = 7.873e-04 (tol = 1.000e-02) r (rel) = 1.000e+00 (tol = 1.000e-02)\n",
      "  Newton solver finished in 0 iterations and 0 linear solver iterations.\n",
      "Solving nonlinear variational problem.\n",
      "  Newton iteration 0: r (abs) = 7.158e-04 (tol = 1.000e-02) r (rel) = 1.000e+00 (tol = 1.000e-02)\n",
      "  Newton solver finished in 0 iterations and 0 linear solver iterations.\n",
      "Solving nonlinear variational problem.\n",
      "  Newton iteration 0: r (abs) = 6.478e-04 (tol = 1.000e-02) r (rel) = 1.000e+00 (tol = 1.000e-02)\n",
      "  Newton solver finished in 0 iterations and 0 linear solver iterations.\n",
      "Solving nonlinear variational problem.\n",
      "  Newton iteration 0: r (abs) = 5.834e-04 (tol = 1.000e-02) r (rel) = 1.000e+00 (tol = 1.000e-02)\n",
      "  Newton solver finished in 0 iterations and 0 linear solver iterations.\n"
     ]
    },
    {
     "name": "stderr",
     "output_type": "stream",
     "text": [
      " 72%|███████▎  | 58/80 [00:06<00:02,  8.24it/s]"
     ]
    },
    {
     "name": "stdout",
     "output_type": "stream",
     "text": [
      "Solving nonlinear variational problem.\n",
      "  Newton iteration 0: r (abs) = 5.225e-04 (tol = 1.000e-02) r (rel) = 1.000e+00 (tol = 1.000e-02)\n",
      "  Newton solver finished in 0 iterations and 0 linear solver iterations.\n",
      "Solving nonlinear variational problem.\n",
      "  Newton iteration 0: r (abs) = 4.651e-04 (tol = 1.000e-02) r (rel) = 1.000e+00 (tol = 1.000e-02)\n",
      "  Newton solver finished in 0 iterations and 0 linear solver iterations.\n",
      "Solving nonlinear variational problem."
     ]
    },
    {
     "name": "stderr",
     "output_type": "stream",
     "text": [
      " 75%|███████▌  | 60/80 [00:07<00:02,  7.40it/s]"
     ]
    },
    {
     "name": "stdout",
     "output_type": "stream",
     "text": [
      "\n",
      "  Newton iteration 0: r (abs) = 4.113e-04 (tol = 1.000e-02) r (rel) = 1.000e+00 (tol = 1.000e-02)\n",
      "  Newton solver finished in 0 iterations and 0 linear solver iterations.\n",
      "Solving nonlinear variational problem.\n",
      "  Newton iteration 0: r (abs) = 3.611e-04 (tol = 1.000e-02) r (rel) = 1.000e+00 (tol = 1.000e-02)\n",
      "  Newton solver finished in 0 iterations and 0 linear solver iterations.\n",
      "Solving nonlinear variational problem.\n",
      "  Newton iteration 0: r (abs) = 3.146e-04 (tol = 1.000e-02) r (rel) = 1.000e+00 (tol = 1.000e-02)\n",
      "  Newton solver finished in 0 iterations and 0 linear solver iterations.\n"
     ]
    },
    {
     "name": "stderr",
     "output_type": "stream",
     "text": [
      " 78%|███████▊  | 62/80 [00:07<00:02,  7.75it/s]"
     ]
    },
    {
     "name": "stdout",
     "output_type": "stream",
     "text": [
      "Solving nonlinear variational problem.\n",
      "  Newton iteration 0: r (abs) = 2.720e-04 (tol = 1.000e-02) r (rel) = 1.000e+00 (tol = 1.000e-02)\n",
      "  Newton solver finished in 0 iterations and 0 linear solver iterations.\n",
      "Solving nonlinear variational problem.\n",
      "  Newton iteration 0: r (abs) = 2.336e-04 (tol = 1.000e-02) r (rel) = 1.000e+00 (tol = 1.000e-02)\n",
      "  Newton solver finished in 0 iterations and 0 linear solver iterations.\n"
     ]
    },
    {
     "name": "stderr",
     "output_type": "stream",
     "text": [
      " 80%|████████  | 64/80 [00:07<00:02,  7.68it/s]"
     ]
    },
    {
     "name": "stdout",
     "output_type": "stream",
     "text": [
      "Solving nonlinear variational problem.\n",
      "  Newton iteration 0: r (abs) = 2.000e-04 (tol = 1.000e-02) r (rel) = 1.000e+00 (tol = 1.000e-02)\n",
      "  Newton solver finished in 0 iterations and 0 linear solver iterations.\n",
      "Solving nonlinear variational problem.\n",
      "  Newton iteration 0: r (abs) = 1.719e-04 (tol = 1.000e-02) r (rel) = 1.000e+00 (tol = 1.000e-02)\n",
      "  Newton solver finished in 0 iterations and 0 linear solver iterations.\n"
     ]
    },
    {
     "name": "stderr",
     "output_type": "stream",
     "text": [
      " 82%|████████▎ | 66/80 [00:08<00:01,  7.93it/s]"
     ]
    },
    {
     "name": "stdout",
     "output_type": "stream",
     "text": [
      "Solving nonlinear variational problem.\n",
      "  Newton iteration 0: r (abs) = 1.503e-04 (tol = 1.000e-02) r (rel) = 1.000e+00 (tol = 1.000e-02)\n",
      "  Newton solver finished in 0 iterations and 0 linear solver iterations.\n",
      "Solving nonlinear variational problem.\n",
      "  Newton iteration 0: r (abs) = 1.363e-04 (tol = 1.000e-02) r (rel) = 1.000e+00 (tol = 1.000e-02)\n",
      "  Newton solver finished in 0 iterations and 0 linear solver iterations.\n",
      "Solving nonlinear variational problem.\n",
      "  Newton iteration 0: r (abs) = 1.304e-04 (tol = 1.000e-02) r (rel) = 1.000e+00 (tol = 1.000e-02)\n",
      "  Newton solver finished in 0 iterations and 0 linear solver iterations.\n"
     ]
    },
    {
     "name": "stderr",
     "output_type": "stream",
     "text": [
      " 86%|████████▋ | 69/80 [00:08<00:01,  8.09it/s]"
     ]
    },
    {
     "name": "stdout",
     "output_type": "stream",
     "text": [
      "Solving nonlinear variational problem.\n",
      "  Newton iteration 0: r (abs) = 1.320e-04 (tol = 1.000e-02) r (rel) = 1.000e+00 (tol = 1.000e-02)\n",
      "  Newton solver finished in 0 iterations and 0 linear solver iterations.\n",
      "Solving nonlinear variational problem.\n",
      "  Newton iteration 0: r (abs) = 1.396e-04 (tol = 1.000e-02) r (rel) = 1.000e+00 (tol = 1.000e-02)\n",
      "  Newton solver finished in 0 iterations and 0 linear solver iterations.\n",
      "Solving nonlinear variational problem."
     ]
    },
    {
     "name": "stderr",
     "output_type": "stream",
     "text": [
      " 89%|████████▉ | 71/80 [00:08<00:01,  7.87it/s]"
     ]
    },
    {
     "name": "stdout",
     "output_type": "stream",
     "text": [
      "\n",
      "  Newton iteration 0: r (abs) = 1.511e-04 (tol = 1.000e-02) r (rel) = 1.000e+00 (tol = 1.000e-02)\n",
      "  Newton solver finished in 0 iterations and 0 linear solver iterations.\n",
      "Solving nonlinear variational problem.\n",
      "  Newton iteration 0: r (abs) = 1.649e-04 (tol = 1.000e-02) r (rel) = 1.000e+00 (tol = 1.000e-02)\n",
      "  Newton solver finished in 0 iterations and 0 linear solver iterations.\n"
     ]
    },
    {
     "name": "stderr",
     "output_type": "stream",
     "text": [
      " 91%|█████████▏| 73/80 [00:08<00:00,  8.14it/s]"
     ]
    },
    {
     "name": "stdout",
     "output_type": "stream",
     "text": [
      "Solving nonlinear variational problem.\n",
      "  Newton iteration 0: r (abs) = 1.797e-04 (tol = 1.000e-02) r (rel) = 1.000e+00 (tol = 1.000e-02)\n",
      "  Newton solver finished in 0 iterations and 0 linear solver iterations.\n",
      "Solving nonlinear variational problem.\n",
      "  Newton iteration 0: r (abs) = 1.948e-04 (tol = 1.000e-02) r (rel) = 1.000e+00 (tol = 1.000e-02)\n",
      "  Newton solver finished in 0 iterations and 0 linear solver iterations.\n"
     ]
    },
    {
     "name": "stderr",
     "output_type": "stream",
     "text": [
      " 94%|█████████▍| 75/80 [00:09<00:00,  8.31it/s]"
     ]
    },
    {
     "name": "stdout",
     "output_type": "stream",
     "text": [
      "Solving nonlinear variational problem.\n",
      "  Newton iteration 0: r (abs) = 2.097e-04 (tol = 1.000e-02) r (rel) = 1.000e+00 (tol = 1.000e-02)\n",
      "  Newton solver finished in 0 iterations and 0 linear solver iterations.\n",
      "Solving nonlinear variational problem.\n",
      "  Newton iteration 0: r (abs) = 2.240e-04 (tol = 1.000e-02) r (rel) = 1.000e+00 (tol = 1.000e-02)\n",
      "  Newton solver finished in 0 iterations and 0 linear solver iterations.\n"
     ]
    },
    {
     "name": "stderr",
     "output_type": "stream",
     "text": [
      " 96%|█████████▋| 77/80 [00:09<00:00,  8.39it/s]"
     ]
    },
    {
     "name": "stdout",
     "output_type": "stream",
     "text": [
      "Solving nonlinear variational problem.\n",
      "  Newton iteration 0: r (abs) = 2.377e-04 (tol = 1.000e-02) r (rel) = 1.000e+00 (tol = 1.000e-02)\n",
      "  Newton solver finished in 0 iterations and 0 linear solver iterations.\n",
      "Solving nonlinear variational problem.\n",
      "  Newton iteration 0: r (abs) = 2.506e-04 (tol = 1.000e-02) r (rel) = 1.000e+00 (tol = 1.000e-02)\n",
      "  Newton solver finished in 0 iterations and 0 linear solver iterations.\n"
     ]
    },
    {
     "name": "stderr",
     "output_type": "stream",
     "text": [
      " 99%|█████████▉| 79/80 [00:09<00:00,  8.33it/s]"
     ]
    },
    {
     "name": "stdout",
     "output_type": "stream",
     "text": [
      "Solving nonlinear variational problem.\n",
      "  Newton iteration 0: r (abs) = 2.628e-04 (tol = 1.000e-02) r (rel) = 1.000e+00 (tol = 1.000e-02)\n",
      "  Newton solver finished in 0 iterations and 0 linear solver iterations.\n",
      "Solving nonlinear variational problem.\n",
      "  Newton iteration 0: r (abs) = 2.741e-04 (tol = 1.000e-02) r (rel) = 1.000e+00 (tol = 1.000e-02)\n",
      "  Newton solver finished in 0 iterations and 0 linear solver iterations.\n",
      "Solving nonlinear variational problem.\n",
      "  Newton iteration 0: r (abs) = 2.846e-04 (tol = 1.000e-02) r (rel) = 1.000e+00 (tol = 1.000e-02)\n",
      "  Newton solver finished in 0 iterations and 0 linear solver iterations.\n"
     ]
    },
    {
     "name": "stderr",
     "output_type": "stream",
     "text": [
      "100%|██████████| 80/80 [00:09<00:00,  8.22it/s]\n"
     ]
    }
   ],
   "source": [
    "# Time-stepping\n",
    "t = 0\n",
    "for n in tqdm(range(NUM_STEPS)):\n",
    "    # Update current time and expressions\n",
    "    t += DT\n",
    "    g.v = v\n",
    "    I_ion.v = v\n",
    "    I_app.t = t\n",
    "\n",
    "    # Solve variational problem for time step\n",
    "    # set_log_active(False)\n",
    "    solver = custom_solver(F, v, tol_abs=1e-2, tol_rel=1e-2, max_iter=10)\n",
    "    solver.solve()\n",
    "\n",
    "    # Update previous solution\n",
    "    v_n.assign(v)"
   ]
  },
  {
   "cell_type": "code",
   "execution_count": 10,
   "metadata": {},
   "outputs": [
    {
     "data": {
      "text/plain": [
       "<matplotlib.tri._tricontour.TriContourSet at 0x7f708484ac90>"
      ]
     },
     "execution_count": 10,
     "metadata": {},
     "output_type": "execute_result"
    },
    {
     "data": {
      "image/png": "[encoded data removed]",
      "text/plain": [
       "<Figure size 640x480 with 1 Axes>"
      ]
     },
     "metadata": {},
     "output_type": "display_data"
    },
    {
     "data": {
      "image/png": "[encoded data removed]",
      "text/plain": [
       "<Figure size 640x480 with 1 Axes>"
      ]
     },
     "metadata": {},
     "output_type": "display_data"
    },
    {
     "data": {
      "image/png": "[encoded data removed]",
      "text/plain": [
       "<Figure size 640x480 with 1 Axes>"
      ]
     },
     "metadata": {},
     "output_type": "display_data"
    }
   ],
   "source": [
    "# Plot solution and gradient\n",
    "plot(V_m, title=\"$V_m$\")\n",
    "plot(u, title=\"$u$\")\n",
    "plot(w, title=\"$w$\")"
   ]
  },
  {
   "cell_type": "code",
   "execution_count": null,
   "metadata": {},
   "outputs": [],
   "source": []
  }
 ],
 "metadata": {
  "kernelspec": {
   "display_name": "base",
   "language": "python",
   "name": "python3"
  },
  "language_info": {
   "codemirror_mode": {
    "name": "ipython",
    "version": 3
   },
   "file_extension": ".py",
   "mimetype": "text/x-python",
   "name": "python",
   "nbconvert_exporter": "python",
   "pygments_lexer": "ipython3",
   "version": "3.11.6"
  }
 },
 "nbformat": 4,
 "nbformat_minor": 2
}
