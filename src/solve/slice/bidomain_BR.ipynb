{
 "cells": [
  {
   "cell_type": "markdown",
   "metadata": {},
   "source": [
    "## Solving bidomain equations on a slice of the heart"
   ]
  },
  {
   "cell_type": "markdown",
   "metadata": {},
   "source": [
    "### Importing required libraries"
   ]
  },
  {
   "cell_type": "code",
   "execution_count": 1,
   "metadata": {},
   "outputs": [
    {
     "name": "stdout",
     "output_type": "stream",
     "text": [
      "/home/drvinko/Desktop/Modeliranje-biofizike-srcanog-tkiva\n"
     ]
    }
   ],
   "source": [
    "%cd ../../..\n",
    "from src.models.dynamics_models import *\n",
    "from src.models.cell_models import *\n",
    "from src.utils import *\n",
    "import ufl"
   ]
  },
  {
   "cell_type": "markdown",
   "metadata": {},
   "source": [
    "### Defining a domain, cell model and dynamics model and visualizing initial data"
   ]
  },
  {
   "cell_type": "code",
   "execution_count": 2,
   "metadata": {},
   "outputs": [
    {
     "name": "stdout",
     "output_type": "stream",
     "text": [
      "Info    : Meshing 1D...\n",
      "Info    : [  0%] Meshing curve 1 (Nurb)\n",
      "Info    : [ 40%] Meshing curve 2 (Nurb)\n",
      "Info    : [ 70%] Meshing curve 3 (Nurb)\n",
      "Info    : Done meshing 1D (Wall 0.0440258s, CPU 0.042787s)\n",
      "Info    : Meshing 2D...\n",
      "Info    : Meshing surface 1 (Plane, Frontal-Delaunay)\n",
      "Info    : Done meshing 2D (Wall 0.0834908s, CPU 0.083446s)\n",
      "Info    : Meshing 3D...\n",
      "Info    : Done meshing 3D (Wall 2.2966e-05s, CPU 2.3e-05s)\n",
      "Info    : 3628 nodes 7231 elements\n"
     ]
    },
    {
     "name": "stderr",
     "output_type": "stream",
     "text": [
      "Warning : Unknown entity of dimension 2 and tag 1 in physical group 1\n"
     ]
    }
   ],
   "source": [
    "domain = heart_slice()\n",
    "x = ufl.SpatialCoordinate(domain)"
   ]
  },
  {
   "cell_type": "code",
   "execution_count": 3,
   "metadata": {},
   "outputs": [],
   "source": [
    "class CellModel(BeelerReuter):\n",
    "    def apply_current(self):\n",
    "        locator1 = lambda x: (x[0] - 0)**2 + (x[1] - 2.1)**2 < 0.7**2\n",
    "        locator2 = lambda x: (x[0] - 1.2)**2 + (x[1] - 1.5)**2 < 0.7**2\n",
    "        locator3 = lambda x: (x[0] - 3.3)**2 + (x[1] - 3.1)**2 < 0.3**2\n",
    "        cells1 = fem.locate_dofs_geometrical(self.V1, locator1)\n",
    "        cells2 = fem.locate_dofs_geometrical(self.V1, locator2)\n",
    "        cells3 = fem.locate_dofs_geometrical(self.V1, locator3)\n",
    "        self.I_app.x.array[cells1] = np.full_like(cells1, 10)\n",
    "        self.I_app.x.array[cells2] = np.full_like(cells2, 10)\n",
    "        self.I_app.x.array[cells3] = np.full_like(cells3, 10)\n",
    "        self.I_app_duration = 20"
   ]
  },
  {
   "cell_type": "code",
   "execution_count": 4,
   "metadata": {},
   "outputs": [],
   "source": [
    "class Model(BidomainModel):\n",
    "    def initial_V_m(self):\n",
    "        self.V_m_n.x.array[:] = -85\n",
    "\n",
    "    def conductivity(self):\n",
    "        # Muscle fibres\n",
    "        self.fibers = ufl.as_vector([1, 0])\n",
    "\n",
    "        # Healthy conductivities\n",
    "        self.M_i = self.SIGMA_IT * ufl.Identity(2) + (\n",
    "            self.SIGMA_IN - self.SIGMA_IT\n",
    "        ) * ufl.outer(self.fibers, self.fibers)\n",
    "        self.M_e = self.SIGMA_ET * ufl.Identity(2) + (\n",
    "            self.SIGMA_EN - self.SIGMA_ET\n",
    "        ) * ufl.outer(self.fibers, self.fibers)"
   ]
  },
  {
   "cell_type": "code",
   "execution_count": 5,
   "metadata": {},
   "outputs": [],
   "source": [
    "cell_model = CellModel(domain)\n",
    "model = Model(domain, cell_model)"
   ]
  },
  {
   "cell_type": "code",
   "execution_count": 6,
   "metadata": {},
   "outputs": [
    {
     "data": {
      "application/vnd.jupyter.widget-view+json": {
       "model_id": "a65b1c26d9fc4fdfbf32dca39a193785",
       "version_major": 2,
       "version_minor": 0
      },
      "text/plain": [
       "Widget(value='<iframe src=\"http://localhost:41965/index.html?ui=P_0x7fc5cf415d90_0&reconnect=auto\" class=\"pyvi…"
      ]
     },
     "metadata": {},
     "output_type": "display_data"
    }
   ],
   "source": [
    "cell_model.plot_I_app(show_mesh=False)"
   ]
  },
  {
   "cell_type": "markdown",
   "metadata": {},
   "source": [
    "### Solving equations with given parameters"
   ]
  },
  {
   "cell_type": "code",
   "execution_count": 7,
   "metadata": {},
   "outputs": [
    {
     "name": "stderr",
     "output_type": "stream",
     "text": [
      "Solving problem:   1%|          | 52/10000 [00:09<26:24,  6.28it/s] "
     ]
    }
   ],
   "source": [
    "model.solve(\n",
    "    T=500,\n",
    "    steps=10000,\n",
    "    save_to=\"slice/bidomain_BR.mp4\",\n",
    "    signal_point=[1.0, 3.0, 0.0],\n",
    "    camera_direction='xy'\n",
    ")"
   ]
  },
  {
   "cell_type": "markdown",
   "metadata": {},
   "source": [
    "### Plotting a fiber orientations"
   ]
  },
  {
   "cell_type": "code",
   "execution_count": null,
   "metadata": {},
   "outputs": [
    {
     "data": {
      "application/vnd.jupyter.widget-view+json": {
       "model_id": "f144b783eab847c3a0a71144a9c4240a",
       "version_major": 2,
       "version_minor": 0
      },
      "text/plain": [
       "Widget(value='<iframe src=\"http://localhost:39221/index.html?ui=P_0x7fe77e2525d0_1&reconnect=auto\" class=\"pyvi…"
      ]
     },
     "metadata": {},
     "output_type": "display_data"
    }
   ],
   "source": [
    "plot_vector_field(domain, lambda x: (1, 0, 0), 0.03)"
   ]
  },
  {
   "cell_type": "markdown",
   "metadata": {},
   "source": [
    "### Plotting a final plot of transmembrane potential"
   ]
  },
  {
   "cell_type": "code",
   "execution_count": null,
   "metadata": {},
   "outputs": [
    {
     "data": {
      "application/vnd.jupyter.widget-view+json": {
       "model_id": "29d78372efe641d9a457792e78bffbc6",
       "version_major": 2,
       "version_minor": 0
      },
      "text/plain": [
       "Widget(value='<iframe src=\"http://localhost:39221/index.html?ui=P_0x7fe7400a2790_2&reconnect=auto\" class=\"pyvi…"
      ]
     },
     "metadata": {},
     "output_type": "display_data"
    }
   ],
   "source": [
    "plot_function(model.V_m_n, \"V_m\", show_mesh=False)"
   ]
  },
  {
   "cell_type": "markdown",
   "metadata": {},
   "source": [
    "### Plotting a transmembrane potential in a given signal point"
   ]
  },
  {
   "cell_type": "code",
   "execution_count": null,
   "metadata": {},
   "outputs": [
    {
     "data": {
      "image/png": "[encoded data removed]",
      "text/plain": [
       "<Figure size 640x480 with 1 Axes>"
      ]
     },
     "metadata": {},
     "output_type": "display_data"
    },
    {
     "name": "stderr",
     "output_type": "stream",
     "text": [
      "ERROR:wslink.protocol:Exception raised\n",
      "ERROR:wslink.protocol:KeyError('7d5869e821ec66ae9b7f4e888571fdd4_13957d')\n",
      "ERROR:wslink.protocol:Traceback (most recent call last):\n",
      "  File \"/home/drvinko/miniconda3/envs/diplomski/lib/python3.11/site-packages/wslink/protocol.py\", line 332, in onMessage\n",
      "    results = func(*args, **kwargs)\n",
      "              ^^^^^^^^^^^^^^^^^^^^^\n",
      "  File \"/home/drvinko/miniconda3/envs/diplomski/lib/python3.11/site-packages/trame_vtk/modules/vtk/protocols/local_rendering.py\", line 33, in get_array\n",
      "    self.context.get_cached_data_array(data_hash, binary)\n",
      "  File \"/home/drvinko/miniconda3/envs/diplomski/lib/python3.11/site-packages/trame_vtk/modules/vtk/serializers/synchronization_context.py\", line 30, in get_cached_data_array\n",
      "    cache_obj = self.data_array_cache[p_md5]\n",
      "                ~~~~~~~~~~~~~~~~~~~~~^^^^^^^\n",
      "KeyError: '7d5869e821ec66ae9b7f4e888571fdd4_13957d'\n",
      "\n"
     ]
    }
   ],
   "source": [
    "model.plot_signal()"
   ]
  }
 ],
 "metadata": {
  "kernelspec": {
   "display_name": "base",
   "language": "python",
   "name": "python3"
  },
  "language_info": {
   "codemirror_mode": {
    "name": "ipython",
    "version": 3
   },
   "file_extension": ".py",
   "mimetype": "text/x-python",
   "name": "python",
   "nbconvert_exporter": "python",
   "pygments_lexer": "ipython3",
   "version": "3.11.6"
  }
 },
 "nbformat": 4,
 "nbformat_minor": 2
}
