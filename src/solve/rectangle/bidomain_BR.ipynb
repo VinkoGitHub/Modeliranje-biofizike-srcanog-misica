{
 "cells": [
  {
   "cell_type": "markdown",
   "metadata": {},
   "source": [
    "## Solving bidomain equations on rectangular domain with Beeler-Reuter model"
   ]
  },
  {
   "cell_type": "markdown",
   "metadata": {},
   "source": [
    "### Importing required libraries"
   ]
  },
  {
   "cell_type": "code",
   "execution_count": 1,
   "metadata": {},
   "outputs": [
    {
     "name": "stdout",
     "output_type": "stream",
     "text": [
      "/home/drvinko/Desktop/Modeliranje-biofizike-srcanog-tkiva\n"
     ]
    }
   ],
   "source": [
    "%cd ../../..\n",
    "from src.models.dynamics_models import *\n",
    "from src.models.cell_models import *\n",
    "from src.utils import *\n",
    "import ufl"
   ]
  },
  {
   "cell_type": "markdown",
   "metadata": {},
   "source": [
    "### Defining a domain, cell model and dynamics model and visualizing initial data"
   ]
  },
  {
   "cell_type": "code",
   "execution_count": 2,
   "metadata": {},
   "outputs": [],
   "source": [
    "domain = rectangle(3, 1, 50, 25)\n",
    "x = ufl.SpatialCoordinate(domain)"
   ]
  },
  {
   "cell_type": "code",
   "execution_count": 3,
   "metadata": {},
   "outputs": [],
   "source": [
    "class Model(BidomainModel):\n",
    "    def initial_V_m(self):\n",
    "        self.V_m_n.x.array[:] = -85\n",
    "        locator = lambda x: x[0] < 0.2\n",
    "        cells = fem.locate_dofs_geometrical(self.V1, locator)\n",
    "        self.V_m_n.x.array[cells] = np.full_like(cells, -60)\n",
    "\n",
    "    def conductivity(self):\n",
    "        # Muscle fibres\n",
    "        self.fibers = ufl.as_vector(\n",
    "            [\n",
    "                5 * x[1] ** 2 / ufl.sqrt((25 * x[1] ** 4 + 1)),\n",
    "                1 / ufl.sqrt((25 * x[1] ** 4 + 1)),\n",
    "            ]\n",
    "        )\n",
    "\n",
    "        # Healthy conductivities\n",
    "        self.M_i = self.SIGMA_IT * ufl.Identity(2) + (\n",
    "            self.SIGMA_IL - self.SIGMA_IT\n",
    "        ) * ufl.outer(self.fibers, self.fibers)\n",
    "        self.M_e = self.SIGMA_ET * ufl.Identity(2) + (\n",
    "            self.SIGMA_EL - self.SIGMA_ET\n",
    "        ) * ufl.outer(self.fibers, self.fibers)"
   ]
  },
  {
   "cell_type": "code",
   "execution_count": 4,
   "metadata": {},
   "outputs": [],
   "source": [
    "cell_model = BeelerReuter(domain)\n",
    "model = Model(domain, cell_model)"
   ]
  },
  {
   "cell_type": "code",
   "execution_count": 5,
   "metadata": {},
   "outputs": [
    {
     "data": {
      "application/vnd.jupyter.widget-view+json": {
       "model_id": "332835b46d124903b4714753f45c68b8",
       "version_major": 2,
       "version_minor": 0
      },
      "text/plain": [
       "Widget(value='<iframe src=\"http://localhost:33635/index.html?ui=P_0x7f0bec7493d0_0&reconnect=auto\" class=\"pyvi…"
      ]
     },
     "metadata": {},
     "output_type": "display_data"
    }
   ],
   "source": [
    "model.plot_initial_V_m(\n",
    "    camera_direction=\"xy\",\n",
    "    function_name=\"\",\n",
    "    show_mesh=False,\n",
    "    show_grid=True,\n",
    "    zoom=0.9,\n",
    "    save_to=\"figures/rectangle/bidomain_initial_V_m.pdf\",\n",
    ")"
   ]
  },
  {
   "cell_type": "markdown",
   "metadata": {},
   "source": [
    "### Solving equations with given parameters"
   ]
  },
  {
   "cell_type": "code",
   "execution_count": 6,
   "metadata": {},
   "outputs": [
    {
     "name": "stderr",
     "output_type": "stream",
     "text": [
      "Solving problem: 100%|██████████| 10000/10000 [41:39<00:00,  4.00it/s] \n"
     ]
    }
   ],
   "source": [
    "model.solve(\n",
    "    T=500,\n",
    "    steps=10000,\n",
    "    save_to=\"rectangle/bidomain_BR.mp4\",\n",
    "    signal_point=[1.0, 0.5, 0.0],\n",
    "    camera_direction=\"xy\",\n",
    "    zoom = 0.9,\n",
    "    checkpoints=[100, 200, 300, 400, 500],\n",
    "    checkpoint_file=\"figures/rectangle/bidomain_BR\",\n",
    ")"
   ]
  },
  {
   "cell_type": "markdown",
   "metadata": {},
   "source": [
    "### Plotting a fiber orientations"
   ]
  },
  {
   "cell_type": "code",
   "execution_count": 7,
   "metadata": {},
   "outputs": [
    {
     "data": {
      "application/vnd.jupyter.widget-view+json": {
       "model_id": "e72f111d916d43aeaaa20219ff4ad45c",
       "version_major": 2,
       "version_minor": 0
      },
      "text/plain": [
       "Widget(value='<iframe src=\"http://localhost:46723/index.html?ui=P_0x7f4b6c098a90_1&reconnect=auto\" class=\"pyvi…"
      ]
     },
     "metadata": {},
     "output_type": "display_data"
    }
   ],
   "source": [
    "plot_vector_field(\n",
    "    domain,\n",
    "    lambda x: [\n",
    "        5 * x[1] ** 2 / np.sqrt((25 * x[1] ** 4 + 1)),\n",
    "        1 / np.sqrt((25 * x[1] ** 4 + 1)),\n",
    "        0,\n",
    "    ],\n",
    "    0.03,\n",
    "    0.1,\n",
    "    camera_direction=\"xy\",\n",
    "    save_to=\"figures/rectangle/bidomain_fibers.pdf\",\n",
    ")"
   ]
  },
  {
   "cell_type": "markdown",
   "metadata": {},
   "source": [
    "### Plotting a final plot of transmembrane potential"
   ]
  },
  {
   "cell_type": "code",
   "execution_count": 8,
   "metadata": {},
   "outputs": [
    {
     "data": {
      "application/vnd.jupyter.widget-view+json": {
       "model_id": "803338f314b84815a388b0ef35bdcf9a",
       "version_major": 2,
       "version_minor": 0
      },
      "text/plain": [
       "Widget(value='<iframe src=\"http://localhost:46723/index.html?ui=P_0x7f4b6ca85d90_2&reconnect=auto\" class=\"pyvi…"
      ]
     },
     "metadata": {},
     "output_type": "display_data"
    }
   ],
   "source": [
    "plot_function(model.V_m_n, \"V_m\", show_mesh=False)"
   ]
  },
  {
   "cell_type": "markdown",
   "metadata": {},
   "source": [
    "### Plotting a transmembrane potential in a given signal point"
   ]
  },
  {
   "cell_type": "code",
   "execution_count": 9,
   "metadata": {},
   "outputs": [
    {
     "data": {
      "image/png": "[encoded data removed]",
      "text/plain": [
       "<Figure size 640x480 with 1 Axes>"
      ]
     },
     "metadata": {},
     "output_type": "display_data"
    },
    {
     "name": "stderr",
     "output_type": "stream",
     "text": [
      "ERROR:wslink.protocol:Exception raised\n",
      "ERROR:wslink.protocol:KeyError('5c76e6007b39b039a7115194c844d9d7_5151d')\n",
      "ERROR:wslink.protocol:Traceback (most recent call last):\n",
      "  File \"/home/drvinko/miniconda3/envs/diplomski/lib/python3.11/site-packages/wslink/protocol.py\", line 332, in onMessage\n",
      "    results = func(*args, **kwargs)\n",
      "              ^^^^^^^^^^^^^^^^^^^^^\n",
      "  File \"/home/drvinko/miniconda3/envs/diplomski/lib/python3.11/site-packages/trame_vtk/modules/vtk/protocols/local_rendering.py\", line 33, in get_array\n",
      "    self.context.get_cached_data_array(data_hash, binary)\n",
      "  File \"/home/drvinko/miniconda3/envs/diplomski/lib/python3.11/site-packages/trame_vtk/modules/vtk/serializers/synchronization_context.py\", line 30, in get_cached_data_array\n",
      "    cache_obj = self.data_array_cache[p_md5]\n",
      "                ~~~~~~~~~~~~~~~~~~~~~^^^^^^^\n",
      "KeyError: '5c76e6007b39b039a7115194c844d9d7_5151d'\n",
      "\n"
     ]
    }
   ],
   "source": [
    "model.plot_signal()"
   ]
  }
 ],
 "metadata": {
  "kernelspec": {
   "display_name": "base",
   "language": "python",
   "name": "python3"
  },
  "language_info": {
   "codemirror_mode": {
    "name": "ipython",
    "version": 3
   },
   "file_extension": ".py",
   "mimetype": "text/x-python",
   "name": "python",
   "nbconvert_exporter": "python",
   "pygments_lexer": "ipython3",
   "version": "3.11.6"
  }
 },
 "nbformat": 4,
 "nbformat_minor": 2
}
