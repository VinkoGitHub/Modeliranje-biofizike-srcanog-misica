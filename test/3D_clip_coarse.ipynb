{
 "cells": [
  {
   "cell_type": "code",
   "execution_count": 1,
   "metadata": {},
   "outputs": [
    {
     "name": "stdout",
     "output_type": "stream",
     "text": [
      "/home/drvinko/Desktop/Modeliranje-biofizike-srcanog-tkiva\n"
     ]
    }
   ],
   "source": [
    "%cd ..\n",
    "from src.utils import import_mesh\n",
    "from src.models.cell_models import ReparametrizedFitzHughNagumo\n",
    "from src.models.dynamics_models import BidomainModel\n",
    "import numpy as np\n",
    "import ufl"
   ]
  },
  {
   "cell_type": "markdown",
   "metadata": {},
   "source": [
    "# Testing the model on a coarse 3D clip of a heart"
   ]
  },
  {
   "cell_type": "code",
   "execution_count": 2,
   "metadata": {},
   "outputs": [],
   "source": [
    "domain = import_mesh(\"data/coarse_clip.xdmf\")\n",
    "x = ufl.SpatialCoordinate(domain)\n",
    "cell_model = ReparametrizedFitzHughNagumo()\n",
    "\n",
    "\n",
    "class Model(BidomainModel):\n",
    "    def __init__(\n",
    "        self,\n",
    "    ):\n",
    "        pass\n",
    "\n",
    "    def initial_V_m(self):\n",
    "        return lambda x: (x[0] + 1.5) ** 2 + (x[1] - 1.5) ** 2 < 0.2**2, 0.0\n",
    "\n",
    "    def ischemia(self):\n",
    "        return (\n",
    "            lambda x: (x[0] - 1.3) ** 2 / 2 + (x[1] - 2.2) ** 2 / 15 < 0.2**2,\n",
    "            self.M_i,\n",
    "            self.M_e,\n",
    "        )\n",
    "\n",
    "\n",
    "model = Model()\n",
    "model.setup(domain)"
   ]
  },
  {
   "cell_type": "code",
   "execution_count": 3,
   "metadata": {},
   "outputs": [
    {
     "name": "stderr",
     "output_type": "stream",
     "text": [
      "Solving problem:   5%|▌         | 27/500 [32:46<9:41:03, 73.71s/it]"
     ]
    }
   ],
   "source": [
    "model.solve(\n",
    "    T=500,\n",
    "    steps=500,\n",
    "    cell_model=cell_model,\n",
    "    gif_name=\"3D_clip_coarse.gif\",\n",
    "    signal_point=[-1.5, -0.7, 4.5],\n",
    ")"
   ]
  },
  {
   "cell_type": "markdown",
   "metadata": {},
   "source": [
    "### Plotting a transmembrane potential in a given signal point"
   ]
  },
  {
   "cell_type": "code",
   "execution_count": null,
   "metadata": {},
   "outputs": [],
   "source": [
    "model.plot_signal()"
   ]
  }
 ],
 "metadata": {
  "kernelspec": {
   "display_name": "diplomski",
   "language": "python",
   "name": "python3"
  },
  "language_info": {
   "codemirror_mode": {
    "name": "ipython",
    "version": 3
   },
   "file_extension": ".py",
   "mimetype": "text/x-python",
   "name": "python",
   "nbconvert_exporter": "python",
   "pygments_lexer": "ipython3",
   "version": "3.11.6"
  }
 },
 "nbformat": 4,
 "nbformat_minor": 2
}
