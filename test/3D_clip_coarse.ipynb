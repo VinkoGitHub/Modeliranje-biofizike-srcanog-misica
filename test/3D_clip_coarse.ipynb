{
 "cells": [
  {
   "cell_type": "code",
   "execution_count": null,
   "metadata": {},
   "outputs": [],
   "source": [
    "from src.utils import import_mesh\n",
    "from src.models.cell_models import ReparametrizedFitzHughNagumo\n",
    "from src.models.dynamics_models import BidomainModel\n",
    "import numpy as np\n",
    "import ufl"
   ]
  },
  {
   "cell_type": "markdown",
   "metadata": {},
   "source": [
    "# Testing the model on a coarse 3D clip of a heart"
   ]
  },
  {
   "cell_type": "code",
   "execution_count": null,
   "metadata": {},
   "outputs": [],
   "source": [
    "domain = import_mesh(\"data/coarse_clip.xdmf\")\n",
    "x = ufl.SpatialCoordinate(domain)\n",
    "cell_model = ReparametrizedFitzHughNagumo()\n",
    "\n",
    "\n",
    "class Model(BidomainModel):\n",
    "    def __init__(\n",
    "        self,\n",
    "    ):\n",
    "        pass\n",
    "\n",
    "    def initial_V_m(self):\n",
    "        return lambda x: x[0] ** 2 + x[1] ** 2 < 0.2**2, 0.0\n",
    "\n",
    "\n",
    "model = Model()\n",
    "V, signal = model.solve(\n",
    "    T=500,\n",
    "    steps=500,\n",
    "    domain=domain,\n",
    "    cell_model=cell_model,\n",
    "    gif_name=\"3D_clip_coarse.gif\",\n",
    "    signal_point=[0.2, 0.2, 0.0],\n",
    ")"
   ]
  },
  {
   "cell_type": "markdown",
   "metadata": {},
   "source": [
    "### Plotting a transmembrane potential in a given signal point"
   ]
  },
  {
   "cell_type": "code",
   "execution_count": null,
   "metadata": {},
   "outputs": [],
   "source": [
    "import matplotlib.pyplot as plt\n",
    "\n",
    "time = np.linspace(0, 200, len(signal))\n",
    "plt.plot(time, signal)\n",
    "plt.xlabel(\"time [ms]\")\n",
    "plt.ylabel(\"signal [mV]\")\n",
    "plt.title(\"Time dependence of transmembrane potential\")"
   ]
  }
 ],
 "metadata": {
  "language_info": {
   "name": "python"
  }
 },
 "nbformat": 4,
 "nbformat_minor": 2
}
