{
 "cells": [
  {
   "cell_type": "code",
   "execution_count": null,
   "metadata": {},
   "outputs": [],
   "source": [
    "from src.utils import import_mesh\n",
    "from src.models.cell_models import ReparametrizedFitzHughNagumo\n",
    "from src.models.dynamics_models import BidomainModel\n",
    "import numpy as np\n",
    "import ufl"
   ]
  },
  {
   "cell_type": "markdown",
   "metadata": {},
   "source": [
    "# Testing the model on a full coarse 3D heart"
   ]
  },
  {
   "cell_type": "code",
   "execution_count": null,
   "metadata": {},
   "outputs": [
    {
     "name": "stderr",
     "output_type": "stream",
     "text": [
      "Solving problem:   1%|          | 5/500 [00:59<1:39:32, 12.07s/it]"
     ]
    }
   ],
   "source": [
    "domain = import_mesh(\"data/refined_heart.xdmf\")\n",
    "x = ufl.SpatialCoordinate(domain)\n",
    "cell_model = ReparametrizedFitzHughNagumo()\n",
    "\n",
    "\n",
    "class Model(BidomainModel):\n",
    "    def __init__(\n",
    "        self,\n",
    "    ):\n",
    "        pass\n",
    "\n",
    "    def initial_V_m(self):\n",
    "        return lambda x: x[0] ** 2 + x[1] ** 2 < 0.2**2, 0.0\n",
    "\n",
    "\n",
    "model = Model()\n",
    "V, signal = model.solve(\n",
    "    T=500,\n",
    "    steps=500,\n",
    "    domain=domain,\n",
    "    cell_model=cell_model,\n",
    "    gif_name=\"3D_heart_coarse.gif\",\n",
    "    signal_point=[0.2, 0.2, 0.0],\n",
    ")"
   ]
  },
  {
   "cell_type": "markdown",
   "metadata": {},
   "source": [
    "### Plotting a transmembrane potential in a given signal point"
   ]
  },
  {
   "cell_type": "code",
   "execution_count": null,
   "metadata": {},
   "outputs": [],
   "source": [
    "import matplotlib.pyplot as plt\n",
    "\n",
    "time = np.linspace(0, 200, len(signal))\n",
    "plt.plot(time, signal)\n",
    "plt.xlabel(\"time [ms]\")\n",
    "plt.ylabel(\"signal [mV]\")\n",
    "plt.title(\"Time dependence of transmembrane potential\")"
   ]
  }
 ],
 "metadata": {
  "language_info": {
   "name": "python"
  }
 },
 "nbformat": 4,
 "nbformat_minor": 2
}
