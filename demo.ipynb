{
 "cells": [
  {
   "cell_type": "markdown",
   "metadata": {},
   "source": [
    "### Importing required libraries"
   ]
  },
  {
   "cell_type": "code",
   "execution_count": 1,
   "metadata": {},
   "outputs": [],
   "source": [
    "from src.models.dynamics_models import *\n",
    "from src.models.cell_models import *\n",
    "from src.utils import *\n",
    "import ufl"
   ]
  },
  {
   "cell_type": "markdown",
   "metadata": {},
   "source": [
    "### Defining a domain, cell model and the whole model and visualizing initial data"
   ]
  },
  {
   "cell_type": "code",
   "execution_count": 2,
   "metadata": {},
   "outputs": [],
   "source": [
    "domain = rectangle(3, 3, 32, 32)\n",
    "x = ufl.SpatialCoordinate(domain)"
   ]
  },
  {
   "cell_type": "code",
   "execution_count": 3,
   "metadata": {},
   "outputs": [],
   "source": [
    "class CellModel(Noble):\n",
    "    def apply_current(\n",
    "        self,\n",
    "    ):\n",
    "        locator = lambda x: (x[0] - 1) ** 2 < 0.1**2\n",
    "        cells = fem.locate_dofs_geometrical(self.V1, locator)\n",
    "        self.I_app.x.array[cells] = np.full_like(cells, 10)\n",
    "        self.I_app_duration = 20"
   ]
  },
  {
   "cell_type": "code",
   "execution_count": 4,
   "metadata": {},
   "outputs": [],
   "source": [
    "class Model(MonodomainModel):\n",
    "    # def initial_V_m(self):\n",
    "    #    def value(x):\n",
    "    #        return cell_model.V_REST * (\n",
    "    #            1 - np.exp(-((x[0] - 0) ** 2) * 20 - (x[1] - 0) ** 2 * 20)\n",
    "    #        )\n",
    "    #\n",
    "    #    self.V_m_n.interpolate(value)\n",
    "\n",
    "    def initial_V_m(self):\n",
    "        self.V_m_n.x.array[:] = -85\n",
    "\n",
    "    def conductivity(self):\n",
    "        x_c, y_c = 1, 1\n",
    "        fibres = (\n",
    "            (x[1] - y_c) / ((x[0] - x_c) ** 2 + (x[1] - y_c) ** 2 + 1),\n",
    "            -(x[0] - x_c) / ((x[0] - x_c) ** 2 + (x[1] - y_c) ** 2 + 1),\n",
    "        )\n",
    "\n",
    "        # Muscle fibres\n",
    "        self.fibres = ufl.as_vector(fibres)\n",
    "\n",
    "        # Healthy conductivities\n",
    "        self.M_i = self.SIGMA_IT * ufl.Identity(2) + (\n",
    "            self.SIGMA_IN - self.SIGMA_IT\n",
    "        ) * ufl.outer(self.fibres, self.fibres)\n",
    "        # self.M_e = self.SIGMA_ET * ufl.Identity(2) + (\n",
    "        #    self.SIGMA_EN - self.SIGMA_ET\n",
    "        # ) * ufl.outer(self.fibres, self.fibres)"
   ]
  },
  {
   "cell_type": "code",
   "execution_count": 5,
   "metadata": {},
   "outputs": [],
   "source": [
    "cell_model = CellModel(domain)\n",
    "model = Model(domain, cell_model)"
   ]
  },
  {
   "cell_type": "code",
   "execution_count": 6,
   "metadata": {},
   "outputs": [
    {
     "data": {
      "application/vnd.jupyter.widget-view+json": {
       "model_id": "a74ae04991f74d4c8c33fa03783fbb6e",
       "version_major": 2,
       "version_minor": 0
      },
      "text/plain": [
       "Widget(value='<iframe src=\"http://localhost:45203/index.html?ui=P_0x7f51001eccd0_0&reconnect=auto\" class=\"pyvi…"
      ]
     },
     "metadata": {},
     "output_type": "display_data"
    }
   ],
   "source": [
    "cell_model.plot_I_app()"
   ]
  },
  {
   "cell_type": "markdown",
   "metadata": {},
   "source": [
    "### Solving equations with given parameters"
   ]
  },
  {
   "cell_type": "code",
   "execution_count": 7,
   "metadata": {},
   "outputs": [
    {
     "name": "stderr",
     "output_type": "stream",
     "text": [
      "Solving problem: 100%|██████████| 1000/1000 [20:33<00:00,  1.23s/it]\n"
     ]
    }
   ],
   "source": [
    "model.solve(\n",
    "    T=500,\n",
    "    steps=1000,\n",
    "    lambda_=0.8,\n",
    "    save_to=\"demo.mp4\",\n",
    "    signal_point=[2.0, 2.0, 0.0],\n",
    ")"
   ]
  },
  {
   "cell_type": "markdown",
   "metadata": {},
   "source": [
    "### Plotting a fiber orientations"
   ]
  },
  {
   "cell_type": "code",
   "execution_count": 8,
   "metadata": {},
   "outputs": [
    {
     "data": {
      "application/vnd.jupyter.widget-view+json": {
       "model_id": "642f1921ceee497a919a4f798379074d",
       "version_major": 2,
       "version_minor": 0
      },
      "text/plain": [
       "Widget(value='<iframe src=\"http://localhost:45203/index.html?ui=P_0x7f50edc03bd0_1&reconnect=auto\" class=\"pyvi…"
      ]
     },
     "metadata": {},
     "output_type": "display_data"
    }
   ],
   "source": [
    "x_c, y_c = 1, 1\n",
    "plot_vector_field(\n",
    "    domain,\n",
    "    lambda x: (\n",
    "        (x[1] - y_c) / ((x[0] - x_c) ** 2 + (x[1] - y_c) ** 2 + 1),\n",
    "        -(x[0] - x_c) / ((x[0] - x_c) ** 2 + (x[1] - y_c) ** 2 + 1),\n",
    "        0,\n",
    "    ),\n",
    "    0.03,\n",
    ")"
   ]
  },
  {
   "cell_type": "markdown",
   "metadata": {},
   "source": [
    "### Plotting a final plot of transmembrane potential"
   ]
  },
  {
   "cell_type": "code",
   "execution_count": 9,
   "metadata": {},
   "outputs": [
    {
     "data": {
      "application/vnd.jupyter.widget-view+json": {
       "model_id": "da9651d5b3d04c4db7240946fb18f08c",
       "version_major": 2,
       "version_minor": 0
      },
      "text/plain": [
       "Widget(value='<iframe src=\"http://localhost:45203/index.html?ui=P_0x7f5063a8da50_2&reconnect=auto\" class=\"pyvi…"
      ]
     },
     "metadata": {},
     "output_type": "display_data"
    }
   ],
   "source": [
    "plot_function(model.V_m_n, \"V_m\", show_mesh=False)"
   ]
  },
  {
   "cell_type": "markdown",
   "metadata": {},
   "source": [
    "### Plotting a transmembrane potential in a given signal point"
   ]
  },
  {
   "cell_type": "code",
   "execution_count": 10,
   "metadata": {},
   "outputs": [
    {
     "data": {
      "image/png": "[encoded data removed]",
      "text/plain": [
       "<Figure size 640x480 with 1 Axes>"
      ]
     },
     "metadata": {},
     "output_type": "display_data"
    }
   ],
   "source": [
    "model.plot_signal()"
   ]
  },
  {
   "cell_type": "markdown",
   "metadata": {},
   "source": [
    "### Plotting a transmembrane potential solution of a cell model"
   ]
  },
  {
   "cell_type": "code",
   "execution_count": 11,
   "metadata": {},
   "outputs": [],
   "source": [
    "cell_model.visualize(1000, -60, 0)"
   ]
  },
  {
   "cell_type": "code",
   "execution_count": null,
   "metadata": {},
   "outputs": [],
   "source": []
  }
 ],
 "metadata": {
  "kernelspec": {
   "display_name": "base",
   "language": "python",
   "name": "python3"
  },
  "language_info": {
   "codemirror_mode": {
    "name": "ipython",
    "version": 3
   },
   "file_extension": ".py",
   "mimetype": "text/x-python",
   "name": "python",
   "nbconvert_exporter": "python",
   "pygments_lexer": "ipython3",
   "version": "3.11.6"
  }
 },
 "nbformat": 4,
 "nbformat_minor": 2
}
