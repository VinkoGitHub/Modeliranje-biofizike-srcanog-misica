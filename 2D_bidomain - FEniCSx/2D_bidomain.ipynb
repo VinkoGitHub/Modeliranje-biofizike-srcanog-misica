{
 "cells": [
  {
   "cell_type": "markdown",
   "metadata": {},
   "source": [
    "## 2D attempt at solving the bidomain equations:"
   ]
  },
  {
   "cell_type": "markdown",
   "metadata": {},
   "source": [
    " mpirun -n 2 python3 2D_bidomain.py\n",
    "- naredba za pokretanje programa na 2 procesora (prebaciti u .py)"
   ]
  },
  {
   "cell_type": "code",
   "execution_count": 1,
   "metadata": {},
   "outputs": [],
   "source": [
    "from dolfinx.mesh import locate_entities, create_submesh\n",
    "from dolfinx.fem import (\n",
    "    Constant,\n",
    "    Function,\n",
    "    FunctionSpace,\n",
    "    VectorFunctionSpace,\n",
    "    Expression\n",
    ")\n",
    "from ufl import (\n",
    "    TestFunctions,\n",
    "    dx,\n",
    "    grad,\n",
    "    inner,\n",
    "    dot,\n",
    "    Identity,\n",
    "    outer,\n",
    "    Measure,\n",
    "    SpatialCoordinate,\n",
    "    lt,\n",
    "    conditional,\n",
    "    \n",
    ")\n",
    "\n",
    "from configs import *\n",
    "from utils import *\n",
    "import numpy as np\n",
    "from tqdm import tqdm\n",
    "from mpi4py import MPI"
   ]
  },
  {
   "cell_type": "markdown",
   "metadata": {},
   "source": [
    "### Generating a mesh:"
   ]
  },
  {
   "cell_type": "code",
   "execution_count": 2,
   "metadata": {},
   "outputs": [],
   "source": [
    "# Create a mesh\n",
    "mh = MeshHandler()\n",
    "Omega = mh.create(N=N)\n",
    "\n",
    "x = SpatialCoordinate\n",
    "cells_H = locate_entities(Omega, Omega.topology.dim, Omega_H)\n",
    "cells_T = locate_entities(Omega, Omega.topology.dim, Omega_T)\n",
    "\n",
    "Omega_Heart, _, vertices_H, geom_H = create_submesh(Omega, Omega.topology.dim, cells_H)\n",
    "Omega_Torso, _, vertices_T, geom_T = create_submesh(Omega, Omega.topology.dim, cells_T)\n",
    "\n",
    "# mh.plot_subdomains(Omega, cells_H, cells_T)\n",
    "# mh.plot_mesh(Omega)"
   ]
  },
  {
   "cell_type": "markdown",
   "metadata": {},
   "source": [
    "### Bidomain model:"
   ]
  },
  {
   "cell_type": "code",
   "execution_count": 3,
   "metadata": {},
   "outputs": [
    {
     "name": "stderr",
     "output_type": "stream",
     "text": [
      "WARNING:py.warnings:/tmp/ipykernel_13592/3654672782.py:2: DeprecationWarning: This method is deprecated. Use FunctionSpace with an element shape argument instead\n",
      "  V2 = VectorFunctionSpace(Omega, (\"CG\", 2), 2)\n",
      "\n"
     ]
    }
   ],
   "source": [
    "# Define function space\n",
    "V2 = VectorFunctionSpace(Omega, (\"CG\", 2), 2)\n",
    "V1 = FunctionSpace(Omega, (\"CG\", 2))\n",
    "\n",
    "# Define test functions\n",
    "phi, psi = TestFunctions(V2)\n",
    "\n",
    "# Define functions\n",
    "v, v_n, v_nn = Function(V2), Function(V2), Function(V2)\n",
    "w, w_n, w_nn = Function(V1), Function(V1), Function(V1)\n",
    "I_ion, g, I_app = Function(V1), Function(V1), Function(V1)\n",
    "fibres = Function(V2)\n",
    "V_m, u = v.split()\n",
    "V_m_n, u_n = v_n.split()\n",
    "V_m_nn, u_nn = v_nn.split()\n",
    "\n",
    "# V_m, u = v.sub(0), v.sub(1)\n",
    "# V_m_n, u_n = v_n.sub(0), v_n.sub(1)\n",
    "# V_m_nn, u_nn = v_nn.sub(0), v_nn.sub(1)"
   ]
  },
  {
   "cell_type": "code",
   "execution_count": 4,
   "metadata": {},
   "outputs": [],
   "source": [
    "# initial conditions\n",
    "V_m_n.interpolate(lambda x: np.full((x.shape[1],), V_MIN))\n",
    "w_n.interpolate(lambda x: np.full((x.shape[1],), 1 / (V_MAX - V_MIN) ** 2))\n",
    "V_m_nn.interpolate(lambda x: np.full((x.shape[1],), V_MIN))\n",
    "w_nn.interpolate(lambda x: np.full((x.shape[1],), 1 / (V_MAX - V_MIN) ** 2))\n",
    "\n",
    "# interpolation part\n",
    "# fibres\n",
    "fun_fibres = eval_fibres()\n",
    "fibres.interpolate(fun_fibres)\n",
    "\n",
    "# ionic current\n",
    "fun_I_ion = eval_I_ion(v_n, w_n)\n",
    "I_ion.interpolate(fun_I_ion)\n",
    "\n",
    "## gating variable\n",
    "# fun_g = eval_g(v_n, w_n)\n",
    "# g.interpolate(fun_g)\n",
    "\n",
    "# applied current\n",
    "fun_I_app = eval_I_app()\n",
    "I_app.interpolate(fun_I_app)"
   ]
  },
  {
   "cell_type": "code",
   "execution_count": null,
   "metadata": {},
   "outputs": [],
   "source": [
    "def I():\n",
    "    return np.exp(\n",
    "        -(((x[0] - self.Hx) / self.size) ** 2)\n",
    "        - ((x[1] - self.Hy) / self.size) ** 2(self.t / self.t_act) ** 2\n",
    "    )\n",
    "\n",
    "I_app = Expression()"
   ]
  },
  {
   "cell_type": "code",
   "execution_count": null,
   "metadata": {},
   "outputs": [],
   "source": []
  },
  {
   "cell_type": "code",
   "execution_count": 5,
   "metadata": {},
   "outputs": [],
   "source": [
    "condition = lt(V_m, V_GATE)\n",
    "true_statement = w / TAU_OPEN - 1 / TAU_OPEN / (V_MAX - V_MIN) ** 2\n",
    "false_statement = w / TAU_CLOSE\n",
    "g = conditional(condition, true_statement, false_statement)"
   ]
  },
  {
   "cell_type": "code",
   "execution_count": 8,
   "metadata": {},
   "outputs": [],
   "source": [
    "# defining UFL language parts\n",
    "# conductivities\n",
    "sigma_il = Constant(Omega, SIGMA_IL)\n",
    "sigma_it = Constant(Omega, SIGMA_IT)\n",
    "sigma_el = Constant(Omega, SIGMA_EL)\n",
    "sigma_et = Constant(Omega, SIGMA_ET)\n",
    "sigma_tlt = Constant(Omega, SIGMA_TLT)\n",
    "\n",
    "d = Omega.topology.dim\n",
    "\n",
    "sigma_i = sigma_it * Identity(d) + (sigma_il - sigma_it) * outer(fibres, fibres)\n",
    "sigma_e = sigma_et * Identity(d) + (sigma_el - sigma_et) * outer(fibres, fibres)\n",
    "sigma_t = sigma_tlt * Identity(d)\n",
    "\n",
    "# Constants used in variational forms\n",
    "dt = Constant(Omega, DT)\n",
    "A_m = Constant(Omega, A_M)\n",
    "C_m = Constant(Omega, C_M)"
   ]
  },
  {
   "cell_type": "code",
   "execution_count": null,
   "metadata": {},
   "outputs": [],
   "source": []
  },
  {
   "cell_type": "code",
   "execution_count": 10,
   "metadata": {},
   "outputs": [],
   "source": [
    "# Define new measures associated with the interior domains and\n",
    "# exterior boundaries\n",
    "dx_H = Measure(\"dx\", subdomain_data=Omega_Heart)\n",
    "dx_T = Measure(\"dx\", subdomain_data=Omega_Torso)"
   ]
  },
  {
   "cell_type": "code",
   "execution_count": 12,
   "metadata": {},
   "outputs": [],
   "source": [
    "# Define variational problem\n",
    "F = (\n",
    "    A_m * (C_m * (V_m - V_m_n) + dt * I_ion) * phi * dx_H\n",
    "    + dt * inner(dot(sigma_i, grad(V_m + u)), grad(phi)) * dx_H\n",
    "    - dt * A_m * I_app * phi * dx(1)\n",
    ")\n",
    "F += (\n",
    "    inner(dot(sigma_i + sigma_e, grad(u)), grad(psi)) * dx_H\n",
    "    + inner(dot(sigma_i, grad(V_m)), grad(psi)) * dx_H\n",
    "    + inner(dot(sigma_t, grad(u)), grad(psi)) * dx_T\n",
    ")"
   ]
  },
  {
   "cell_type": "code",
   "execution_count": 13,
   "metadata": {},
   "outputs": [
    {
     "name": "stdout",
     "output_type": "stream",
     "text": [
      "{ -1 * v_0[0] * f * c_5 * c_6 } * dx(<Mesh #0>[1], {})\n",
      "  +  { v_0[0] * c_6 * (c_5 * f + c_7 * (f_0 + -1 * f_0)) } * dx(<Mesh #0>[everywhere], {})\n",
      "  +  { c_5 * (conj(((grad(v_0[0])) : ((({ A | A_{i_8, i_9} = I[i_8, i_9] * c_1 }) + ({ A | A_{i_{10}, i_{11}} = ((f) (X) (f))[i_{10}, i_{11}] * (c_0 + -1 * c_1) })) . (grad(f_0 + f_1)))))) } * dx(<Mesh #0>[everywhere], {})\n",
      "  +  { conj(((grad(v_0[1])) : ((({ A | A_{i_8, i_9} = I[i_8, i_9] * c_1 }) + ({ A | A_{i_{10}, i_{11}} = ((f) (X) (f))[i_{10}, i_{11}] * (c_0 + -1 * c_1) }) + ({ A | A_{i_{12}, i_{13}} = I[i_{12}, i_{13}] * c_3 }) + ({ A | A_{i_{14}, i_{15}} = ((f) (X) (f))[i_{14}, i_{15}] * (c_2 + -1 * c_3) })) . (grad(f_1))))) } * dx(<Mesh #0>[everywhere], {})\n",
      "  +  { conj(((grad(v_0[1])) : ((({ A | A_{i_8, i_9} = I[i_8, i_9] * c_1 }) + ({ A | A_{i_{10}, i_{11}} = ((f) (X) (f))[i_{10}, i_{11}] * (c_0 + -1 * c_1) })) . (grad(f_0))))) } * dx(<Mesh #0>[everywhere], {})\n",
      "  +  { conj(((grad(v_0[1])) : (({ A | A_{i_{16}, i_{17}} = I[i_{16}, i_{17}] * c_4 }) . (grad(f_1))))) } * dx(<Mesh #0>[everywhere], {})\n"
     ]
    }
   ],
   "source": [
    "print(F)"
   ]
  },
  {
   "cell_type": "code",
   "execution_count": null,
   "metadata": {},
   "outputs": [],
   "source": [
    "from dolfinx.fem.petsc import NonlinearProblem"
   ]
  },
  {
   "cell_type": "code",
   "execution_count": null,
   "metadata": {},
   "outputs": [],
   "source": [
    "# Time-stepping\n",
    "t = 0\n",
    "for n in tqdm(range(NUM_STEPS)):\n",
    "    # Update current time and expressions\n",
    "    t += DT\n",
    "    g.v = v\n",
    "    I_ion.v = v\n",
    "    I_app.t = t\n",
    "\n",
    "    # Solve variational problem for time step\n",
    "    # set_log_active(False)\n",
    "    problem = NonlinearProblem(F, v)\n",
    "    u_ = problem.solve()\n",
    "\n",
    "    # Update previous solution\n",
    "    v_n.assign(v)"
   ]
  },
  {
   "cell_type": "code",
   "execution_count": null,
   "metadata": {},
   "outputs": [],
   "source": []
  },
  {
   "cell_type": "code",
   "execution_count": null,
   "metadata": {},
   "outputs": [],
   "source": []
  },
  {
   "cell_type": "code",
   "execution_count": null,
   "metadata": {},
   "outputs": [],
   "source": []
  },
  {
   "cell_type": "code",
   "execution_count": null,
   "metadata": {},
   "outputs": [],
   "source": []
  }
 ],
 "metadata": {
  "kernelspec": {
   "display_name": "base",
   "language": "python",
   "name": "python3"
  },
  "language_info": {
   "codemirror_mode": {
    "name": "ipython",
    "version": 3
   },
   "file_extension": ".py",
   "mimetype": "text/x-python",
   "name": "python",
   "nbconvert_exporter": "python",
   "pygments_lexer": "ipython3",
   "version": "3.11.6"
  }
 },
 "nbformat": 4,
 "nbformat_minor": 2
}
