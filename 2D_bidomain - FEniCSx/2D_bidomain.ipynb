{
 "cells": [
  {
   "cell_type": "markdown",
   "metadata": {},
   "source": [
    "## 2D attempt at solving the bidomain equations:"
   ]
  },
  {
   "cell_type": "code",
   "execution_count": 1,
   "metadata": {},
   "outputs": [],
   "source": [
    "from dolfinx import *\n",
    "import numpy as np\n",
    "from configs import *\n",
    "from utils import *\n",
    "import matplotlib.pyplot as plt\n",
    "from tqdm import tqdm"
   ]
  },
  {
   "cell_type": "markdown",
   "metadata": {},
   "source": [
    "### Generating a mesh:"
   ]
  },
  {
   "cell_type": "code",
   "execution_count": 2,
   "metadata": {},
   "outputs": [
    {
     "ename": "NameError",
     "evalue": "name 'SubDomain' is not defined",
     "output_type": "error",
     "traceback": [
      "\u001b[0;31m---------------------------------------------------------------------------\u001b[0m",
      "\u001b[0;31mNameError\u001b[0m                                 Traceback (most recent call last)",
      "\u001b[1;32m/home/drvinko/Desktop/Modeliranje-biofizike-srcanog-tkiva/2D_bidomain/2D_bidomain.ipynb Cell 4\u001b[0m line \u001b[0;36m1\n\u001b[0;32m----> <a href='vscode-notebook-cell:/home/drvinko/Desktop/Modeliranje-biofizike-srcanog-tkiva/2D_bidomain/2D_bidomain.ipynb#W3sZmlsZQ%3D%3D?line=0'>1</a>\u001b[0m mesh, cellfunction, facetfunction \u001b[39m=\u001b[39m mesh_maker()\n\u001b[1;32m      <a href='vscode-notebook-cell:/home/drvinko/Desktop/Modeliranje-biofizike-srcanog-tkiva/2D_bidomain/2D_bidomain.ipynb#W3sZmlsZQ%3D%3D?line=1'>2</a>\u001b[0m plot(cellfunction)\n",
      "File \u001b[0;32m~/Desktop/Modeliranje-biofizike-srcanog-tkiva/2D_bidomain/utils.py:11\u001b[0m, in \u001b[0;36mmesh_maker\u001b[0;34m()\u001b[0m\n\u001b[1;32m      6\u001b[0m \u001b[39m\u001b[39m\u001b[39m\"\"\"Returns a mesh, a Meshfunction regarding\u001b[39;00m\n\u001b[1;32m      7\u001b[0m \u001b[39mthe domains and the MeshFunction regarding the boundary\"\"\"\u001b[39;00m\n\u001b[1;32m      9\u001b[0m \u001b[39m# Create classes for defining parts of the boundaries and the interior\u001b[39;00m\n\u001b[1;32m     10\u001b[0m \u001b[39m# of the domain\u001b[39;00m\n\u001b[0;32m---> 11\u001b[0m \u001b[39mclass\u001b[39;00m \u001b[39mTorsoOuterBoundary\u001b[39;00m(SubDomain):\n\u001b[1;32m     12\u001b[0m     \u001b[39mdef\u001b[39;00m \u001b[39minside\u001b[39m(\u001b[39mself\u001b[39m, x, on_boundary):\n\u001b[1;32m     13\u001b[0m         \u001b[39mreturn\u001b[39;00m (\n\u001b[1;32m     14\u001b[0m             near(x[\u001b[39m0\u001b[39m], \u001b[39m0.0\u001b[39m) \u001b[39mor\u001b[39;00m near(x[\u001b[39m0\u001b[39m], Tx) \u001b[39mor\u001b[39;00m near(x[\u001b[39m1\u001b[39m], \u001b[39m0.0\u001b[39m) \u001b[39mor\u001b[39;00m near(x[\u001b[39m1\u001b[39m], Ty)\n\u001b[1;32m     15\u001b[0m         )\n",
      "\u001b[0;31mNameError\u001b[0m: name 'SubDomain' is not defined"
     ]
    }
   ],
   "source": [
    "mesh, cellfunction, facetfunction = mesh_maker()\n",
    "plot(cellfunction)"
   ]
  },
  {
   "cell_type": "markdown",
   "metadata": {},
   "source": [
    "### Bidomain model:"
   ]
  },
  {
   "cell_type": "code",
   "execution_count": null,
   "metadata": {},
   "outputs": [],
   "source": [
    "# Define function space\n",
    "P1 = FiniteElement(\"P\", triangle, 2)\n",
    "element = MixedElement([P1, P1, P1])\n",
    "V = FunctionSpace(mesh, element)\n",
    "V1 = FunctionSpace(mesh, P1)\n",
    "\n",
    "# Define test functions\n",
    "phi, psi, theta = TestFunctions(V)\n",
    "\n",
    "# Define functions\n",
    "v = Function(V)\n",
    "v_n = Function(V)\n",
    "\n",
    "V_m, u, w = split(v)\n",
    "V_m_n, u_n, w_n = split(v_n)"
   ]
  },
  {
   "cell_type": "code",
   "execution_count": null,
   "metadata": {},
   "outputs": [],
   "source": [
    "# defining expressions for later use\n",
    "\n",
    "# V_m = v[0], u = v[1], w = v[2]\n",
    "# Ionic current\n",
    "I_ion = Expression(\n",
    "    \"-v[2]/TAU_IN*pow((v[0] - V_MIN),2)*(V_MAX - v[0])/(V_MAX - V_MIN) + 1/TAU_OUT*(v[0] - V_MIN)/(V_MAX - V_MIN)\",\n",
    "    TAU_IN=TAU_IN,\n",
    "    TAU_OUT=TAU_OUT,\n",
    "    V_MIN=V_MIN,\n",
    "    V_MAX=V_MAX,\n",
    "    v=v,\n",
    "    degree=2,\n",
    ")\n",
    "# Gating variable\n",
    "g = Expression(\n",
    "    \"v[0] < V_GATE ? v[2]/TAU_OPEN - 1/TAU_OPEN/pow((V_MAX - V_MIN),2) : v[2]/TAU_CLOSE\",\n",
    "    TAU_OPEN=TAU_OPEN,\n",
    "    TAU_CLOSE=TAU_CLOSE,\n",
    "    V_GATE=V_GATE,\n",
    "    V_MAX=V_MAX,\n",
    "    V_MIN=V_MIN,\n",
    "    v=v,\n",
    "    degree=2,\n",
    ")\n",
    "# Fiber vector field\n",
    "fibers = Expression(\n",
    "    (\n",
    "        \"x[1]/sqrt(pow(x[0],2) + pow(x[1],2) + DOLFIN_EPS)\",\n",
    "        \"-x[0]/sqrt(pow(x[0],2) + pow(x[1],2) + DOLFIN_EPS)\",\n",
    "    ),\n",
    "    degree=2,\n",
    ")\n",
    "# Applied stimulus\n",
    "I_app = Expression(\n",
    "    \"exp(-pow(x[0]-X, 2)/size - pow(x[1]-Y, 2)/size - pow(t/t_act, 2))\",\n",
    "    X=X,\n",
    "    Y=Y,\n",
    "    t_act=T_ACT,\n",
    "    t=0,\n",
    "    size=(X + Y) / 2,\n",
    "    degree=2,\n",
    ")  # nije kao u radu"
   ]
  },
  {
   "cell_type": "code",
   "execution_count": null,
   "metadata": {},
   "outputs": [],
   "source": [
    "# defining UFL language parts\n",
    "\n",
    "# conductivities\n",
    "sigma_il = Constant(SIGMA_IL)\n",
    "sigma_it = Constant(SIGMA_IT)\n",
    "sigma_el = Constant(SIGMA_EL)\n",
    "sigma_et = Constant(SIGMA_ET)\n",
    "sigma_tlt = Constant(SIGMA_TLT)\n",
    "\n",
    "d = mesh.topology().dim()\n",
    "\n",
    "sigma_i = sigma_it * Identity(d) + (sigma_il - sigma_it) * outer(fibers, fibers)\n",
    "sigma_e = sigma_et * Identity(d) + (sigma_el - sigma_et) * outer(fibers, fibers)\n",
    "sigma_t = sigma_tlt * Identity(d)\n",
    "\n",
    "# Constants used in variational forms\n",
    "dt = Constant(DT)\n",
    "A_m = Constant(A_M)\n",
    "C_m = Constant(C_M)"
   ]
  },
  {
   "cell_type": "code",
   "execution_count": null,
   "metadata": {},
   "outputs": [],
   "source": [
    "# Define new measures associated with the interior domains and\n",
    "# exterior boundaries\n",
    "dx = Measure(\"dx\")(subdomain_data=cellfunction)\n",
    "ds = Measure(\"ds\")(subdomain_data=facetfunction)"
   ]
  },
  {
   "cell_type": "code",
   "execution_count": null,
   "metadata": {},
   "outputs": [],
   "source": [
    "# Define variational problem\n",
    "F = (\n",
    "    A_m * (C_m * (V_m - V_m_n) + dt * I_ion) * phi * dx(1)\n",
    "    + dt * inner(dot(sigma_i, grad(V_m + u)), grad(phi)) * dx(1)\n",
    "    - dt * A_m * I_app * phi * dx(1)\n",
    ")\n",
    "F += (\n",
    "    inner(dot(sigma_i + sigma_e, grad(u)), grad(psi)) * dx(1)\n",
    "    + inner(dot(sigma_i, grad(V_m)), grad(psi)) * dx(1)\n",
    "    + inner(dot(sigma_t, grad(u)), grad(psi)) * dx(0)\n",
    ")\n",
    "F += (w - w_n + dt * g) * theta * dx(1)"
   ]
  },
  {
   "cell_type": "code",
   "execution_count": null,
   "metadata": {},
   "outputs": [],
   "source": [
    "# Initial conditions\n",
    "V_m_0 = Expression(\"V_MIN\", V_MIN=V_MIN, degree=0)\n",
    "w_0 = Expression(\"1/pow((V_MAX - V_MIN), 2)\", V_MIN=V_MIN, V_MAX=V_MAX, degree=0)\n",
    "\n",
    "V_m_n, u_n, w_n = v_n.split(deepcopy=True)\n",
    "V_m, u, w = v.split(deepcopy=True)\n",
    "\n",
    "V_m_n = project(V_m_0, V1)\n",
    "w_n = project(w_0, V1)"
   ]
  },
  {
   "cell_type": "code",
   "execution_count": null,
   "metadata": {},
   "outputs": [],
   "source": [
    "# Time-stepping\n",
    "t = 0\n",
    "for n in tqdm(range(NUM_STEPS)):\n",
    "    # Update current time and expressions\n",
    "    t += DT\n",
    "    g.v = v\n",
    "    I_ion.v = v\n",
    "    I_app.t = t\n",
    "\n",
    "    # Solve variational problem for time step\n",
    "    # set_log_active(False)\n",
    "    solver = custom_solver(F, v, tol_abs=1e-3, tol_rel=1e-2, max_iter=10)\n",
    "    solver.solve()\n",
    "\n",
    "    # Update previous solution\n",
    "    v_n.assign(v)"
   ]
  },
  {
   "cell_type": "code",
   "execution_count": null,
   "metadata": {},
   "outputs": [],
   "source": [
    "# Plot solution and gradient\n",
    "plot(V_m, title=\"$u$\")\n",
    "plot(w, title=\"$V_m$\")\n",
    "plot(u, title=\"$u$\")"
   ]
  },
  {
   "cell_type": "code",
   "execution_count": null,
   "metadata": {},
   "outputs": [],
   "source": []
  }
 ],
 "metadata": {
  "kernelspec": {
   "display_name": "base",
   "language": "python",
   "name": "python3"
  },
  "language_info": {
   "codemirror_mode": {
    "name": "ipython",
    "version": 3
   },
   "file_extension": ".py",
   "mimetype": "text/x-python",
   "name": "python",
   "nbconvert_exporter": "python",
   "pygments_lexer": "ipython3",
   "version": "3.11.6"
  }
 },
 "nbformat": 4,
 "nbformat_minor": 2
}
