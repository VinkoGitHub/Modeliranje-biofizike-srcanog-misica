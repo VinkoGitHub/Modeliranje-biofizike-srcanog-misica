{
 "cells": [
  {
   "cell_type": "markdown",
   "metadata": {},
   "source": [
    "Importing packages"
   ]
  },
  {
   "cell_type": "code",
   "execution_count": 1,
   "metadata": {},
   "outputs": [],
   "source": [
    "from dolfinx import fem, mesh\n",
    "from dolfinx.fem.petsc import NonlinearProblem\n",
    "from dolfinx.nls.petsc import NewtonSolver\n",
    "from configs import *\n",
    "import utils\n",
    "import ufl\n",
    "from mpi4py import MPI\n",
    "import numpy as np"
   ]
  },
  {
   "cell_type": "markdown",
   "metadata": {},
   "source": [
    "Creating a mesh, defining function spaces, functions and test functions"
   ]
  },
  {
   "cell_type": "code",
   "execution_count": 2,
   "metadata": {},
   "outputs": [],
   "source": [
    "# Create a mesh, elements and spaces\n",
    "domain = utils.create_mesh(N=10)\n",
    "vector_element = ufl.VectorElement(\"Lagrange\", domain.ufl_cell(), 2, 2)\n",
    "element = ufl.FiniteElement(\"Lagrange\", domain.ufl_cell(), 1)\n",
    "\n",
    "W = fem.FunctionSpace(domain, vector_element)\n",
    "V = fem.FunctionSpace(domain, element)\n",
    "\n",
    "# Define test functions\n",
    "phi, psi = ufl.TestFunctions(W)\n",
    "theta = ufl.TestFunction(V)\n",
    "\n",
    "# Define functions\n",
    "v, v_n, v_nn = fem.Function(W), fem.Function(W), fem.Function(W)\n",
    "w, w_n, w_nn = fem.Function(V), fem.Function(V), fem.Function(V)\n",
    "\n",
    "V_m, u = v.split()\n",
    "V_m_n, u_n = v_n.split()\n",
    "V_m_nn, u_nn = v_nn.split()\n",
    "\n",
    "v_tilde = fem.Function(W)\n",
    "V_m_tilde, u_tilde = v_tilde.split()\n",
    "\n",
    "x = ufl.SpatialCoordinate(domain)\n",
    "d = domain.topology.dim\n",
    "t = 0\n",
    "\n",
    "# Define meshtags\n",
    "num_cells = domain.topology.index_map(domain.topology.dim).size_local\n",
    "body_cells = np.arange(num_cells)\n",
    "markers = np.zeros(num_cells)\n",
    "\n",
    "heart_cells = mesh.locate_entities(domain, d, utils.heart_marker)\n",
    "markers[heart_cells] = np.full_like(heart_cells, 1)\n",
    "tags = mesh.meshtags(domain, d, body_cells, markers)\n",
    "\n",
    "# Define new measure such that dx(0) integrates torso and dx(1) integrates heart\n",
    "dx = ufl.Measure(\"dx\", domain, subdomain_data=tags)"
   ]
  },
  {
   "cell_type": "markdown",
   "metadata": {},
   "source": [
    "Defining model parameters"
   ]
  },
  {
   "cell_type": "code",
   "execution_count": 3,
   "metadata": {},
   "outputs": [],
   "source": [
    "# Gating variable\n",
    "def g(V_m: fem.Function, w: fem.Function):\n",
    "    condition = ufl.lt(V_m, V_GATE)\n",
    "    true_statement = w / TAU_OPEN - 1 / TAU_OPEN / (V_MAX - V_MIN) ** 2\n",
    "    false_statement = w / TAU_CLOSE\n",
    "    return ufl.conditional(condition, true_statement, false_statement)\n",
    "\n",
    "\n",
    "# Fibre orientations\n",
    "fibres = ufl.as_vector(\n",
    "    [\n",
    "        x[1] / ufl.sqrt(x[0] ** 2 + x[1] ** 2 + 1),\n",
    "        -x[0] / ufl.sqrt(x[0] ** 2 + x[1] ** 2 + 1),\n",
    "    ],\n",
    ")\n",
    "\n",
    "\n",
    "# Ionic current\n",
    "def I_ion(V_m: fem.Function, w: fem.Function):\n",
    "    return -w / TAU_IN * (V_m - V_MIN) ** 2 * (V_MAX - V_m) / (\n",
    "        V_MAX - V_MIN\n",
    "    ) + 1 / TAU_OUT * (V_m - V_MIN) / (V_MAX - V_MIN)\n",
    "\n",
    "\n",
    "# Applied stimulus - custom? - may need change\n",
    "def I_app(t, size=1, t_act=0.1):\n",
    "    return ufl.exp(\n",
    "        -(((x[0] - Hx) / size) ** 2) - ((x[1] - Hy) / size) ** 2 - (t / t_act) ** 2\n",
    "    )\n",
    "\n",
    "\n",
    "# Conductivities\n",
    "sigma_i = SIGMA_IT * ufl.Identity(d) + (SIGMA_IL - SIGMA_IT) * ufl.outer(fibres, fibres)\n",
    "sigma_e = SIGMA_ET * ufl.Identity(d) + (SIGMA_EL - SIGMA_ET) * ufl.outer(fibres, fibres)\n",
    "sigma_t = SIGMA_TLT * ufl.Identity(d)"
   ]
  },
  {
   "cell_type": "markdown",
   "metadata": {},
   "source": [
    "Setting up initial conditions"
   ]
  },
  {
   "cell_type": "code",
   "execution_count": 4,
   "metadata": {},
   "outputs": [],
   "source": [
    "# Initial conditions\n",
    "V_m_n.vector.set(V_MIN)\n",
    "w_n.vector.set(1 / (V_MAX - V_MIN) ** 2)\n",
    "V_m_nn.vector.set(V_MIN)\n",
    "w_nn.vector.set(1 / (V_MAX - V_MIN) ** 2)"
   ]
  },
  {
   "cell_type": "markdown",
   "metadata": {},
   "source": [
    "Implementing FEM steps for a solution"
   ]
  },
  {
   "cell_type": "code",
   "execution_count": 5,
   "metadata": {},
   "outputs": [
    {
     "ename": "TypeError",
     "evalue": "compute_integration_domains(): incompatible function arguments. The following argument types are supported:\n    1. (integral_type: dolfinx::fem::IntegralType, meshtags: dolfinx.cpp.mesh.MeshTags_int32) -> List[Tuple[int, List[int]]]\n\nInvoked with: <IntegralType.cell: 0>, <dolfinx.cpp.mesh.MeshTags_float64 object at 0x7fea0f9fff70>",
     "output_type": "error",
     "traceback": [
      "\u001b[0;31m---------------------------------------------------------------------------\u001b[0m",
      "\u001b[0;31mTypeError\u001b[0m                                 Traceback (most recent call last)",
      "Cell \u001b[0;32mIn[5], line 53\u001b[0m\n\u001b[1;32m     49\u001b[0m     step_2()\n\u001b[1;32m     50\u001b[0m     step_3()\n\u001b[0;32m---> 53\u001b[0m \u001b[43mtime_step\u001b[49m\u001b[43m(\u001b[49m\u001b[43mt\u001b[49m\u001b[43m)\u001b[49m\n",
      "Cell \u001b[0;32mIn[5], line 49\u001b[0m, in \u001b[0;36mtime_step\u001b[0;34m(t)\u001b[0m\n\u001b[1;32m     47\u001b[0m t \u001b[38;5;241m+\u001b[39m\u001b[38;5;241m=\u001b[39m dt\n\u001b[1;32m     48\u001b[0m step_1(V_m_tilde)\n\u001b[0;32m---> 49\u001b[0m \u001b[43mstep_2\u001b[49m\u001b[43m(\u001b[49m\u001b[43m)\u001b[49m\n\u001b[1;32m     50\u001b[0m step_3()\n",
      "Cell \u001b[0;32mIn[5], line 14\u001b[0m, in \u001b[0;36mstep_2\u001b[0;34m()\u001b[0m\n\u001b[1;32m      7\u001b[0m \u001b[38;5;28;01mdef\u001b[39;00m \u001b[38;5;21mstep_2\u001b[39m():\n\u001b[1;32m      8\u001b[0m     F_w \u001b[38;5;241m=\u001b[39m (\n\u001b[1;32m      9\u001b[0m         (\u001b[38;5;241m1\u001b[39m \u001b[38;5;241m/\u001b[39m dt \u001b[38;5;241m*\u001b[39m (\u001b[38;5;241m3\u001b[39m \u001b[38;5;241m/\u001b[39m \u001b[38;5;241m2\u001b[39m \u001b[38;5;241m*\u001b[39m w \u001b[38;5;241m-\u001b[39m \u001b[38;5;241m2\u001b[39m \u001b[38;5;241m*\u001b[39m w_n \u001b[38;5;241m+\u001b[39m \u001b[38;5;241m1\u001b[39m \u001b[38;5;241m/\u001b[39m \u001b[38;5;241m2\u001b[39m \u001b[38;5;241m*\u001b[39m w_nn) \u001b[38;5;241m+\u001b[39m g(V_m_tilde, w))\n\u001b[1;32m     10\u001b[0m         \u001b[38;5;241m*\u001b[39m theta\n\u001b[1;32m     11\u001b[0m         \u001b[38;5;241m*\u001b[39m dx(\u001b[38;5;241m1\u001b[39m)\n\u001b[1;32m     12\u001b[0m     )\n\u001b[0;32m---> 14\u001b[0m     problem \u001b[38;5;241m=\u001b[39m \u001b[43mNonlinearProblem\u001b[49m\u001b[43m(\u001b[49m\u001b[43mF_w\u001b[49m\u001b[43m,\u001b[49m\u001b[43m \u001b[49m\u001b[43mw\u001b[49m\u001b[43m)\u001b[49m\n\u001b[1;32m     15\u001b[0m     solver \u001b[38;5;241m=\u001b[39m NewtonSolver(MPI\u001b[38;5;241m.\u001b[39mCOMM_WORLD, problem)\n\u001b[1;32m     16\u001b[0m     solver\u001b[38;5;241m.\u001b[39mrtol \u001b[38;5;241m=\u001b[39m \u001b[38;5;241m1e-0\u001b[39m\n",
      "File \u001b[0;32m~/miniconda3/envs/diplomski/lib/python3.11/site-packages/dolfinx/fem/petsc.py:712\u001b[0m, in \u001b[0;36mNonlinearProblem.__init__\u001b[0;34m(self, F, u, bcs, J, form_compiler_options, jit_options)\u001b[0m\n\u001b[1;32m    689\u001b[0m \u001b[38;5;28;01mdef\u001b[39;00m \u001b[38;5;21m__init__\u001b[39m(\u001b[38;5;28mself\u001b[39m, F: ufl\u001b[38;5;241m.\u001b[39mform\u001b[38;5;241m.\u001b[39mForm, u: _Function, bcs: typing\u001b[38;5;241m.\u001b[39mList[DirichletBC] \u001b[38;5;241m=\u001b[39m [],\n\u001b[1;32m    690\u001b[0m              J: ufl\u001b[38;5;241m.\u001b[39mform\u001b[38;5;241m.\u001b[39mForm \u001b[38;5;241m=\u001b[39m \u001b[38;5;28;01mNone\u001b[39;00m, form_compiler_options: typing\u001b[38;5;241m.\u001b[39mOptional[\u001b[38;5;28mdict\u001b[39m] \u001b[38;5;241m=\u001b[39m \u001b[38;5;28;01mNone\u001b[39;00m,\n\u001b[1;32m    691\u001b[0m              jit_options: typing\u001b[38;5;241m.\u001b[39mOptional[\u001b[38;5;28mdict\u001b[39m] \u001b[38;5;241m=\u001b[39m \u001b[38;5;28;01mNone\u001b[39;00m):\n\u001b[1;32m    692\u001b[0m \u001b[38;5;250m    \u001b[39m\u001b[38;5;124;03m\"\"\"Initialize solver for solving a non-linear problem using Newton's method, :math:`(dF/du)(u) du = -F(u)`.\u001b[39;00m\n\u001b[1;32m    693\u001b[0m \n\u001b[1;32m    694\u001b[0m \u001b[38;5;124;03m    Args:\u001b[39;00m\n\u001b[0;32m   (...)\u001b[0m\n\u001b[1;32m    710\u001b[0m \n\u001b[1;32m    711\u001b[0m \u001b[38;5;124;03m    \"\"\"\u001b[39;00m\n\u001b[0;32m--> 712\u001b[0m     \u001b[38;5;28mself\u001b[39m\u001b[38;5;241m.\u001b[39m_L \u001b[38;5;241m=\u001b[39m \u001b[43m_create_form\u001b[49m\u001b[43m(\u001b[49m\u001b[43mF\u001b[49m\u001b[43m,\u001b[49m\u001b[43m \u001b[49m\u001b[43mform_compiler_options\u001b[49m\u001b[38;5;241;43m=\u001b[39;49m\u001b[43mform_compiler_options\u001b[49m\u001b[43m,\u001b[49m\n\u001b[1;32m    713\u001b[0m \u001b[43m                           \u001b[49m\u001b[43mjit_options\u001b[49m\u001b[38;5;241;43m=\u001b[39;49m\u001b[43mjit_options\u001b[49m\u001b[43m)\u001b[49m\n\u001b[1;32m    715\u001b[0m     \u001b[38;5;66;03m# Create the Jacobian matrix, dF/du\u001b[39;00m\n\u001b[1;32m    716\u001b[0m     \u001b[38;5;28;01mif\u001b[39;00m J \u001b[38;5;129;01mis\u001b[39;00m \u001b[38;5;28;01mNone\u001b[39;00m:\n",
      "File \u001b[0;32m~/miniconda3/envs/diplomski/lib/python3.11/site-packages/dolfinx/fem/forms.py:188\u001b[0m, in \u001b[0;36mform\u001b[0;34m(form, dtype, form_compiler_options, jit_options)\u001b[0m\n\u001b[1;32m    185\u001b[0m         \u001b[38;5;28;01mreturn\u001b[39;00m \u001b[38;5;28mlist\u001b[39m(\u001b[38;5;28mmap\u001b[39m(\u001b[38;5;28;01mlambda\u001b[39;00m sub_form: _create_form(sub_form), form))\n\u001b[1;32m    186\u001b[0m     \u001b[38;5;28;01mreturn\u001b[39;00m form\n\u001b[0;32m--> 188\u001b[0m \u001b[38;5;28;01mreturn\u001b[39;00m \u001b[43m_create_form\u001b[49m\u001b[43m(\u001b[49m\u001b[43mform\u001b[49m\u001b[43m)\u001b[49m\n",
      "File \u001b[0;32m~/miniconda3/envs/diplomski/lib/python3.11/site-packages/dolfinx/fem/forms.py:183\u001b[0m, in \u001b[0;36mform.<locals>._create_form\u001b[0;34m(form)\u001b[0m\n\u001b[1;32m    180\u001b[0m \u001b[38;5;250m\u001b[39m\u001b[38;5;124;03m\"\"\"Recursively convert ufl.Forms to dolfinx.fem.Form, otherwise\u001b[39;00m\n\u001b[1;32m    181\u001b[0m \u001b[38;5;124;03mreturn form argument\"\"\"\u001b[39;00m\n\u001b[1;32m    182\u001b[0m \u001b[38;5;28;01mif\u001b[39;00m \u001b[38;5;28misinstance\u001b[39m(form, ufl\u001b[38;5;241m.\u001b[39mForm):\n\u001b[0;32m--> 183\u001b[0m     \u001b[38;5;28;01mreturn\u001b[39;00m \u001b[43m_form\u001b[49m\u001b[43m(\u001b[49m\u001b[43mform\u001b[49m\u001b[43m)\u001b[49m\n\u001b[1;32m    184\u001b[0m \u001b[38;5;28;01melif\u001b[39;00m \u001b[38;5;28misinstance\u001b[39m(form, collections\u001b[38;5;241m.\u001b[39mabc\u001b[38;5;241m.\u001b[39mIterable):\n\u001b[1;32m    185\u001b[0m     \u001b[38;5;28;01mreturn\u001b[39;00m \u001b[38;5;28mlist\u001b[39m(\u001b[38;5;28mmap\u001b[39m(\u001b[38;5;28;01mlambda\u001b[39;00m sub_form: _create_form(sub_form), form))\n",
      "File \u001b[0;32m~/miniconda3/envs/diplomski/lib/python3.11/site-packages/dolfinx/fem/forms.py:172\u001b[0m, in \u001b[0;36mform.<locals>._form\u001b[0;34m(form)\u001b[0m\n\u001b[1;32m    169\u001b[0m             \u001b[38;5;28;01mreturn\u001b[39;00m subdomain\n\u001b[1;32m    171\u001b[0m \u001b[38;5;66;03m# Subdomain markers (possibly empty list for some integral types)\u001b[39;00m\n\u001b[0;32m--> 172\u001b[0m subdomains \u001b[38;5;241m=\u001b[39m \u001b[43m{\u001b[49m\u001b[43m_ufl_to_dolfinx_domain\u001b[49m\u001b[43m[\u001b[49m\u001b[43mkey\u001b[49m\u001b[43m]\u001b[49m\u001b[43m:\u001b[49m\u001b[43m \u001b[49m\u001b[43mget_integration_domains\u001b[49m\u001b[43m(\u001b[49m\n\u001b[1;32m    173\u001b[0m \u001b[43m    \u001b[49m\u001b[43m_ufl_to_dolfinx_domain\u001b[49m\u001b[43m[\u001b[49m\u001b[43mkey\u001b[49m\u001b[43m]\u001b[49m\u001b[43m,\u001b[49m\u001b[43m \u001b[49m\u001b[43msubdomain_data\u001b[49m\u001b[43m[\u001b[49m\u001b[38;5;241;43m0\u001b[39;49m\u001b[43m]\u001b[49m\u001b[43m)\u001b[49m\u001b[43m \u001b[49m\u001b[38;5;28;43;01mfor\u001b[39;49;00m\u001b[43m \u001b[49m\u001b[43m(\u001b[49m\u001b[43mkey\u001b[49m\u001b[43m,\u001b[49m\u001b[43m \u001b[49m\u001b[43msubdomain_data\u001b[49m\u001b[43m)\u001b[49m\u001b[43m \u001b[49m\u001b[38;5;129;43;01min\u001b[39;49;00m\u001b[43m \u001b[49m\u001b[43msd\u001b[49m\u001b[38;5;241;43m.\u001b[39;49m\u001b[43mget\u001b[49m\u001b[43m(\u001b[49m\u001b[43mdomain\u001b[49m\u001b[43m)\u001b[49m\u001b[38;5;241;43m.\u001b[39;49m\u001b[43mitems\u001b[49m\u001b[43m(\u001b[49m\u001b[43m)\u001b[49m\u001b[43m}\u001b[49m\n\u001b[1;32m    175\u001b[0m f \u001b[38;5;241m=\u001b[39m ftype(module\u001b[38;5;241m.\u001b[39mffi\u001b[38;5;241m.\u001b[39mcast(\u001b[38;5;124m\"\u001b[39m\u001b[38;5;124muintptr_t\u001b[39m\u001b[38;5;124m\"\u001b[39m, module\u001b[38;5;241m.\u001b[39mffi\u001b[38;5;241m.\u001b[39maddressof(ufcx_form)), V, coeffs,\n\u001b[1;32m    176\u001b[0m           constants, subdomains, mesh)\n\u001b[1;32m    177\u001b[0m \u001b[38;5;28;01mreturn\u001b[39;00m Form(f, ufcx_form, code)\n",
      "File \u001b[0;32m~/miniconda3/envs/diplomski/lib/python3.11/site-packages/dolfinx/fem/forms.py:172\u001b[0m, in \u001b[0;36m<dictcomp>\u001b[0;34m(.0)\u001b[0m\n\u001b[1;32m    169\u001b[0m             \u001b[38;5;28;01mreturn\u001b[39;00m subdomain\n\u001b[1;32m    171\u001b[0m \u001b[38;5;66;03m# Subdomain markers (possibly empty list for some integral types)\u001b[39;00m\n\u001b[0;32m--> 172\u001b[0m subdomains \u001b[38;5;241m=\u001b[39m {_ufl_to_dolfinx_domain[key]: \u001b[43mget_integration_domains\u001b[49m\u001b[43m(\u001b[49m\n\u001b[1;32m    173\u001b[0m \u001b[43m    \u001b[49m\u001b[43m_ufl_to_dolfinx_domain\u001b[49m\u001b[43m[\u001b[49m\u001b[43mkey\u001b[49m\u001b[43m]\u001b[49m\u001b[43m,\u001b[49m\u001b[43m \u001b[49m\u001b[43msubdomain_data\u001b[49m\u001b[43m[\u001b[49m\u001b[38;5;241;43m0\u001b[39;49m\u001b[43m]\u001b[49m\u001b[43m)\u001b[49m \u001b[38;5;28;01mfor\u001b[39;00m (key, subdomain_data) \u001b[38;5;129;01min\u001b[39;00m sd\u001b[38;5;241m.\u001b[39mget(domain)\u001b[38;5;241m.\u001b[39mitems()}\n\u001b[1;32m    175\u001b[0m f \u001b[38;5;241m=\u001b[39m ftype(module\u001b[38;5;241m.\u001b[39mffi\u001b[38;5;241m.\u001b[39mcast(\u001b[38;5;124m\"\u001b[39m\u001b[38;5;124muintptr_t\u001b[39m\u001b[38;5;124m\"\u001b[39m, module\u001b[38;5;241m.\u001b[39mffi\u001b[38;5;241m.\u001b[39maddressof(ufcx_form)), V, coeffs,\n\u001b[1;32m    176\u001b[0m           constants, subdomains, mesh)\n\u001b[1;32m    177\u001b[0m \u001b[38;5;28;01mreturn\u001b[39;00m Form(f, ufcx_form, code)\n",
      "File \u001b[0;32m~/miniconda3/envs/diplomski/lib/python3.11/site-packages/dolfinx/fem/forms.py:167\u001b[0m, in \u001b[0;36mform.<locals>._form.<locals>.get_integration_domains\u001b[0;34m(integral_type, subdomain)\u001b[0m\n\u001b[1;32m    165\u001b[0m         subdomain\u001b[38;5;241m.\u001b[39m_cpp_object\u001b[38;5;241m.\u001b[39mtopology\u001b[38;5;241m.\u001b[39mcreate_connectivity(tdim \u001b[38;5;241m-\u001b[39m \u001b[38;5;241m1\u001b[39m, tdim)\n\u001b[1;32m    166\u001b[0m         subdomain\u001b[38;5;241m.\u001b[39m_cpp_object\u001b[38;5;241m.\u001b[39mtopology\u001b[38;5;241m.\u001b[39mcreate_connectivity(tdim, tdim \u001b[38;5;241m-\u001b[39m \u001b[38;5;241m1\u001b[39m)\n\u001b[0;32m--> 167\u001b[0m     \u001b[38;5;28;01mreturn\u001b[39;00m \u001b[43m_cpp\u001b[49m\u001b[38;5;241;43m.\u001b[39;49m\u001b[43mfem\u001b[49m\u001b[38;5;241;43m.\u001b[39;49m\u001b[43mcompute_integration_domains\u001b[49m\u001b[43m(\u001b[49m\u001b[43mintegral_type\u001b[49m\u001b[43m,\u001b[49m\u001b[43m \u001b[49m\u001b[43msubdomain\u001b[49m\u001b[38;5;241;43m.\u001b[39;49m\u001b[43m_cpp_object\u001b[49m\u001b[43m)\u001b[49m\n\u001b[1;32m    168\u001b[0m \u001b[38;5;28;01mexcept\u001b[39;00m \u001b[38;5;167;01mAttributeError\u001b[39;00m:\n\u001b[1;32m    169\u001b[0m     \u001b[38;5;28;01mreturn\u001b[39;00m subdomain\n",
      "\u001b[0;31mTypeError\u001b[0m: compute_integration_domains(): incompatible function arguments. The following argument types are supported:\n    1. (integral_type: dolfinx::fem::IntegralType, meshtags: dolfinx.cpp.mesh.MeshTags_int32) -> List[Tuple[int, List[int]]]\n\nInvoked with: <IntegralType.cell: 0>, <dolfinx.cpp.mesh.MeshTags_float64 object at 0x7fea0f9fff70>"
     ]
    }
   ],
   "source": [
    "# Step 1\n",
    "def step_1(V_m_tilde):\n",
    "    V_m_tilde.x.array[:] = 2 * V_m_n.x.array[:] - V_m_nn.x.array[:]\n",
    "\n",
    "\n",
    "# Step 2\n",
    "def step_2():\n",
    "    F_w = (\n",
    "        (1 / dt * (3 / 2 * w - 2 * w_n + 1 / 2 * w_nn) + g(V_m_tilde, w))\n",
    "        * theta\n",
    "        * dx(1)\n",
    "    )\n",
    "\n",
    "    problem = NonlinearProblem(F_w, w)\n",
    "    solver = NewtonSolver(MPI.COMM_WORLD, problem)\n",
    "    solver.rtol = 1e-0\n",
    "    solver.atol = 1e-0\n",
    "    solver.max_it = 5\n",
    "    log.set_log_level(log.LogLevel.INFO)\n",
    "    solver.solve(w)\n",
    "\n",
    "\n",
    "# Step 3\n",
    "def step_3():\n",
    "    F_v = (\n",
    "        A_m * C_m / dt * (3 / 2 * V_m - 2 * V_m_n + 1 / 2 * V_m_nn) * phi * dx(1)\n",
    "        + ufl.inner(ufl.dot(sigma_i, ufl.grad(V_m + u)), ufl.grad(phi)) * dx(1)\n",
    "        - A_m * (I_app(t) - I_ion(V_m_tilde, w)) * phi * dx(1)\n",
    "    )\n",
    "\n",
    "    F_v += (\n",
    "        ufl.inner(ufl.dot(sigma_i + sigma_e, ufl.grad(u)), ufl.grad(psi)) * dx(1)\n",
    "        + ufl.inner(ufl.dot(sigma_i, ufl.grad(V_m)), ufl.grad(psi)) * dx(1)\n",
    "        + ufl.inner(ufl.dot(sigma_t, ufl.grad(u)), ufl.grad(psi)) * dx(0)\n",
    "    )\n",
    "\n",
    "    problem = NonlinearProblem(F_v, v)\n",
    "    solver = NewtonSolver(MPI.COMM_WORLD, problem)\n",
    "    solver.rtol = 1e-0\n",
    "    solver.atol = 1e-0\n",
    "    solver.max_it = 5\n",
    "    log.set_log_level(log.LogLevel.INFO)\n",
    "    solver.solve(v)\n",
    "\n",
    "\n",
    "def time_step(t):\n",
    "    t += dt\n",
    "    step_1(V_m_tilde)\n",
    "    step_2()\n",
    "    step_3()\n",
    "\n",
    "\n",
    "time_step(t)"
   ]
  }
 ],
 "metadata": {
  "kernelspec": {
   "display_name": "base",
   "language": "python",
   "name": "python3"
  },
  "language_info": {
   "codemirror_mode": {
    "name": "ipython",
    "version": 3
   },
   "file_extension": ".py",
   "mimetype": "text/x-python",
   "name": "python",
   "nbconvert_exporter": "python",
   "pygments_lexer": "ipython3",
   "version": "3.11.6"
  }
 },
 "nbformat": 4,
 "nbformat_minor": 2
}
