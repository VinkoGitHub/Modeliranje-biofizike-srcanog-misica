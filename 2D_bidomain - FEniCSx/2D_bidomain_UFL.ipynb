{
 "cells": [
  {
   "cell_type": "markdown",
   "metadata": {},
   "source": [
    "### we define elements and spaces"
   ]
  },
  {
   "cell_type": "code",
   "execution_count": 1,
   "metadata": {},
   "outputs": [],
   "source": [
    "from dolfinx import fem, mesh\n",
    "from dolfinx.fem.petsc import LinearProblem\n",
    "from mpi4py import MPI\n",
    "import ufl\n",
    "\n",
    "element = ufl.FiniteElement(\"Lagrange\", ufl.triangle, 1)\n",
    "domain = mesh.create_unit_square(MPI.COMM_WORLD, 8, 8, mesh.CellType.triangle)\n",
    "\n",
    "V = fem.FunctionSpace(domain, element)\n",
    "x = ufl.SpatialCoordinate"
   ]
  },
  {
   "cell_type": "markdown",
   "metadata": {},
   "source": [
    "# UFL dio:"
   ]
  },
  {
   "cell_type": "code",
   "execution_count": 2,
   "metadata": {},
   "outputs": [
    {
     "name": "stdout",
     "output_type": "stream",
     "text": [
      "{ (grad(v_0)) . (grad(v_1)) } * dx(<Mesh #0>[everywhere], {}) \n",
      " { -6 * v_0 } * dx(<Mesh #0>[everywhere], {})\n"
     ]
    }
   ],
   "source": [
    "v = ufl.TestFunction(V)\n",
    "u = ufl.TrialFunction(V)\n",
    "\n",
    "def f(x):\n",
    "    return -6\n",
    "\n",
    "a = ufl.dot(ufl.grad(v), ufl.grad(u))*ufl.dx\n",
    "L = v*f(x)*ufl.dx\n",
    "\n",
    "print(a,'\\n', L)"
   ]
  },
  {
   "cell_type": "markdown",
   "metadata": {},
   "source": [
    "# FEniCSx dio:"
   ]
  },
  {
   "cell_type": "code",
   "execution_count": 3,
   "metadata": {},
   "outputs": [],
   "source": [
    "uD = fem.Function(V)\n",
    "uD.interpolate(lambda x: 1 + x[0]**2 + 2 * x[1]**2)\n",
    "\n",
    "# Create facet to cell connectivity required to determine boundary facets\n",
    "tdim = domain.topology.dim\n",
    "fdim = tdim - 1\n",
    "domain.topology.create_connectivity(fdim, tdim)\n",
    "boundary_facets = mesh.exterior_facet_indices(domain.topology)\n",
    "\n",
    "boundary_dofs = fem.locate_dofs_topological(V, fdim, boundary_facets)\n",
    "bc = fem.dirichletbc(uD, boundary_dofs)\n",
    "\n",
    "problem = LinearProblem(a, L, bcs=[bc], petsc_options={\"ksp_type\": \"preonly\", \"pc_type\": \"lu\"})\n",
    "uh = problem.solve()"
   ]
  },
  {
   "cell_type": "code",
   "execution_count": 4,
   "metadata": {},
   "outputs": [
    {
     "ename": "ValueError",
     "evalue": "data length of (81) != required length (128)",
     "output_type": "error",
     "traceback": [
      "\u001b[0;31m---------------------------------------------------------------------------\u001b[0m",
      "\u001b[0;31mValueError\u001b[0m                                Traceback (most recent call last)",
      "Cell \u001b[0;32mIn[4], line 3\u001b[0m\n\u001b[1;32m      1\u001b[0m \u001b[38;5;28;01mfrom\u001b[39;00m \u001b[38;5;21;01mutils\u001b[39;00m \u001b[38;5;28;01mimport\u001b[39;00m \u001b[38;5;241m*\u001b[39m\n\u001b[1;32m      2\u001b[0m mh \u001b[38;5;241m=\u001b[39m MeshHandler()\n\u001b[0;32m----> 3\u001b[0m \u001b[43mmh\u001b[49m\u001b[38;5;241;43m.\u001b[39;49m\u001b[43mplot_function\u001b[49m\u001b[43m(\u001b[49m\u001b[43mdomain\u001b[49m\u001b[43m,\u001b[49m\u001b[43m \u001b[49m\u001b[43muh\u001b[49m\u001b[43m)\u001b[49m\n",
      "File \u001b[0;32m~/Desktop/Modeliranje-biofizike-srcanog-tkiva/2D_bidomain - FEniCSx/utils.py:69\u001b[0m, in \u001b[0;36mMeshHandler.plot_function\u001b[0;34m(self, domain, function)\u001b[0m\n\u001b[1;32m     67\u001b[0m p \u001b[38;5;241m=\u001b[39m pyvista\u001b[38;5;241m.\u001b[39mPlotter(window_size\u001b[38;5;241m=\u001b[39m[\u001b[38;5;241m500\u001b[39m, \u001b[38;5;241m500\u001b[39m])\n\u001b[1;32m     68\u001b[0m grid \u001b[38;5;241m=\u001b[39m pyvista\u001b[38;5;241m.\u001b[39mUnstructuredGrid(topology, cell_types, x)\n\u001b[0;32m---> 69\u001b[0m \u001b[43mgrid\u001b[49m\u001b[38;5;241;43m.\u001b[39;49m\u001b[43mcell_data\u001b[49m\u001b[43m[\u001b[49m\u001b[38;5;124;43m'\u001b[39;49m\u001b[38;5;124;43mfunction\u001b[39;49m\u001b[38;5;124;43m'\u001b[39;49m\u001b[43m]\u001b[49m \u001b[38;5;241m=\u001b[39m function\u001b[38;5;241m.\u001b[39mx\u001b[38;5;241m.\u001b[39marray\n\u001b[1;32m     70\u001b[0m grid\u001b[38;5;241m.\u001b[39mset_active_scalars(\u001b[38;5;124m'\u001b[39m\u001b[38;5;124mfunction\u001b[39m\u001b[38;5;124m'\u001b[39m)\n\u001b[1;32m     71\u001b[0m p\u001b[38;5;241m.\u001b[39madd_mesh(grid, show_edges\u001b[38;5;241m=\u001b[39m\u001b[38;5;28;01mTrue\u001b[39;00m)\n",
      "File \u001b[0;32m~/miniconda3/envs/diplomski/lib/python3.11/site-packages/pyvista/core/datasetattributes.py:227\u001b[0m, in \u001b[0;36mDataSetAttributes.__setitem__\u001b[0;34m(self, key, value)\u001b[0m\n\u001b[1;32m    224\u001b[0m     \u001b[38;5;28;01mraise\u001b[39;00m \u001b[38;5;167;01mTypeError\u001b[39;00m(\u001b[38;5;124m'\u001b[39m\u001b[38;5;124mOnly strings are valid keys for DataSetAttributes.\u001b[39m\u001b[38;5;124m'\u001b[39m)\n\u001b[1;32m    226\u001b[0m has_arr \u001b[38;5;241m=\u001b[39m key \u001b[38;5;129;01min\u001b[39;00m \u001b[38;5;28mself\u001b[39m\n\u001b[0;32m--> 227\u001b[0m \u001b[38;5;28;43mself\u001b[39;49m\u001b[38;5;241;43m.\u001b[39;49m\u001b[43mset_array\u001b[49m\u001b[43m(\u001b[49m\u001b[43mvalue\u001b[49m\u001b[43m,\u001b[49m\u001b[43m \u001b[49m\u001b[43mname\u001b[49m\u001b[38;5;241;43m=\u001b[39;49m\u001b[43mkey\u001b[49m\u001b[43m)\u001b[49m\n\u001b[1;32m    229\u001b[0m \u001b[38;5;66;03m# do not make array active if it already exists.  This covers\u001b[39;00m\n\u001b[1;32m    230\u001b[0m \u001b[38;5;66;03m# an inplace update like self.point_data[key] += 1\u001b[39;00m\n\u001b[1;32m    231\u001b[0m \u001b[38;5;28;01mif\u001b[39;00m has_arr:\n",
      "File \u001b[0;32m~/miniconda3/envs/diplomski/lib/python3.11/site-packages/pyvista/core/datasetattributes.py:579\u001b[0m, in \u001b[0;36mDataSetAttributes.set_array\u001b[0;34m(self, data, name, deep_copy)\u001b[0m\n\u001b[1;32m    576\u001b[0m \u001b[38;5;28;01mif\u001b[39;00m \u001b[38;5;129;01mnot\u001b[39;00m \u001b[38;5;28misinstance\u001b[39m(name, \u001b[38;5;28mstr\u001b[39m):\n\u001b[1;32m    577\u001b[0m     \u001b[38;5;28;01mraise\u001b[39;00m \u001b[38;5;167;01mTypeError\u001b[39;00m(\u001b[38;5;124m'\u001b[39m\u001b[38;5;124m`name` must be a string\u001b[39m\u001b[38;5;124m'\u001b[39m)\n\u001b[0;32m--> 579\u001b[0m vtk_arr \u001b[38;5;241m=\u001b[39m \u001b[38;5;28;43mself\u001b[39;49m\u001b[38;5;241;43m.\u001b[39;49m\u001b[43m_prepare_array\u001b[49m\u001b[43m(\u001b[49m\u001b[43mdata\u001b[49m\u001b[43m,\u001b[49m\u001b[43m \u001b[49m\u001b[43mname\u001b[49m\u001b[43m,\u001b[49m\u001b[43m \u001b[49m\u001b[43mdeep_copy\u001b[49m\u001b[43m)\u001b[49m\n\u001b[1;32m    580\u001b[0m \u001b[38;5;28mself\u001b[39m\u001b[38;5;241m.\u001b[39mVTKObject\u001b[38;5;241m.\u001b[39mAddArray(vtk_arr)\n\u001b[1;32m    581\u001b[0m \u001b[38;5;28mself\u001b[39m\u001b[38;5;241m.\u001b[39mVTKObject\u001b[38;5;241m.\u001b[39mModified()\n",
      "File \u001b[0;32m~/miniconda3/envs/diplomski/lib/python3.11/site-packages/pyvista/core/datasetattributes.py:737\u001b[0m, in \u001b[0;36mDataSetAttributes._prepare_array\u001b[0;34m(self, data, name, deep_copy)\u001b[0m\n\u001b[1;32m    735\u001b[0m     data \u001b[38;5;241m=\u001b[39m tmparray\n\u001b[1;32m    736\u001b[0m \u001b[38;5;28;01mif\u001b[39;00m data\u001b[38;5;241m.\u001b[39mshape[\u001b[38;5;241m0\u001b[39m] \u001b[38;5;241m!=\u001b[39m array_len:\n\u001b[0;32m--> 737\u001b[0m     \u001b[38;5;28;01mraise\u001b[39;00m \u001b[38;5;167;01mValueError\u001b[39;00m(\u001b[38;5;124mf\u001b[39m\u001b[38;5;124m'\u001b[39m\u001b[38;5;124mdata length of (\u001b[39m\u001b[38;5;132;01m{\u001b[39;00mdata\u001b[38;5;241m.\u001b[39mshape[\u001b[38;5;241m0\u001b[39m]\u001b[38;5;132;01m}\u001b[39;00m\u001b[38;5;124m) != required length (\u001b[39m\u001b[38;5;132;01m{\u001b[39;00marray_len\u001b[38;5;132;01m}\u001b[39;00m\u001b[38;5;124m)\u001b[39m\u001b[38;5;124m'\u001b[39m)\n\u001b[1;32m    739\u001b[0m \u001b[38;5;66;03m# attempt to reuse the existing pointer to underlying VTK data\u001b[39;00m\n\u001b[1;32m    740\u001b[0m \u001b[38;5;28;01mif\u001b[39;00m \u001b[38;5;28misinstance\u001b[39m(data, pyvista_ndarray):\n\u001b[1;32m    741\u001b[0m     \u001b[38;5;66;03m# pyvista_ndarray already contains the reference to the vtk object\u001b[39;00m\n\u001b[1;32m    742\u001b[0m     \u001b[38;5;66;03m# pyvista needs to use the copy of this object rather than wrapping\u001b[39;00m\n\u001b[1;32m    743\u001b[0m     \u001b[38;5;66;03m# the array (which leaves a C++ pointer uncollected.\u001b[39;00m\n",
      "\u001b[0;31mValueError\u001b[0m: data length of (81) != required length (128)"
     ]
    }
   ],
   "source": [
    "from utils import *\n",
    "mh = MeshHandler()\n",
    "mh.plot_function(domain, uh)"
   ]
  },
  {
   "cell_type": "markdown",
   "metadata": {},
   "source": [
    "### Generating a mesh:"
   ]
  },
  {
   "cell_type": "code",
   "execution_count": null,
   "metadata": {},
   "outputs": [],
   "source": [
    "# Create a mesh\n",
    "mh = MeshHandler()\n",
    "Omega = mh.create(N=N)\n",
    "\n",
    "x = SpatialCoordinate\n",
    "cells_H = locate_entities(Omega, Omega.topology.dim, Omega_H)\n",
    "cells_T = locate_entities(Omega, Omega.topology.dim, Omega_T)\n",
    "\n",
    "Omega_Heart, _, vertices_H, geom_H = create_submesh(Omega, Omega.topology.dim, cells_H)\n",
    "Omega_Torso, _, vertices_T, geom_T = create_submesh(Omega, Omega.topology.dim, cells_T)\n",
    "\n",
    "# mh.plot_subdomains(Omega, cells_H, cells_T)\n",
    "# mh.plot_mesh(Omega)"
   ]
  },
  {
   "cell_type": "code",
   "execution_count": null,
   "metadata": {},
   "outputs": [],
   "source": [
    "# Define function space\n",
    "V2 = VectorFunctionSpace(Omega, (\"CG\", 2), 2)\n",
    "V1 = FunctionSpace(Omega, (\"CG\", 2))\n",
    "\n",
    "# Define test functions\n",
    "phi, psi = TestFunctions(V2)\n",
    "\n",
    "# Define functions\n",
    "v, v_n, v_nn = Function(V2), Function(V2), Function(V2)\n",
    "w, w_n, w_nn = Function(V1), Function(V1), Function(V1)\n",
    "I_ion, g, I_app = Function(V1), Function(V1), Function(V1)\n",
    "fibres = Function(V2)\n",
    "V_m, u = v.split()\n",
    "V_m_n, u_n = v_n.split()\n",
    "V_m_nn, u_nn = v_nn.split()\n",
    "\n",
    "# V_m, u = v.sub(0), v.sub(1)\n",
    "# V_m_n, u_n = v_n.sub(0), v_n.sub(1)\n",
    "# V_m_nn, u_nn = v_nn.sub(0), v_nn.sub(1)"
   ]
  },
  {
   "cell_type": "markdown",
   "metadata": {},
   "source": [
    "### Generating a mesh:"
   ]
  },
  {
   "cell_type": "code",
   "execution_count": null,
   "metadata": {},
   "outputs": [],
   "source": [
    "# Create a mesh\n",
    "mh = MeshHandler()\n",
    "Omega = mh.create(N=N)\n",
    "\n",
    "x = SpatialCoordinate\n",
    "cells_H = locate_entities(Omega, Omega.topology.dim, Omega_H)\n",
    "cells_T = locate_entities(Omega, Omega.topology.dim, Omega_T)\n",
    "\n",
    "Omega_Heart, _, vertices_H, geom_H = create_submesh(Omega, Omega.topology.dim, cells_H)\n",
    "Omega_Torso, _, vertices_T, geom_T = create_submesh(Omega, Omega.topology.dim, cells_T)\n",
    "\n",
    "# mh.plot_subdomains(Omega, cells_H, cells_T)\n",
    "# mh.plot_mesh(Omega)"
   ]
  },
  {
   "cell_type": "code",
   "execution_count": null,
   "metadata": {},
   "outputs": [],
   "source": [
    "# initial conditions\n",
    "V_m_n.interpolate(lambda x: np.full((x.shape[1],), V_MIN))\n",
    "w_n.interpolate(lambda x: np.full((x.shape[1],), 1 / (V_MAX - V_MIN) ** 2))\n",
    "V_m_nn.interpolate(lambda x: np.full((x.shape[1],), V_MIN))\n",
    "w_nn.interpolate(lambda x: np.full((x.shape[1],), 1 / (V_MAX - V_MIN) ** 2))\n",
    "\n",
    "# interpolation part\n",
    "# fibres\n",
    "fun_fibres = eval_fibres()\n",
    "fibres.interpolate(fun_fibres)\n",
    "\n",
    "# ionic current\n",
    "fun_I_ion = eval_I_ion(v_n, w_n)\n",
    "I_ion.interpolate(fun_I_ion)\n",
    "\n",
    "## gating variable\n",
    "# fun_g = eval_g(v_n, w_n)\n",
    "# g.interpolate(fun_g)\n",
    "\n",
    "# applied current\n",
    "fun_I_app = eval_I_app()\n",
    "I_app.interpolate(fun_I_app)"
   ]
  },
  {
   "cell_type": "code",
   "execution_count": null,
   "metadata": {},
   "outputs": [],
   "source": [
    "condition = lt(V_m, V_GATE)\n",
    "true_statement = w / TAU_OPEN - 1 / TAU_OPEN / (V_MAX - V_MIN) ** 2\n",
    "false_statement = w / TAU_CLOSE\n",
    "g = conditional(condition, true_statement, false_statement)"
   ]
  },
  {
   "cell_type": "code",
   "execution_count": null,
   "metadata": {},
   "outputs": [],
   "source": [
    "# defining UFL language parts\n",
    "# conductivities\n",
    "sigma_il = Constant(Omega, SIGMA_IL)\n",
    "sigma_it = Constant(Omega, SIGMA_IT)\n",
    "sigma_el = Constant(Omega, SIGMA_EL)\n",
    "sigma_et = Constant(Omega, SIGMA_ET)\n",
    "sigma_tlt = Constant(Omega, SIGMA_TLT)\n",
    "\n",
    "d = Omega.topology.dim\n",
    "\n",
    "sigma_i = sigma_it * Identity(d) + (sigma_il - sigma_it) * outer(fibres, fibres)\n",
    "sigma_e = sigma_et * Identity(d) + (sigma_el - sigma_et) * outer(fibres, fibres)\n",
    "sigma_t = sigma_tlt * Identity(d)\n",
    "\n",
    "# Constants used in variational forms\n",
    "dt = Constant(Omega, DT)\n",
    "A_m = Constant(Omega, A_M)\n",
    "C_m = Constant(Omega, C_M)"
   ]
  },
  {
   "cell_type": "code",
   "execution_count": null,
   "metadata": {},
   "outputs": [],
   "source": [
    "# Define new measures associated with the interior domains and\n",
    "# exterior boundaries\n",
    "dx_H = Measure(\"dx\", subdomain_data=Omega_Heart)\n",
    "dx_T = Measure(\"dx\", subdomain_data=Omega_Torso)"
   ]
  },
  {
   "cell_type": "code",
   "execution_count": null,
   "metadata": {},
   "outputs": [],
   "source": [
    "# Define variational problem\n",
    "F = (\n",
    "    A_m * (C_m * (V_m - V_m_n) + dt * I_ion) * phi * dx_H\n",
    "    + dt * inner(dot(sigma_i, grad(V_m + u)), grad(phi)) * dx_H\n",
    "    - dt * A_m * I_app * phi * dx(1)\n",
    ")\n",
    "F += (\n",
    "    inner(dot(sigma_i + sigma_e, grad(u)), grad(psi)) * dx_H\n",
    "    + inner(dot(sigma_i, grad(V_m)), grad(psi)) * dx_H\n",
    "    + inner(dot(sigma_t, grad(u)), grad(psi)) * dx_T\n",
    ")"
   ]
  },
  {
   "cell_type": "code",
   "execution_count": null,
   "metadata": {},
   "outputs": [],
   "source": [
    "print(F)"
   ]
  },
  {
   "cell_type": "code",
   "execution_count": null,
   "metadata": {},
   "outputs": [],
   "source": [
    "from dolfinx.fem.petsc import NonlinearProblem"
   ]
  },
  {
   "cell_type": "code",
   "execution_count": null,
   "metadata": {},
   "outputs": [],
   "source": [
    "# Time-stepping\n",
    "t = 0\n",
    "for n in tqdm(range(NUM_STEPS)):\n",
    "    # Update current time and expressions\n",
    "    t += DT\n",
    "    g.v = v\n",
    "    I_ion.v = v\n",
    "    I_app.t = t\n",
    "\n",
    "    # Solve variational problem for time step\n",
    "    # set_log_active(False)\n",
    "    problem = NonlinearProblem(F, v)\n",
    "    u_ = problem.solve()\n",
    "\n",
    "    # Update previous solution\n",
    "    v_n.assign(v)"
   ]
  },
  {
   "cell_type": "code",
   "execution_count": null,
   "metadata": {},
   "outputs": [],
   "source": []
  },
  {
   "cell_type": "code",
   "execution_count": null,
   "metadata": {},
   "outputs": [],
   "source": []
  },
  {
   "cell_type": "code",
   "execution_count": null,
   "metadata": {},
   "outputs": [],
   "source": []
  },
  {
   "cell_type": "code",
   "execution_count": null,
   "metadata": {},
   "outputs": [],
   "source": []
  }
 ],
 "metadata": {
  "kernelspec": {
   "display_name": "base",
   "language": "python",
   "name": "python3"
  },
  "language_info": {
   "codemirror_mode": {
    "name": "ipython",
    "version": 3
   },
   "file_extension": ".py",
   "mimetype": "text/x-python",
   "name": "python",
   "nbconvert_exporter": "python",
   "pygments_lexer": "ipython3",
   "version": "3.11.6"
  }
 },
 "nbformat": 4,
 "nbformat_minor": 2
}
