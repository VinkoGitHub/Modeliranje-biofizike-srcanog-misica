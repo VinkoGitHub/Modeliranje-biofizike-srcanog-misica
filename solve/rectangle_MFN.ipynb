{
 "cells": [
  {
   "cell_type": "markdown",
   "metadata": {},
   "source": [
    "## Solving bidomain equations on rectangular domain with modified FitzHugh-Nagumo model"
   ]
  },
  {
   "cell_type": "markdown",
   "metadata": {},
   "source": [
    "### Importing required libraries"
   ]
  },
  {
   "cell_type": "code",
   "execution_count": 1,
   "metadata": {},
   "outputs": [
    {
     "name": "stdout",
     "output_type": "stream",
     "text": [
      "/home/drvinko/Desktop/Modeliranje-biofizike-srcanog-misica\n"
     ]
    }
   ],
   "source": [
    "%cd ..\n",
    "from src.dynamics_models import *\n",
    "from src.cell_models import *\n",
    "from src.utils import *"
   ]
  },
  {
   "cell_type": "markdown",
   "metadata": {},
   "source": [
    "### Defining a domain, cell model and dynamics model and visualizing initial data"
   ]
  },
  {
   "cell_type": "code",
   "execution_count": 2,
   "metadata": {},
   "outputs": [],
   "source": [
    "domain = rectangle(2, 2, 100, 100)\n",
    "reduce_factor = 1"
   ]
  },
  {
   "cell_type": "code",
   "execution_count": 3,
   "metadata": {},
   "outputs": [],
   "source": [
    "class Model(MonodomainModel):\n",
    "    def initial_V_m(self):\n",
    "        def value(x):\n",
    "            mu, alpha = 0.2, 50\n",
    "            return -85 + 35 / (1 + np.exp((x[0] - mu) * alpha))\n",
    "\n",
    "        self.V_m_n.interpolate(value)\n",
    "        return self.V_m_n\n",
    "\n",
    "    def conductivity(self):\n",
    "        # Muscle fibres\n",
    "        self.fibers = ufl.as_vector([1, 0])\n",
    "\n",
    "        # Healthy conductivity\n",
    "        self.M_i = self.SIGMA_IT * ufl.Identity(2) + (\n",
    "            self.SIGMA_IL - self.SIGMA_IT\n",
    "        ) * ufl.outer(self.fibers, self.fibers)\n",
    "\n",
    "    def ischemia(self):\n",
    "        x_c, width = 1.0, 0.5\n",
    "        sharpness = 50.0\n",
    "\n",
    "        def reduce(x):\n",
    "            return 1 + (reduce_factor - 1) / (\n",
    "                1 + ufl.cosh(sharpness * (x[0] - x_c)) / ufl.cosh(sharpness * width)\n",
    "            ) / (1 + ufl.cosh(sharpness * (x[1] - x_c)) / ufl.cosh(sharpness * width))\n",
    "\n",
    "        def value(x):\n",
    "            return 1 + (reduce_factor - 1) / (\n",
    "                1 + np.cosh(sharpness * (x[0] - x_c)) / np.cosh(sharpness * width)\n",
    "            ) / (1 + np.cosh(sharpness * (x[1] - x_c)) / np.cosh(sharpness * width))\n",
    "\n",
    "        self.M_i = self.M_i / reduce(self.x)\n",
    "        fun = fem.Function(self.V1)\n",
    "        fun.interpolate(value)\n",
    "        return fun"
   ]
  },
  {
   "cell_type": "code",
   "execution_count": 4,
   "metadata": {},
   "outputs": [],
   "source": [
    "cell_model = ReparametrizedFitzHughNagumo(domain)\n",
    "model = Model(domain, cell_model)"
   ]
  },
  {
   "cell_type": "code",
   "execution_count": 5,
   "metadata": {},
   "outputs": [
    {
     "data": {
      "application/vnd.jupyter.widget-view+json": {
       "model_id": "ba47308c61c04085863d8775bc76e1ff",
       "version_major": 2,
       "version_minor": 0
      },
      "text/plain": [
       "Widget(value='<iframe src=\"http://localhost:36643/index.html?ui=P_0x7f1869baad10_0&reconnect=auto\" class=\"pyvi…"
      ]
     },
     "metadata": {},
     "output_type": "display_data"
    }
   ],
   "source": [
    "plot_function(\n",
    "    model.initial_V_m(),\n",
    "    camera_direction=\"xy\",\n",
    "    cmap='PiYG',\n",
    "    save_to=\"rectangle_initial_V_m.pdf\",\n",
    ")"
   ]
  },
  {
   "cell_type": "code",
   "execution_count": 6,
   "metadata": {},
   "outputs": [
    {
     "data": {
      "application/vnd.jupyter.widget-view+json": {
       "model_id": "cb130843e12c43349a20cb87deabf1f3",
       "version_major": 2,
       "version_minor": 0
      },
      "text/plain": [
       "Widget(value='<iframe src=\"http://localhost:36643/index.html?ui=P_0x7f18abeaf650_1&reconnect=auto\" class=\"pyvi…"
      ]
     },
     "metadata": {},
     "output_type": "display_data"
    }
   ],
   "source": [
    "plot_function(\n",
    "    model.ischemia(),\n",
    "    camera_direction=\"xy\",\n",
    "    cmap=\"RdYlGn\",\n",
    "    save_to=\"rectangle_ischemia_location.pdf\",\n",
    "    remove_scalar_bar = True\n",
    ")"
   ]
  },
  {
   "cell_type": "markdown",
   "metadata": {},
   "source": [
    "### Solving equations with given parameters"
   ]
  },
  {
   "cell_type": "code",
   "execution_count": 7,
   "metadata": {},
   "outputs": [
    {
     "name": "stderr",
     "output_type": "stream",
     "text": [
      "Solving problem:   4%|▍         | 39/1000 [00:04<02:00,  7.99it/s]"
     ]
    }
   ],
   "source": [
    "model.solve(\n",
    "    T=1000,\n",
    "    steps=1000,\n",
    "    save_to=f\"rectangle_MFN_{reduce_factor}_red.mp4\",\n",
    "    camera_direction=\"xy\",\n",
    "    checkpoints=[int(1000 * i / 10) for i in range(1, 11)],\n",
    "    checkpoint_file=f\"rectangle_MFN_{reduce_factor}_red\",\n",
    ")"
   ]
  }
 ],
 "metadata": {
  "kernelspec": {
   "display_name": "base",
   "language": "python",
   "name": "python3"
  },
  "language_info": {
   "codemirror_mode": {
    "name": "ipython",
    "version": 3
   },
   "file_extension": ".py",
   "mimetype": "text/x-python",
   "name": "python",
   "nbconvert_exporter": "python",
   "pygments_lexer": "ipython3",
   "version": "3.11.6"
  }
 },
 "nbformat": 4,
 "nbformat_minor": 2
}
