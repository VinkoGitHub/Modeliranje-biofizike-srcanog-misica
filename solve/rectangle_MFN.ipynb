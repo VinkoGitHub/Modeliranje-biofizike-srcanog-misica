{
 "cells": [
  {
   "cell_type": "markdown",
   "metadata": {},
   "source": [
    "## Solving bidomain equations on rectangular domain with modified FitzHugh-Nagumo model"
   ]
  },
  {
   "cell_type": "markdown",
   "metadata": {},
   "source": [
    "### Importing required libraries"
   ]
  },
  {
   "cell_type": "code",
   "execution_count": 1,
   "metadata": {},
   "outputs": [
    {
     "name": "stdout",
     "output_type": "stream",
     "text": [
      "/home/drvinko/Desktop/Modeliranje-biofizike-srcanog-misica\n"
     ]
    }
   ],
   "source": [
    "%cd ..\n",
    "from src.dynamics_models import *\n",
    "from src.cell_models import *\n",
    "from src.utils import *"
   ]
  },
  {
   "cell_type": "markdown",
   "metadata": {},
   "source": [
    "### Defining a domain, cell model and dynamics model and visualizing initial data"
   ]
  },
  {
   "cell_type": "code",
   "execution_count": 2,
   "metadata": {},
   "outputs": [],
   "source": [
    "domain = rectangle(2, 2, 20, 20)"
   ]
  },
  {
   "cell_type": "code",
   "execution_count": 3,
   "metadata": {},
   "outputs": [],
   "source": [
    "class Model(MonodomainModel):\n",
    "    def initial_V_m(self):\n",
    "        def value(x):\n",
    "            mu, alpha = 0.2, 0.03\n",
    "            return -85 + 35 / (1 + np.exp((x[0] - mu) / alpha))\n",
    "\n",
    "        self.V_m_n.interpolate(value)\n",
    "        return self.V_m_n\n",
    "\n",
    "    def conductivity(self):\n",
    "        # Muscle fibres\n",
    "        self.fibers = ufl.as_vector([1, 0])\n",
    "\n",
    "        # Healthy conductivity\n",
    "        self.M_i = self.SIGMA_IT * ufl.Identity(2) + (\n",
    "            self.SIGMA_IL - self.SIGMA_IT\n",
    "        ) * ufl.outer(self.fibers, self.fibers)\n",
    "\n",
    "    def ischemia(self):\n",
    "        def intersect(X: list[np.ndarray]) -> np.ndarray:\n",
    "            arr = X[0]\n",
    "            for x in X:\n",
    "                arr = np.intersect1d(arr, x)\n",
    "            return arr\n",
    "\n",
    "        reduce_factor = 0.1\n",
    "        locator1 = lambda x: x[0] < 1.5\n",
    "        locator2 = lambda x: x[0] > 0.5\n",
    "        locator3 = lambda x: x[1] < 1.5\n",
    "        locator4 = lambda x: x[1] > 0.5\n",
    "        cells1 = fem.locate_dofs_geometrical(self.V1, locator1)\n",
    "        cells2 = fem.locate_dofs_geometrical(self.V1, locator2)\n",
    "        cells3 = fem.locate_dofs_geometrical(self.V1, locator3)\n",
    "        cells4 = fem.locate_dofs_geometrical(self.V1, locator4)\n",
    "        cells = intersect([cells1, cells2, cells3, cells4])\n",
    "        fun = fem.Function(self.V1)\n",
    "        fun.x.array[:] = 1\n",
    "        fun.x.array[cells] = np.full_like(cells, reduce_factor)\n",
    "        self.M_i = self.M_i * fun\n",
    "        # self.M_i.x.array[cells] = np.full_like(cells, self.M_i.x.array[cells]/10)\n",
    "        return fun"
   ]
  },
  {
   "cell_type": "code",
   "execution_count": 4,
   "metadata": {},
   "outputs": [],
   "source": [
    "cell_model = ReparametrizedFitzHughNagumo(domain)\n",
    "model = Model(domain, cell_model)"
   ]
  },
  {
   "cell_type": "code",
   "execution_count": 5,
   "metadata": {},
   "outputs": [
    {
     "data": {
      "application/vnd.jupyter.widget-view+json": {
       "model_id": "f74a066e00aa4085a569be5d8c3906f7",
       "version_major": 2,
       "version_minor": 0
      },
      "text/plain": [
       "Widget(value='<iframe src=\"http://localhost:45063/index.html?ui=P_0x7f380442cb50_0&reconnect=auto\" class=\"pyvi…"
      ]
     },
     "metadata": {},
     "output_type": "display_data"
    }
   ],
   "source": [
    "plot_function(\n",
    "    model.initial_V_m(),\n",
    "    camera_direction=\"xy\",\n",
    "    zoom=0.9,\n",
    "    cmap='PiYG',\n",
    "    save_to=\"rectangle_initial_V_m.pdf\",\n",
    ")"
   ]
  },
  {
   "cell_type": "code",
   "execution_count": 6,
   "metadata": {},
   "outputs": [
    {
     "data": {
      "application/vnd.jupyter.widget-view+json": {
       "model_id": "9abb704bd5f04335aeb63613dd356155",
       "version_major": 2,
       "version_minor": 0
      },
      "text/plain": [
       "Widget(value='<iframe src=\"http://localhost:45063/index.html?ui=P_0x7f37acb03b10_1&reconnect=auto\" class=\"pyvi…"
      ]
     },
     "metadata": {},
     "output_type": "display_data"
    }
   ],
   "source": [
    "plot_function(\n",
    "    model.ischemia(),\n",
    "    camera_direction=\"xy\",\n",
    "    cmap=\"RdYlGn\",\n",
    "    save_to=\"ischemia_ischemia_location.pdf\",\n",
    ")"
   ]
  },
  {
   "cell_type": "markdown",
   "metadata": {},
   "source": [
    "### Solving equations with given parameters"
   ]
  },
  {
   "cell_type": "code",
   "execution_count": 7,
   "metadata": {},
   "outputs": [
    {
     "name": "stderr",
     "output_type": "stream",
     "text": [
      "Solving problem:  60%|█████▉    | 299/500 [00:50<01:00,  3.32it/s]"
     ]
    }
   ],
   "source": [
    "model.solve(\n",
    "    T=500,\n",
    "    steps=500,\n",
    "    save_to=\"rectangle_MFN.mp4\",\n",
    "    camera_direction=\"xy\",\n",
    "    zoom=0.9,\n",
    "    checkpoints=[50, 100, 150, 200, 250, 300, 350, 400, 450, 500],\n",
    "    checkpoint_file=\"rectangle_MFN\",\n",
    ")"
   ]
  },
  {
   "cell_type": "markdown",
   "metadata": {},
   "source": [
    "### Plotting fiber orientations"
   ]
  },
  {
   "cell_type": "code",
   "execution_count": null,
   "metadata": {},
   "outputs": [
    {
     "data": {
      "application/vnd.jupyter.widget-view+json": {
       "model_id": "f870c0c5b72f4e33a39538b6e5abf40d",
       "version_major": 2,
       "version_minor": 0
      },
      "text/plain": [
       "Widget(value='<iframe src=\"http://localhost:39503/index.html?ui=P_0x7fca82cd3550_1&reconnect=auto\" class=\"pyvi…"
      ]
     },
     "metadata": {},
     "output_type": "display_data"
    },
    {
     "name": "stderr",
     "output_type": "stream",
     "text": [
      "ERROR:wslink.protocol:Exception raised\n",
      "ERROR:wslink.protocol:KeyError('57eb16c3f389c2f659501f32a88d79b1_10201d')\n",
      "ERROR:wslink.protocol:Traceback (most recent call last):\n",
      "  File \"/home/drvinko/miniconda3/envs/diplomski/lib/python3.11/site-packages/wslink/protocol.py\", line 332, in onMessage\n",
      "    results = func(*args, **kwargs)\n",
      "              ^^^^^^^^^^^^^^^^^^^^^\n",
      "  File \"/home/drvinko/miniconda3/envs/diplomski/lib/python3.11/site-packages/trame_vtk/modules/vtk/protocols/local_rendering.py\", line 33, in get_array\n",
      "    self.context.get_cached_data_array(data_hash, binary)\n",
      "  File \"/home/drvinko/miniconda3/envs/diplomski/lib/python3.11/site-packages/trame_vtk/modules/vtk/serializers/synchronization_context.py\", line 30, in get_cached_data_array\n",
      "    cache_obj = self.data_array_cache[p_md5]\n",
      "                ~~~~~~~~~~~~~~~~~~~~~^^^^^^^\n",
      "KeyError: '57eb16c3f389c2f659501f32a88d79b1_10201d'\n",
      "\n"
     ]
    }
   ],
   "source": [
    "plot_vector_field(\n",
    "    domain,\n",
    "    lambda x: [\n",
    "        5 * x[1] ** 2 / np.sqrt((25 * x[1] ** 4 + 1)),\n",
    "        1 / np.sqrt((25 * x[1] ** 4 + 1)),\n",
    "        0,\n",
    "    ],\n",
    "    0.03,\n",
    "    0.1,\n",
    "    camera_direction=\"xy\",\n",
    "    save_to=\"rectangle_fibers.pdf\",\n",
    ")"
   ]
  }
 ],
 "metadata": {
  "kernelspec": {
   "display_name": "base",
   "language": "python",
   "name": "python3"
  },
  "language_info": {
   "codemirror_mode": {
    "name": "ipython",
    "version": 3
   },
   "file_extension": ".py",
   "mimetype": "text/x-python",
   "name": "python",
   "nbconvert_exporter": "python",
   "pygments_lexer": "ipython3",
   "version": "3.11.6"
  }
 },
 "nbformat": 4,
 "nbformat_minor": 2
}
