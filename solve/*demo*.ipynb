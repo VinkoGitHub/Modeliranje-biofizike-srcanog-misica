{
 "cells": [
  {
   "cell_type": "markdown",
   "metadata": {},
   "source": [
    "## Demo for solving a bidomain equations on a rectangular domain"
   ]
  },
  {
   "cell_type": "markdown",
   "metadata": {},
   "source": [
    "### Importing required libraries"
   ]
  },
  {
   "cell_type": "code",
   "execution_count": 1,
   "metadata": {},
   "outputs": [
    {
     "name": "stdout",
     "output_type": "stream",
     "text": [
      "/home/drvinko/Desktop/Modeliranje-biofizike-srcanog-tkiva\n"
     ]
    }
   ],
   "source": [
    "# Moving to a correct directory\n",
    "%cd ..\n",
    "from src.models.dynamics_models import *\n",
    "from src.models.cell_models import *\n",
    "from src.utils import *\n",
    "import ufl"
   ]
  },
  {
   "cell_type": "markdown",
   "metadata": {},
   "source": [
    "### Defining a domain, cell model and the whole model and visualizing initial data"
   ]
  },
  {
   "cell_type": "code",
   "execution_count": 2,
   "metadata": {},
   "outputs": [],
   "source": [
    "domain = rectangle(3, 3, 64, 64)\n",
    "x = ufl.SpatialCoordinate(domain)"
   ]
  },
  {
   "cell_type": "code",
   "execution_count": 3,
   "metadata": {},
   "outputs": [],
   "source": [
    "class CellModel(ReparametrizedFitzHughNagumo):\n",
    "    # Applying extrenal current\n",
    "    def applied_current(self):\n",
    "        self.I_app.interpolate(\n",
    "            lambda x: 10*np.exp(-((x[0] - 1.5) ** 2)*10 - (x[1] - 1.5) ** 2*10)\n",
    "        )\n",
    "        self.I_app_duration = 20\n",
    "        return self.I_app"
   ]
  },
  {
   "cell_type": "code",
   "execution_count": 4,
   "metadata": {},
   "outputs": [],
   "source": [
    "# Creating a class that inherits from the BidomainModel class\n",
    "# (it can inherit from MonodomainModel class if we want to use monodomain model)\n",
    "class Model(BidomainModel):\n",
    "    # Defining initial transmembrane potential (it can be defined to vary in space)\n",
    "    def initial_V_m(self):\n",
    "        self.V_m_n.x.array[:] = -85\n",
    "\n",
    "    # Defining intracellular and extracellular conductivities\n",
    "    def conductivity(self):\n",
    "        x_c, y_c = 1, 1\n",
    "        fibres = (\n",
    "            (x[1] - y_c) / ((x[0] - x_c) ** 2 + (x[1] - y_c) ** 2 + 1),\n",
    "            -(x[0] - x_c) / ((x[0] - x_c) ** 2 + (x[1] - y_c) ** 2 + 1),\n",
    "        )\n",
    "        # Muscle fibres\n",
    "        self.fibres = ufl.as_vector(fibres)\n",
    "        # Healthy conductivities\n",
    "        self.M_i = self.SIGMA_IT * ufl.Identity(2) + (\n",
    "            self.SIGMA_IN - self.SIGMA_IT\n",
    "        ) * ufl.outer(self.fibres, self.fibres)\n",
    "        self.M_e = self.SIGMA_ET * ufl.Identity(2) + (\n",
    "            self.SIGMA_EN - self.SIGMA_ET\n",
    "        ) * ufl.outer(self.fibres, self.fibres)"
   ]
  },
  {
   "cell_type": "code",
   "execution_count": 5,
   "metadata": {},
   "outputs": [],
   "source": [
    "# Instantiating the cell model and dynamics model\n",
    "cell_model = CellModel(domain)\n",
    "model = Model(domain, cell_model)"
   ]
  },
  {
   "cell_type": "code",
   "execution_count": 6,
   "metadata": {},
   "outputs": [
    {
     "data": {
      "application/vnd.jupyter.widget-view+json": {
       "model_id": "73f382968eb947f1b022af975bb0da95",
       "version_major": 2,
       "version_minor": 0
      },
      "text/plain": [
       "Widget(value='<iframe src=\"http://localhost:46179/index.html?ui=P_0x7efe42191910_0&reconnect=auto\" class=\"pyvi…"
      ]
     },
     "metadata": {},
     "output_type": "display_data"
    }
   ],
   "source": [
    "plot_function(cell_model.applied_current(), camera_direction=\"xy\")"
   ]
  },
  {
   "cell_type": "markdown",
   "metadata": {},
   "source": [
    "### Solving equations with given parameters"
   ]
  },
  {
   "cell_type": "code",
   "execution_count": 7,
   "metadata": {},
   "outputs": [
    {
     "name": "stderr",
     "output_type": "stream",
     "text": [
      "Solving problem: 100%|██████████| 500/500 [05:59<00:00,  1.39it/s]\n"
     ]
    }
   ],
   "source": [
    "model.solve(\n",
    "    T=500,\n",
    "    steps=500,\n",
    "    save_to=\"animations/*demo*.mp4\",\n",
    "    signal_point=[2.0, 2.0, 0.0],\n",
    ")"
   ]
  },
  {
   "cell_type": "markdown",
   "metadata": {},
   "source": [
    "### Plotting fiber orientations"
   ]
  },
  {
   "cell_type": "code",
   "execution_count": 8,
   "metadata": {},
   "outputs": [],
   "source": [
    "x_c, y_c = 1, 1\n",
    "plot_vector_field(\n",
    "    domain,\n",
    "    lambda x: (\n",
    "        (x[1] - y_c) / ((x[0] - x_c) ** 2 + (x[1] - y_c) ** 2 + 1),\n",
    "        -(x[0] - x_c) / ((x[0] - x_c) ** 2 + (x[1] - y_c) ** 2 + 1),\n",
    "        0,\n",
    "    ),\n",
    "    0.03,\n",
    ")"
   ]
  },
  {
   "cell_type": "markdown",
   "metadata": {},
   "source": [
    "### Plotting a final plot of transmembrane potential"
   ]
  },
  {
   "cell_type": "code",
   "execution_count": 9,
   "metadata": {},
   "outputs": [
    {
     "data": {
      "application/vnd.jupyter.widget-view+json": {
       "model_id": "b329f15d0b1e4e789f704f84593bd3ed",
       "version_major": 2,
       "version_minor": 0
      },
      "text/plain": [
       "Widget(value='<iframe src=\"http://localhost:46179/index.html?ui=P_0x7efdf00bfa90_2&reconnect=auto\" class=\"pyvi…"
      ]
     },
     "metadata": {},
     "output_type": "display_data"
    }
   ],
   "source": [
    "plot_function(model.V_m_n, \"V_m\", show_mesh=False)"
   ]
  },
  {
   "cell_type": "markdown",
   "metadata": {},
   "source": [
    "### Plotting a transmembrane potential in a given signal point"
   ]
  },
  {
   "cell_type": "code",
   "execution_count": 12,
   "metadata": {},
   "outputs": [
    {
     "data": {
      "text/plain": [
       "Text(0, 0.5, 'signal')"
      ]
     },
     "execution_count": 12,
     "metadata": {},
     "output_type": "execute_result"
    },
    {
     "data": {
      "image/png": "[encoded data removed]",
      "text/plain": [
       "<Figure size 640x480 with 1 Axes>"
      ]
     },
     "metadata": {},
     "output_type": "display_data"
    }
   ],
   "source": [
    "import matplotlib.pyplot as plt\n",
    "plt.plot(model.time, model.signal, color='firebrick')\n",
    "plt.xlabel('time')\n",
    "plt.ylabel('signal')"
   ]
  }
 ],
 "metadata": {
  "kernelspec": {
   "display_name": "base",
   "language": "python",
   "name": "python3"
  },
  "language_info": {
   "codemirror_mode": {
    "name": "ipython",
    "version": 3
   },
   "file_extension": ".py",
   "mimetype": "text/x-python",
   "name": "python",
   "nbconvert_exporter": "python",
   "pygments_lexer": "ipython3",
   "version": "3.11.6"
  }
 },
 "nbformat": 4,
 "nbformat_minor": 2
}
