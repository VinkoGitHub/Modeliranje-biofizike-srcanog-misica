{
 "cells": [
  {
   "cell_type": "markdown",
   "metadata": {},
   "source": [
    "## Solving bidomain equations on rectangular domain with Beeler-Reuter model"
   ]
  },
  {
   "cell_type": "markdown",
   "metadata": {},
   "source": [
    "### Importing required libraries"
   ]
  },
  {
   "cell_type": "code",
   "execution_count": 1,
   "metadata": {},
   "outputs": [
    {
     "name": "stdout",
     "output_type": "stream",
     "text": [
      "/home/drvinko/Desktop/Modeliranje-biofizike-srcanog-misica\n"
     ]
    }
   ],
   "source": [
    "%cd ..\n",
    "from src.dynamics_models import *\n",
    "from src.cell_models import *\n",
    "from src.utils import *"
   ]
  },
  {
   "cell_type": "markdown",
   "metadata": {},
   "source": [
    "### Defining a domain, cell model and dynamics model and visualizing initial data"
   ]
  },
  {
   "cell_type": "code",
   "execution_count": 2,
   "metadata": {},
   "outputs": [],
   "source": [
    "domain = rectangle(1, 1, 30, 30)\n",
    "reduce_factor = 5"
   ]
  },
  {
   "cell_type": "code",
   "execution_count": 3,
   "metadata": {},
   "outputs": [],
   "source": [
    "class Model(MonodomainModel):\n",
    "    def initial_V_m(self):\n",
    "        def value(x):\n",
    "            mu, alpha = 0.1, 30\n",
    "            return -85 + 35 / (1 + np.exp((x[0] - mu) * alpha))\n",
    "\n",
    "        self.V_m_n.interpolate(value)\n",
    "        return self.V_m_n\n",
    "\n",
    "    def conductivity(self):\n",
    "        # Muscle fibres\n",
    "        self.fibers = ufl.as_vector([1, 0])\n",
    "\n",
    "        # Healthy conductivity\n",
    "        self.M_i = self.SIGMA_IT * ufl.Identity(2) + (\n",
    "            self.SIGMA_IL - self.SIGMA_IT\n",
    "        ) * ufl.outer(self.fibers, self.fibers)\n",
    "\n",
    "    def ischemia(self):\n",
    "        x_c, width = 0.5, 0.25\n",
    "        sharpness = 80.0\n",
    "\n",
    "        def reduce(x):\n",
    "            return 1 + (reduce_factor - 1) / (\n",
    "                1 + ufl.cosh(sharpness * (x[0] - x_c)) / ufl.cosh(sharpness * width)\n",
    "            ) / (1 + ufl.cosh(sharpness * (x[1] - x_c)) / ufl.cosh(sharpness * width))\n",
    "\n",
    "        def value(x):\n",
    "            return 1 + (reduce_factor - 1) / (\n",
    "                1 + np.cosh(sharpness * (x[0] - x_c)) / np.cosh(sharpness * width)\n",
    "            ) / (1 + np.cosh(sharpness * (x[1] - x_c)) / np.cosh(sharpness * width))\n",
    "\n",
    "        self.M_i = self.M_i / reduce(self.x)\n",
    "        fun = fem.Function(self.V1)\n",
    "        fun.interpolate(value)\n",
    "        return fun"
   ]
  },
  {
   "cell_type": "code",
   "execution_count": 4,
   "metadata": {},
   "outputs": [],
   "source": [
    "cell_model = BeelerReuter(domain)\n",
    "model = Model(domain, cell_model)"
   ]
  },
  {
   "cell_type": "code",
   "execution_count": 5,
   "metadata": {},
   "outputs": [
    {
     "data": {
      "application/vnd.jupyter.widget-view+json": {
       "model_id": "7f6ef985fce54808a5f6b5d9cf4f91a8",
       "version_major": 2,
       "version_minor": 0
      },
      "text/plain": [
       "Widget(value='<iframe src=\"http://localhost:44113/index.html?ui=P_0x7ff2ce534110_0&reconnect=auto\" class=\"pyvi…"
      ]
     },
     "metadata": {},
     "output_type": "display_data"
    }
   ],
   "source": [
    "plot_function(\n",
    "    model.initial_V_m(),\n",
    "    camera_direction=\"xy\",\n",
    "    zoom=0.9,\n",
    "    cmap='PiYG',\n",
    "    save_to=\"rectangle_initial_V_m.pdf\",\n",
    ")"
   ]
  },
  {
   "cell_type": "code",
   "execution_count": 6,
   "metadata": {},
   "outputs": [
    {
     "data": {
      "application/vnd.jupyter.widget-view+json": {
       "model_id": "0f59e55f85184fbfbc785f4c66605835",
       "version_major": 2,
       "version_minor": 0
      },
      "text/plain": [
       "Widget(value='<iframe src=\"http://localhost:44113/index.html?ui=P_0x7ff28981bc10_1&reconnect=auto\" class=\"pyvi…"
      ]
     },
     "metadata": {},
     "output_type": "display_data"
    }
   ],
   "source": [
    "plot_function(\n",
    "    model.ischemia(),\n",
    "    camera_direction=\"xy\",\n",
    "    cmap=\"RdYlGn\",\n",
    "    save_to=\"rectangle_ischemia_location.pdf\",\n",
    ")"
   ]
  },
  {
   "cell_type": "markdown",
   "metadata": {},
   "source": [
    "### Solving equations with given parameters"
   ]
  },
  {
   "cell_type": "code",
   "execution_count": 7,
   "metadata": {},
   "outputs": [
    {
     "name": "stderr",
     "output_type": "stream",
     "text": [
      "Solving problem: 100%|██████████| 8000/8000 [09:34<00:00, 13.92it/s]\n"
     ]
    }
   ],
   "source": [
    "model.solve(\n",
    "    T=300,\n",
    "    steps=8000,\n",
    "    save_to=f\"rectangle_BR_{reduce_factor}_red.mp4\",\n",
    "    camera_direction=\"xy\",\n",
    "    zoom=0.9,\n",
    "    checkpoints=[int(300 * i / 10) for i in range(1, 11)],\n",
    "    checkpoint_file=f\"rectangle_BR_{reduce_factor}_red\",\n",
    ")"
   ]
  },
  {
   "cell_type": "markdown",
   "metadata": {},
   "source": [
    "### Plotting fiber orientations"
   ]
  },
  {
   "cell_type": "code",
   "execution_count": 8,
   "metadata": {},
   "outputs": [],
   "source": [
    "#plot_vector_field(\n",
    "#    domain,\n",
    "#    lambda x: [\n",
    "#        5 * x[1] ** 2 / np.sqrt((25 * x[1] ** 4 + 1)),\n",
    "#        1 / np.sqrt((25 * x[1] ** 4 + 1)),\n",
    "#        0,\n",
    "#    ],\n",
    "#    0.03,\n",
    "#    0.1,\n",
    "#    camera_direction=\"xy\",\n",
    "#    save_to=\"rectangle_fibers.pdf\",\n",
    "#)"
   ]
  }
 ],
 "metadata": {
  "kernelspec": {
   "display_name": "base",
   "language": "python",
   "name": "python3"
  },
  "language_info": {
   "codemirror_mode": {
    "name": "ipython",
    "version": 3
   },
   "file_extension": ".py",
   "mimetype": "text/x-python",
   "name": "python",
   "nbconvert_exporter": "python",
   "pygments_lexer": "ipython3",
   "version": "3.11.6"
  }
 },
 "nbformat": 4,
 "nbformat_minor": 2
}
