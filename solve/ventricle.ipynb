{
 "cells": [
  {
   "cell_type": "markdown",
   "metadata": {},
   "source": [
    "## Solving bidomain equations on the ventricle with modified FitzHugh-Nagumo model"
   ]
  },
  {
   "cell_type": "markdown",
   "metadata": {},
   "source": [
    "### Importing required libraries"
   ]
  },
  {
   "cell_type": "code",
   "execution_count": 1,
   "metadata": {},
   "outputs": [
    {
     "name": "stdout",
     "output_type": "stream",
     "text": [
      "/home/drvinko/Desktop/Modeliranje-biofizike-srcanog-tkiva\n"
     ]
    }
   ],
   "source": [
    "%cd ..\n",
    "from src.dynamics_models import *\n",
    "from src.cell_models import *\n",
    "from src.utils import *"
   ]
  },
  {
   "cell_type": "markdown",
   "metadata": {},
   "source": [
    "### Defining a domain, cell model and dynamics model and visualizing initial data"
   ]
  },
  {
   "cell_type": "code",
   "execution_count": 2,
   "metadata": {},
   "outputs": [
    {
     "name": "stdout",
     "output_type": "stream",
     "text": [
      "Info    : Meshing 1D...\n",
      "Info    : [  0%] Meshing curve 1 (Circle)\n",
      "Info    : [ 10%] Meshing curve 2 (Circle)\n",
      "Info    : [ 20%] Meshing curve 3 (Line)\n",
      "Info    : [ 30%] Meshing curve 4 (Line)\n",
      "Info    : [ 50%] Meshing curve 6 (Ellipse)\n",
      "Info    : [ 60%] Meshing curve 7 (Ellipse)\n",
      "Info    : [ 80%] Meshing curve 9 (Ellipse)\n",
      "Info    : [ 90%] Meshing curve 10 (Ellipse)\n",
      "Info    : [100%] Meshing curve 11 (Line)\n",
      "Info    : Done meshing 1D (Wall 0.00852049s, CPU 0.008589s)\n",
      "Info    : Meshing 2D...\n",
      "Info    : [  0%] Meshing surface 1 (Plane, Frontal-Delaunay)\n",
      "Info    : [ 20%] Meshing surface 2 (Surface of Revolution, Frontal-Delaunay)\n",
      "Info    : [ 40%] Meshing surface 3 (Surface of Revolution, Frontal-Delaunay)\n",
      "Info    : [ 60%] Meshing surface 4 (Plane, Frontal-Delaunay)\n",
      "Info    : [ 80%] Meshing surface 5 (Plane, Frontal-Delaunay)\n",
      "Info    : Done meshing 2D (Wall 0.179591s, CPU 0.179617s)\n",
      "Info    : Meshing 3D...\n",
      "Info    : 3D Meshing 1 volume with 1 connected component\n",
      "Info    : Tetrahedrizing 3157 nodes...\n",
      "Info    : Done tetrahedrizing 3165 nodes (Wall 0.0408953s, CPU 0.041173s)\n",
      "Info    : Reconstructing mesh...\n",
      "Info    :  - Creating surface mesh\n",
      "Info    :  - Identifying boundary edges\n",
      "Info    :  - Recovering boundary\n",
      "Info    : Done reconstructing mesh (Wall 0.0873928s, CPU 0.08015s)\n",
      "Info    : Found volume 1\n",
      "Info    : It. 0 - 0 nodes created - worst tet radius 2.15981 (nodes removed 0 0)\n",
      "Info    : It. 500 - 500 nodes created - worst tet radius 1.35368 (nodes removed 0 0)\n",
      "Info    : It. 1000 - 1000 nodes created - worst tet radius 1.17332 (nodes removed 0 0)\n",
      "Info    : It. 1500 - 1500 nodes created - worst tet radius 1.03518 (nodes removed 0 0)\n",
      "Info    : 3D refinement terminated (4851 nodes total):\n",
      "Info    :  - 0 Delaunay cavities modified for star shapeness\n",
      "Info    :  - 0 nodes could not be inserted\n",
      "Info    :  - 20161 tetrahedra created in 0.0749907 sec. (268846 tets/s)\n",
      "Info    : 0 node relocations\n",
      "Info    : Done meshing 3D (Wall 0.260414s, CPU 0.250736s)\n",
      "Info    : Optimizing mesh...\n",
      "Info    : Optimizing volume 1\n",
      "Info    : Optimization starts (volume = 61.4081) with worst = 0.010159 / average = 0.770825:\n",
      "Info    : 0.00 < quality < 0.10 :        48 elements\n",
      "Info    : 0.10 < quality < 0.20 :       124 elements\n",
      "Info    : 0.20 < quality < 0.30 :       248 elements\n",
      "Info    : 0.30 < quality < 0.40 :       332 elements\n",
      "Info    : 0.40 < quality < 0.50 :       455 elements\n",
      "Info    : 0.50 < quality < 0.60 :       907 elements\n",
      "Info    : 0.60 < quality < 0.70 :      2440 elements\n",
      "Info    : 0.70 < quality < 0.80 :      5334 elements\n",
      "Info    : 0.80 < quality < 0.90 :      7036 elements\n",
      "Info    : 0.90 < quality < 1.00 :      3237 elements\n",
      "Info    : 415 edge swaps, 17 node relocations (volume = 61.4081): worst = 0.130766 / average = 0.783717 (Wall 0.0085287s, CPU 0.008622s)\n",
      "Info    : 423 edge swaps, 17 node relocations (volume = 61.4081): worst = 0.300254 / average = 0.783958 (Wall 0.0111632s, CPU 0.010788s)\n",
      "Info    : No ill-shaped tets in the mesh :-)\n",
      "Info    : 0.00 < quality < 0.10 :         0 elements\n",
      "Info    : 0.10 < quality < 0.20 :         0 elements\n",
      "Info    : 0.20 < quality < 0.30 :         0 elements\n",
      "Info    : 0.30 < quality < 0.40 :       323 elements\n",
      "Info    : 0.40 < quality < 0.50 :       438 elements\n",
      "Info    : 0.50 < quality < 0.60 :       896 elements\n",
      "Info    : 0.60 < quality < 0.70 :      2425 elements\n",
      "Info    : 0.70 < quality < 0.80 :      5321 elements\n",
      "Info    : 0.80 < quality < 0.90 :      7123 elements\n",
      "Info    : 0.90 < quality < 1.00 :      3255 elements\n",
      "Info    : Done optimizing mesh (Wall 0.0307449s, CPU 0.030672s)\n",
      "Info    : 4855 nodes 26334 elements\n"
     ]
    }
   ],
   "source": [
    "domain = heart_ventricle()"
   ]
  },
  {
   "cell_type": "code",
   "execution_count": 3,
   "metadata": {},
   "outputs": [],
   "source": [
    "class Model(BidomainModel):\n",
    "    def initial_V_m(self):\n",
    "        def value(x):\n",
    "            mu = -7\n",
    "            alpha = 0.1\n",
    "            return -85 + 35 / (1 + np.exp((x[2] - mu) / alpha))\n",
    "\n",
    "        self.V_m_n.interpolate(value)\n",
    "        return self.V_m_n\n",
    "\n",
    "    def conductivity(self):\n",
    "        # Muscle fibres\n",
    "        x_c, y_c = 0.2, 1\n",
    "        self.fibers = ufl.as_vector(\n",
    "            [\n",
    "                -(self.x[1] - y_c)\n",
    "                / ufl.sqrt((self.x[0] - x_c) ** 2 + (self.x[1] - y_c) ** 2),\n",
    "                (self.x[0] - x_c)\n",
    "                / ufl.sqrt((self.x[0] - x_c) ** 2 + (self.x[1] - y_c) ** 2),\n",
    "                0,\n",
    "            ]\n",
    "        )\n",
    "        self.normals = ufl.as_vector([0, 0, 1])\n",
    "\n",
    "        # Healthy conductivities\n",
    "        self.M_i = (\n",
    "            self.SIGMA_IT * ufl.Identity(3)\n",
    "            + (self.SIGMA_IL - self.SIGMA_IT) * ufl.outer(self.fibers, self.fibers)\n",
    "            + (self.SIGMA_IN - self.SIGMA_IT) * ufl.outer(self.normals, self.normals)\n",
    "        )\n",
    "        self.M_e = (\n",
    "            self.SIGMA_ET * ufl.Identity(3)\n",
    "            + (self.SIGMA_EL - self.SIGMA_ET) * ufl.outer(self.fibers, self.fibers)\n",
    "            + (self.SIGMA_EN - self.SIGMA_ET) * ufl.outer(self.normals, self.normals)\n",
    "        )"
   ]
  },
  {
   "cell_type": "code",
   "execution_count": 4,
   "metadata": {},
   "outputs": [],
   "source": [
    "cell_model = ReparametrizedFitzHughNagumo(domain)\n",
    "model = Model(domain, cell_model)"
   ]
  },
  {
   "cell_type": "code",
   "execution_count": 5,
   "metadata": {},
   "outputs": [
    {
     "data": {
      "application/vnd.jupyter.widget-view+json": {
       "model_id": "f590929f3f724496a1c9bb18238b6b6e",
       "version_major": 2,
       "version_minor": 0
      },
      "text/plain": [
       "Widget(value='<iframe src=\"http://localhost:37221/index.html?ui=P_0x7f3425df8610_0&reconnect=auto\" class=\"pyvi…"
      ]
     },
     "metadata": {},
     "output_type": "display_data"
    }
   ],
   "source": [
    "plot_function(\n",
    "    model.V_m_n,\n",
    "    save_to=\"ventricle_initial_V_m.pdf\",\n",
    "    cmap = 'PiYG'\n",
    ")"
   ]
  },
  {
   "cell_type": "markdown",
   "metadata": {},
   "source": [
    "### Solving equations with given parameters"
   ]
  },
  {
   "cell_type": "code",
   "execution_count": 6,
   "metadata": {},
   "outputs": [
    {
     "name": "stderr",
     "output_type": "stream",
     "text": [
      "Solving problem: 100%|██████████| 2000/2000 [1:10:04<00:00,  2.10s/it]\n"
     ]
    }
   ],
   "source": [
    "model.solve(\n",
    "    T=2000,\n",
    "    steps=2000,\n",
    "    save_to=\"ventricle.mp4\",\n",
    "    checkpoints=[500, 1000, 1500, 2000],\n",
    "    checkpoint_file=\"ventricle\",\n",
    ")"
   ]
  },
  {
   "cell_type": "markdown",
   "metadata": {},
   "source": [
    "### Plotting fiber orientations"
   ]
  },
  {
   "cell_type": "code",
   "execution_count": 7,
   "metadata": {},
   "outputs": [
    {
     "data": {
      "application/vnd.jupyter.widget-view+json": {
       "model_id": "f205bd8b2fc04d31b753fe44475caad9",
       "version_major": 2,
       "version_minor": 0
      },
      "text/plain": [
       "Widget(value='<iframe src=\"http://localhost:37221/index.html?ui=P_0x7f33bc0eced0_1&reconnect=auto\" class=\"pyvi…"
      ]
     },
     "metadata": {},
     "output_type": "display_data"
    },
    {
     "name": "stderr",
     "output_type": "stream",
     "text": [
      "ERROR:wslink.protocol:Exception raised\n",
      "ERROR:wslink.protocol:KeyError('374bc1b9e2137b242f1206720652eed7_12622d')\n",
      "ERROR:wslink.protocol:Traceback (most recent call last):\n",
      "  File \"/home/drvinko/miniconda3/envs/diplomski/lib/python3.11/site-packages/wslink/protocol.py\", line 332, in onMessage\n",
      "    results = func(*args, **kwargs)\n",
      "              ^^^^^^^^^^^^^^^^^^^^^\n",
      "  File \"/home/drvinko/miniconda3/envs/diplomski/lib/python3.11/site-packages/trame_vtk/modules/vtk/protocols/local_rendering.py\", line 33, in get_array\n",
      "    self.context.get_cached_data_array(data_hash, binary)\n",
      "  File \"/home/drvinko/miniconda3/envs/diplomski/lib/python3.11/site-packages/trame_vtk/modules/vtk/serializers/synchronization_context.py\", line 30, in get_cached_data_array\n",
      "    cache_obj = self.data_array_cache[p_md5]\n",
      "                ~~~~~~~~~~~~~~~~~~~~~^^^^^^^\n",
      "KeyError: '374bc1b9e2137b242f1206720652eed7_12622d'\n",
      "\n"
     ]
    }
   ],
   "source": [
    "x_c, y_c = 0, 0\n",
    "plot_vector_field(\n",
    "    domain,\n",
    "    lambda x: (\n",
    "        -(x[1] - y_c) / np.sqrt((x[0] - x_c) ** 2 + (x[1] - y_c) ** 2),\n",
    "        (x[0] - x_c) / np.sqrt((x[0] - x_c) ** 2 + (x[1] - y_c) ** 2),\n",
    "        0,\n",
    "    ),\n",
    "    0.02,\n",
    "    0.4,\n",
    "    save_to=\"ventricle_fibers.pdf\",\n",
    ")"
   ]
  }
 ],
 "metadata": {
  "kernelspec": {
   "display_name": "base",
   "language": "python",
   "name": "python3"
  },
  "language_info": {
   "codemirror_mode": {
    "name": "ipython",
    "version": 3
   },
   "file_extension": ".py",
   "mimetype": "text/x-python",
   "name": "python",
   "nbconvert_exporter": "python",
   "pygments_lexer": "ipython3",
   "version": "3.11.6"
  }
 },
 "nbformat": 4,
 "nbformat_minor": 2
}
