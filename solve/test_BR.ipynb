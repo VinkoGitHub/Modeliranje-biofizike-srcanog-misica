{
 "cells": [
  {
   "cell_type": "markdown",
   "metadata": {},
   "source": [
    "## Solving bidomain equations on rectangular domain with the Beeler-Reuter model - literature"
   ]
  },
  {
   "cell_type": "markdown",
   "metadata": {},
   "source": [
    "### Importing required libraries"
   ]
  },
  {
   "cell_type": "code",
   "execution_count": 1,
   "metadata": {},
   "outputs": [
    {
     "name": "stdout",
     "output_type": "stream",
     "text": [
      "/home/drvinko/Desktop/Modeliranje-biofizike-srcanog-misica\n"
     ]
    }
   ],
   "source": [
    "%cd ..\n",
    "from src.dynamics_models import *\n",
    "from src.cell_models import *\n",
    "from src.utils import *"
   ]
  },
  {
   "cell_type": "markdown",
   "metadata": {},
   "source": [
    "### Defining a domain, cell model and dynamics model and visualizing initial data"
   ]
  },
  {
   "cell_type": "code",
   "execution_count": 2,
   "metadata": {},
   "outputs": [],
   "source": [
    "domain = rectangle(1, 1, 59, 59)"
   ]
  },
  {
   "cell_type": "code",
   "execution_count": 3,
   "metadata": {},
   "outputs": [],
   "source": [
    "class CellModel(BeelerReuter):\n",
    "    def applied_current(self, t: float):\n",
    "        t_0 = 5\n",
    "        tau_0 = 1.5\n",
    "        r_0 = 0.125\n",
    "\n",
    "        def value(x):\n",
    "            r = np.sqrt((x[0] - 0.5) ** 2 + (x[1] - 0.5) ** 2) / r_0\n",
    "            tau = (t - t_0) / tau_0\n",
    "            if 0 < tau < 1:\n",
    "                return (\n",
    "                    50\n",
    "                    * (1 + np.cos(np.pi * r))\n",
    "                    / 2\n",
    "                    * (1 + np.cos(np.pi * tau))\n",
    "                    / 2\n",
    "                    * (r < 1)\n",
    "                )\n",
    "            else:\n",
    "                return np.zeros_like(x[0])\n",
    "\n",
    "        self.I_app.interpolate(value)\n",
    "\n",
    "\n",
    "class Model(MonodomainModel):\n",
    "    def initial_V_m(self):\n",
    "        self.V_m_n.x.array[:] = -82\n",
    "\n",
    "    def conductivity(self):\n",
    "        fibers = ufl.as_vector([1, 0])\n",
    "        M_il = 1.741e-3\n",
    "        M_el = 3.906e-3\n",
    "        M_it = 0.1934e-3\n",
    "        M_et = 1.970e-3\n",
    "        self.M_i = M_it * ufl.Identity(2) + (M_il - M_it) * ufl.outer(fibers, fibers)\n",
    "        self.M_i = 2*self.M_i"
   ]
  },
  {
   "cell_type": "code",
   "execution_count": 4,
   "metadata": {},
   "outputs": [],
   "source": [
    "cell_model = CellModel(domain)\n",
    "model = Model(domain, cell_model)"
   ]
  },
  {
   "cell_type": "markdown",
   "metadata": {},
   "source": [
    "### Solving equations with given parameters"
   ]
  },
  {
   "cell_type": "code",
   "execution_count": 5,
   "metadata": {},
   "outputs": [
    {
     "name": "stderr",
     "output_type": "stream",
     "text": [
      "Solving problem: 100%|██████████| 2000/2000 [19:32<00:00,  1.71it/s]\n"
     ]
    }
   ],
   "source": [
    "model.solve(\n",
    "    T=16,\n",
    "    steps=2000,\n",
    "    lambda_=1,\n",
    "    save_to=\"test_BR.mp4\",\n",
    "    camera_direction=\"xy\",\n",
    "    zoom=0.9,\n",
    "    checkpoints=[6,8,10,12,14,16],\n",
    "    checkpoint_file=\"test_BR\",\n",
    ")"
   ]
  }
 ],
 "metadata": {
  "kernelspec": {
   "display_name": "base",
   "language": "python",
   "name": "python3"
  },
  "language_info": {
   "codemirror_mode": {
    "name": "ipython",
    "version": 3
   },
   "file_extension": ".py",
   "mimetype": "text/x-python",
   "name": "python",
   "nbconvert_exporter": "python",
   "pygments_lexer": "ipython3",
   "version": "3.11.6"
  }
 },
 "nbformat": 4,
 "nbformat_minor": 2
}
