{
 "cells": [
  {
   "cell_type": "markdown",
   "metadata": {},
   "source": [
    "## Solving bidomain equations on rectangular domain with the Aliev-Panfilov model - literature"
   ]
  },
  {
   "cell_type": "markdown",
   "metadata": {},
   "source": [
    "### Importing required libraries"
   ]
  },
  {
   "cell_type": "code",
   "execution_count": 1,
   "metadata": {},
   "outputs": [
    {
     "name": "stdout",
     "output_type": "stream",
     "text": [
      "/home/drvinko/Desktop/Modeliranje-biofizike-srcanog-misica\n"
     ]
    }
   ],
   "source": [
    "%cd ..\n",
    "from src.dynamics_models import *\n",
    "from src.cell_models import *\n",
    "from src.utils import *"
   ]
  },
  {
   "cell_type": "markdown",
   "metadata": {},
   "source": [
    "### Defining a domain, cell model and dynamics model and visualizing initial data"
   ]
  },
  {
   "cell_type": "code",
   "execution_count": 2,
   "metadata": {},
   "outputs": [],
   "source": [
    "domain = rectangle(1, 1, 59, 59)"
   ]
  },
  {
   "cell_type": "code",
   "execution_count": 3,
   "metadata": {},
   "outputs": [],
   "source": [
    "class CellModel(BeelerReuter):\n",
    "    def applied_current(self, t: float):\n",
    "        t_0 = 5\n",
    "        tau_0 = 1.5\n",
    "        r_0 = 0.125\n",
    "\n",
    "        def value(x):\n",
    "            r = np.sqrt((x[0] - 0.5) ** 2 + (x[1] - 0.5) ** 2) / r_0\n",
    "            tau = (t - t_0) / tau_0\n",
    "            if 0 < tau < 1:\n",
    "                return (\n",
    "                    50\n",
    "                    * (1 + np.cos(np.pi * r))\n",
    "                    / 2\n",
    "                    * (1 + np.cos(np.pi * tau))\n",
    "                    / 2\n",
    "                    * (r < 1)\n",
    "                )\n",
    "            else:\n",
    "                return np.zeros_like(x[0])\n",
    "\n",
    "        self.I_app.interpolate(value)\n",
    "\n",
    "\n",
    "class Model(MonodomainModel):\n",
    "    def initial_V_m(self):\n",
    "        self.V_m_n.x.array[:] = -82\n",
    "\n",
    "    def conductivity(self):\n",
    "        fibers = ufl.as_vector([1, 0])\n",
    "\n",
    "        self.M_i = self.SIGMA_IT * ufl.Identity(2) + (\n",
    "            self.SIGMA_IL - self.SIGMA_IT\n",
    "        ) * ufl.outer(fibers, fibers)"
   ]
  },
  {
   "cell_type": "code",
   "execution_count": 4,
   "metadata": {},
   "outputs": [],
   "source": [
    "cell_model = CellModel(domain)\n",
    "model = Model(domain, cell_model)"
   ]
  },
  {
   "cell_type": "markdown",
   "metadata": {},
   "source": [
    "### Solving equations with given parameters"
   ]
  },
  {
   "cell_type": "code",
   "execution_count": 5,
   "metadata": {},
   "outputs": [
    {
     "name": "stderr",
     "output_type": "stream",
     "text": [
      "Solving problem:  50%|█████     | 2506/5000 [05:21<12:57,  3.21it/s]"
     ]
    }
   ],
   "source": [
    "model.solve(\n",
    "    T=20,\n",
    "    steps=5000,\n",
    "    save_to=\"test_BR.mp4\",\n",
    "    camera_direction=\"xy\",\n",
    "    zoom=0.9,\n",
    "    checkpoints=[16, 17, 18, 19, 20],\n",
    "    checkpoint_file=\"test_BR\",\n",
    ")"
   ]
  },
  {
   "cell_type": "markdown",
   "metadata": {},
   "source": [
    "### Plotting fiber orientations"
   ]
  },
  {
   "cell_type": "code",
   "execution_count": null,
   "metadata": {},
   "outputs": [
    {
     "data": {
      "application/vnd.jupyter.widget-view+json": {
       "model_id": "e50b4cd5e354461fb165cbff80ade972",
       "version_major": 2,
       "version_minor": 0
      },
      "text/plain": [
       "Widget(value='<iframe src=\"http://localhost:42221/index.html?ui=P_0x7f116c524b90_0&reconnect=auto\" class=\"pyvi…"
      ]
     },
     "metadata": {},
     "output_type": "display_data"
    }
   ],
   "source": [
    "plot_vector_field(\n",
    "    domain,\n",
    "    lambda x: [\n",
    "        5 * x[1] ** 2 / np.sqrt((25 * x[1] ** 4 + 1)),\n",
    "        1 / np.sqrt((25 * x[1] ** 4 + 1)),\n",
    "        0,\n",
    "    ],\n",
    "    0.03,\n",
    "    0.1,\n",
    "    camera_direction=\"xy\",\n",
    "    save_to=\"rectangle_fibers.pdf\",\n",
    ")"
   ]
  },
  {
   "cell_type": "code",
   "execution_count": null,
   "metadata": {},
   "outputs": [
    {
     "name": "stdout",
     "output_type": "stream",
     "text": [
      "Info    : Meshing 1D...\n",
      "Info    : [  0%] Meshing curve 1 (Circle)\n",
      "Info    : [ 10%] Meshing curve 2 (Circle)\n",
      "Info    : [ 20%] Meshing curve 3 (Line)\n",
      "Info    : [ 30%] Meshing curve 4 (Line)\n",
      "Info    : [ 50%] Meshing curve 6 (Ellipse)\n",
      "Info    : [ 60%] Meshing curve 7 (Ellipse)\n",
      "Info    : [ 80%] Meshing curve 9 (Ellipse)\n",
      "Info    : [ 90%] Meshing curve 10 (Ellipse)\n",
      "Info    : [100%] Meshing curve 11 (Line)\n",
      "Info    : Done meshing 1D (Wall 0.00903986s, CPU 0.008555s)\n",
      "Info    : Meshing 2D...\n",
      "Info    : [  0%] Meshing surface 1 (Plane, Frontal-Delaunay)\n",
      "Info    : [ 20%] Meshing surface 2 (Surface of Revolution, Frontal-Delaunay)\n",
      "Info    : [ 40%] Meshing surface 3 (Surface of Revolution, Frontal-Delaunay)\n",
      "Info    : [ 60%] Meshing surface 4 (Plane, Frontal-Delaunay)\n",
      "Info    : [ 80%] Meshing surface 5 (Plane, Frontal-Delaunay)\n",
      "Info    : Done meshing 2D (Wall 0.162732s, CPU 0.161194s)\n",
      "Info    : Meshing 3D...\n",
      "Info    : 3D Meshing 1 volume with 1 connected component\n",
      "Info    : Tetrahedrizing 3157 nodes...\n",
      "Info    : Done tetrahedrizing 3165 nodes (Wall 0.0436652s, CPU 0.044122s)\n",
      "Info    : Reconstructing mesh...\n",
      "Info    :  - Creating surface mesh\n",
      "Info    :  - Identifying boundary edges\n",
      "Info    :  - Recovering boundary\n",
      "Info    : Done reconstructing mesh (Wall 0.0895769s, CPU 0.088991s)\n",
      "Info    : Found volume 1\n",
      "Info    : It. 0 - 0 nodes created - worst tet radius 2.15981 (nodes removed 0 0)\n",
      "Info    : It. 500 - 500 nodes created - worst tet radius 1.35368 (nodes removed 0 0)\n",
      "Info    : It. 1000 - 1000 nodes created - worst tet radius 1.17332 (nodes removed 0 0)\n",
      "Info    : It. 1500 - 1500 nodes created - worst tet radius 1.03518 (nodes removed 0 0)\n",
      "Info    : 3D refinement terminated (4851 nodes total):\n",
      "Info    :  - 0 Delaunay cavities modified for star shapeness\n",
      "Info    :  - 0 nodes could not be inserted\n",
      "Info    :  - 20161 tetrahedra created in 0.0792981 sec. (254243 tets/s)\n",
      "Info    : 0 node relocations\n",
      "Info    : Done meshing 3D (Wall 0.278356s, CPU 0.278705s)\n",
      "Info    : Optimizing mesh...\n",
      "Info    : Optimizing volume 1\n",
      "Info    : Optimization starts (volume = 61.4081) with worst = 0.010159 / average = 0.770825:\n",
      "Info    : 0.00 < quality < 0.10 :        48 elements\n",
      "Info    : 0.10 < quality < 0.20 :       124 elements\n",
      "Info    : 0.20 < quality < 0.30 :       248 elements\n",
      "Info    : 0.30 < quality < 0.40 :       332 elements\n",
      "Info    : 0.40 < quality < 0.50 :       455 elements\n",
      "Info    : 0.50 < quality < 0.60 :       907 elements\n",
      "Info    : 0.60 < quality < 0.70 :      2440 elements\n",
      "Info    : 0.70 < quality < 0.80 :      5334 elements\n",
      "Info    : 0.80 < quality < 0.90 :      7036 elements\n",
      "Info    : 0.90 < quality < 1.00 :      3237 elements\n",
      "Info    : 415 edge swaps, 17 node relocations (volume = 61.4081): worst = 0.130766 / average = 0.783717 (Wall 0.00613661s, CPU 0.006208s)\n",
      "Info    : 423 edge swaps, 17 node relocations (volume = 61.4081): worst = 0.300254 / average = 0.783958 (Wall 0.00737426s, CPU 0.007478s)\n",
      "Info    : No ill-shaped tets in the mesh :-)\n",
      "Info    : 0.00 < quality < 0.10 :         0 elements\n",
      "Info    : 0.10 < quality < 0.20 :         0 elements\n",
      "Info    : 0.20 < quality < 0.30 :         0 elements\n",
      "Info    : 0.30 < quality < 0.40 :       323 elements\n",
      "Info    : 0.40 < quality < 0.50 :       438 elements\n",
      "Info    : 0.50 < quality < 0.60 :       896 elements\n",
      "Info    : 0.60 < quality < 0.70 :      2425 elements\n",
      "Info    : 0.70 < quality < 0.80 :      5321 elements\n",
      "Info    : 0.80 < quality < 0.90 :      7123 elements\n",
      "Info    : 0.90 < quality < 1.00 :      3255 elements\n",
      "Info    : Done optimizing mesh (Wall 0.0244109s, CPU 0.024208s)\n",
      "Info    : 4855 nodes 26334 elements\n"
     ]
    },
    {
     "data": {
      "application/vnd.jupyter.widget-view+json": {
       "model_id": "8d40d93bd6cf487a92b12fdd6f95d76a",
       "version_major": 2,
       "version_minor": 0
      },
      "text/plain": [
       "Widget(value='<iframe src=\"http://localhost:42221/index.html?ui=P_0x7f11696d31d0_1&reconnect=auto\" class=\"pyvi…"
      ]
     },
     "metadata": {},
     "output_type": "display_data"
    }
   ],
   "source": [
    "from src.utils import *\n",
    "\n",
    "domain = heart_ventricle()\n",
    "plot_mesh(domain, mesh_name=\"\")"
   ]
  },
  {
   "cell_type": "code",
   "execution_count": null,
   "metadata": {},
   "outputs": [],
   "source": []
  }
 ],
 "metadata": {
  "kernelspec": {
   "display_name": "base",
   "language": "python",
   "name": "python3"
  },
  "language_info": {
   "codemirror_mode": {
    "name": "ipython",
    "version": 3
   },
   "file_extension": ".py",
   "mimetype": "text/x-python",
   "name": "python",
   "nbconvert_exporter": "python",
   "pygments_lexer": "ipython3",
   "version": "3.11.6"
  }
 },
 "nbformat": 4,
 "nbformat_minor": 2
}
