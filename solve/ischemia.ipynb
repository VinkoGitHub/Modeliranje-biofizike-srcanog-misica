{
 "cells": [
  {
   "cell_type": "markdown",
   "metadata": {},
   "source": [
    "## Solving bidomain equations on the slice with the Beeler-Reuter model"
   ]
  },
  {
   "cell_type": "markdown",
   "metadata": {},
   "source": [
    "### Importing required libraries"
   ]
  },
  {
   "cell_type": "code",
   "execution_count": 1,
   "metadata": {},
   "outputs": [
    {
     "name": "stdout",
     "output_type": "stream",
     "text": [
      "/home/drvinko/Desktop/Modeliranje-biofizike-srcanog-tkiva\n"
     ]
    }
   ],
   "source": [
    "%cd ..\n",
    "from src.dynamics_models import *\n",
    "from src.cell_models import *\n",
    "from src.utils import *"
   ]
  },
  {
   "cell_type": "markdown",
   "metadata": {},
   "source": [
    "### Defining a domain, cell model and dynamics model and visualizing initial data"
   ]
  },
  {
   "cell_type": "code",
   "execution_count": 2,
   "metadata": {},
   "outputs": [
    {
     "name": "stdout",
     "output_type": "stream",
     "text": [
      "Info    : Meshing 1D...\n",
      "Info    : [  0%] Meshing curve 1 (Nurb)\n",
      "Info    : [ 40%] Meshing curve 2 (Nurb)\n",
      "Info    : [ 70%] Meshing curve 3 (Nurb)\n",
      "Info    : Done meshing 1D (Wall 0.0447954s, CPU 0.038664s)\n",
      "Info    : Meshing 2D...\n",
      "Info    : Meshing surface 1 (Plane, Frontal-Delaunay)\n",
      "Info    : Done meshing 2D (Wall 0.068191s, CPU 0.066419s)\n",
      "Info    : Meshing 3D...\n",
      "Info    : Done meshing 3D (Wall 2.7654e-05s, CPU 1.4e-05s)\n",
      "Info    : 3628 nodes 7231 elements\n"
     ]
    },
    {
     "name": "stderr",
     "output_type": "stream",
     "text": [
      "Warning : Unknown entity of dimension 2 and tag 1 in physical group 1\n"
     ]
    }
   ],
   "source": [
    "domain = heart_slice()"
   ]
  },
  {
   "cell_type": "code",
   "execution_count": 3,
   "metadata": {},
   "outputs": [],
   "source": [
    "class CellModel(BeelerReuter):\n",
    "    def applied_current(self):\n",
    "        def value(x):\n",
    "            I_app_value = 10\n",
    "            R1, R2, R3 = 0.2, 0.2, 0.1\n",
    "            return I_app_value * (\n",
    "                np.exp(-(((x[0] - 0.1) / R1) ** 2) - ((x[1] - 2.6) / R1) ** 2)\n",
    "                + np.exp(-(((x[0] - 1.6) / R2) ** 2) - ((x[1] - 1.5) / R2) ** 2)\n",
    "                + np.exp(-(((x[0] - 3.3) / R3) ** 2) - ((x[1] - 3.25) / R3) ** 2)\n",
    "            )\n",
    "\n",
    "        self.I_app.interpolate(value)\n",
    "        self.I_app_duration = 20\n",
    "        return self.I_app"
   ]
  },
  {
   "cell_type": "code",
   "execution_count": 20,
   "metadata": {},
   "outputs": [],
   "source": [
    "class Model(BidomainModel):\n",
    "    def initial_V_m(self):\n",
    "        self.V_m_n.x.array[:] = -85\n",
    "\n",
    "    def conductivity(self):\n",
    "        # Muscle fibres\n",
    "        x_c, y_c = 0.2, 1\n",
    "        self.fibers = ufl.as_vector(\n",
    "            [\n",
    "                -(self.x[1] - y_c)\n",
    "                / ufl.sqrt((self.x[0] - x_c) ** 2 + (self.x[1] - y_c) ** 2),\n",
    "                (self.x[0] - x_c)\n",
    "                / ufl.sqrt((self.x[0] - x_c) ** 2 + (self.x[1] - y_c) ** 2),\n",
    "            ]\n",
    "        )\n",
    "\n",
    "        # Healthy conductivities\n",
    "        self.M_i = self.SIGMA_IT * ufl.Identity(2) + (\n",
    "            self.SIGMA_IL - self.SIGMA_IT\n",
    "        ) * ufl.outer(self.fibers, self.fibers)\n",
    "        self.M_e = self.SIGMA_ET * ufl.Identity(2) + (\n",
    "            self.SIGMA_EL - self.SIGMA_ET\n",
    "        ) * ufl.outer(self.fibers, self.fibers)\n",
    "\n",
    "    def ischemia(self):\n",
    "        x_c, y_c = 4.6, 1.5\n",
    "        a, b = 1.0, 0.5\n",
    "\n",
    "        def reduce(x, reduce_factor: float = 2):\n",
    "            return 1 + (reduce_factor - 1) * ufl.exp(\n",
    "                (-(((x[0] - x_c) / a) ** 2) - ((x[1] - y_c) / b) ** 2) * ufl.ln(10)\n",
    "            )\n",
    "\n",
    "        def value(x, reduce_factor: float = 2):\n",
    "            return 1 / (\n",
    "                1\n",
    "                + (reduce_factor - 1)\n",
    "                * np.exp(\n",
    "                    (-(((x[0] - x_c) / a) ** 2) - ((x[1] - y_c) / b) ** 2) * np.log(10)\n",
    "                )\n",
    "            )\n",
    "\n",
    "        self.M_i = self.M_i / reduce(self.x)\n",
    "        self.M_e = self.M_e / reduce(self.x)\n",
    "\n",
    "        fun = fem.Function(self.V1)\n",
    "        fun.interpolate(value)\n",
    "        return fun"
   ]
  },
  {
   "cell_type": "code",
   "execution_count": 21,
   "metadata": {},
   "outputs": [],
   "source": [
    "cell_model = CellModel(domain)\n",
    "model = Model(domain, cell_model)"
   ]
  },
  {
   "cell_type": "code",
   "execution_count": 22,
   "metadata": {},
   "outputs": [
    {
     "data": {
      "application/vnd.jupyter.widget-view+json": {
       "model_id": "61d7db45127c4c948c35f27c6fc677f2",
       "version_major": 2,
       "version_minor": 0
      },
      "text/plain": [
       "Widget(value='<iframe src=\"http://localhost:40313/index.html?ui=P_0x7fa4e2fa77d0_5&reconnect=auto\" class=\"pyvi…"
      ]
     },
     "metadata": {},
     "output_type": "display_data"
    }
   ],
   "source": [
    "plot_function(\n",
    "    cell_model.I_app,\n",
    "    camera_direction=\"xy\",\n",
    "    cmap=\"RdBu\",\n",
    "    clim = [0,10],\n",
    "    points=[4.3,0.1,0.0],\n",
    "    save_to=\"ischemia_applied_current.pdf\",\n",
    ")"
   ]
  },
  {
   "cell_type": "code",
   "execution_count": 24,
   "metadata": {},
   "outputs": [
    {
     "data": {
      "application/vnd.jupyter.widget-view+json": {
       "model_id": "05e51a9edf064af3b380728ba392c475",
       "version_major": 2,
       "version_minor": 0
      },
      "text/plain": [
       "Widget(value='<iframe src=\"http://localhost:40313/index.html?ui=P_0x7fa4c419c310_7&reconnect=auto\" class=\"pyvi…"
      ]
     },
     "metadata": {},
     "output_type": "display_data"
    }
   ],
   "source": [
    "plot_function(\n",
    "    model.ischemia(),\n",
    "    camera_direction=\"xy\",\n",
    "    cmap=\"RdYlGn\",\n",
    "    clim = [1/2,1],\n",
    "    points=[4.3,0.1,0.0],\n",
    "    save_to=\"ischemia_ischemia_location.pdf\",\n",
    ")\n"
   ]
  },
  {
   "cell_type": "markdown",
   "metadata": {},
   "source": [
    "### Solving equations with given parameters"
   ]
  },
  {
   "cell_type": "code",
   "execution_count": 8,
   "metadata": {},
   "outputs": [
    {
     "name": "stderr",
     "output_type": "stream",
     "text": [
      "Solving problem: 100%|██████████| 10000/10000 [16:09:08<00:00,  5.81s/it]        \n"
     ]
    }
   ],
   "source": [
    "model.solve(\n",
    "    T=400,\n",
    "    steps=10000,\n",
    "    signal_point=[4.3,0.1,0.0],\n",
    "    save_to=\"ischemia.mp4\",\n",
    "    camera_direction=\"xy\",\n",
    "    checkpoints=[35,50,85,100,230,300,350,400],\n",
    "    checkpoint_file='ischemia'\n",
    ")"
   ]
  },
  {
   "cell_type": "markdown",
   "metadata": {},
   "source": [
    "### Plotting fiber orientations"
   ]
  },
  {
   "cell_type": "code",
   "execution_count": 9,
   "metadata": {},
   "outputs": [
    {
     "data": {
      "application/vnd.jupyter.widget-view+json": {
       "model_id": "1ab97b519b2b4cb4846fe145e7c6d475",
       "version_major": 2,
       "version_minor": 0
      },
      "text/plain": [
       "Widget(value='<iframe src=\"http://localhost:41721/index.html?ui=P_0x7f993811d6d0_2&reconnect=auto\" class=\"pyvi…"
      ]
     },
     "metadata": {},
     "output_type": "display_data"
    }
   ],
   "source": [
    "x_c, y_c = 0.2, 1\n",
    "plot_vector_field(\n",
    "    domain,\n",
    "    lambda x: (\n",
    "        -(x[1] - y_c) / np.sqrt((x[0] - x_c) ** 2 + (x[1] - y_c) ** 2),\n",
    "        (x[0] - x_c) / np.sqrt((x[0] - x_c) ** 2 + (x[1] - y_c) ** 2),\n",
    "        0,\n",
    "    ),\n",
    "    0.03,\n",
    "    0.3,\n",
    "    camera_direction='xy',\n",
    "    save_to='comparison_fibers.pdf'\n",
    ")"
   ]
  },
  {
   "cell_type": "markdown",
   "metadata": {},
   "source": [
    "### Saving a signal to a file"
   ]
  },
  {
   "cell_type": "code",
   "execution_count": 10,
   "metadata": {},
   "outputs": [],
   "source": [
    "np.save('ischemia_signal.npy', model.signal)\n",
    "np.save('time.npy', model.time)"
   ]
  }
 ],
 "metadata": {
  "kernelspec": {
   "display_name": "base",
   "language": "python",
   "name": "python3"
  },
  "language_info": {
   "codemirror_mode": {
    "name": "ipython",
    "version": 3
   },
   "file_extension": ".py",
   "mimetype": "text/x-python",
   "name": "python",
   "nbconvert_exporter": "python",
   "pygments_lexer": "ipython3",
   "version": "3.11.6"
  }
 },
 "nbformat": 4,
 "nbformat_minor": 2
}
