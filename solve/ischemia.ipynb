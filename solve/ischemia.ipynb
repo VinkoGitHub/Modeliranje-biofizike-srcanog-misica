{
 "cells": [
  {
   "cell_type": "markdown",
   "metadata": {},
   "source": [
    "## Solving bidomain equations on the ventricle with modified FitzHugh-Nagumo model"
   ]
  },
  {
   "cell_type": "markdown",
   "metadata": {},
   "source": [
    "### Importing required libraries"
   ]
  },
  {
   "cell_type": "code",
   "execution_count": 1,
   "metadata": {},
   "outputs": [
    {
     "name": "stdout",
     "output_type": "stream",
     "text": [
      "/home/drvinko/Desktop/Modeliranje-biofizike-srcanog-tkiva\n"
     ]
    }
   ],
   "source": [
    "%cd ../../..\n",
    "from src.models.dynamics_models import *\n",
    "from src.models.cell_models import *\n",
    "from src.utils import *\n",
    "import ufl"
   ]
  },
  {
   "cell_type": "markdown",
   "metadata": {},
   "source": [
    "### Defining a domain, cell model and dynamics model and visualizing initial data"
   ]
  },
  {
   "cell_type": "code",
   "execution_count": 2,
   "metadata": {},
   "outputs": [
    {
     "name": "stdout",
     "output_type": "stream",
     "text": [
      "Info    : Meshing 1D...\n",
      "Info    : [  0%] Meshing curve 1 (Circle)\n",
      "Info    : [ 10%] Meshing curve 2 (Circle)\n",
      "Info    : [ 20%] Meshing curve 3 (Line)\n",
      "Info    : [ 30%] Meshing curve 4 (Line)\n",
      "Info    : [ 50%] Meshing curve 6 (Ellipse)\n",
      "Info    : [ 60%] Meshing curve 7 (Ellipse)\n",
      "Info    : [ 80%] Meshing curve 9 (Ellipse)\n",
      "Info    : [ 90%] Meshing curve 10 (Ellipse)\n",
      "Info    : [100%] Meshing curve 11 (Line)\n",
      "Info    : Done meshing 1D (Wall 0.0123245s, CPU 0.012287s)\n",
      "Info    : Meshing 2D...\n",
      "Info    : [  0%] Meshing surface 1 (Plane, Frontal-Delaunay)\n",
      "Info    : [ 20%] Meshing surface 2 (Surface of Revolution, Frontal-Delaunay)\n",
      "Info    : [ 40%] Meshing surface 3 (Surface of Revolution, Frontal-Delaunay)\n",
      "Info    : [ 60%] Meshing surface 4 (Plane, Frontal-Delaunay)\n",
      "Info    : [ 80%] Meshing surface 5 (Plane, Frontal-Delaunay)\n",
      "Info    : Done meshing 2D (Wall 0.139531s, CPU 0.139678s)\n",
      "Info    : Meshing 3D...\n",
      "Info    : 3D Meshing 1 volume with 1 connected component\n",
      "Info    : Tetrahedrizing 3157 nodes...\n",
      "Info    : Done tetrahedrizing 3165 nodes (Wall 0.0339199s, CPU 0.033739s)\n",
      "Info    : Reconstructing mesh...\n",
      "Info    :  - Creating surface mesh\n",
      "Info    :  - Identifying boundary edges\n",
      "Info    :  - Recovering boundary\n",
      "Info    : Done reconstructing mesh (Wall 0.0763677s, CPU 0.076599s)\n",
      "Info    : Found volume 1\n",
      "Info    : It. 0 - 0 nodes created - worst tet radius 2.15981 (nodes removed 0 0)\n",
      "Info    : It. 500 - 500 nodes created - worst tet radius 1.35368 (nodes removed 0 0)\n",
      "Info    : It. 1000 - 1000 nodes created - worst tet radius 1.17332 (nodes removed 0 0)\n",
      "Info    : It. 1500 - 1500 nodes created - worst tet radius 1.03518 (nodes removed 0 0)\n",
      "Info    : 3D refinement terminated (4851 nodes total):\n",
      "Info    :  - 0 Delaunay cavities modified for star shapeness\n",
      "Info    :  - 0 nodes could not be inserted\n",
      "Info    :  - 20161 tetrahedra created in 0.0641227 sec. (314413 tets/s)\n",
      "Info    : 0 node relocations\n",
      "Info    : Done meshing 3D (Wall 0.229407s, CPU 0.2301s)\n",
      "Info    : Optimizing mesh...\n",
      "Info    : Optimizing volume 1\n",
      "Info    : Optimization starts (volume = 61.4081) with worst = 0.010159 / average = 0.770825:\n",
      "Info    : 0.00 < quality < 0.10 :        48 elements\n",
      "Info    : 0.10 < quality < 0.20 :       124 elements\n",
      "Info    : 0.20 < quality < 0.30 :       248 elements\n",
      "Info    : 0.30 < quality < 0.40 :       332 elements\n",
      "Info    : 0.40 < quality < 0.50 :       455 elements\n",
      "Info    : 0.50 < quality < 0.60 :       907 elements\n",
      "Info    : 0.60 < quality < 0.70 :      2440 elements\n",
      "Info    : 0.70 < quality < 0.80 :      5334 elements\n",
      "Info    : 0.80 < quality < 0.90 :      7036 elements\n",
      "Info    : 0.90 < quality < 1.00 :      3237 elements\n",
      "Info    : 415 edge swaps, 17 node relocations (volume = 61.4081): worst = 0.130766 / average = 0.783717 (Wall 0.00529942s, CPU 0.005288s)\n",
      "Info    : 423 edge swaps, 17 node relocations (volume = 61.4081): worst = 0.300254 / average = 0.783958 (Wall 0.00667589s, CPU 0.006702s)\n",
      "Info    : No ill-shaped tets in the mesh :-)\n",
      "Info    : 0.00 < quality < 0.10 :         0 elements\n",
      "Info    : 0.10 < quality < 0.20 :         0 elements\n",
      "Info    : 0.20 < quality < 0.30 :         0 elements\n",
      "Info    : 0.30 < quality < 0.40 :       323 elements\n",
      "Info    : 0.40 < quality < 0.50 :       438 elements\n",
      "Info    : 0.50 < quality < 0.60 :       896 elements\n",
      "Info    : 0.60 < quality < 0.70 :      2425 elements\n",
      "Info    : 0.70 < quality < 0.80 :      5321 elements\n",
      "Info    : 0.80 < quality < 0.90 :      7123 elements\n",
      "Info    : 0.90 < quality < 1.00 :      3255 elements\n",
      "Info    : Done optimizing mesh (Wall 0.0255596s, CPU 0.025693s)\n",
      "Info    : 4855 nodes 26334 elements\n"
     ]
    }
   ],
   "source": [
    "domain = heart_ventricle()\n",
    "x = ufl.SpatialCoordinate(domain)"
   ]
  },
  {
   "cell_type": "code",
   "execution_count": 3,
   "metadata": {},
   "outputs": [],
   "source": [
    "class Model(BidomainModel):\n",
    "    def initial_V_m(self):\n",
    "        def value(x):\n",
    "            x_c, y_c, z_c = 0, 0, -7.5\n",
    "            a, b, c = 1, 1, 1\n",
    "            return -85 + 35 * np.exp(\n",
    "                (\n",
    "                    -(((x[0] - x_c) / a) ** 2)\n",
    "                    - ((x[1] - y_c) / b) ** 2\n",
    "                    - ((x[2] - z_c) / c) ** 2\n",
    "                )\n",
    "                * np.log(10)\n",
    "            )\n",
    "\n",
    "        self.V_m_n.interpolate(value)\n",
    "        return self.V_m_n\n",
    "\n",
    "    def conductivity(self):\n",
    "        # Muscle fibres\n",
    "        x_c, y_c = 0.2, 1\n",
    "        self.fibers = ufl.as_vector(\n",
    "            [\n",
    "                -(x[1] - y_c) / ufl.sqrt((x[0] - x_c) ** 2 + (x[1] - y_c) ** 2),\n",
    "                (x[0] - x_c) / ufl.sqrt((x[0] - x_c) ** 2 + (x[1] - y_c) ** 2),\n",
    "                0,\n",
    "            ]\n",
    "        )\n",
    "        self.normals = ufl.as_vector([0, 0, 1])\n",
    "\n",
    "        # Healthy conductivities\n",
    "        self.M_i = (\n",
    "            self.SIGMA_IT * ufl.Identity(3)\n",
    "            + (self.SIGMA_IL - self.SIGMA_IT) * ufl.outer(self.fibers, self.fibers)\n",
    "            + (self.SIGMA_IN - self.SIGMA_IT) * ufl.outer(self.normals, self.normals)\n",
    "        )\n",
    "        self.M_e = (\n",
    "            self.SIGMA_ET * ufl.Identity(3)\n",
    "            + (self.SIGMA_EL - self.SIGMA_ET) * ufl.outer(self.fibers, self.fibers)\n",
    "            + (self.SIGMA_EN - self.SIGMA_ET) * ufl.outer(self.normals, self.normals)\n",
    "        )\n",
    "\n",
    "    def ischemia(self):\n",
    "        x_c, y_c, z_c = -0.7, -1.8, -4.0\n",
    "        a, b, c = 1.0, 3.0, 0.5\n",
    "\n",
    "        def reduce(x, reduce_factor: float = 15):\n",
    "            return 1 + (reduce_factor - 1) * ufl.exp(\n",
    "                (\n",
    "                    -(((x[0] - x_c) / a) ** 2)\n",
    "                    - ((x[1] - y_c) / b) ** 2\n",
    "                    - ((x[2] - z_c) / c) ** 2\n",
    "                )\n",
    "                * ufl.ln(10)\n",
    "            )\n",
    "\n",
    "        def value(x, reduce_factor: float = 15):\n",
    "            return 1 + (reduce_factor - 1) * np.exp(\n",
    "                (\n",
    "                    -(((x[0] - x_c) / a) ** 2)\n",
    "                    - ((x[1] - y_c) / b) ** 2\n",
    "                    - ((x[2] - z_c) / c) ** 2\n",
    "                )\n",
    "                * np.log(10)\n",
    "            )\n",
    "\n",
    "        self.M_i = self.M_i / reduce(self.x)\n",
    "        self.M_e = self.M_e / reduce(self.x)\n",
    "\n",
    "        fun = fem.Function(self.V1)\n",
    "        fun.interpolate(value)\n",
    "        return fun"
   ]
  },
  {
   "cell_type": "code",
   "execution_count": 4,
   "metadata": {},
   "outputs": [],
   "source": [
    "cell_model = ReparametrizedFitzHughNagumo(domain)\n",
    "model = Model(domain, cell_model)"
   ]
  },
  {
   "cell_type": "code",
   "execution_count": 5,
   "metadata": {},
   "outputs": [
    {
     "data": {
      "application/vnd.jupyter.widget-view+json": {
       "model_id": "24f2f33daf064e868aaa6f79bbdfe11d",
       "version_major": 2,
       "version_minor": 0
      },
      "text/plain": [
       "Widget(value='<iframe src=\"http://localhost:35835/index.html?ui=P_0x7f00d45a5910_0&reconnect=auto\" class=\"pyvi…"
      ]
     },
     "metadata": {},
     "output_type": "display_data"
    }
   ],
   "source": [
    "plot_function(\n",
    "    model.initial_V_m(),\n",
    "    save_to=\"figures/ventricle/ischemia_MFN_initial_V_m.pdf\",\n",
    ")"
   ]
  },
  {
   "cell_type": "code",
   "execution_count": 6,
   "metadata": {},
   "outputs": [
    {
     "data": {
      "application/vnd.jupyter.widget-view+json": {
       "model_id": "99a09851cab54387b34451eb3e761646",
       "version_major": 2,
       "version_minor": 0
      },
      "text/plain": [
       "Widget(value='<iframe src=\"http://localhost:35835/index.html?ui=P_0x7f0130cd8550_1&reconnect=auto\" class=\"pyvi…"
      ]
     },
     "metadata": {},
     "output_type": "display_data"
    }
   ],
   "source": [
    "plot_function(\n",
    "    model.ischemia(),\n",
    "    save_to=\"figures/ventricle/ischemia_MFN_ischemia_location.pdf\",\n",
    ")"
   ]
  },
  {
   "cell_type": "markdown",
   "metadata": {},
   "source": [
    "### Solving equations with given parameters"
   ]
  },
  {
   "cell_type": "code",
   "execution_count": null,
   "metadata": {},
   "outputs": [],
   "source": [
    "model.solve(\n",
    "    T=2000,\n",
    "    steps=2000,\n",
    "    save_to=\"ventricle/ischemia_MFN.mp4\",\n",
    "    checkpoints=[500, 1000, 1500, 2000],\n",
    "    checkpoint_file=\"ventricle/ischemia_MFN\",\n",
    ")"
   ]
  },
  {
   "cell_type": "markdown",
   "metadata": {},
   "source": [
    "### Plotting fiber orientations"
   ]
  },
  {
   "cell_type": "code",
   "execution_count": null,
   "metadata": {},
   "outputs": [],
   "source": [
    "x_c, y_c = 0, 0\n",
    "plot_vector_field(\n",
    "    domain,\n",
    "    lambda x: (\n",
    "        -(x[1] - y_c) / np.sqrt((x[0] - x_c) ** 2 + (x[1] - y_c) ** 2),\n",
    "        (x[0] - x_c) / np.sqrt((x[0] - x_c) ** 2 + (x[1] - y_c) ** 2),\n",
    "        0,\n",
    "    ),\n",
    "    0.02,\n",
    "    0.4,\n",
    "    save_to=\"figures/ventricle/ischemia_MFN_fibers.pdf\",\n",
    ")"
   ]
  }
 ],
 "metadata": {
  "kernelspec": {
   "display_name": "base",
   "language": "python",
   "name": "python3"
  },
  "language_info": {
   "codemirror_mode": {
    "name": "ipython",
    "version": 3
   },
   "file_extension": ".py",
   "mimetype": "text/x-python",
   "name": "python",
   "nbconvert_exporter": "python",
   "pygments_lexer": "ipython3",
   "version": "3.11.6"
  }
 },
 "nbformat": 4,
 "nbformat_minor": 2
}
