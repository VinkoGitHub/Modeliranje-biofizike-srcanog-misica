{
 "cells": [
  {
   "cell_type": "code",
   "execution_count": 1,
   "metadata": {},
   "outputs": [],
   "source": [
    "from src.utils import import_mesh, plot_function, plot_vector_field\n",
    "from src.models.cell_models import ReparametrizedFitzHughNagumo\n",
    "from src.models.dynamics_models import BidomainModel\n",
    "from dolfinx.plot import vtk_mesh\n",
    "import numpy as np\n",
    "import pyvista\n",
    "import ufl\n",
    "from dolfinx import mesh, fem\n",
    "from mpi4py import MPI"
   ]
  },
  {
   "cell_type": "code",
   "execution_count": 2,
   "metadata": {},
   "outputs": [],
   "source": [
    "domain = mesh.create_unit_square(MPI.COMM_WORLD, 10, 10)\n",
    "cell_model = ReparametrizedFitzHughNagumo()\n",
    "\n",
    "\n",
    "class Model(BidomainModel):\n",
    "    def __init__(\n",
    "        self,\n",
    "    ):\n",
    "        pass\n",
    "\n",
    "    def initial_V_m(self):\n",
    "        return lambda x: x[0] ** 2 + x[1] ** 2 < 0.2**2, 0.0\n",
    "\n",
    "    def ischemia(self):\n",
    "        return (\n",
    "            lambda x: (x[0] - 0.5) ** 2 + (x[1] - 0.5) ** 2 < 0.5**2,\n",
    "            model.M_i / 10,\n",
    "            model.M_e / 10,\n",
    "        )\n",
    "\n",
    "\n",
    "model = Model()\n",
    "model.setup(domain)"
   ]
  },
  {
   "cell_type": "markdown",
   "metadata": {},
   "source": [
    "## Popravit onaj visualize da radi za ovu step metodu koju san napravia, napisat dokumentacije za RK2 u utilsima i ovaj step"
   ]
  },
  {
   "cell_type": "code",
   "execution_count": 3,
   "metadata": {},
   "outputs": [
    {
     "data": {
      "application/vnd.jupyter.widget-view+json": {
       "model_id": "95220aac4c3a4a5797821b4e68b9d535",
       "version_major": 2,
       "version_minor": 0
      },
      "text/plain": [
       "Widget(value='<iframe src=\"http://localhost:46559/index.html?ui=P_0x7fea69ab0590_0&reconnect=auto\" class=\"pyvi…"
      ]
     },
     "metadata": {},
     "output_type": "display_data"
    }
   ],
   "source": [
    "model.plot_ischemia()"
   ]
  },
  {
   "cell_type": "code",
   "execution_count": null,
   "metadata": {},
   "outputs": [],
   "source": []
  }
 ],
 "metadata": {
  "kernelspec": {
   "display_name": "diplomski",
   "language": "python",
   "name": "python3"
  },
  "language_info": {
   "codemirror_mode": {
    "name": "ipython",
    "version": 3
   },
   "file_extension": ".py",
   "mimetype": "text/x-python",
   "name": "python",
   "nbconvert_exporter": "python",
   "pygments_lexer": "ipython3",
   "version": "3.11.6"
  }
 },
 "nbformat": 4,
 "nbformat_minor": 2
}
