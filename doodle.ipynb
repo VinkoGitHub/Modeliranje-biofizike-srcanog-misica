{
 "cells": [
  {
   "cell_type": "code",
   "execution_count": 1,
   "metadata": {},
   "outputs": [],
   "source": [
    "from src.utils import import_mesh, plot_function, plot_vector_field\n",
    "from src.models.cell_models import ReparametrizedFitzHughNagumo\n",
    "from src.models.dynamics_models import BidomainModel\n",
    "from dolfinx.plot import vtk_mesh\n",
    "import numpy as np\n",
    "import pyvista\n",
    "import ufl"
   ]
  },
  {
   "cell_type": "code",
   "execution_count": 2,
   "metadata": {},
   "outputs": [],
   "source": [
    "domain = import_mesh(\"data/refined_slice.xdmf\")\n",
    "cell_model = ReparametrizedFitzHughNagumo()\n",
    "\n",
    "\n",
    "class Model(BidomainModel):\n",
    "    def __init__(\n",
    "        self,\n",
    "    ):\n",
    "        pass\n",
    "\n",
    "    def initial_V_m(self):\n",
    "        return lambda x: x[0] ** 2 + x[1] ** 2 < 0.2**2, 0.0\n",
    "\n",
    "    def ischemia(self):\n",
    "        return (\n",
    "            lambda x: (x[0] - 0.5) ** 2 + (x[1] - 0.5) ** 2 < 0.5**2,\n",
    "            model.M_i / 10,\n",
    "            model.M_e / 10,\n",
    "        )\n",
    "\n",
    "\n",
    "model = Model()\n",
    "model.setup(domain)"
   ]
  },
  {
   "cell_type": "code",
   "execution_count": 3,
   "metadata": {},
   "outputs": [],
   "source": [
    "x = ufl.SpatialCoordinate(domain)\n",
    "fib = ufl.as_vector([x[1], -x[0]])"
   ]
  },
  {
   "cell_type": "code",
   "execution_count": 4,
   "metadata": {},
   "outputs": [
    {
     "data": {
      "application/vnd.jupyter.widget-view+json": {
       "model_id": "97f6f9f893ee488cbd86c29bb5e628cc",
       "version_major": 2,
       "version_minor": 0
      },
      "text/plain": [
       "Widget(value='<iframe src=\"http://localhost:44589/index.html?ui=P_0x7f85dd7b7650_0&reconnect=auto\" class=\"pyvi…"
      ]
     },
     "metadata": {},
     "output_type": "display_data"
    }
   ],
   "source": [
    "x, y, z = domain.geometry.x[:, 0], domain.geometry.x[:, 1], domain.geometry.x[:, 2]\n",
    "plot_vector_field(domain, [y, -x, 1])"
   ]
  }
 ],
 "metadata": {
  "kernelspec": {
   "display_name": "diplomski",
   "language": "python",
   "name": "python3"
  },
  "language_info": {
   "codemirror_mode": {
    "name": "ipython",
    "version": 3
   },
   "file_extension": ".py",
   "mimetype": "text/x-python",
   "name": "python",
   "nbconvert_exporter": "python",
   "pygments_lexer": "ipython3",
   "version": "3.11.6"
  }
 },
 "nbformat": 4,
 "nbformat_minor": 2
}
