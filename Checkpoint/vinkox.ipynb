{
 "cells": [
  {
   "cell_type": "code",
   "execution_count": 1,
   "id": "b1cd66b9",
   "metadata": {},
   "outputs": [],
   "source": [
    "from dolfinx import mesh, fem\n",
    "from dolfinx.fem.petsc import LinearProblem\n",
    "import ufl\n",
    "import numpy as np\n",
    "import matplotlib.pyplot as plt\n",
    "from mpi4py import MPI\n",
    "import utils"
   ]
  },
  {
   "cell_type": "code",
   "execution_count": 2,
   "id": "c4d26a37",
   "metadata": {},
   "outputs": [],
   "source": [
    "width, height = 1.0, 1.0\n",
    "mesh_density = 32\n",
    "\n",
    "domain = mesh.create_rectangle(\n",
    "    MPI.COMM_WORLD,\n",
    "    [np.array([0, 0]), np.array([width, height])],\n",
    "    [mesh_density, mesh_density],\n",
    ")"
   ]
  },
  {
   "cell_type": "code",
   "execution_count": 3,
   "id": "1100eacf",
   "metadata": {},
   "outputs": [],
   "source": [
    "element = ufl.FiniteElement(\"P\", domain.ufl_cell(), degree=1)\n",
    "W = fem.FunctionSpace(domain, ufl.MixedElement(element, element))  # P1 FEM space\n",
    "V, V_to_W = W.sub(0).collapse()\n",
    "\n",
    "# Trial and test functions\n",
    "u_i, u_e = ufl.TrialFunctions(W)\n",
    "v_i, v_e = ufl.TestFunctions(W)\n",
    "\n",
    "x = ufl.SpatialCoordinate(domain)\n",
    "I_stim = fem.Function(V)"
   ]
  },
  {
   "cell_type": "code",
   "execution_count": 4,
   "id": "6d7f5334",
   "metadata": {},
   "outputs": [],
   "source": [
    "# Constant\n",
    "sigma_i, sigma_e = 1.0, 1.0  # intra- and extracellular conductivities\n",
    "beta = 1.0\n",
    "\n",
    "Hx = 0.65  # heart locations\n",
    "Hy = 0.65\n",
    "R = 0.1\n",
    "\n",
    "\n",
    "# stimulus\n",
    "def heart(x):\n",
    "    return (x[0] < Hx + R) & (x[0] > Hx - R) & (x[1] < Hy + R) & (x[1] > Hy - R)\n",
    "\n",
    "\n",
    "cells_heart = mesh.locate_entities(domain, 0, heart)\n",
    "I_stim.x.array[cells_heart] = np.full_like(cells_heart, 1)"
   ]
  },
  {
   "cell_type": "code",
   "execution_count": 6,
   "id": "45cc6d5c",
   "metadata": {},
   "outputs": [],
   "source": [
    "# MODEL\n",
    "a_i = sigma_i * ufl.dot(ufl.grad(u_i), ufl.grad(v_i)) * ufl.dx\n",
    "a_e = (sigma_i + sigma_e) * ufl.dot(ufl.grad(u_e), ufl.grad(v_e)) * ufl.dx\n",
    "L_i = beta * I_stim * v_i * ufl.dx\n",
    "L_e = -beta * I_stim * v_e * ufl.dx\n",
    "F = a_i + a_e - L_i - L_e"
   ]
  },
  {
   "cell_type": "code",
   "execution_count": 7,
   "id": "f33763f4",
   "metadata": {},
   "outputs": [
    {
     "data": {
      "application/vnd.jupyter.widget-view+json": {
       "model_id": "d1380146e21f4578862f8b9b6858311e",
       "version_major": 2,
       "version_minor": 0
      },
      "text/plain": [
       "Widget(value='<iframe src=\"http://localhost:43211/index.html?ui=P_0x7fde29a8a450_0&reconnect=auto\" class=\"pyvi…"
      ]
     },
     "metadata": {},
     "output_type": "display_data"
    },
    {
     "data": {
      "application/vnd.jupyter.widget-view+json": {
       "model_id": "aa7475a11d2f45b088e85a194095dfe1",
       "version_major": 2,
       "version_minor": 0
      },
      "text/plain": [
       "Widget(value='<iframe src=\"http://localhost:43211/index.html?ui=P_0x7fde07fdfe10_1&reconnect=auto\" class=\"pyvi…"
      ]
     },
     "metadata": {},
     "output_type": "display_data"
    }
   ],
   "source": [
    "problem = LinearProblem(ufl.lhs(F), ufl.rhs(F), [])\n",
    "u = problem.solve()\n",
    "u_i_sol = u.sub(0).collapse()\n",
    "u_i_sol.x.array[:] = u_i_sol.x.array[:] - np.mean(u_i_sol.x.array)\n",
    "u_e_sol = u.sub(1).collapse()\n",
    "u_e_sol.x.array[:] = u_e_sol.x.array[:] - np.mean(u_e_sol.x.array)\n",
    "\n",
    "utils.plot_function(u_i_sol, V, \"u_i\")\n",
    "utils.plot_function(u_e_sol, V, \"u_e\")"
   ]
  },
  {
   "cell_type": "code",
   "execution_count": null,
   "id": "d6160b04",
   "metadata": {},
   "outputs": [],
   "source": []
  }
 ],
 "metadata": {
  "kernelspec": {
   "display_name": "Python 3 (ipykernel)",
   "language": "python",
   "name": "python3"
  },
  "language_info": {
   "codemirror_mode": {
    "name": "ipython",
    "version": 3
   },
   "file_extension": ".py",
   "mimetype": "text/x-python",
   "name": "python",
   "nbconvert_exporter": "python",
   "pygments_lexer": "ipython3",
   "version": "3.11.6"
  }
 },
 "nbformat": 4,
 "nbformat_minor": 5
}
