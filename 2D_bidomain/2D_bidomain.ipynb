{
 "cells": [
  {
   "cell_type": "markdown",
   "metadata": {},
   "source": [
    "## 2D attempt at solving the bidomain equations:"
   ]
  },
  {
   "cell_type": "code",
   "execution_count": 1,
   "metadata": {},
   "outputs": [],
   "source": [
    "from fenics import *\n",
    "import numpy as np\n",
    "from configs import *\n",
    "from utils import *\n",
    "import matplotlib.pyplot as plt\n",
    "from tqdm import tqdm"
   ]
  },
  {
   "cell_type": "markdown",
   "metadata": {},
   "source": [
    "### Generating a mesh:"
   ]
  },
  {
   "cell_type": "code",
   "execution_count": 2,
   "metadata": {},
   "outputs": [
    {
     "data": {
      "text/plain": [
       "<matplotlib.collections.PolyCollection at 0x7f18453585d0>"
      ]
     },
     "execution_count": 2,
     "metadata": {},
     "output_type": "execute_result"
    },
    {
     "data": {
      "image/png": "[encoded data removed]",
      "text/plain": [
       "<Figure size 640x480 with 1 Axes>"
      ]
     },
     "metadata": {},
     "output_type": "display_data"
    }
   ],
   "source": [
    "mesh, cellfunction, facetfunction = mesh_maker()\n",
    "torsomesh = SubMesh(mesh, cellfunction, 0)\n",
    "heartmesh = SubMesh(mesh, cellfunction, 1)\n",
    "plot(cellfunction)"
   ]
  },
  {
   "cell_type": "markdown",
   "metadata": {},
   "source": [
    "### Bidomain model:"
   ]
  },
  {
   "cell_type": "code",
   "execution_count": 3,
   "metadata": {},
   "outputs": [],
   "source": [
    "# Define function space\n",
    "P1 = FiniteElement(\"P\", triangle, 2)\n",
    "element = MixedElement([P1, P1, P1])\n",
    "V = FunctionSpace(mesh, element)\n",
    "V1 = FunctionSpace(mesh, P1)\n",
    "\n",
    "# Define test functions\n",
    "phi, psi, theta = TestFunctions(V)\n",
    "\n",
    "# Define functions\n",
    "v = Function(V)\n",
    "v_n = Function(V)\n",
    "\n",
    "V_m, u, w = split(v)\n",
    "V_m_n, u_n, w_n = split(v_n)"
   ]
  },
  {
   "cell_type": "code",
   "execution_count": 4,
   "metadata": {},
   "outputs": [],
   "source": [
    "# defining expressions for later use\n",
    "\n",
    "# V_m = v[0], u = v[1], w = v[2]\n",
    "# Ionic current\n",
    "I_ion = Expression(\n",
    "    \"-v[2]/TAU_IN*pow((v[0] - V_MIN),2)*(V_MAX - v[0])/(V_MAX - V_MIN) + 1/TAU_OUT*(v[0] - V_MIN)/(V_MAX - V_MIN)\",\n",
    "    TAU_IN=TAU_IN,\n",
    "    TAU_OUT=TAU_OUT,\n",
    "    V_MIN=V_MIN,\n",
    "    V_MAX=V_MAX,\n",
    "    v=v,\n",
    "    degree=2,\n",
    ")\n",
    "# Gating variable\n",
    "g = Expression(\n",
    "    \"v[0] < V_GATE ? v[2]/TAU_OPEN - 1/TAU_OPEN/pow((V_MAX - V_MIN),2) : v[2]/TAU_CLOSE\",\n",
    "    TAU_OPEN=TAU_OPEN,\n",
    "    TAU_CLOSE=TAU_CLOSE,\n",
    "    V_GATE=V_GATE,\n",
    "    V_MAX=V_MAX,\n",
    "    V_MIN=V_MIN,\n",
    "    v=v,\n",
    "    degree=2,\n",
    ")\n",
    "# Fiber vector field\n",
    "fibers = Expression(\n",
    "    (\n",
    "        \"x[1]/sqrt(pow(x[0],2) + pow(x[1],2) + DOLFIN_EPS)\",\n",
    "        \"-x[0]/sqrt(pow(x[0],2) + pow(x[1],2) + DOLFIN_EPS)\",\n",
    "    ),\n",
    "    degree=2,\n",
    ")\n",
    "# Applied stimulus\n",
    "I_app = Expression(\n",
    "    \"exp(-pow(x[0]-X, 2)/size - pow(x[1]-Y, 2)/size - pow(t/t_act, 2))\",\n",
    "    X=X,\n",
    "    Y=Y,\n",
    "    t_act=T_ACT,\n",
    "    t=0,\n",
    "    size=(X + Y) / 2,\n",
    "    degree=2,\n",
    ")  # nije kao u radu"
   ]
  },
  {
   "cell_type": "code",
   "execution_count": 5,
   "metadata": {},
   "outputs": [],
   "source": [
    "# defining UFL language parts\n",
    "\n",
    "# conductivities\n",
    "sigma_il = Constant(SIGMA_IL)\n",
    "sigma_it = Constant(SIGMA_IT)\n",
    "sigma_el = Constant(SIGMA_EL)\n",
    "sigma_et = Constant(SIGMA_ET)\n",
    "sigma_tlt = Constant(SIGMA_TLT)\n",
    "\n",
    "d = mesh.topology().dim()\n",
    "\n",
    "sigma_i = sigma_it * Identity(d) + (sigma_il - sigma_it) * outer(fibers, fibers)\n",
    "sigma_e = sigma_et * Identity(d) + (sigma_el - sigma_et) * outer(fibers, fibers)\n",
    "sigma_t = sigma_tlt * Identity(d)\n",
    "\n",
    "# Constants used in variational forms\n",
    "dt = Constant(DT)\n",
    "A_m = Constant(A_M)\n",
    "C_m = Constant(C_M)"
   ]
  },
  {
   "cell_type": "code",
   "execution_count": 6,
   "metadata": {},
   "outputs": [],
   "source": [
    "# Define new measures associated with the interior domains and\n",
    "# exterior boundaries\n",
    "dx = Measure(\"dx\")(subdomain_data=cellfunction)\n",
    "ds = Measure(\"ds\")(subdomain_data=facetfunction)"
   ]
  },
  {
   "cell_type": "code",
   "execution_count": 7,
   "metadata": {},
   "outputs": [],
   "source": [
    "# Define variational problem\n",
    "F = (\n",
    "    A_m * (C_m * (V_m - V_m_n) + dt * I_ion) * phi * dx(1)\n",
    "    + dt * inner(dot(sigma_i, grad(V_m + u)), grad(phi)) * dx(1)\n",
    "    - dt * A_m * I_app * phi * dx(1)\n",
    ")\n",
    "F += (\n",
    "    inner(dot(sigma_i + sigma_e, grad(u)), grad(psi)) * dx(1)\n",
    "    + inner(dot(sigma_i, grad(V_m)), grad(psi)) * dx(1)\n",
    "    + inner(dot(sigma_t, grad(u)), grad(psi)) * dx(0)\n",
    ")\n",
    "F += (w - w_n + dt * g) * theta * dx(1)"
   ]
  },
  {
   "cell_type": "code",
   "execution_count": 8,
   "metadata": {},
   "outputs": [],
   "source": [
    "# Initial conditions\n",
    "V_m_0 = Expression(\"V_MIN\", V_MIN=V_MIN, degree=0)\n",
    "w_0 = Expression(\"1/pow((V_MAX - V_MIN), 2)\", V_MIN=V_MIN, V_MAX=V_MAX, degree=0)\n",
    "\n",
    "V_m_n, u_n, w_n = v_n.split(deepcopy=True)\n",
    "V_m, u, w = v.split(deepcopy=True)\n",
    "\n",
    "V_m_n = project(V_m_0, V1)\n",
    "w_n = project(w_0, V1)"
   ]
  },
  {
   "cell_type": "code",
   "execution_count": null,
   "metadata": {},
   "outputs": [],
   "source": [
    "# Time-stepping\n",
    "t = 0\n",
    "for n in tqdm(range(NUM_STEPS)):\n",
    "    # Update current time\n",
    "    t += DT\n",
    "\n",
    "    # Solve variational problem for time step\n",
    "    # set_log_active(False)\n",
    "    solver = custom_solver(F, v, tol_abs=1e-3, tol_rel=1e-3)\n",
    "    solver.solve()\n",
    "\n",
    "    # Update previous solution\n",
    "    v_n.assign(v)"
   ]
  },
  {
   "cell_type": "code",
   "execution_count": null,
   "metadata": {},
   "outputs": [],
   "source": [
    "# Plot solution and gradient\n",
    "plot(V_m, title=\"$u$\", colorbar=True)\n",
    "plot(w, title=\"$V_m$\")\n",
    "plot(u, title=\"$u$\")"
   ]
  },
  {
   "cell_type": "code",
   "execution_count": null,
   "metadata": {},
   "outputs": [],
   "source": []
  }
 ],
 "metadata": {
  "kernelspec": {
   "display_name": "base",
   "language": "python",
   "name": "python3"
  },
  "language_info": {
   "codemirror_mode": {
    "name": "ipython",
    "version": 3
   },
   "file_extension": ".py",
   "mimetype": "text/x-python",
   "name": "python",
   "nbconvert_exporter": "python",
   "pygments_lexer": "ipython3",
   "version": "3.11.6"
  }
 },
 "nbformat": 4,
 "nbformat_minor": 2
}
