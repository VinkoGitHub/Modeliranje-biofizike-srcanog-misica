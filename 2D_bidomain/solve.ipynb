{
 "cells": [
  {
   "cell_type": "markdown",
   "metadata": {},
   "source": [
    "### Importing needed packages:"
   ]
  },
  {
   "cell_type": "code",
   "execution_count": 1,
   "metadata": {},
   "outputs": [],
   "source": [
    "from dolfinx import fem, mesh\n",
    "from dolfinx.fem.petsc import NonlinearProblem\n",
    "from dolfinx.nls.petsc import NewtonSolver\n",
    "import utils\n",
    "import model\n",
    "from setup import *\n",
    "from configs import *\n",
    "import numpy as np\n",
    "from mpi4py import MPI\n",
    "import ufl\n",
    "from tqdm import tqdm"
   ]
  },
  {
   "cell_type": "markdown",
   "metadata": {},
   "source": [
    "Setting up initial conditions:"
   ]
  },
  {
   "cell_type": "code",
   "execution_count": 2,
   "metadata": {},
   "outputs": [],
   "source": [
    "# initial conditions\n",
    "V_m_n.vector.set(V_MIN)\n",
    "w_n.vector.set(1 / (V_MAX - V_MIN) ** 2)\n",
    "V_m_nn.vector.set(V_MIN)\n",
    "w_nn.vector.set(1 / (V_MAX - V_MIN) ** 2)"
   ]
  },
  {
   "cell_type": "markdown",
   "metadata": {},
   "source": [
    "Defining variational form of the equations:"
   ]
  },
  {
   "cell_type": "code",
   "execution_count": 3,
   "metadata": {},
   "outputs": [],
   "source": [
    "# Define variational problem\n",
    "F = (\n",
    "    A_m * (C_m * (V_m - V_m_n) + dt * model.I_ion(V_m, w)) * phi * dx(0)\n",
    "    + dt * ufl.inner(ufl.dot(model.sigma_i, ufl.grad(V_m + u)), ufl.grad(phi)) * dx(0)\n",
    "    - dt * A_m * model.I_app() * phi * dx(0)\n",
    ")\n",
    "F += (\n",
    "    ufl.inner(ufl.dot(model.sigma_i + model.sigma_e, ufl.grad(u)), ufl.grad(psi))\n",
    "    * dx(0)\n",
    "    + ufl.inner(ufl.dot(model.sigma_i, ufl.grad(V_m)), ufl.grad(psi)) * dx(0)\n",
    "    + ufl.inner(ufl.dot(model.sigma_t, ufl.grad(u)), ufl.grad(psi)) * dx(1)\n",
    ")"
   ]
  },
  {
   "cell_type": "markdown",
   "metadata": {},
   "source": [
    "Defining solver and solving an equation:"
   ]
  },
  {
   "cell_type": "code",
   "execution_count": 7,
   "metadata": {},
   "outputs": [
    {
     "name": "stderr",
     "output_type": "stream",
     "text": [
      "2023-12-17 18:25:01.516 (  12.024s) [main            ]    SparsityPattern.cpp:384   INFO| Column ghost size increased from 0 to 0\n"
     ]
    },
    {
     "data": {
      "text/plain": [
       "array([0., 0., 0., 0., 0., 0., 0., 0., 0., 0., 0., 0., 0., 0., 0., 0., 0.,\n",
       "       0., 0., 0., 0., 0., 0., 0., 0., 0., 0., 0., 0., 0., 0., 0., 0., 0.,\n",
       "       0., 0., 0., 0., 0., 0., 0., 0., 0., 0., 0., 0., 0., 0., 0., 0., 0.,\n",
       "       0., 0., 0., 0., 0., 0., 0., 0., 0., 0., 0., 0., 0., 0., 0., 0., 0.,\n",
       "       0., 0., 0., 0., 0., 0., 0., 0., 0., 0., 0., 0., 0., 0., 0., 0., 0.,\n",
       "       0., 0., 0., 0., 0., 0., 0., 0., 0., 0., 0., 0., 0., 0., 0., 0., 0.,\n",
       "       0., 0., 0., 0., 0., 0., 0., 0., 0., 0., 0., 0., 0., 0., 0., 0., 0.,\n",
       "       0., 0.])"
      ]
     },
     "execution_count": 7,
     "metadata": {},
     "output_type": "execute_result"
    },
    {
     "name": "stderr",
     "output_type": "stream",
     "text": [
      "2023-12-17 18:25:01.516 (  12.024s) [main            ]       NewtonSolver.cpp:36    INFO| Newton iteration 0: r (abs) = 0 (tol = 1) r (rel) = -nan(tol = 1)\n",
      "2023-12-17 18:25:01.516 (  12.024s) [main            ]       NewtonSolver.cpp:255   INFO| Newton solver finished in 0 iterations and 0 linear solver iterations.\n"
     ]
    }
   ],
   "source": [
    "# step 1\n",
    "V_m_tilde = 2 * V_m_n - V_m_nn\n",
    "\n",
    "\n",
    "# step 2\n",
    "F_w = (\n",
    "    (1 / dt * (3 / 2 * w - 2 * w_n + 1 / 2 * w_nn) + model.g(V_m_tilde, w))\n",
    "    * theta\n",
    "    * ufl.dx(0)\n",
    ")\n",
    "def solve_w():\n",
    "    problem = NonlinearProblem(F_w, w)\n",
    "    solver = NewtonSolver(MPI.COMM_WORLD, problem)\n",
    "    solver.rtol = 1e-0\n",
    "    solver.atol = 1e-0\n",
    "    solver.max_it = 5\n",
    "    log.set_log_level(log.LogLevel.INFO)\n",
    "    solver.solve(w)\n",
    "    return w\n",
    "\n",
    "w = solve_w()\n",
    "\n",
    "# step 3\n",
    "pass\n",
    "\n",
    "# step 4\n",
    "w.x.array"
   ]
  },
  {
   "cell_type": "code",
   "execution_count": 8,
   "metadata": {},
   "outputs": [
    {
     "name": "stderr",
     "output_type": "stream",
     "text": [
      "2023-12-17 18:25:03.252 (  13.760s) [main            ]    SparsityPattern.cpp:384   INFO| Column ghost size increased from 0 to 0\n",
      "2023-12-17 18:25:03.252 (  13.761s) [main            ]       NewtonSolver.cpp:36    INFO| Newton iteration 0: r (abs) = 0 (tol = 1) r (rel) = -nan(tol = 1)\n",
      "2023-12-17 18:25:03.252 (  13.761s) [main            ]       NewtonSolver.cpp:255   INFO| Newton solver finished in 0 iterations and 0 linear solver iterations.\n"
     ]
    }
   ],
   "source": [
    "w = solve_w()"
   ]
  },
  {
   "cell_type": "code",
   "execution_count": 9,
   "metadata": {},
   "outputs": [
    {
     "ename": "TypeError",
     "evalue": "compute_integration_domains(): incompatible function arguments. The following argument types are supported:\n    1. (integral_type: dolfinx::fem::IntegralType, meshtags: dolfinx.cpp.mesh.MeshTags_int32) -> List[Tuple[int, List[int]]]\n\nInvoked with: <IntegralType.cell: 0>, <dolfinx.cpp.mesh.MeshTags_float64 object at 0x7fb3da716030>",
     "output_type": "error",
     "traceback": [
      "\u001b[0;31m---------------------------------------------------------------------------\u001b[0m",
      "\u001b[0;31mTypeError\u001b[0m                                 Traceback (most recent call last)",
      "Cell \u001b[0;32mIn[9], line 1\u001b[0m\n\u001b[0;32m----> 1\u001b[0m problem \u001b[38;5;241m=\u001b[39m \u001b[43mNonlinearProblem\u001b[49m\u001b[43m(\u001b[49m\u001b[43mF\u001b[49m\u001b[43m,\u001b[49m\u001b[43m \u001b[49m\u001b[43mv\u001b[49m\u001b[43m)\u001b[49m\n\u001b[1;32m      2\u001b[0m solver \u001b[38;5;241m=\u001b[39m NewtonSolver(MPI\u001b[38;5;241m.\u001b[39mCOMM_WORLD, problem)\n\u001b[1;32m      3\u001b[0m solver\u001b[38;5;241m.\u001b[39mrtol \u001b[38;5;241m=\u001b[39m \u001b[38;5;241m1e-0\u001b[39m\n",
      "File \u001b[0;32m~/miniconda3/envs/diplomski/lib/python3.11/site-packages/dolfinx/fem/petsc.py:712\u001b[0m, in \u001b[0;36mNonlinearProblem.__init__\u001b[0;34m(self, F, u, bcs, J, form_compiler_options, jit_options)\u001b[0m\n\u001b[1;32m    689\u001b[0m \u001b[38;5;28;01mdef\u001b[39;00m \u001b[38;5;21m__init__\u001b[39m(\u001b[38;5;28mself\u001b[39m, F: ufl\u001b[38;5;241m.\u001b[39mform\u001b[38;5;241m.\u001b[39mForm, u: _Function, bcs: typing\u001b[38;5;241m.\u001b[39mList[DirichletBC] \u001b[38;5;241m=\u001b[39m [],\n\u001b[1;32m    690\u001b[0m              J: ufl\u001b[38;5;241m.\u001b[39mform\u001b[38;5;241m.\u001b[39mForm \u001b[38;5;241m=\u001b[39m \u001b[38;5;28;01mNone\u001b[39;00m, form_compiler_options: typing\u001b[38;5;241m.\u001b[39mOptional[\u001b[38;5;28mdict\u001b[39m] \u001b[38;5;241m=\u001b[39m \u001b[38;5;28;01mNone\u001b[39;00m,\n\u001b[1;32m    691\u001b[0m              jit_options: typing\u001b[38;5;241m.\u001b[39mOptional[\u001b[38;5;28mdict\u001b[39m] \u001b[38;5;241m=\u001b[39m \u001b[38;5;28;01mNone\u001b[39;00m):\n\u001b[1;32m    692\u001b[0m \u001b[38;5;250m    \u001b[39m\u001b[38;5;124;03m\"\"\"Initialize solver for solving a non-linear problem using Newton's method, :math:`(dF/du)(u) du = -F(u)`.\u001b[39;00m\n\u001b[1;32m    693\u001b[0m \n\u001b[1;32m    694\u001b[0m \u001b[38;5;124;03m    Args:\u001b[39;00m\n\u001b[0;32m   (...)\u001b[0m\n\u001b[1;32m    710\u001b[0m \n\u001b[1;32m    711\u001b[0m \u001b[38;5;124;03m    \"\"\"\u001b[39;00m\n\u001b[0;32m--> 712\u001b[0m     \u001b[38;5;28mself\u001b[39m\u001b[38;5;241m.\u001b[39m_L \u001b[38;5;241m=\u001b[39m \u001b[43m_create_form\u001b[49m\u001b[43m(\u001b[49m\u001b[43mF\u001b[49m\u001b[43m,\u001b[49m\u001b[43m \u001b[49m\u001b[43mform_compiler_options\u001b[49m\u001b[38;5;241;43m=\u001b[39;49m\u001b[43mform_compiler_options\u001b[49m\u001b[43m,\u001b[49m\n\u001b[1;32m    713\u001b[0m \u001b[43m                           \u001b[49m\u001b[43mjit_options\u001b[49m\u001b[38;5;241;43m=\u001b[39;49m\u001b[43mjit_options\u001b[49m\u001b[43m)\u001b[49m\n\u001b[1;32m    715\u001b[0m     \u001b[38;5;66;03m# Create the Jacobian matrix, dF/du\u001b[39;00m\n\u001b[1;32m    716\u001b[0m     \u001b[38;5;28;01mif\u001b[39;00m J \u001b[38;5;129;01mis\u001b[39;00m \u001b[38;5;28;01mNone\u001b[39;00m:\n",
      "File \u001b[0;32m~/miniconda3/envs/diplomski/lib/python3.11/site-packages/dolfinx/fem/forms.py:188\u001b[0m, in \u001b[0;36mform\u001b[0;34m(form, dtype, form_compiler_options, jit_options)\u001b[0m\n\u001b[1;32m    185\u001b[0m         \u001b[38;5;28;01mreturn\u001b[39;00m \u001b[38;5;28mlist\u001b[39m(\u001b[38;5;28mmap\u001b[39m(\u001b[38;5;28;01mlambda\u001b[39;00m sub_form: _create_form(sub_form), form))\n\u001b[1;32m    186\u001b[0m     \u001b[38;5;28;01mreturn\u001b[39;00m form\n\u001b[0;32m--> 188\u001b[0m \u001b[38;5;28;01mreturn\u001b[39;00m \u001b[43m_create_form\u001b[49m\u001b[43m(\u001b[49m\u001b[43mform\u001b[49m\u001b[43m)\u001b[49m\n",
      "File \u001b[0;32m~/miniconda3/envs/diplomski/lib/python3.11/site-packages/dolfinx/fem/forms.py:183\u001b[0m, in \u001b[0;36mform.<locals>._create_form\u001b[0;34m(form)\u001b[0m\n\u001b[1;32m    180\u001b[0m \u001b[38;5;250m\u001b[39m\u001b[38;5;124;03m\"\"\"Recursively convert ufl.Forms to dolfinx.fem.Form, otherwise\u001b[39;00m\n\u001b[1;32m    181\u001b[0m \u001b[38;5;124;03mreturn form argument\"\"\"\u001b[39;00m\n\u001b[1;32m    182\u001b[0m \u001b[38;5;28;01mif\u001b[39;00m \u001b[38;5;28misinstance\u001b[39m(form, ufl\u001b[38;5;241m.\u001b[39mForm):\n\u001b[0;32m--> 183\u001b[0m     \u001b[38;5;28;01mreturn\u001b[39;00m \u001b[43m_form\u001b[49m\u001b[43m(\u001b[49m\u001b[43mform\u001b[49m\u001b[43m)\u001b[49m\n\u001b[1;32m    184\u001b[0m \u001b[38;5;28;01melif\u001b[39;00m \u001b[38;5;28misinstance\u001b[39m(form, collections\u001b[38;5;241m.\u001b[39mabc\u001b[38;5;241m.\u001b[39mIterable):\n\u001b[1;32m    185\u001b[0m     \u001b[38;5;28;01mreturn\u001b[39;00m \u001b[38;5;28mlist\u001b[39m(\u001b[38;5;28mmap\u001b[39m(\u001b[38;5;28;01mlambda\u001b[39;00m sub_form: _create_form(sub_form), form))\n",
      "File \u001b[0;32m~/miniconda3/envs/diplomski/lib/python3.11/site-packages/dolfinx/fem/forms.py:172\u001b[0m, in \u001b[0;36mform.<locals>._form\u001b[0;34m(form)\u001b[0m\n\u001b[1;32m    169\u001b[0m             \u001b[38;5;28;01mreturn\u001b[39;00m subdomain\n\u001b[1;32m    171\u001b[0m \u001b[38;5;66;03m# Subdomain markers (possibly empty list for some integral types)\u001b[39;00m\n\u001b[0;32m--> 172\u001b[0m subdomains \u001b[38;5;241m=\u001b[39m \u001b[43m{\u001b[49m\u001b[43m_ufl_to_dolfinx_domain\u001b[49m\u001b[43m[\u001b[49m\u001b[43mkey\u001b[49m\u001b[43m]\u001b[49m\u001b[43m:\u001b[49m\u001b[43m \u001b[49m\u001b[43mget_integration_domains\u001b[49m\u001b[43m(\u001b[49m\n\u001b[1;32m    173\u001b[0m \u001b[43m    \u001b[49m\u001b[43m_ufl_to_dolfinx_domain\u001b[49m\u001b[43m[\u001b[49m\u001b[43mkey\u001b[49m\u001b[43m]\u001b[49m\u001b[43m,\u001b[49m\u001b[43m \u001b[49m\u001b[43msubdomain_data\u001b[49m\u001b[43m[\u001b[49m\u001b[38;5;241;43m0\u001b[39;49m\u001b[43m]\u001b[49m\u001b[43m)\u001b[49m\u001b[43m \u001b[49m\u001b[38;5;28;43;01mfor\u001b[39;49;00m\u001b[43m \u001b[49m\u001b[43m(\u001b[49m\u001b[43mkey\u001b[49m\u001b[43m,\u001b[49m\u001b[43m \u001b[49m\u001b[43msubdomain_data\u001b[49m\u001b[43m)\u001b[49m\u001b[43m \u001b[49m\u001b[38;5;129;43;01min\u001b[39;49;00m\u001b[43m \u001b[49m\u001b[43msd\u001b[49m\u001b[38;5;241;43m.\u001b[39;49m\u001b[43mget\u001b[49m\u001b[43m(\u001b[49m\u001b[43mdomain\u001b[49m\u001b[43m)\u001b[49m\u001b[38;5;241;43m.\u001b[39;49m\u001b[43mitems\u001b[49m\u001b[43m(\u001b[49m\u001b[43m)\u001b[49m\u001b[43m}\u001b[49m\n\u001b[1;32m    175\u001b[0m f \u001b[38;5;241m=\u001b[39m ftype(module\u001b[38;5;241m.\u001b[39mffi\u001b[38;5;241m.\u001b[39mcast(\u001b[38;5;124m\"\u001b[39m\u001b[38;5;124muintptr_t\u001b[39m\u001b[38;5;124m\"\u001b[39m, module\u001b[38;5;241m.\u001b[39mffi\u001b[38;5;241m.\u001b[39maddressof(ufcx_form)), V, coeffs,\n\u001b[1;32m    176\u001b[0m           constants, subdomains, mesh)\n\u001b[1;32m    177\u001b[0m \u001b[38;5;28;01mreturn\u001b[39;00m Form(f, ufcx_form, code)\n",
      "File \u001b[0;32m~/miniconda3/envs/diplomski/lib/python3.11/site-packages/dolfinx/fem/forms.py:172\u001b[0m, in \u001b[0;36m<dictcomp>\u001b[0;34m(.0)\u001b[0m\n\u001b[1;32m    169\u001b[0m             \u001b[38;5;28;01mreturn\u001b[39;00m subdomain\n\u001b[1;32m    171\u001b[0m \u001b[38;5;66;03m# Subdomain markers (possibly empty list for some integral types)\u001b[39;00m\n\u001b[0;32m--> 172\u001b[0m subdomains \u001b[38;5;241m=\u001b[39m {_ufl_to_dolfinx_domain[key]: \u001b[43mget_integration_domains\u001b[49m\u001b[43m(\u001b[49m\n\u001b[1;32m    173\u001b[0m \u001b[43m    \u001b[49m\u001b[43m_ufl_to_dolfinx_domain\u001b[49m\u001b[43m[\u001b[49m\u001b[43mkey\u001b[49m\u001b[43m]\u001b[49m\u001b[43m,\u001b[49m\u001b[43m \u001b[49m\u001b[43msubdomain_data\u001b[49m\u001b[43m[\u001b[49m\u001b[38;5;241;43m0\u001b[39;49m\u001b[43m]\u001b[49m\u001b[43m)\u001b[49m \u001b[38;5;28;01mfor\u001b[39;00m (key, subdomain_data) \u001b[38;5;129;01min\u001b[39;00m sd\u001b[38;5;241m.\u001b[39mget(domain)\u001b[38;5;241m.\u001b[39mitems()}\n\u001b[1;32m    175\u001b[0m f \u001b[38;5;241m=\u001b[39m ftype(module\u001b[38;5;241m.\u001b[39mffi\u001b[38;5;241m.\u001b[39mcast(\u001b[38;5;124m\"\u001b[39m\u001b[38;5;124muintptr_t\u001b[39m\u001b[38;5;124m\"\u001b[39m, module\u001b[38;5;241m.\u001b[39mffi\u001b[38;5;241m.\u001b[39maddressof(ufcx_form)), V, coeffs,\n\u001b[1;32m    176\u001b[0m           constants, subdomains, mesh)\n\u001b[1;32m    177\u001b[0m \u001b[38;5;28;01mreturn\u001b[39;00m Form(f, ufcx_form, code)\n",
      "File \u001b[0;32m~/miniconda3/envs/diplomski/lib/python3.11/site-packages/dolfinx/fem/forms.py:167\u001b[0m, in \u001b[0;36mform.<locals>._form.<locals>.get_integration_domains\u001b[0;34m(integral_type, subdomain)\u001b[0m\n\u001b[1;32m    165\u001b[0m         subdomain\u001b[38;5;241m.\u001b[39m_cpp_object\u001b[38;5;241m.\u001b[39mtopology\u001b[38;5;241m.\u001b[39mcreate_connectivity(tdim \u001b[38;5;241m-\u001b[39m \u001b[38;5;241m1\u001b[39m, tdim)\n\u001b[1;32m    166\u001b[0m         subdomain\u001b[38;5;241m.\u001b[39m_cpp_object\u001b[38;5;241m.\u001b[39mtopology\u001b[38;5;241m.\u001b[39mcreate_connectivity(tdim, tdim \u001b[38;5;241m-\u001b[39m \u001b[38;5;241m1\u001b[39m)\n\u001b[0;32m--> 167\u001b[0m     \u001b[38;5;28;01mreturn\u001b[39;00m \u001b[43m_cpp\u001b[49m\u001b[38;5;241;43m.\u001b[39;49m\u001b[43mfem\u001b[49m\u001b[38;5;241;43m.\u001b[39;49m\u001b[43mcompute_integration_domains\u001b[49m\u001b[43m(\u001b[49m\u001b[43mintegral_type\u001b[49m\u001b[43m,\u001b[49m\u001b[43m \u001b[49m\u001b[43msubdomain\u001b[49m\u001b[38;5;241;43m.\u001b[39;49m\u001b[43m_cpp_object\u001b[49m\u001b[43m)\u001b[49m\n\u001b[1;32m    168\u001b[0m \u001b[38;5;28;01mexcept\u001b[39;00m \u001b[38;5;167;01mAttributeError\u001b[39;00m:\n\u001b[1;32m    169\u001b[0m     \u001b[38;5;28;01mreturn\u001b[39;00m subdomain\n",
      "\u001b[0;31mTypeError\u001b[0m: compute_integration_domains(): incompatible function arguments. The following argument types are supported:\n    1. (integral_type: dolfinx::fem::IntegralType, meshtags: dolfinx.cpp.mesh.MeshTags_int32) -> List[Tuple[int, List[int]]]\n\nInvoked with: <IntegralType.cell: 0>, <dolfinx.cpp.mesh.MeshTags_float64 object at 0x7fb3da716030>"
     ]
    }
   ],
   "source": [
    "problem = NonlinearProblem(F, v)\n",
    "solver = NewtonSolver(MPI.COMM_WORLD, problem)\n",
    "solver.rtol = 1e-0\n",
    "solver.atol = 1e-0\n",
    "solver.max_it = 5\n",
    "log.set_log_level(log.LogLevel.INFO)\n",
    "n, converged = solver.solve(v)"
   ]
  },
  {
   "cell_type": "code",
   "execution_count": null,
   "metadata": {},
   "outputs": [],
   "source": [
    "v.x.array"
   ]
  }
 ],
 "metadata": {
  "kernelspec": {
   "display_name": "diplomski",
   "language": "python",
   "name": "python3"
  },
  "language_info": {
   "codemirror_mode": {
    "name": "ipython",
    "version": 3
   },
   "file_extension": ".py",
   "mimetype": "text/x-python",
   "name": "python",
   "nbconvert_exporter": "python",
   "pygments_lexer": "ipython3",
   "version": "3.11.6"
  }
 },
 "nbformat": 4,
 "nbformat_minor": 2
}
