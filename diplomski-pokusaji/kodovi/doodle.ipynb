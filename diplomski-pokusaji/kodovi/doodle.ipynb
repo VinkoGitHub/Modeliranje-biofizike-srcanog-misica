{
 "cells": [
  {
   "cell_type": "code",
   "execution_count": 1,
   "metadata": {},
   "outputs": [],
   "source": [
    "from cbcbeat import bidomainsolver, monodomainsolver\n",
    "import fenics as fem\n",
    "import matplotlib.pyplot as plt\n",
    "%matplotlib widget"
   ]
  },
  {
   "cell_type": "code",
   "execution_count": 2,
   "metadata": {},
   "outputs": [],
   "source": [
    "mesh = fem.Mesh(\"../meshes/mesh115_coarse.xml.gz\")"
   ]
  },
  {
   "cell_type": "code",
   "execution_count": 3,
   "metadata": {},
   "outputs": [],
   "source": [
    "solver = bidomainsolver.BasicBidomainSolver(\n",
    "    mesh, time=fem.Constant(0), M_i=fem.Expression(\"1\", degree=0), M_e=fem.Expression(\"2\", degree=0)\n",
    ")\n",
    "solutions = solver.solve(interval=(0, 1), dt=0.1)"
   ]
  },
  {
   "cell_type": "code",
   "execution_count": 4,
   "metadata": {},
   "outputs": [],
   "source": [
    "solver = monodomainsolver.BasicMonodomainSolver(\n",
    "    mesh, time=fem.Constant(0), M_i=fem.Expression(\"1\", degree=0),\n",
    ") \n",
    "solutions = solver.solve(interval=(0, 1), dt=0.1)"
   ]
  },
  {
   "cell_type": "code",
   "execution_count": 5,
   "metadata": {},
   "outputs": [
    {
     "ename": "UFLValueError",
     "evalue": "Invalid type conversion: 0.5 * v_1 + 0.5 * v_ can not be converted to any UFL type.",
     "output_type": "error",
     "traceback": [
      "\u001b[0;31m---------------------------------------------------------------------------\u001b[0m",
      "\u001b[0;31mUFLValueError\u001b[0m                             Traceback (most recent call last)",
      "\u001b[1;32m/home/drvinko/Desktop/diplomski-pokusaji/kodovi/doodle.ipynb Cell 5\u001b[0m line \u001b[0;36m1\n\u001b[0;32m----> <a href='vscode-notebook-cell:/home/drvinko/Desktop/diplomski-pokusaji/kodovi/doodle.ipynb#W5sZmlsZQ%3D%3D?line=0'>1</a>\u001b[0m solver\u001b[39m.\u001b[39;49mstep((\u001b[39m0\u001b[39;49m,\u001b[39m0.1\u001b[39;49m))\n",
      "File \u001b[0;32m~/miniconda3/lib/python3.11/site-packages/cbcbeat/monodomainsolver.py:241\u001b[0m, in \u001b[0;36mBasicMonodomainSolver.step\u001b[0;34m(self, interval)\u001b[0m\n\u001b[1;32m    238\u001b[0m v_mid \u001b[39m=\u001b[39m theta \u001b[39m*\u001b[39m v \u001b[39m+\u001b[39m (\u001b[39m1.0\u001b[39m \u001b[39m-\u001b[39m theta) \u001b[39m*\u001b[39m \u001b[39mself\u001b[39m\u001b[39m.\u001b[39mv_\n\u001b[1;32m    240\u001b[0m (dz, rhs) \u001b[39m=\u001b[39m rhs_with_markerwise_field(\u001b[39mself\u001b[39m\u001b[39m.\u001b[39m_I_s, \u001b[39mself\u001b[39m\u001b[39m.\u001b[39m_mesh, w)\n\u001b[0;32m--> 241\u001b[0m theta_parabolic \u001b[39m=\u001b[39m ufl\u001b[39m.\u001b[39minner(M_i \u001b[39m*\u001b[39m ufl\u001b[39m.\u001b[39;49mgrad(v_mid), ufl\u001b[39m.\u001b[39mgrad(w)) \u001b[39m*\u001b[39m dz()\n\u001b[1;32m    242\u001b[0m G \u001b[39m=\u001b[39m Dt_v \u001b[39m*\u001b[39m w \u001b[39m*\u001b[39m dz() \u001b[39m+\u001b[39m theta_parabolic \u001b[39m-\u001b[39m rhs\n\u001b[1;32m    244\u001b[0m \u001b[39m# Define variational problem\u001b[39;00m\n",
      "File \u001b[0;32m~/miniconda3/lib/python3.11/site-packages/ufl_legacy/operators.py:369\u001b[0m, in \u001b[0;36mgrad\u001b[0;34m(f)\u001b[0m\n\u001b[1;32m    353\u001b[0m \u001b[39mdef\u001b[39;00m \u001b[39mgrad\u001b[39m(f):\n\u001b[1;32m    354\u001b[0m \u001b[39m    \u001b[39m\u001b[39m\"\"\"UFL operator: Take the gradient of *f*.\u001b[39;00m\n\u001b[1;32m    355\u001b[0m \n\u001b[1;32m    356\u001b[0m \u001b[39m    This operator follows the grad convention where\u001b[39;00m\n\u001b[0;32m   (...)\u001b[0m\n\u001b[1;32m    367\u001b[0m \u001b[39m    See also: :py:func:`nabla_grad`\u001b[39;00m\n\u001b[1;32m    368\u001b[0m \u001b[39m    \"\"\"\u001b[39;00m\n\u001b[0;32m--> 369\u001b[0m     f \u001b[39m=\u001b[39m as_ufl(f)\n\u001b[1;32m    370\u001b[0m     \u001b[39mreturn\u001b[39;00m Grad(f)\n",
      "File \u001b[0;32m~/miniconda3/lib/python3.11/site-packages/ufl_legacy/constantvalue.py:437\u001b[0m, in \u001b[0;36mas_ufl\u001b[0;34m(expression)\u001b[0m\n\u001b[1;32m    435\u001b[0m     \u001b[39mreturn\u001b[39;00m IntValue(expression)\n\u001b[1;32m    436\u001b[0m \u001b[39melse\u001b[39;00m:\n\u001b[0;32m--> 437\u001b[0m     \u001b[39mraise\u001b[39;00m UFLValueError(\u001b[39m\"\u001b[39m\u001b[39mInvalid type conversion: \u001b[39m\u001b[39m%s\u001b[39;00m\u001b[39m can not be converted\u001b[39m\u001b[39m\"\u001b[39m\n\u001b[1;32m    438\u001b[0m                         \u001b[39m\"\u001b[39m\u001b[39m to any UFL type.\u001b[39m\u001b[39m\"\u001b[39m \u001b[39m%\u001b[39m \u001b[39mstr\u001b[39m(expression))\n",
      "\u001b[0;31mUFLValueError\u001b[0m: Invalid type conversion: 0.5 * v_1 + 0.5 * v_ can not be converted to any UFL type."
     ]
    }
   ],
   "source": [
    "solver.step((0,0.1))"
   ]
  },
  {
   "cell_type": "code",
   "execution_count": null,
   "metadata": {},
   "outputs": [],
   "source": []
  }
 ],
 "metadata": {
  "kernelspec": {
   "display_name": "base",
   "language": "python",
   "name": "python3"
  },
  "language_info": {
   "codemirror_mode": {
    "name": "ipython",
    "version": 3
   },
   "file_extension": ".py",
   "mimetype": "text/x-python",
   "name": "python",
   "nbconvert_exporter": "python",
   "pygments_lexer": "ipython3",
   "version": "3.11.6"
  }
 },
 "nbformat": 4,
 "nbformat_minor": 2
}
