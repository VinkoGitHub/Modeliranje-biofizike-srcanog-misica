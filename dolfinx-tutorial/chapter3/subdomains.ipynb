{
 "cells": [
  {
   "cell_type": "markdown",
   "metadata": {},
   "source": [
    "# Defining subdomains for different materials\n",
    "Author: Jørgen S. Dokken\n",
    "\n",
    "Solving PDEs in domains made up of different materials is frequently encountered task. In FEniCSx, we handle these problems by defining a Discontinous cell-wise constant function.\n",
    "Such a function can be created over any mesh in the following way\n",
    "## Subdomains on built-in meshes"
   ]
  },
  {
   "cell_type": "code",
   "execution_count": 2,
   "metadata": {},
   "outputs": [],
   "source": [
    "from dolfinx import default_scalar_type\n",
    "from dolfinx.fem import (Constant, dirichletbc, Function, FunctionSpace, assemble_scalar,\n",
    "                         form, locate_dofs_geometrical, locate_dofs_topological)\n",
    "from dolfinx.fem.petsc import LinearProblem\n",
    "from dolfinx.io import XDMFFile, gmshio\n",
    "from dolfinx.mesh import create_unit_square, locate_entities\n",
    "from dolfinx.plot import vtk_mesh\n",
    "\n",
    "from ufl import (SpatialCoordinate, TestFunction, TrialFunction,\n",
    "                 dx, grad, inner)\n",
    "\n",
    "from mpi4py import MPI\n",
    "\n",
    "import meshio\n",
    "import gmsh\n",
    "import numpy as np\n",
    "import pyvista\n",
    "\n",
    "pyvista.start_xvfb()\n",
    "\n",
    "mesh = create_unit_square(MPI.COMM_WORLD, 10, 10)\n",
    "Q = FunctionSpace(mesh, (\"DG\", 0))"
   ]
  },
  {
   "cell_type": "markdown",
   "metadata": {},
   "source": [
    "We will use a simple example with two materials in two dimensions to demonstrate the idea. The whole domain will be $\\Omega=[0,1]\\times[0,1]$, which consists of two subdomains\n",
    "$\\Omega_0=[0,1]\\times [0,1/2]$ and $\\Omega_1=[0,1]\\times[1/2, 1]$. We start by creating two python functions, where each returns `True` if the input coordinate is inside its domain."
   ]
  },
  {
   "cell_type": "code",
   "execution_count": 3,
   "metadata": {},
   "outputs": [],
   "source": [
    "def Omega_0(x):\n",
    "    return x[1] <= 0.5\n",
    "\n",
    "\n",
    "def Omega_1(x):\n",
    "    return x[1] >= 0.5"
   ]
  },
  {
   "cell_type": "markdown",
   "metadata": {},
   "source": [
    "Note that both fucntion uses a $\\leq$ or $\\geq$, as FEniCSx will evaluate each cell at all of the vertices, and thus for has to return `True` for all vertices align with the interface to be marked properly.\n",
    "\n",
    "We will solve a variable-coefficient extension of the Poisson equation\n",
    "\n",
    "$$\n",
    "-\\nabla \\cdot [\\kappa (x,y)\\nabla u(x, y)]= 1 \\qquad \\text{in } \\Omega,\n",
    "$$\n",
    "$$\n",
    "u=u_D=1 \\qquad \\text{on } \\partial\\Omega_D=[0,y], y\\in[0,1]\n",
    "$$\n",
    "$$\n",
    "-\\frac{\\partial u}{\\partial n}=0 \\qquad \\text{on } \\partial\\Omega\\setminus \\partial\\Omega_D\n",
    "$$\n",
    "\n",
    "Our next step is to define $\\kappa$"
   ]
  },
  {
   "cell_type": "code",
   "execution_count": 4,
   "metadata": {},
   "outputs": [],
   "source": [
    "kappa = Function(Q)\n",
    "cells_0 = locate_entities(mesh, mesh.topology.dim, Omega_0)\n",
    "cells_1 = locate_entities(mesh, mesh.topology.dim, Omega_1)"
   ]
  },
  {
   "cell_type": "markdown",
   "metadata": {},
   "source": [
    "In the previous code block, we found which cells (triangular elements) which satisfies the condition for being in $\\Omega_0, \\Omega_1$. As the $DG-0$ function contain only one degree of freedom per mesh, there is a one to one mapping between the cell indicies and the degrees of freedom. We let $\\kappa=\\begin{cases}\n",
    "1 &\\text{if } x\\in\\Omega_0\\\\\n",
    "0.1& \\text{if } x\\in\\Omega_1\\\\\n",
    "\\end{cases}$"
   ]
  },
  {
   "cell_type": "code",
   "execution_count": 5,
   "metadata": {},
   "outputs": [],
   "source": [
    "kappa.x.array[cells_0] = np.full_like(cells_0, 1, dtype=default_scalar_type)\n",
    "kappa.x.array[cells_1] = np.full_like(cells_1, 0.1, dtype=default_scalar_type)"
   ]
  },
  {
   "cell_type": "markdown",
   "metadata": {},
   "source": [
    "We are now ready to define our variational formulation and  Dirichlet boundary condition after using integration by parts"
   ]
  },
  {
   "cell_type": "code",
   "execution_count": 6,
   "metadata": {},
   "outputs": [],
   "source": [
    "V = FunctionSpace(mesh, (\"Lagrange\", 1))\n",
    "u, v = TrialFunction(V), TestFunction(V)\n",
    "a = inner(kappa * grad(u), grad(v)) * dx\n",
    "x = SpatialCoordinate(mesh)\n",
    "L = Constant(mesh, default_scalar_type(1)) * v * dx\n",
    "dofs = locate_dofs_geometrical(V, lambda x: np.isclose(x[0], 0))\n",
    "bcs = [dirichletbc(default_scalar_type(1), dofs, V)]"
   ]
  },
  {
   "cell_type": "markdown",
   "metadata": {},
   "source": [
    "We can now solve and visualize the solution of the problem"
   ]
  },
  {
   "cell_type": "code",
   "execution_count": 14,
   "metadata": {},
   "outputs": [
    {
     "data": {
      "text/plain": [
       "array([1.80651654, 1.8143217 , 1.81879352, 1.81036038, 1.78102368,\n",
       "       1.83013163, 1.78464826, 1.82148322, 1.73828164, 1.84876656,\n",
       "       1.74174061, 1.79546838, 1.83997247, 1.67862167, 1.87498966,\n",
       "       1.68187999, 1.75215254, 1.81358951, 1.86605059, 1.60244504,\n",
       "       1.90909091, 1.60543349, 1.69172421, 1.76967696, 1.83924024,\n",
       "       1.9       , 1.51029152, 2.25010337, 1.51291685, 1.61449208,\n",
       "       1.70837221, 1.79459358, 1.87272727, 2.23949407, 1.40288736,\n",
       "       2.51233442, 1.40503505, 1.52090732, 1.62990331, 1.73218438,\n",
       "       1.82727273, 2.20759761, 2.5002753 , 1.28118782, 2.69868371,\n",
       "       1.28272919, 1.41160679, 1.53461357, 1.65213536, 1.76363636,\n",
       "       2.15406424, 2.46410487, 2.68516783, 1.14640555, 2.81206476,\n",
       "       1.14721718, 1.28747671, 1.42300809, 1.55463556, 1.68181818,\n",
       "       2.07815623, 2.4032304 , 2.64531617, 2.79639615, 1.        ,\n",
       "       2.85678304, 1.        , 1.14973399, 1.29583686, 1.43997514,\n",
       "       1.58181818, 1.97864643, 2.31627788, 2.5784746 , 2.75351737,\n",
       "       2.83483465, 1.        , 1.15424208, 1.30862055, 1.46363636,\n",
       "       1.85364437, 2.20096695, 2.48275793, 2.6825939 , 2.78976324,\n",
       "       1.        , 1.16139748, 1.32727273, 1.70024858, 2.0538643 ,\n",
       "       2.35507918, 2.58120006, 2.71718359, 1.        , 1.17272727,\n",
       "       1.51379449, 1.86991909, 2.19092677, 2.44566509, 2.61378332,\n",
       "       1.        , 1.28602524, 1.64163142, 1.98393208, 2.27083154,\n",
       "       2.47554956, 1.        , 1.35757918, 1.72523292, 2.04964953,\n",
       "       2.29708476, 1.        , 1.40266007, 1.7727081 , 2.0711264 ,\n",
       "       1.        , 1.42782818, 1.78812179, 1.        , 1.43594453,\n",
       "       1.        ])"
      ]
     },
     "execution_count": 14,
     "metadata": {},
     "output_type": "execute_result"
    }
   ],
   "source": [
    "problem = LinearProblem(a, L, bcs=bcs, petsc_options={\"ksp_type\": \"preonly\", \"pc_type\": \"lu\"})\n",
    "uh = problem.solve()\n",
    "uh.x.array"
   ]
  },
  {
   "cell_type": "code",
   "execution_count": null,
   "metadata": {
    "tags": []
   },
   "outputs": [],
   "source": [
    "# Filter out ghosted cells\n",
    "num_cells_local = mesh.topology.index_map(mesh.topology.dim).size_local\n",
    "marker = np.zeros(num_cells_local, dtype=np.int32)\n",
    "cells_0 = cells_0[cells_0 < num_cells_local]\n",
    "cells_1 = cells_1[cells_1 < num_cells_local]\n",
    "marker[cells_0] = 1\n",
    "marker[cells_1] = 2\n",
    "topology, cell_types, x = vtk_mesh(mesh, mesh.topology.dim, np.arange(num_cells_local, dtype=np.int32))\n",
    "\n",
    "p = pyvista.Plotter(window_size=[800, 800])\n",
    "grid = pyvista.UnstructuredGrid(topology, cell_types, x)\n",
    "grid.cell_data[\"Marker\"] = marker\n",
    "grid.set_active_scalars(\"Marker\")\n",
    "p.add_mesh(grid, show_edges=True)\n",
    "if pyvista.OFF_SCREEN:\n",
    "    figure = p.screenshot(\"subdomains_structured.png\")\n",
    "p.show()"
   ]
  },
  {
   "cell_type": "code",
   "execution_count": null,
   "metadata": {},
   "outputs": [],
   "source": [
    "p2 = pyvista.Plotter(window_size=[800, 800])\n",
    "grid_uh = pyvista.UnstructuredGrid(*vtk_mesh(V))\n",
    "grid_uh.point_data[\"u\"] = uh.x.array.real\n",
    "grid_uh.set_active_scalars(\"u\")\n",
    "p2.add_mesh(grid_uh, show_edges=True)\n",
    "if not pyvista.OFF_SCREEN:\n",
    "    p2.show()\n",
    "else:\n",
    "    figure = p2.screenshot(\"subdomains_structured2.png\")"
   ]
  },
  {
   "cell_type": "markdown",
   "metadata": {},
   "source": [
    "We clearly observe different behavior in the two regions, whose both has the same Dirichlet boundary condition on the left side, where $x=0$."
   ]
  },
  {
   "cell_type": "markdown",
   "metadata": {},
   "source": [
    "## Interpolation with Python-function\n",
    "As we saw in the first approach, in many cases, we can use the geometrical coordinates to determine which coefficient we should use. Using the unstructured mesh from the previous example, we illustrate an alternative approach using interpolation:"
   ]
  },
  {
   "cell_type": "code",
   "execution_count": null,
   "metadata": {},
   "outputs": [],
   "source": [
    "def eval_kappa(x):\n",
    "    values = np.zeros(x.shape[1], dtype=default_scalar_type)\n",
    "    # Create a boolean array indicating which dofs (corresponding to cell centers)\n",
    "    # that are in each domain\n",
    "    top_coords = x[1] > 0.5\n",
    "    bottom_coords = x[1] < 0.5\n",
    "    values[top_coords] = np.full(sum(top_coords), 0.1)\n",
    "    values[bottom_coords] = np.full(sum(bottom_coords), 1)\n",
    "    return values"
   ]
  },
  {
   "cell_type": "code",
   "execution_count": null,
   "metadata": {},
   "outputs": [],
   "source": [
    "kappa2 = Function(Q)\n",
    "kappa2.interpolate(eval_kappa)"
   ]
  },
  {
   "cell_type": "markdown",
   "metadata": {},
   "source": [
    "We verify this by assembling the error between this new function and the old one"
   ]
  },
  {
   "cell_type": "code",
   "execution_count": null,
   "metadata": {},
   "outputs": [],
   "source": [
    "# Difference in kappa's\n",
    "error = mesh.comm.allreduce(assemble_scalar(form((kappa - kappa2)**2 * dx)))\n",
    "print(error)"
   ]
  },
  {
   "cell_type": "markdown",
   "metadata": {},
   "source": [
    "## Subdomains defined from external mesh data\n",
    "Let us now consider the same problem, but using GMSH to generate the mesh and subdomains. We will then in turn show how to use this data to generate discontinuous functions in DOLFINx."
   ]
  },
  {
   "cell_type": "code",
   "execution_count": null,
   "metadata": {},
   "outputs": [],
   "source": [
    "gmsh.initialize()\n",
    "proc = MPI.COMM_WORLD.rank\n",
    "top_marker = 2\n",
    "bottom_marker = 1\n",
    "left_marker = 1\n",
    "if proc == 0:\n",
    "    # We create one rectangle for each subdomain\n",
    "    gmsh.model.occ.addRectangle(0, 0, 0, 1, 0.5, tag=1)\n",
    "    gmsh.model.occ.addRectangle(0, 0.5, 0, 1, 0.5, tag=2)\n",
    "    # We fuse the two rectangles and keep the interface between them\n",
    "    gmsh.model.occ.fragment([(2, 1)], [(2, 2)])\n",
    "    gmsh.model.occ.synchronize()\n",
    "\n",
    "    # Mark the top (2) and bottom (1) rectangle\n",
    "    top, bottom = None, None\n",
    "    for surface in gmsh.model.getEntities(dim=2):\n",
    "        com = gmsh.model.occ.getCenterOfMass(surface[0], surface[1])\n",
    "        if np.allclose(com, [0.5, 0.25, 0]):\n",
    "            bottom = surface[1]\n",
    "        else:\n",
    "            top = surface[1]\n",
    "    gmsh.model.addPhysicalGroup(2, [bottom], bottom_marker)\n",
    "    gmsh.model.addPhysicalGroup(2, [top], top_marker)\n",
    "    # Tag the left boundary\n",
    "    left = []\n",
    "    for line in gmsh.model.getEntities(dim=1):\n",
    "        com = gmsh.model.occ.getCenterOfMass(line[0], line[1])\n",
    "        if np.isclose(com[0], 0):\n",
    "            left.append(line[1])\n",
    "    gmsh.model.addPhysicalGroup(1, left, left_marker)\n",
    "    gmsh.model.mesh.generate(2)\n",
    "    gmsh.write(\"mesh.msh\")\n",
    "gmsh.finalize()"
   ]
  },
  {
   "cell_type": "markdown",
   "metadata": {},
   "source": [
    "## Read in MSH files with DOLFINx\n",
    "You can read in MSH files with DOLFINx, which will read them in on a single process, and then distribute them over the available ranks in the MPI communicator."
   ]
  },
  {
   "cell_type": "code",
   "execution_count": 15,
   "metadata": {},
   "outputs": [
    {
     "name": "stderr",
     "output_type": "stream",
     "text": [
      "Error   : Unable to open file 'mesh.msh'\n"
     ]
    },
    {
     "ename": "Exception",
     "evalue": "Unable to open file 'mesh.msh'",
     "output_type": "error",
     "traceback": [
      "\u001b[0;31m---------------------------------------------------------------------------\u001b[0m",
      "\u001b[0;31mException\u001b[0m                                 Traceback (most recent call last)",
      "\u001b[0;32m/tmp/ipykernel_25678/921893280.py\u001b[0m in \u001b[0;36m?\u001b[0;34m()\u001b[0m\n\u001b[0;32m----> 1\u001b[0;31m \u001b[0mmesh\u001b[0m\u001b[0;34m,\u001b[0m \u001b[0mcell_markers\u001b[0m\u001b[0;34m,\u001b[0m \u001b[0mfacet_markers\u001b[0m \u001b[0;34m=\u001b[0m \u001b[0mgmshio\u001b[0m\u001b[0;34m.\u001b[0m\u001b[0mread_from_msh\u001b[0m\u001b[0;34m(\u001b[0m\u001b[0;34m\"mesh.msh\"\u001b[0m\u001b[0;34m,\u001b[0m \u001b[0mMPI\u001b[0m\u001b[0;34m.\u001b[0m\u001b[0mCOMM_WORLD\u001b[0m\u001b[0;34m,\u001b[0m \u001b[0mgdim\u001b[0m\u001b[0;34m=\u001b[0m\u001b[0;36m2\u001b[0m\u001b[0;34m)\u001b[0m\u001b[0;34m\u001b[0m\u001b[0;34m\u001b[0m\u001b[0m\n\u001b[0m\u001b[1;32m      2\u001b[0m \u001b[0mcell_markers\u001b[0m\u001b[0;34m\u001b[0m\u001b[0;34m\u001b[0m\u001b[0m\n",
      "\u001b[0;32m~/miniconda3/envs/diplomski/lib/python3.11/site-packages/dolfinx/io/gmshio.py\u001b[0m in \u001b[0;36m?\u001b[0;34m(filename, comm, rank, gdim, partitioner)\u001b[0m\n\u001b[1;32m    327\u001b[0m \u001b[0;34m\u001b[0m\u001b[0m\n\u001b[1;32m    328\u001b[0m     \u001b[0;32mif\u001b[0m \u001b[0mcomm\u001b[0m\u001b[0;34m.\u001b[0m\u001b[0mrank\u001b[0m \u001b[0;34m==\u001b[0m \u001b[0mrank\u001b[0m\u001b[0;34m:\u001b[0m\u001b[0;34m\u001b[0m\u001b[0;34m\u001b[0m\u001b[0m\n\u001b[1;32m    329\u001b[0m         \u001b[0mgmsh\u001b[0m\u001b[0;34m.\u001b[0m\u001b[0minitialize\u001b[0m\u001b[0;34m(\u001b[0m\u001b[0;34m)\u001b[0m\u001b[0;34m\u001b[0m\u001b[0;34m\u001b[0m\u001b[0m\n\u001b[1;32m    330\u001b[0m         \u001b[0mgmsh\u001b[0m\u001b[0;34m.\u001b[0m\u001b[0mmodel\u001b[0m\u001b[0;34m.\u001b[0m\u001b[0madd\u001b[0m\u001b[0;34m(\u001b[0m\u001b[0;34m\"Mesh from file\"\u001b[0m\u001b[0;34m)\u001b[0m\u001b[0;34m\u001b[0m\u001b[0;34m\u001b[0m\u001b[0m\n\u001b[0;32m--> 331\u001b[0;31m         \u001b[0mgmsh\u001b[0m\u001b[0;34m.\u001b[0m\u001b[0mmerge\u001b[0m\u001b[0;34m(\u001b[0m\u001b[0mfilename\u001b[0m\u001b[0;34m)\u001b[0m\u001b[0;34m\u001b[0m\u001b[0;34m\u001b[0m\u001b[0m\n\u001b[0m\u001b[1;32m    332\u001b[0m         \u001b[0mmsh\u001b[0m \u001b[0;34m=\u001b[0m \u001b[0mmodel_to_mesh\u001b[0m\u001b[0;34m(\u001b[0m\u001b[0mgmsh\u001b[0m\u001b[0;34m.\u001b[0m\u001b[0mmodel\u001b[0m\u001b[0;34m,\u001b[0m \u001b[0mcomm\u001b[0m\u001b[0;34m,\u001b[0m \u001b[0mrank\u001b[0m\u001b[0;34m,\u001b[0m \u001b[0mgdim\u001b[0m\u001b[0;34m=\u001b[0m\u001b[0mgdim\u001b[0m\u001b[0;34m,\u001b[0m \u001b[0mpartitioner\u001b[0m\u001b[0;34m=\u001b[0m\u001b[0mpartitioner\u001b[0m\u001b[0;34m)\u001b[0m\u001b[0;34m\u001b[0m\u001b[0;34m\u001b[0m\u001b[0m\n\u001b[1;32m    333\u001b[0m         \u001b[0mgmsh\u001b[0m\u001b[0;34m.\u001b[0m\u001b[0mfinalize\u001b[0m\u001b[0;34m(\u001b[0m\u001b[0;34m)\u001b[0m\u001b[0;34m\u001b[0m\u001b[0;34m\u001b[0m\u001b[0m\n\u001b[1;32m    334\u001b[0m         \u001b[0;32mreturn\u001b[0m \u001b[0mmsh\u001b[0m\u001b[0;34m\u001b[0m\u001b[0;34m\u001b[0m\u001b[0m\n",
      "\u001b[0;32m~/miniconda3/envs/diplomski/lib/python3.11/site-packages/gmsh.py\u001b[0m in \u001b[0;36m?\u001b[0;34m(fileName)\u001b[0m\n\u001b[1;32m    350\u001b[0m     lib.gmshMerge(\n\u001b[1;32m    351\u001b[0m         \u001b[0mc_char_p\u001b[0m\u001b[0;34m(\u001b[0m\u001b[0mfileName\u001b[0m\u001b[0;34m.\u001b[0m\u001b[0mencode\u001b[0m\u001b[0;34m(\u001b[0m\u001b[0;34m)\u001b[0m\u001b[0;34m)\u001b[0m\u001b[0;34m,\u001b[0m\u001b[0;34m\u001b[0m\u001b[0;34m\u001b[0m\u001b[0m\n\u001b[1;32m    352\u001b[0m         byref(ierr))\n\u001b[1;32m    353\u001b[0m     \u001b[0;32mif\u001b[0m \u001b[0mierr\u001b[0m\u001b[0;34m.\u001b[0m\u001b[0mvalue\u001b[0m \u001b[0;34m!=\u001b[0m \u001b[0;36m0\u001b[0m\u001b[0;34m:\u001b[0m\u001b[0;34m\u001b[0m\u001b[0;34m\u001b[0m\u001b[0m\n\u001b[0;32m--> 354\u001b[0;31m         \u001b[0;32mraise\u001b[0m \u001b[0mException\u001b[0m\u001b[0;34m(\u001b[0m\u001b[0mlogger\u001b[0m\u001b[0;34m.\u001b[0m\u001b[0mgetLastError\u001b[0m\u001b[0;34m(\u001b[0m\u001b[0;34m)\u001b[0m\u001b[0;34m)\u001b[0m\u001b[0;34m\u001b[0m\u001b[0;34m\u001b[0m\u001b[0m\n\u001b[0m",
      "\u001b[0;31mException\u001b[0m: Unable to open file 'mesh.msh'"
     ]
    }
   ],
   "source": [
    "mesh, cell_markers, facet_markers = gmshio.read_from_msh(\"mesh.msh\", MPI.COMM_WORLD, gdim=2)"
   ]
  },
  {
   "cell_type": "markdown",
   "metadata": {
    "lines_to_next_cell": 2
   },
   "source": [
    "## Convert msh-files to XDMF using meshio\n",
    "We will use `meshio` to read in the `msh` file, and convert it to a more suitable IO format. Meshio requires `h5py`, and can be installed on linux with the following commands:\n",
    "```{code}\n",
    "export HDF5_MPI=\"ON\"\n",
    "export CC=mpicc\n",
    "export HDF5_DIR=\"/usr/lib/x86_64-linux-gnu/hdf5/mpich/\"\n",
    "pip3 install --no-cache-dir --no-binary=h5py h5py meshio\n",
    "```\n",
    "We start by creating a convenience function for extracting data for a single cell type, and creating a new `meshio.Mesh`."
   ]
  },
  {
   "cell_type": "code",
   "execution_count": null,
   "metadata": {},
   "outputs": [],
   "source": [
    "def create_mesh(mesh, cell_type, prune_z=False):\n",
    "    cells = mesh.get_cells_type(cell_type)\n",
    "    cell_data = mesh.get_cell_data(\"gmsh:physical\", cell_type)\n",
    "    points = mesh.points[:, :2] if prune_z else mesh.points\n",
    "    out_mesh = meshio.Mesh(points=points, cells={cell_type: cells}, cell_data={\"name_to_read\": [cell_data.astype(np.int32)]})\n",
    "    return out_mesh"
   ]
  },
  {
   "cell_type": "markdown",
   "metadata": {},
   "source": [
    "This function returns a meshio mesh, including physical markers for the given type. The `prune_z` argument is for cases where we want to use two dimensional meshes. The last coordinate in the mesh (as it is generated in a 3D space) has to be removed for DOLFINx to consider this as a two dimensional geometry."
   ]
  },
  {
   "cell_type": "code",
   "execution_count": null,
   "metadata": {},
   "outputs": [],
   "source": [
    "if proc == 0:\n",
    "    # Read in mesh\n",
    "    msh = meshio.read(\"mesh.msh\")\n",
    "\n",
    "    # Create and save one file for the mesh, and one file for the facets\n",
    "    triangle_mesh = create_mesh(msh, \"triangle\", prune_z=True)\n",
    "    line_mesh = create_mesh(msh, \"line\", prune_z=True)\n",
    "    meshio.write(\"mesh.xdmf\", triangle_mesh)\n",
    "    meshio.write(\"mt.xdmf\", line_mesh)\n",
    "MPI.COMM_WORLD.barrier()"
   ]
  },
  {
   "cell_type": "markdown",
   "metadata": {},
   "source": [
    "We have now written the mesh and the cell markers to one file, and the facet markers in a separate file. We can now read this data in DOLFINx using `XDMFFile.read_mesh` and `XDMFFile.read_meshtags`. The `dolfinx.MeshTags` stores the index of the entity, along with the value of the marker in two one dimensional arrays.\n",
    "\n",
    "Note that we have generated and written the mesh on only one processor. However, the `xdmf`-format supports parallel IO, and we can thus read the mesh in parallel."
   ]
  },
  {
   "cell_type": "code",
   "execution_count": null,
   "metadata": {},
   "outputs": [],
   "source": [
    "with XDMFFile(MPI.COMM_WORLD, \"mesh.xdmf\", \"r\") as xdmf:\n",
    "    mesh = xdmf.read_mesh(name=\"Grid\")\n",
    "    ct = xdmf.read_meshtags(mesh, name=\"Grid\")\n",
    "mesh.topology.create_connectivity(mesh.topology.dim, mesh.topology.dim - 1)\n",
    "with XDMFFile(MPI.COMM_WORLD, \"mt.xdmf\", \"r\") as xdmf:\n",
    "    ft = xdmf.read_meshtags(mesh, name=\"Grid\")"
   ]
  },
  {
   "cell_type": "markdown",
   "metadata": {},
   "source": [
    "We have now read in the mesh and corresponding cell and facet data. We can now create our discontinuous function `kappa` as follows"
   ]
  },
  {
   "cell_type": "code",
   "execution_count": null,
   "metadata": {},
   "outputs": [],
   "source": [
    "Q = FunctionSpace(mesh, (\"DG\", 0))\n",
    "kappa = Function(Q)\n",
    "bottom_cells = ct.find(bottom_marker)\n",
    "kappa.x.array[bottom_cells] = np.full_like(bottom_cells, 1, dtype=default_scalar_type)\n",
    "top_cells = ct.find(top_marker)\n",
    "kappa.x.array[top_cells] = np.full_like(top_cells, 0.1, dtype=default_scalar_type)"
   ]
  },
  {
   "cell_type": "markdown",
   "metadata": {},
   "source": [
    "We can also efficiently use the facet data `ft` to create the Dirichlet boundary condition"
   ]
  },
  {
   "cell_type": "code",
   "execution_count": null,
   "metadata": {},
   "outputs": [],
   "source": [
    "V = FunctionSpace(mesh, (\"Lagrange\", 1))\n",
    "u_bc = Function(V)\n",
    "left_facets = ft.find(left_marker)\n",
    "left_dofs = locate_dofs_topological(V, mesh.topology.dim - 1, left_facets)\n",
    "bcs = [dirichletbc(default_scalar_type(1), left_dofs, V)]"
   ]
  },
  {
   "cell_type": "markdown",
   "metadata": {},
   "source": [
    "We can now solve the problem in a similar fashion as above"
   ]
  },
  {
   "cell_type": "code",
   "execution_count": null,
   "metadata": {
    "lines_to_next_cell": 0
   },
   "outputs": [],
   "source": [
    "u, v = TrialFunction(V), TestFunction(V)\n",
    "a = inner(kappa * grad(u), grad(v)) * dx\n",
    "x = SpatialCoordinate(mesh)\n",
    "L = Constant(mesh, default_scalar_type(1)) * v * dx\n",
    "\n",
    "problem = LinearProblem(a, L, bcs=bcs, petsc_options={\"ksp_type\": \"preonly\", \"pc_type\": \"lu\"})\n",
    "uh = problem.solve()\n",
    "\n",
    "# As the dolfinx.MeshTag contains a value for every cell in the\n",
    "# geometry, we can attach it directly to the grid\n",
    "\n",
    "topology, cell_types, x = vtk_mesh(mesh, mesh.topology.dim)\n",
    "grid = pyvista.UnstructuredGrid(topology, cell_types, x)\n",
    "num_local_cells = mesh.topology.index_map(mesh.topology.dim).size_local\n",
    "grid.cell_data[\"Marker\"] = ct.values[ct.indices < num_local_cells]\n",
    "grid.set_active_scalars(\"Marker\")\n",
    "\n",
    "p = pyvista.Plotter(window_size=[800, 800])\n",
    "p.add_mesh(grid, show_edges=True)\n",
    "if not pyvista.OFF_SCREEN:\n",
    "    p.show()\n",
    "else:\n",
    "    figure = p.screenshot(\"subdomains_unstructured.png\")"
   ]
  },
  {
   "cell_type": "code",
   "execution_count": null,
   "metadata": {},
   "outputs": [],
   "source": [
    "grid_uh = pyvista.UnstructuredGrid(*vtk_mesh(V))\n",
    "grid_uh.point_data[\"u\"] = uh.x.array.real\n",
    "grid_uh.set_active_scalars(\"u\")\n",
    "p2 = pyvista.Plotter(window_size=[800, 800])\n",
    "p2.add_mesh(grid_uh, show_edges=True)\n",
    "if not pyvista.OFF_SCREEN:\n",
    "    p2.show()\n",
    "else:\n",
    "    p2.screenshot(\"unstructured_u.png\")"
   ]
  },
  {
   "cell_type": "code",
   "execution_count": null,
   "metadata": {},
   "outputs": [],
   "source": []
  }
 ],
 "metadata": {
  "jupytext": {
   "formats": "ipynb,py:light"
  },
  "kernelspec": {
   "display_name": "Python 3 (ipykernel)",
   "language": "python",
   "name": "python3"
  },
  "language_info": {
   "codemirror_mode": {
    "name": "ipython",
    "version": 3
   },
   "file_extension": ".py",
   "mimetype": "text/x-python",
   "name": "python",
   "nbconvert_exporter": "python",
   "pygments_lexer": "ipython3",
   "version": "3.11.6"
  }
 },
 "nbformat": 4,
 "nbformat_minor": 4
}
