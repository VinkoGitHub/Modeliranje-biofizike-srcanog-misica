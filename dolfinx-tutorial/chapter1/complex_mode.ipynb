{
 "cells": [
  {
   "cell_type": "markdown",
   "id": "116651d1-d44d-471d-b13c-36855d8464ec",
   "metadata": {},
   "source": [
    "# The Poisson problem with complex numbers\n",
    "\n",
    "Author: Jørgen S. Dokken\n",
    "\n",
    "Many PDEs, such as the [Helmholtz equation](https://docs.fenicsproject.org/dolfinx/v0.4.1/python/demos/demo_helmholtz.html) require complex-valued fields.\n",
    "\n",
    "For simplicity, let us consider a Poisson equation of the form:\n",
    "\n",
    "$$-\\Delta u = f \\text{ in } \\Omega,$$\n",
    "$$ f = -1 - 2j \\text{ in } \\Omega,$$\n",
    "$$ u = u*{exact} \\text{ on } \\partial\\Omega,$$\n",
    "$$u*{exact}(x, y) = \\frac{1}{2}x^2 + 1j\\cdot y^2,$$\n",
    "\n",
    "As in [Solving the Poisson equation](./fundamentals) we want to express our partial differential equation as a weak formulation.\n",
    "\n",
    "We start by defining our discrete function space $V_h$, such that $u_h\\in V_h$ and $u_h = \\sum_{i=1}^N c_i \\phi_i(x, y)$ where $\\phi_i$ are **real valued** global basis functions of our space $V_h$, $c_i \\in \\mathcal{C}$ are the **complex valued** degrees of freedom.\n",
    "\n",
    "Next, we choose a test function $v\\in \\hat V_h$ where $\\hat V_h\\subset V_h$ such that $v\\vert_{\\partial\\Omega}=0$, as done in the first tutorial.\n",
    "We now need to define our inner product space. We choose the $L^2$ inner product spaces, which is a _[sesquilinear](https://en.wikipedia.org/wiki/Sesquilinear_form) 2-form_, Meaning that $\\langle u, v\\rangle$ is a map from $V_h\\times V_h\\mapsto K$, and $\\langle u, v \\rangle = \\int_\\Omega u \\cdot \\bar v ~\\mathrm{d} x$. As it is sesquilinear, we have the following properties:\n",
    "\n",
    "$$\\langle u , v \\rangle = \\overline{\\langle v, u \\rangle},$$\n",
    "$$\\langle u , u \\rangle \\geq 0.$$\n",
    "\n",
    "We can now use this inner product space to do integration by parts\n",
    "\n",
    "$$\\int_\\Omega \\nabla u_h \\cdot \\nabla \\overline{v}~ \\mathrm{dx} = \\int_{\\Omega} f \\cdot \\overline{v} ~\\mathrm{d} s \\qquad \\forall v \\in \\hat{V}_h.$$\n",
    "\n",
    "## Installation of FEniCSx with complex number support\n",
    "\n",
    "FEniCSx supports both real and complex numbers, meaning that we can create a function spaces with real valued or complex valued coefficients.\n"
   ]
  },
  {
   "cell_type": "code",
   "execution_count": 1,
   "id": "b52b39d9-260d-4c54-b62a-7440c3b92e5a",
   "metadata": {},
   "outputs": [
    {
     "name": "stdout",
     "output_type": "stream",
     "text": [
      "float64\n",
      "complex128\n"
     ]
    }
   ],
   "source": [
    "import dolfinx\n",
    "from mpi4py import MPI\n",
    "import numpy as np\n",
    "mesh = dolfinx.mesh.create_unit_square(MPI.COMM_WORLD, 10, 10)\n",
    "V = dolfinx.fem.FunctionSpace(mesh, (\"Lagrange\", 1))\n",
    "u_r = dolfinx.fem.Function(V, dtype=np.float64) \n",
    "u_r.interpolate(lambda x: x[0])\n",
    "u_c = dolfinx.fem.Function(V, dtype=np.complex128)\n",
    "u_c.interpolate(lambda x:0.5*x[0]**2 + 1j*x[1]**2)\n",
    "print(u_r.x.array.dtype)\n",
    "print(u_c.x.array.dtype)"
   ]
  },
  {
   "cell_type": "markdown",
   "id": "699ab6a9-4427-4c54-95c8-ce5de5d11b97",
   "metadata": {},
   "source": [
    "However, as we would like to solve linear algebra problems on the form $Ax=b$, we need to be able to use matrices and vectors that support real and complex numbers. As [PETSc](https://petsc.org/release/) is one of the most popular interfaces to linear algebra packages, we need to be able to work with their matrix and vector structures.\n",
    "\n",
    "Unfortunately, PETSc only supports one floating type in their matrices, thus we need to install two versions of PETSc, one that supports `float64` and one that supports `complex128`. In the [docker images](https://hub.docker.com/r/dolfinx/dolfinx) for DOLFINx, both versions are installed, and one can switch between them by calling `source dolfinx-real-mode` or `source dolfinx-complex-mode`. For the `dolfinx/lab` images, one can change the Python kernel to be either the real or complex mode, by going to `Kernel->Change Kernel...` and choose `Python3 (ipykernel)` (for real mode) or `Python3 (DOLFINx complex)` (for complex mode).\n",
    "\n",
    "We check that we are using the correct installation of PETSc by inspecting the scalar type.\n"
   ]
  },
  {
   "cell_type": "code",
   "execution_count": 2,
   "id": "4d5b03e3-4d7f-45b7-95eb-9130a5141f34",
   "metadata": {},
   "outputs": [
    {
     "name": "stdout",
     "output_type": "stream",
     "text": [
      "<class 'numpy.complex128'>\n"
     ]
    }
   ],
   "source": [
    "from petsc4py import PETSc\n",
    "from dolfinx.fem.petsc import assemble_vector\n",
    "print(PETSc.ScalarType)\n",
    "assert np.dtype(PETSc.ScalarType).kind == 'c'"
   ]
  },
  {
   "cell_type": "markdown",
   "id": "9ea24650-5027-4491-a459-375d7cf69fe3",
   "metadata": {},
   "source": [
    "## Variational problem\n",
    "\n",
    "We are now ready to define our variational problem\n"
   ]
  },
  {
   "cell_type": "code",
   "execution_count": 3,
   "id": "be8461a0-a089-4ff3-8bc8-61b016407e70",
   "metadata": {},
   "outputs": [],
   "source": [
    "import ufl\n",
    "u = ufl.TrialFunction(V)\n",
    "v = ufl.TestFunction(V)\n",
    "f = dolfinx.fem.Constant(mesh, PETSc.ScalarType(-1 - 2j))\n",
    "a = ufl.inner(ufl.grad(u), ufl.grad(v)) * ufl.dx\n",
    "L = ufl.inner(f, v) * ufl.dx"
   ]
  },
  {
   "cell_type": "markdown",
   "id": "d6f70a1e-d128-470b-9b32-b86dd807a0bf",
   "metadata": {},
   "source": [
    "Note that we have used the `PETSc.ScalarType` to wrap the constant source on the right hand side. This is because we want the integration kernels to assemble into the correct floating type.\n",
    "\n",
    "Secondly, note that we are using `ufl.inner` to describe multiplication of $f$ and $v$, even if they are scalar values. This is because `ufl.inner` takes the conjugate of the second argument, as decribed by the $L^2$ inner product. One could alternatively write this out manually\n",
    "\n",
    "### Inner-products and derivatives\n"
   ]
  },
  {
   "cell_type": "code",
   "execution_count": 4,
   "id": "779ab267-4609-4628-9577-a280b9c18b6d",
   "metadata": {},
   "outputs": [
    {
     "name": "stdout",
     "output_type": "stream",
     "text": [
      "{ c_0 * (conj((v_0))) } * dx(<Mesh #0>[everywhere], {})\n",
      "{ c_0 * (conj((v_0))) } * dx(<Mesh #0>[everywhere], {})\n"
     ]
    }
   ],
   "source": [
    "L2 = f * ufl.conj(v) * ufl.dx\n",
    "print(L)\n",
    "print(L2)"
   ]
  },
  {
   "cell_type": "markdown",
   "id": "9efe0968-bf32-4184-85f7-4e8cc3401cfb",
   "metadata": {},
   "source": [
    "Similarly, if we want to use the function $ufl.derivative$ to take derivatives of functionals, we need to take some special care. As `derivative` inserts a `ufl.TestFunction` to represent the variation, we need to take the conjugate of this to be able to use it to assemble vectors.\n"
   ]
  },
  {
   "cell_type": "code",
   "execution_count": 5,
   "id": "d61c477a-d364-4a81-9362-42f1eb4cd8ee",
   "metadata": {},
   "outputs": [
    {
     "name": "stdout",
     "output_type": "stream",
     "text": [
      "[4.21666667e-03+3.33333333e-05j 1.58750000e-03+8.33333333e-06j\n",
      " 4.68333333e-03+1.00000000e-04j 8.13333333e-03+2.66666667e-04j\n",
      " 3.35000000e-03+3.33333333e-05j 4.68333333e-03+3.66666667e-04j\n",
      " 6.43333333e-03+2.66666667e-04j 8.13333333e-03+8.66666667e-04j\n",
      " 2.58333333e-03+3.33333333e-05j 4.68333333e-03+8.33333333e-04j\n",
      " 4.93333333e-03+2.66666667e-04j 6.43333333e-03+8.66666667e-04j\n",
      " 8.13333333e-03+1.86666667e-03j 1.91666667e-03+3.33333333e-05j\n",
      " 4.68333333e-03+1.50000000e-03j 3.63333333e-03+2.66666667e-04j\n",
      " 4.93333333e-03+8.66666667e-04j 6.43333333e-03+1.86666667e-03j\n",
      " 8.13333333e-03+3.26666667e-03j 1.35000000e-03+3.33333333e-05j\n",
      " 4.68333333e-03+2.36666667e-03j 2.53333333e-03+2.66666667e-04j\n",
      " 3.63333333e-03+8.66666667e-04j 4.93333333e-03+1.86666667e-03j\n",
      " 6.43333333e-03+3.26666667e-03j 8.13333333e-03+5.06666667e-03j\n",
      " 8.83333333e-04+3.33333333e-05j 4.68333333e-03+3.43333333e-03j\n",
      " 1.63333333e-03+2.66666667e-04j 2.53333333e-03+8.66666667e-04j\n",
      " 3.63333333e-03+1.86666667e-03j 4.93333333e-03+3.26666667e-03j\n",
      " 6.43333333e-03+5.06666667e-03j 8.13333333e-03+7.26666667e-03j\n",
      " 5.16666667e-04+3.33333333e-05j 4.68333333e-03+4.70000000e-03j\n",
      " 9.33333333e-04+2.66666667e-04j 1.63333333e-03+8.66666667e-04j\n",
      " 2.53333333e-03+1.86666667e-03j 3.63333333e-03+3.26666667e-03j\n",
      " 4.93333333e-03+5.06666667e-03j 6.43333333e-03+7.26666667e-03j\n",
      " 8.13333333e-03+9.86666667e-03j 2.50000000e-04+3.33333333e-05j\n",
      " 4.68333333e-03+6.16666667e-03j 4.33333333e-04+2.66666667e-04j\n",
      " 9.33333333e-04+8.66666667e-04j 1.63333333e-03+1.86666667e-03j\n",
      " 2.53333333e-03+3.26666667e-03j 3.63333333e-03+5.06666667e-03j\n",
      " 4.93333333e-03+7.26666667e-03j 6.43333333e-03+9.86666667e-03j\n",
      " 8.13333333e-03+1.28666667e-02j 8.33333333e-05+3.33333333e-05j\n",
      " 4.68333333e-03+7.83333333e-03j 1.33333333e-04+2.66666667e-04j\n",
      " 4.33333333e-04+8.66666667e-04j 9.33333333e-04+1.86666667e-03j\n",
      " 1.63333333e-03+3.26666667e-03j 2.53333333e-03+5.06666667e-03j\n",
      " 3.63333333e-03+7.26666667e-03j 4.93333333e-03+9.86666667e-03j\n",
      " 6.43333333e-03+1.28666667e-02j 8.13333333e-03+1.62666667e-02j\n",
      " 1.25000000e-05+2.50000000e-05j 3.09583333e-03+6.19166667e-03j\n",
      " 1.66666667e-05+1.66666667e-04j 1.33333333e-04+8.66666667e-04j\n",
      " 4.33333333e-04+1.86666667e-03j 9.33333333e-04+3.26666667e-03j\n",
      " 1.63333333e-03+5.06666667e-03j 2.53333333e-03+7.26666667e-03j\n",
      " 3.63333333e-03+9.86666667e-03j 4.93333333e-03+1.28666667e-02j\n",
      " 6.43333333e-03+1.62666667e-02j 3.91666667e-03+9.36666667e-03j\n",
      " 1.66666667e-05+5.00000000e-04j 1.33333333e-04+1.86666667e-03j\n",
      " 4.33333333e-04+3.26666667e-03j 9.33333333e-04+5.06666667e-03j\n",
      " 1.63333333e-03+7.26666667e-03j 2.53333333e-03+9.86666667e-03j\n",
      " 3.63333333e-03+1.28666667e-02j 4.93333333e-03+1.62666667e-02j\n",
      " 3.08333333e-03+9.36666667e-03j 1.66666667e-05+1.03333333e-03j\n",
      " 1.33333333e-04+3.26666667e-03j 4.33333333e-04+5.06666667e-03j\n",
      " 9.33333333e-04+7.26666667e-03j 1.63333333e-03+9.86666667e-03j\n",
      " 2.53333333e-03+1.28666667e-02j 3.63333333e-03+1.62666667e-02j\n",
      " 2.35000000e-03+9.36666667e-03j 1.66666667e-05+1.76666667e-03j\n",
      " 1.33333333e-04+5.06666667e-03j 4.33333333e-04+7.26666667e-03j\n",
      " 9.33333333e-04+9.86666667e-03j 1.63333333e-03+1.28666667e-02j\n",
      " 2.53333333e-03+1.62666667e-02j 1.71666667e-03+9.36666667e-03j\n",
      " 1.66666667e-05+2.70000000e-03j 1.33333333e-04+7.26666667e-03j\n",
      " 4.33333333e-04+9.86666667e-03j 9.33333333e-04+1.28666667e-02j\n",
      " 1.63333333e-03+1.62666667e-02j 1.18333333e-03+9.36666667e-03j\n",
      " 1.66666667e-05+3.83333333e-03j 1.33333333e-04+9.86666667e-03j\n",
      " 4.33333333e-04+1.28666667e-02j 9.33333333e-04+1.62666667e-02j\n",
      " 7.50000000e-04+9.36666667e-03j 1.66666667e-05+5.16666667e-03j\n",
      " 1.33333333e-04+1.28666667e-02j 4.33333333e-04+1.62666667e-02j\n",
      " 4.16666667e-04+9.36666667e-03j 1.66666667e-05+6.70000000e-03j\n",
      " 1.33333333e-04+1.62666667e-02j 1.83333333e-04+9.36666667e-03j\n",
      " 1.66666667e-05+8.43333333e-03j 5.00000000e-05+9.36666667e-03j\n",
      " 4.16666667e-06+3.17500000e-03j]\n"
     ]
    }
   ],
   "source": [
    "J = u_c**2 * ufl.dx\n",
    "F = ufl.derivative(J, u_c, ufl.conj(v))\n",
    "residual = assemble_vector(dolfinx.fem.form(F))\n",
    "print(residual.array)"
   ]
  },
  {
   "cell_type": "markdown",
   "id": "1b664480-fc11-404d-83ea-7e2548894904",
   "metadata": {},
   "source": [
    "We define our Dirichlet condition and setup and solve the variational problem.\n",
    "\n",
    "## Solve variational problem\n"
   ]
  },
  {
   "cell_type": "code",
   "execution_count": 6,
   "id": "eb2357ae-ac71-4407-bf37-432f1b1e31d0",
   "metadata": {},
   "outputs": [],
   "source": [
    "mesh.topology.create_connectivity(mesh.topology.dim-1, mesh.topology.dim)\n",
    "boundary_facets = dolfinx.mesh.exterior_facet_indices(mesh.topology)\n",
    "boundary_dofs = dolfinx.fem.locate_dofs_topological(V, mesh.topology.dim-1, boundary_facets)\n",
    "bc = dolfinx.fem.dirichletbc(u_c, boundary_dofs)\n",
    "problem = dolfinx.fem.petsc.LinearProblem(a, L, bcs=[bc])\n",
    "uh = problem.solve()"
   ]
  },
  {
   "cell_type": "markdown",
   "id": "053bfa60-c382-4216-beaf-c06e95e70067",
   "metadata": {},
   "source": [
    "We compute the $L^2$ error and the max error\n",
    "\n",
    "## Error computation\n"
   ]
  },
  {
   "cell_type": "code",
   "execution_count": 7,
   "id": "f51d9a7a-2cde-4d0f-8606-91f91c372c4b",
   "metadata": {},
   "outputs": [
    {
     "name": "stdout",
     "output_type": "stream",
     "text": [
      "(0.0007865435216227265+0.0017660156338113752j) 3.553078358632328e-06\n"
     ]
    }
   ],
   "source": [
    "x = ufl.SpatialCoordinate(mesh)\n",
    "u_ex = 0.5 * x[0]**2 + 1j*x[1]**2\n",
    "L2_error = dolfinx.fem.form(ufl.dot(uh-u_ex, uh-u_ex) * ufl.dx(metadata={\"quadrature_degree\": 5}))\n",
    "local_error = dolfinx.fem.assemble_scalar(L2_error)\n",
    "global_error = np.sqrt(mesh.comm.allreduce(local_error, op=MPI.SUM))\n",
    "max_error = mesh.comm.allreduce(np.max(np.abs(u_c.x.array-uh.x.array)))\n",
    "print(global_error, max_error)"
   ]
  },
  {
   "cell_type": "markdown",
   "id": "36431a2a-2063-4070-b1fc-3f58a3b7316b",
   "metadata": {},
   "source": [
    "## Plotting\n",
    "\n",
    "Finally, we plot the real and imaginary solution\n"
   ]
  },
  {
   "cell_type": "code",
   "execution_count": 8,
   "id": "7a3f89d0-4771-4cc3-a0cd-ce8451a414ba",
   "metadata": {},
   "outputs": [],
   "source": [
    "import pyvista\n",
    "pyvista.start_xvfb()\n",
    "p_mesh = pyvista.UnstructuredGrid(*dolfinx.plot.vtk_mesh(mesh, mesh.topology.dim))\n",
    "pyvista_cells, cell_types, geometry = dolfinx.plot.vtk_mesh(V)\n",
    "grid = pyvista.UnstructuredGrid(pyvista_cells, cell_types, geometry)\n",
    "grid.point_data[\"u_real\"] = uh.x.array.real\n",
    "grid.point_data[\"u_imag\"] = uh.x.array.imag\n",
    "_ = grid.set_active_scalars(\"u_real\")"
   ]
  },
  {
   "cell_type": "code",
   "execution_count": 9,
   "id": "9564e40a-ca18-497a-8de0-ef075aae3199",
   "metadata": {},
   "outputs": [
    {
     "data": {
      "application/javascript": "(function(root) {\n  function now() {\n    return new Date();\n  }\n\n  var force = true;\n  var py_version = '3.2.1'.replace('rc', '-rc.').replace('.dev', '-dev.');\n  var is_dev = py_version.indexOf(\"+\") !== -1 || py_version.indexOf(\"-\") !== -1;\n  var reloading = false;\n  var Bokeh = root.Bokeh;\n  var bokeh_loaded = Bokeh != null && (Bokeh.version === py_version || (Bokeh.versions !== undefined && Bokeh.versions.has(py_version)));\n\n  if (typeof (root._bokeh_timeout) === \"undefined\" || force) {\n    root._bokeh_timeout = Date.now() + 5000;\n    root._bokeh_failed_load = false;\n  }\n\n  function run_callbacks() {\n    try {\n      root._bokeh_onload_callbacks.forEach(function(callback) {\n        if (callback != null)\n          callback();\n      });\n    } finally {\n      delete root._bokeh_onload_callbacks;\n    }\n    console.debug(\"Bokeh: all callbacks have finished\");\n  }\n\n  function load_libs(css_urls, js_urls, js_modules, js_exports, callback) {\n    if (css_urls == null) css_urls = [];\n    if (js_urls == null) js_urls = [];\n    if (js_modules == null) js_modules = [];\n    if (js_exports == null) js_exports = {};\n\n    root._bokeh_onload_callbacks.push(callback);\n\n    if (root._bokeh_is_loading > 0) {\n      console.debug(\"Bokeh: BokehJS is being loaded, scheduling callback at\", now());\n      return null;\n    }\n    if (js_urls.length === 0 && js_modules.length === 0 && Object.keys(js_exports).length === 0) {\n      run_callbacks();\n      return null;\n    }\n    if (!reloading) {\n      console.debug(\"Bokeh: BokehJS not loaded, scheduling load and callback at\", now());\n    }\n\n    function on_load() {\n      root._bokeh_is_loading--;\n      if (root._bokeh_is_loading === 0) {\n        console.debug(\"Bokeh: all BokehJS libraries/stylesheets loaded\");\n        run_callbacks()\n      }\n    }\n    window._bokeh_on_load = on_load\n\n    function on_error() {\n      console.error(\"failed to load \" + url);\n    }\n\n    var skip = [];\n    if (window.requirejs) {\n      window.requirejs.config({'packages': {}, 'paths': {'vtk': 'https://cdn.jsdelivr.net/npm/vtk.js@20.0.1/vtk', 'jspanel': 'https://cdn.jsdelivr.net/npm/jspanel4@4.12.0/dist/jspanel', 'jspanel-modal': 'https://cdn.jsdelivr.net/npm/jspanel4@4.12.0/dist/extensions/modal/jspanel.modal', 'jspanel-tooltip': 'https://cdn.jsdelivr.net/npm/jspanel4@4.12.0/dist/extensions/tooltip/jspanel.tooltip', 'jspanel-hint': 'https://cdn.jsdelivr.net/npm/jspanel4@4.12.0/dist/extensions/hint/jspanel.hint', 'jspanel-layout': 'https://cdn.jsdelivr.net/npm/jspanel4@4.12.0/dist/extensions/layout/jspanel.layout', 'jspanel-contextmenu': 'https://cdn.jsdelivr.net/npm/jspanel4@4.12.0/dist/extensions/contextmenu/jspanel.contextmenu', 'jspanel-dock': 'https://cdn.jsdelivr.net/npm/jspanel4@4.12.0/dist/extensions/dock/jspanel.dock', 'gridstack': 'https://cdn.jsdelivr.net/npm/gridstack@7.2.3/dist/gridstack-all', 'notyf': 'https://cdn.jsdelivr.net/npm/notyf@3/notyf.min'}, 'shim': {'vtk': {'exports': 'vtk'}, 'jspanel': {'exports': 'jsPanel'}, 'gridstack': {'exports': 'GridStack'}}});\n      require([\"vtk\"], function() {\n\ton_load()\n      })\n      require([\"jspanel\"], function(jsPanel) {\n\twindow.jsPanel = jsPanel\n\ton_load()\n      })\n      require([\"jspanel-modal\"], function() {\n\ton_load()\n      })\n      require([\"jspanel-tooltip\"], function() {\n\ton_load()\n      })\n      require([\"jspanel-hint\"], function() {\n\ton_load()\n      })\n      require([\"jspanel-layout\"], function() {\n\ton_load()\n      })\n      require([\"jspanel-contextmenu\"], function() {\n\ton_load()\n      })\n      require([\"jspanel-dock\"], function() {\n\ton_load()\n      })\n      require([\"gridstack\"], function(GridStack) {\n\twindow.GridStack = GridStack\n\ton_load()\n      })\n      require([\"notyf\"], function() {\n\ton_load()\n      })\n      root._bokeh_is_loading = css_urls.length + 10;\n    } else {\n      root._bokeh_is_loading = css_urls.length + js_urls.length + js_modules.length + Object.keys(js_exports).length;\n    }\n\n    var existing_stylesheets = []\n    var links = document.getElementsByTagName('link')\n    for (var i = 0; i < links.length; i++) {\n      var link = links[i]\n      if (link.href != null) {\n\texisting_stylesheets.push(link.href)\n      }\n    }\n    for (var i = 0; i < css_urls.length; i++) {\n      var url = css_urls[i];\n      if (existing_stylesheets.indexOf(url) !== -1) {\n\ton_load()\n\tcontinue;\n      }\n      const element = document.createElement(\"link\");\n      element.onload = on_load;\n      element.onerror = on_error;\n      element.rel = \"stylesheet\";\n      element.type = \"text/css\";\n      element.href = url;\n      console.debug(\"Bokeh: injecting link tag for BokehJS stylesheet: \", url);\n      document.body.appendChild(element);\n    }    if (((window['vtk'] !== undefined) && (!(window['vtk'] instanceof HTMLElement))) || window.requirejs) {\n      var urls = ['https://cdn.holoviz.org/panel/1.2.1/dist/bundled/abstractvtkplot/vtk.js@20.0.1/vtk.js'];\n      for (var i = 0; i < urls.length; i++) {\n        skip.push(urls[i])\n      }\n    }    if (((window['jsPanel'] !== undefined) && (!(window['jsPanel'] instanceof HTMLElement))) || window.requirejs) {\n      var urls = ['https://cdn.holoviz.org/panel/1.2.1/dist/bundled/floatpanel/jspanel4@4.12.0/dist/jspanel.js', 'https://cdn.holoviz.org/panel/1.2.1/dist/bundled/floatpanel/jspanel4@4.12.0/dist/extensions/modal/jspanel.modal.js', 'https://cdn.holoviz.org/panel/1.2.1/dist/bundled/floatpanel/jspanel4@4.12.0/dist/extensions/tooltip/jspanel.tooltip.js', 'https://cdn.holoviz.org/panel/1.2.1/dist/bundled/floatpanel/jspanel4@4.12.0/dist/extensions/hint/jspanel.hint.js', 'https://cdn.holoviz.org/panel/1.2.1/dist/bundled/floatpanel/jspanel4@4.12.0/dist/extensions/layout/jspanel.layout.js', 'https://cdn.holoviz.org/panel/1.2.1/dist/bundled/floatpanel/jspanel4@4.12.0/dist/extensions/contextmenu/jspanel.contextmenu.js', 'https://cdn.holoviz.org/panel/1.2.1/dist/bundled/floatpanel/jspanel4@4.12.0/dist/extensions/dock/jspanel.dock.js'];\n      for (var i = 0; i < urls.length; i++) {\n        skip.push(urls[i])\n      }\n    }    if (((window['GridStack'] !== undefined) && (!(window['GridStack'] instanceof HTMLElement))) || window.requirejs) {\n      var urls = ['https://cdn.holoviz.org/panel/1.2.1/dist/bundled/gridstack/gridstack@7.2.3/dist/gridstack-all.js'];\n      for (var i = 0; i < urls.length; i++) {\n        skip.push(urls[i])\n      }\n    }    if (((window['Notyf'] !== undefined) && (!(window['Notyf'] instanceof HTMLElement))) || window.requirejs) {\n      var urls = ['https://cdn.holoviz.org/panel/1.2.1/dist/bundled/notificationarea/notyf@3/notyf.min.js'];\n      for (var i = 0; i < urls.length; i++) {\n        skip.push(urls[i])\n      }\n    }    var existing_scripts = []\n    var scripts = document.getElementsByTagName('script')\n    for (var i = 0; i < scripts.length; i++) {\n      var script = scripts[i]\n      if (script.src != null) {\n\texisting_scripts.push(script.src)\n      }\n    }\n    for (var i = 0; i < js_urls.length; i++) {\n      var url = js_urls[i];\n      if (skip.indexOf(url) !== -1 || existing_scripts.indexOf(url) !== -1) {\n\tif (!window.requirejs) {\n\t  on_load();\n\t}\n\tcontinue;\n      }\n      var element = document.createElement('script');\n      element.onload = on_load;\n      element.onerror = on_error;\n      element.async = false;\n      element.src = url;\n      console.debug(\"Bokeh: injecting script tag for BokehJS library: \", url);\n      document.head.appendChild(element);\n    }\n    for (var i = 0; i < js_modules.length; i++) {\n      var url = js_modules[i];\n      if (skip.indexOf(url) !== -1 || existing_scripts.indexOf(url) !== -1) {\n\tif (!window.requirejs) {\n\t  on_load();\n\t}\n\tcontinue;\n      }\n      var element = document.createElement('script');\n      element.onload = on_load;\n      element.onerror = on_error;\n      element.async = false;\n      element.src = url;\n      element.type = \"module\";\n      console.debug(\"Bokeh: injecting script tag for BokehJS library: \", url);\n      document.head.appendChild(element);\n    }\n    for (const name in js_exports) {\n      var url = js_exports[name];\n      if (skip.indexOf(url) >= 0 || root[name] != null) {\n\tif (!window.requirejs) {\n\t  on_load();\n\t}\n\tcontinue;\n      }\n      var element = document.createElement('script');\n      element.onerror = on_error;\n      element.async = false;\n      element.type = \"module\";\n      console.debug(\"Bokeh: injecting script tag for BokehJS library: \", url);\n      element.textContent = `\n      import ${name} from \"${url}\"\n      window.${name} = ${name}\n      window._bokeh_on_load()\n      `\n      document.head.appendChild(element);\n    }\n    if (!js_urls.length && !js_modules.length) {\n      on_load()\n    }\n  };\n\n  function inject_raw_css(css) {\n    const element = document.createElement(\"style\");\n    element.appendChild(document.createTextNode(css));\n    document.body.appendChild(element);\n  }\n\n  var js_urls = [\"https://cdn.holoviz.org/panel/1.2.1/dist/bundled/abstractvtkplot/vtk.js@20.0.1/vtk.js\", \"https://cdn.bokeh.org/bokeh/release/bokeh-3.2.1.min.js\", \"https://cdn.bokeh.org/bokeh/release/bokeh-gl-3.2.1.min.js\", \"https://cdn.bokeh.org/bokeh/release/bokeh-widgets-3.2.1.min.js\", \"https://cdn.bokeh.org/bokeh/release/bokeh-tables-3.2.1.min.js\", \"https://cdn.holoviz.org/panel/1.2.1/dist/panel.min.js\"];\n  var js_modules = [];\n  var js_exports = {};\n  var css_urls = [];\n  var inline_js = [    function(Bokeh) {\n      Bokeh.set_log_level(\"info\");\n    },\nfunction(Bokeh) {} // ensure no trailing comma for IE\n  ];\n\n  function run_inline_js() {\n    if ((root.Bokeh !== undefined) || (force === true)) {\n      for (var i = 0; i < inline_js.length; i++) {\n        inline_js[i].call(root, root.Bokeh);\n      }\n      // Cache old bokeh versions\n      if (Bokeh != undefined && !reloading) {\n\tvar NewBokeh = root.Bokeh;\n\tif (Bokeh.versions === undefined) {\n\t  Bokeh.versions = new Map();\n\t}\n\tif (NewBokeh.version !== Bokeh.version) {\n\t  Bokeh.versions.set(NewBokeh.version, NewBokeh)\n\t}\n\troot.Bokeh = Bokeh;\n      }} else if (Date.now() < root._bokeh_timeout) {\n      setTimeout(run_inline_js, 100);\n    } else if (!root._bokeh_failed_load) {\n      console.log(\"Bokeh: BokehJS failed to load within specified timeout.\");\n      root._bokeh_failed_load = true;\n    }\n    root._bokeh_is_initializing = false\n  }\n\n  function load_or_wait() {\n    // Implement a backoff loop that tries to ensure we do not load multiple\n    // versions of Bokeh and its dependencies at the same time.\n    // In recent versions we use the root._bokeh_is_initializing flag\n    // to determine whether there is an ongoing attempt to initialize\n    // bokeh, however for backward compatibility we also try to ensure\n    // that we do not start loading a newer (Panel>=1.0 and Bokeh>3) version\n    // before older versions are fully initialized.\n    if (root._bokeh_is_initializing && Date.now() > root._bokeh_timeout) {\n      root._bokeh_is_initializing = false;\n      root._bokeh_onload_callbacks = undefined;\n      console.log(\"Bokeh: BokehJS was loaded multiple times but one version failed to initialize.\");\n      load_or_wait();\n    } else if (root._bokeh_is_initializing || (typeof root._bokeh_is_initializing === \"undefined\" && root._bokeh_onload_callbacks !== undefined)) {\n      setTimeout(load_or_wait, 100);\n    } else {\n      Bokeh = root.Bokeh;\n      bokeh_loaded = Bokeh != null && (Bokeh.version === py_version || (Bokeh.versions !== undefined && Bokeh.versions.has(py_version)));\n      root._bokeh_is_initializing = true\n      root._bokeh_onload_callbacks = []\n      if (!reloading && (!bokeh_loaded || is_dev)) {\n\troot.Bokeh = undefined;\n      }\n      load_libs(css_urls, js_urls, js_modules, js_exports, function() {\n\tconsole.debug(\"Bokeh: BokehJS plotting callback run at\", now());\n\trun_inline_js();\n      });\n    }\n  }\n  // Give older versions of the autoload script a head-start to ensure\n  // they initialize before we start loading newer version.\n  setTimeout(load_or_wait, 100)\n}(window));",
      "application/vnd.holoviews_load.v0+json": ""
     },
     "metadata": {},
     "output_type": "display_data"
    },
    {
     "data": {
      "application/javascript": "\nif ((window.PyViz === undefined) || (window.PyViz instanceof HTMLElement)) {\n  window.PyViz = {comms: {}, comm_status:{}, kernels:{}, receivers: {}, plot_index: []}\n}\n\n\n    function JupyterCommManager() {\n    }\n\n    JupyterCommManager.prototype.register_target = function(plot_id, comm_id, msg_handler) {\n      if (window.comm_manager || ((window.Jupyter !== undefined) && (Jupyter.notebook.kernel != null))) {\n        var comm_manager = window.comm_manager || Jupyter.notebook.kernel.comm_manager;\n        comm_manager.register_target(comm_id, function(comm) {\n          comm.on_msg(msg_handler);\n        });\n      } else if ((plot_id in window.PyViz.kernels) && (window.PyViz.kernels[plot_id])) {\n        window.PyViz.kernels[plot_id].registerCommTarget(comm_id, function(comm) {\n          comm.onMsg = msg_handler;\n        });\n      } else if (typeof google != 'undefined' && google.colab.kernel != null) {\n        google.colab.kernel.comms.registerTarget(comm_id, (comm) => {\n          var messages = comm.messages[Symbol.asyncIterator]();\n          function processIteratorResult(result) {\n            var message = result.value;\n            console.log(message)\n            var content = {data: message.data, comm_id};\n            var buffers = []\n            for (var buffer of message.buffers || []) {\n              buffers.push(new DataView(buffer))\n            }\n            var metadata = message.metadata || {};\n            var msg = {content, buffers, metadata}\n            msg_handler(msg);\n            return messages.next().then(processIteratorResult);\n          }\n          return messages.next().then(processIteratorResult);\n        })\n      }\n    }\n\n    JupyterCommManager.prototype.get_client_comm = function(plot_id, comm_id, msg_handler) {\n      if (comm_id in window.PyViz.comms) {\n        return window.PyViz.comms[comm_id];\n      } else if (window.comm_manager || ((window.Jupyter !== undefined) && (Jupyter.notebook.kernel != null))) {\n        var comm_manager = window.comm_manager || Jupyter.notebook.kernel.comm_manager;\n        var comm = comm_manager.new_comm(comm_id, {}, {}, {}, comm_id);\n        if (msg_handler) {\n          comm.on_msg(msg_handler);\n        }\n      } else if ((plot_id in window.PyViz.kernels) && (window.PyViz.kernels[plot_id])) {\n        var comm = window.PyViz.kernels[plot_id].connectToComm(comm_id);\n        comm.open();\n        if (msg_handler) {\n          comm.onMsg = msg_handler;\n        }\n      } else if (typeof google != 'undefined' && google.colab.kernel != null) {\n        var comm_promise = google.colab.kernel.comms.open(comm_id)\n        comm_promise.then((comm) => {\n          window.PyViz.comms[comm_id] = comm;\n          if (msg_handler) {\n            var messages = comm.messages[Symbol.asyncIterator]();\n            function processIteratorResult(result) {\n              var message = result.value;\n              var content = {data: message.data};\n              var metadata = message.metadata || {comm_id};\n              var msg = {content, metadata}\n              msg_handler(msg);\n              return messages.next().then(processIteratorResult);\n            }\n            return messages.next().then(processIteratorResult);\n          }\n        }) \n        var sendClosure = (data, metadata, buffers, disposeOnDone) => {\n          return comm_promise.then((comm) => {\n            comm.send(data, metadata, buffers, disposeOnDone);\n          });\n        };\n        var comm = {\n          send: sendClosure\n        };\n      }\n      window.PyViz.comms[comm_id] = comm;\n      return comm;\n    }\n    window.PyViz.comm_manager = new JupyterCommManager();\n    \n\n\nvar JS_MIME_TYPE = 'application/javascript';\nvar HTML_MIME_TYPE = 'text/html';\nvar EXEC_MIME_TYPE = 'application/vnd.holoviews_exec.v0+json';\nvar CLASS_NAME = 'output';\n\n/**\n * Render data to the DOM node\n */\nfunction render(props, node) {\n  var div = document.createElement(\"div\");\n  var script = document.createElement(\"script\");\n  node.appendChild(div);\n  node.appendChild(script);\n}\n\n/**\n * Handle when a new output is added\n */\nfunction handle_add_output(event, handle) {\n  var output_area = handle.output_area;\n  var output = handle.output;\n  if ((output.data == undefined) || (!output.data.hasOwnProperty(EXEC_MIME_TYPE))) {\n    return\n  }\n  var id = output.metadata[EXEC_MIME_TYPE][\"id\"];\n  var toinsert = output_area.element.find(\".\" + CLASS_NAME.split(' ')[0]);\n  if (id !== undefined) {\n    var nchildren = toinsert.length;\n    var html_node = toinsert[nchildren-1].children[0];\n    html_node.innerHTML = output.data[HTML_MIME_TYPE];\n    var scripts = [];\n    var nodelist = html_node.querySelectorAll(\"script\");\n    for (var i in nodelist) {\n      if (nodelist.hasOwnProperty(i)) {\n        scripts.push(nodelist[i])\n      }\n    }\n\n    scripts.forEach( function (oldScript) {\n      var newScript = document.createElement(\"script\");\n      var attrs = [];\n      var nodemap = oldScript.attributes;\n      for (var j in nodemap) {\n        if (nodemap.hasOwnProperty(j)) {\n          attrs.push(nodemap[j])\n        }\n      }\n      attrs.forEach(function(attr) { newScript.setAttribute(attr.name, attr.value) });\n      newScript.appendChild(document.createTextNode(oldScript.innerHTML));\n      oldScript.parentNode.replaceChild(newScript, oldScript);\n    });\n    if (JS_MIME_TYPE in output.data) {\n      toinsert[nchildren-1].children[1].textContent = output.data[JS_MIME_TYPE];\n    }\n    output_area._hv_plot_id = id;\n    if ((window.Bokeh !== undefined) && (id in Bokeh.index)) {\n      window.PyViz.plot_index[id] = Bokeh.index[id];\n    } else {\n      window.PyViz.plot_index[id] = null;\n    }\n  } else if (output.metadata[EXEC_MIME_TYPE][\"server_id\"] !== undefined) {\n    var bk_div = document.createElement(\"div\");\n    bk_div.innerHTML = output.data[HTML_MIME_TYPE];\n    var script_attrs = bk_div.children[0].attributes;\n    for (var i = 0; i < script_attrs.length; i++) {\n      toinsert[toinsert.length - 1].childNodes[1].setAttribute(script_attrs[i].name, script_attrs[i].value);\n    }\n    // store reference to server id on output_area\n    output_area._bokeh_server_id = output.metadata[EXEC_MIME_TYPE][\"server_id\"];\n  }\n}\n\n/**\n * Handle when an output is cleared or removed\n */\nfunction handle_clear_output(event, handle) {\n  var id = handle.cell.output_area._hv_plot_id;\n  var server_id = handle.cell.output_area._bokeh_server_id;\n  if (((id === undefined) || !(id in PyViz.plot_index)) && (server_id !== undefined)) { return; }\n  var comm = window.PyViz.comm_manager.get_client_comm(\"hv-extension-comm\", \"hv-extension-comm\", function () {});\n  if (server_id !== null) {\n    comm.send({event_type: 'server_delete', 'id': server_id});\n    return;\n  } else if (comm !== null) {\n    comm.send({event_type: 'delete', 'id': id});\n  }\n  delete PyViz.plot_index[id];\n  if ((window.Bokeh !== undefined) & (id in window.Bokeh.index)) {\n    var doc = window.Bokeh.index[id].model.document\n    doc.clear();\n    const i = window.Bokeh.documents.indexOf(doc);\n    if (i > -1) {\n      window.Bokeh.documents.splice(i, 1);\n    }\n  }\n}\n\n/**\n * Handle kernel restart event\n */\nfunction handle_kernel_cleanup(event, handle) {\n  delete PyViz.comms[\"hv-extension-comm\"];\n  window.PyViz.plot_index = {}\n}\n\n/**\n * Handle update_display_data messages\n */\nfunction handle_update_output(event, handle) {\n  handle_clear_output(event, {cell: {output_area: handle.output_area}})\n  handle_add_output(event, handle)\n}\n\nfunction register_renderer(events, OutputArea) {\n  function append_mime(data, metadata, element) {\n    // create a DOM node to render to\n    var toinsert = this.create_output_subarea(\n    metadata,\n    CLASS_NAME,\n    EXEC_MIME_TYPE\n    );\n    this.keyboard_manager.register_events(toinsert);\n    // Render to node\n    var props = {data: data, metadata: metadata[EXEC_MIME_TYPE]};\n    render(props, toinsert[0]);\n    element.append(toinsert);\n    return toinsert\n  }\n\n  events.on('output_added.OutputArea', handle_add_output);\n  events.on('output_updated.OutputArea', handle_update_output);\n  events.on('clear_output.CodeCell', handle_clear_output);\n  events.on('delete.Cell', handle_clear_output);\n  events.on('kernel_ready.Kernel', handle_kernel_cleanup);\n\n  OutputArea.prototype.register_mime_type(EXEC_MIME_TYPE, append_mime, {\n    safe: true,\n    index: 0\n  });\n}\n\nif (window.Jupyter !== undefined) {\n  try {\n    var events = require('base/js/events');\n    var OutputArea = require('notebook/js/outputarea').OutputArea;\n    if (OutputArea.prototype.mime_types().indexOf(EXEC_MIME_TYPE) == -1) {\n      register_renderer(events, OutputArea);\n    }\n  } catch(err) {\n  }\n}\n",
      "application/vnd.holoviews_load.v0+json": ""
     },
     "metadata": {},
     "output_type": "display_data"
    },
    {
     "data": {
      "text/html": [
       "<style>*[data-root-id],\n",
       "*[data-root-id] > * {\n",
       "  box-sizing: border-box;\n",
       "  font-family: var(--jp-ui-font-family);\n",
       "  font-size: var(--jp-ui-font-size1);\n",
       "  color: var(--vscode-editor-foreground, var(--jp-ui-font-color1));\n",
       "}\n",
       "\n",
       "/* Override VSCode background color */\n",
       ".cell-output-ipywidget-background:has(\n",
       "    > .cell-output-ipywidget-background > .lm-Widget > *[data-root-id]\n",
       "  ),\n",
       ".cell-output-ipywidget-background:has(> .lm-Widget > *[data-root-id]) {\n",
       "  background-color: transparent !important;\n",
       "}\n",
       "</style>"
      ]
     },
     "metadata": {},
     "output_type": "display_data"
    },
    {
     "data": {
      "application/vnd.holoviews_exec.v0+json": "",
      "text/html": [
       "<div id='b1903f90-9f2c-49df-92c5-f9aaa961d7c4'>\n",
       "  <div id=\"a538e9d2-6792-4222-be8c-33522cd5bed3\" data-root-id=\"b1903f90-9f2c-49df-92c5-f9aaa961d7c4\" style=\"display: contents;\"></div>\n",
       "</div>\n",
       "<script type=\"application/javascript\">(function(root) {\n",
       "  var docs_json = {\"39222567-09e1-4161-b6bc-2178333b4fb6\":{\"version\":\"3.2.1\",\"title\":\"Bokeh Application\",\"roots\":[{\"type\":\"object\",\"name\":\"panel.models.browser.BrowserInfo\",\"id\":\"b1903f90-9f2c-49df-92c5-f9aaa961d7c4\"},{\"type\":\"object\",\"name\":\"panel.models.comm_manager.CommManager\",\"id\":\"5aa8b63a-5bc1-4f49-923b-e663b24bf927\",\"attributes\":{\"plot_id\":\"b1903f90-9f2c-49df-92c5-f9aaa961d7c4\",\"comm_id\":\"27f861096ce242948fb58a95a577b9fc\",\"client_comm_id\":\"fabe0e5770334738a06872d63b77a467\"}}],\"defs\":[{\"type\":\"model\",\"name\":\"ReactiveHTML1\"},{\"type\":\"model\",\"name\":\"FlexBox1\",\"properties\":[{\"name\":\"align_content\",\"kind\":\"Any\",\"default\":\"flex-start\"},{\"name\":\"align_items\",\"kind\":\"Any\",\"default\":\"flex-start\"},{\"name\":\"flex_direction\",\"kind\":\"Any\",\"default\":\"row\"},{\"name\":\"flex_wrap\",\"kind\":\"Any\",\"default\":\"wrap\"},{\"name\":\"justify_content\",\"kind\":\"Any\",\"default\":\"flex-start\"}]},{\"type\":\"model\",\"name\":\"FloatPanel1\",\"properties\":[{\"name\":\"config\",\"kind\":\"Any\",\"default\":{\"type\":\"map\"}},{\"name\":\"contained\",\"kind\":\"Any\",\"default\":true},{\"name\":\"position\",\"kind\":\"Any\",\"default\":\"right-top\"},{\"name\":\"offsetx\",\"kind\":\"Any\",\"default\":null},{\"name\":\"offsety\",\"kind\":\"Any\",\"default\":null},{\"name\":\"theme\",\"kind\":\"Any\",\"default\":\"primary\"},{\"name\":\"status\",\"kind\":\"Any\",\"default\":\"normalized\"}]},{\"type\":\"model\",\"name\":\"GridStack1\",\"properties\":[{\"name\":\"mode\",\"kind\":\"Any\",\"default\":\"warn\"},{\"name\":\"ncols\",\"kind\":\"Any\",\"default\":null},{\"name\":\"nrows\",\"kind\":\"Any\",\"default\":null},{\"name\":\"allow_resize\",\"kind\":\"Any\",\"default\":true},{\"name\":\"allow_drag\",\"kind\":\"Any\",\"default\":true},{\"name\":\"state\",\"kind\":\"Any\",\"default\":[]}]},{\"type\":\"model\",\"name\":\"drag1\",\"properties\":[{\"name\":\"slider_width\",\"kind\":\"Any\",\"default\":5},{\"name\":\"slider_color\",\"kind\":\"Any\",\"default\":\"black\"},{\"name\":\"value\",\"kind\":\"Any\",\"default\":50}]},{\"type\":\"model\",\"name\":\"click1\",\"properties\":[{\"name\":\"terminal_output\",\"kind\":\"Any\",\"default\":\"\"},{\"name\":\"debug_name\",\"kind\":\"Any\",\"default\":\"\"},{\"name\":\"clears\",\"kind\":\"Any\",\"default\":0}]},{\"type\":\"model\",\"name\":\"FastWrapper1\",\"properties\":[{\"name\":\"object\",\"kind\":\"Any\",\"default\":null},{\"name\":\"style\",\"kind\":\"Any\",\"default\":null}]},{\"type\":\"model\",\"name\":\"NotificationAreaBase1\",\"properties\":[{\"name\":\"js_events\",\"kind\":\"Any\",\"default\":{\"type\":\"map\"}},{\"name\":\"position\",\"kind\":\"Any\",\"default\":\"bottom-right\"},{\"name\":\"_clear\",\"kind\":\"Any\",\"default\":0}]},{\"type\":\"model\",\"name\":\"NotificationArea1\",\"properties\":[{\"name\":\"js_events\",\"kind\":\"Any\",\"default\":{\"type\":\"map\"}},{\"name\":\"notifications\",\"kind\":\"Any\",\"default\":[]},{\"name\":\"position\",\"kind\":\"Any\",\"default\":\"bottom-right\"},{\"name\":\"_clear\",\"kind\":\"Any\",\"default\":0},{\"name\":\"types\",\"kind\":\"Any\",\"default\":[{\"type\":\"map\",\"entries\":[[\"type\",\"warning\"],[\"background\",\"#ffc107\"],[\"icon\",{\"type\":\"map\",\"entries\":[[\"className\",\"fas fa-exclamation-triangle\"],[\"tagName\",\"i\"],[\"color\",\"white\"]]}]]},{\"type\":\"map\",\"entries\":[[\"type\",\"info\"],[\"background\",\"#007bff\"],[\"icon\",{\"type\":\"map\",\"entries\":[[\"className\",\"fas fa-info-circle\"],[\"tagName\",\"i\"],[\"color\",\"white\"]]}]]}]}]},{\"type\":\"model\",\"name\":\"Notification\",\"properties\":[{\"name\":\"background\",\"kind\":\"Any\",\"default\":null},{\"name\":\"duration\",\"kind\":\"Any\",\"default\":3000},{\"name\":\"icon\",\"kind\":\"Any\",\"default\":null},{\"name\":\"message\",\"kind\":\"Any\",\"default\":\"\"},{\"name\":\"notification_type\",\"kind\":\"Any\",\"default\":null},{\"name\":\"_destroyed\",\"kind\":\"Any\",\"default\":false}]},{\"type\":\"model\",\"name\":\"TemplateActions1\",\"properties\":[{\"name\":\"open_modal\",\"kind\":\"Any\",\"default\":0},{\"name\":\"close_modal\",\"kind\":\"Any\",\"default\":0}]},{\"type\":\"model\",\"name\":\"BootstrapTemplateActions1\",\"properties\":[{\"name\":\"open_modal\",\"kind\":\"Any\",\"default\":0},{\"name\":\"close_modal\",\"kind\":\"Any\",\"default\":0}]},{\"type\":\"model\",\"name\":\"MaterialTemplateActions1\",\"properties\":[{\"name\":\"open_modal\",\"kind\":\"Any\",\"default\":0},{\"name\":\"close_modal\",\"kind\":\"Any\",\"default\":0}]}]}};\n",
       "  var render_items = [{\"docid\":\"39222567-09e1-4161-b6bc-2178333b4fb6\",\"roots\":{\"b1903f90-9f2c-49df-92c5-f9aaa961d7c4\":\"a538e9d2-6792-4222-be8c-33522cd5bed3\"},\"root_ids\":[\"b1903f90-9f2c-49df-92c5-f9aaa961d7c4\"]}];\n",
       "  var docs = Object.values(docs_json)\n",
       "  if (!docs) {\n",
       "    return\n",
       "  }\n",
       "  const py_version = docs[0].version.replace('rc', '-rc.').replace('.dev', '-dev.')\n",
       "  const is_dev = py_version.indexOf(\"+\") !== -1 || py_version.indexOf(\"-\") !== -1\n",
       "  function embed_document(root) {\n",
       "    var Bokeh = get_bokeh(root)\n",
       "    Bokeh.embed.embed_items_notebook(docs_json, render_items);\n",
       "    for (const render_item of render_items) {\n",
       "      for (const root_id of render_item.root_ids) {\n",
       "\tconst id_el = document.getElementById(root_id)\n",
       "\tif (id_el.children.length && (id_el.children[0].className === 'bk-root')) {\n",
       "\t  const root_el = id_el.children[0]\n",
       "\t  root_el.id = root_el.id + '-rendered'\n",
       "\t}\n",
       "      }\n",
       "    }\n",
       "  }\n",
       "  function get_bokeh(root) {\n",
       "    if (root.Bokeh === undefined) {\n",
       "      return null\n",
       "    } else if (root.Bokeh.version !== py_version && !is_dev) {\n",
       "      if (root.Bokeh.versions === undefined || !root.Bokeh.versions.has(py_version)) {\n",
       "\treturn null\n",
       "      }\n",
       "      return root.Bokeh.versions.get(py_version);\n",
       "    } else if (root.Bokeh.version === py_version) {\n",
       "      return root.Bokeh\n",
       "    }\n",
       "    return null\n",
       "  }\n",
       "  function is_loaded(root) {\n",
       "    var Bokeh = get_bokeh(root)\n",
       "    return (Bokeh != null && Bokeh.Panel !== undefined && ( root['vtk'] !== undefined) && ( root['vtk'] !== undefined))\n",
       "  }\n",
       "  if (is_loaded(root)) {\n",
       "    embed_document(root);\n",
       "  } else {\n",
       "    var attempts = 0;\n",
       "    var timer = setInterval(function(root) {\n",
       "      if (is_loaded(root)) {\n",
       "        clearInterval(timer);\n",
       "        embed_document(root);\n",
       "      } else if (document.readyState == \"complete\") {\n",
       "        attempts++;\n",
       "        if (attempts > 200) {\n",
       "          clearInterval(timer);\n",
       "\t  var Bokeh = get_bokeh(root)\n",
       "\t  if (Bokeh == null || Bokeh.Panel == null) {\n",
       "            console.warn(\"Panel: ERROR: Unable to run Panel code because Bokeh or Panel library is missing\");\n",
       "\t  } else {\n",
       "\t    console.warn(\"Panel: WARNING: Attempting to render but not all required libraries could be resolved.\")\n",
       "\t    embed_document(root)\n",
       "\t  }\n",
       "        }\n",
       "      }\n",
       "    }, 25, root)\n",
       "  }\n",
       "})(window);</script>"
      ]
     },
     "metadata": {
      "application/vnd.holoviews_exec.v0+json": {
       "id": "b1903f90-9f2c-49df-92c5-f9aaa961d7c4"
      }
     },
     "output_type": "display_data"
    },
    {
     "data": {},
     "metadata": {},
     "output_type": "display_data"
    },
    {
     "data": {
      "application/vnd.holoviews_exec.v0+json": "",
      "text/html": [
       "<div id='b7884989-4ada-4ebe-8c6b-cb0e464ea19c'>\n",
       "  <div id=\"bc17747b-07e9-4a80-83e7-47f3e8f95272\" data-root-id=\"b7884989-4ada-4ebe-8c6b-cb0e464ea19c\" style=\"display: contents;\"></div>\n",
       "</div>\n",
       "<script type=\"application/javascript\">(function(root) {\n",
       "  var docs_json = {\"c811ff55-1b61-49cc-b7a5-be7615448525\":{\"version\":\"3.2.1\",\"title\":\"Bokeh Application\",\"roots\":[{\"type\":\"object\",\"name\":\"panel.models.vtk.VTKSynchronizedPlot\",\"id\":\"b7884989-4ada-4ebe-8c6b-cb0e464ea19c\",\"attributes\":{\"stylesheets\":[\"\\n:host(.pn-loading.pn-arc):before, .pn-loading.pn-arc:before {\\n  background-image: url(\\\"data:image/svg+xml;base64,PHN2ZyB4bWxucz0iaHR0cDovL3d3dy53My5vcmcvMjAwMC9zdmciIHN0eWxlPSJtYXJnaW46IGF1dG87IGJhY2tncm91bmQ6IG5vbmU7IGRpc3BsYXk6IGJsb2NrOyBzaGFwZS1yZW5kZXJpbmc6IGF1dG87IiB2aWV3Qm94PSIwIDAgMTAwIDEwMCIgcHJlc2VydmVBc3BlY3RSYXRpbz0ieE1pZFlNaWQiPiAgPGNpcmNsZSBjeD0iNTAiIGN5PSI1MCIgZmlsbD0ibm9uZSIgc3Ryb2tlPSIjYzNjM2MzIiBzdHJva2Utd2lkdGg9IjEwIiByPSIzNSIgc3Ryb2tlLWRhc2hhcnJheT0iMTY0LjkzMzYxNDMxMzQ2NDE1IDU2Ljk3Nzg3MTQzNzgyMTM4Ij4gICAgPGFuaW1hdGVUcmFuc2Zvcm0gYXR0cmlidXRlTmFtZT0idHJhbnNmb3JtIiB0eXBlPSJyb3RhdGUiIHJlcGVhdENvdW50PSJpbmRlZmluaXRlIiBkdXI9IjFzIiB2YWx1ZXM9IjAgNTAgNTA7MzYwIDUwIDUwIiBrZXlUaW1lcz0iMDsxIj48L2FuaW1hdGVUcmFuc2Zvcm0+ICA8L2NpcmNsZT48L3N2Zz4=\\\");\\n  background-size: auto calc(min(50%, 400px));\\n}\",{\"type\":\"object\",\"name\":\"ImportedStyleSheet\",\"id\":\"bf11b118-34c5-4699-ab22-572076c8a818\",\"attributes\":{\"url\":\"https://cdn.holoviz.org/panel/1.2.1/dist/css/loading.css\"}},{\"type\":\"object\",\"name\":\"ImportedStyleSheet\",\"id\":\"b6877301-1a5b-4638-af0b-f1dfdcd7935b\",\"attributes\":{\"url\":\"https://cdn.holoviz.org/panel/1.2.1/dist/bundled/theme/default.css\"}},{\"type\":\"object\",\"name\":\"ImportedStyleSheet\",\"id\":\"99e884a4-5921-49f7-985c-069f2a2aee90\",\"attributes\":{\"url\":\"https://cdn.holoviz.org/panel/1.2.1/dist/bundled/theme/native.css\"}}],\"margin\":[5,10],\"sizing_mode\":\"stretch_width\",\"align\":\"start\",\"axes\":{\"type\":\"object\",\"name\":\"panel.models.vtk.VTKAxes\",\"id\":\"beb1a03d-dee5-4959-9c19-e93091f1a050\"},\"color_mappers\":[{\"type\":\"object\",\"name\":\"LinearColorMapper\",\"id\":\"d8c65d2a-53f0-4457-bf37-c088b3919e5c\",\"attributes\":{\"name\":\"u_real\",\"palette\":[\"#440154\",\"#440255\",\"#440357\",\"#450558\",\"#45065a\",\"#45085b\",\"#46095c\",\"#460b5e\",\"#460c5f\",\"#460e61\",\"#470f62\",\"#471163\",\"#471265\",\"#471466\",\"#471567\",\"#471669\",\"#47186a\",\"#48196b\",\"#481a6c\",\"#481c6e\",\"#481d6f\",\"#481e70\",\"#482071\",\"#482172\",\"#482273\",\"#482374\",\"#472575\",\"#472676\",\"#472777\",\"#472878\",\"#472a79\",\"#472b7a\",\"#472c7b\",\"#462d7c\",\"#462f7c\",\"#46307d\",\"#46317e\",\"#45327f\",\"#45347f\",\"#453580\",\"#453681\",\"#443781\",\"#443982\",\"#433a83\",\"#433b83\",\"#433c84\",\"#423d84\",\"#423e85\",\"#424085\",\"#414186\",\"#414286\",\"#404387\",\"#404487\",\"#3f4587\",\"#3f4788\",\"#3e4888\",\"#3e4989\",\"#3d4a89\",\"#3d4b89\",\"#3d4c89\",\"#3c4d8a\",\"#3c4e8a\",\"#3b508a\",\"#3b518a\",\"#3a528b\",\"#3a538b\",\"#39548b\",\"#39558b\",\"#38568b\",\"#38578c\",\"#37588c\",\"#37598c\",\"#365a8c\",\"#365b8c\",\"#355c8c\",\"#355d8c\",\"#345e8d\",\"#345f8d\",\"#33608d\",\"#33618d\",\"#32628d\",\"#32638d\",\"#31648d\",\"#31658d\",\"#31668d\",\"#30678d\",\"#30688d\",\"#2f698d\",\"#2f6a8d\",\"#2e6b8e\",\"#2e6c8e\",\"#2e6d8e\",\"#2d6e8e\",\"#2d6f8e\",\"#2c708e\",\"#2c718e\",\"#2c728e\",\"#2b738e\",\"#2b748e\",\"#2a758e\",\"#2a768e\",\"#2a778e\",\"#29788e\",\"#29798e\",\"#287a8e\",\"#287a8e\",\"#287b8e\",\"#277c8e\",\"#277d8e\",\"#277e8e\",\"#267f8e\",\"#26808e\",\"#26818e\",\"#25828e\",\"#25838d\",\"#24848d\",\"#24858d\",\"#24868d\",\"#23878d\",\"#23888d\",\"#23898d\",\"#22898d\",\"#228a8d\",\"#228b8d\",\"#218c8d\",\"#218d8c\",\"#218e8c\",\"#208f8c\",\"#20908c\",\"#20918c\",\"#1f928c\",\"#1f938b\",\"#1f948b\",\"#1f958b\",\"#1f968b\",\"#1e978a\",\"#1e988a\",\"#1e998a\",\"#1e998a\",\"#1e9a89\",\"#1e9b89\",\"#1e9c89\",\"#1e9d88\",\"#1e9e88\",\"#1e9f88\",\"#1ea087\",\"#1fa187\",\"#1fa286\",\"#1fa386\",\"#20a485\",\"#20a585\",\"#21a685\",\"#21a784\",\"#22a784\",\"#23a883\",\"#23a982\",\"#24aa82\",\"#25ab81\",\"#26ac81\",\"#27ad80\",\"#28ae7f\",\"#29af7f\",\"#2ab07e\",\"#2bb17d\",\"#2cb17d\",\"#2eb27c\",\"#2fb37b\",\"#30b47a\",\"#32b57a\",\"#33b679\",\"#35b778\",\"#36b877\",\"#38b976\",\"#39b976\",\"#3bba75\",\"#3dbb74\",\"#3ebc73\",\"#40bd72\",\"#42be71\",\"#44be70\",\"#45bf6f\",\"#47c06e\",\"#49c16d\",\"#4bc26c\",\"#4dc26b\",\"#4fc369\",\"#51c468\",\"#53c567\",\"#55c666\",\"#57c665\",\"#59c764\",\"#5bc862\",\"#5ec961\",\"#60c960\",\"#62ca5f\",\"#64cb5d\",\"#67cc5c\",\"#69cc5b\",\"#6bcd59\",\"#6dce58\",\"#70ce56\",\"#72cf55\",\"#74d054\",\"#77d052\",\"#79d151\",\"#7cd24f\",\"#7ed24e\",\"#81d34c\",\"#83d34b\",\"#86d449\",\"#88d547\",\"#8bd546\",\"#8dd644\",\"#90d643\",\"#92d741\",\"#95d73f\",\"#97d83e\",\"#9ad83c\",\"#9dd93a\",\"#9fd938\",\"#a2da37\",\"#a5da35\",\"#a7db33\",\"#aadb32\",\"#addc30\",\"#afdc2e\",\"#b2dd2c\",\"#b5dd2b\",\"#b7dd29\",\"#bade27\",\"#bdde26\",\"#bfdf24\",\"#c2df22\",\"#c5df21\",\"#c7e01f\",\"#cae01e\",\"#cde01d\",\"#cfe11c\",\"#d2e11b\",\"#d4e11a\",\"#d7e219\",\"#dae218\",\"#dce218\",\"#dfe318\",\"#e1e318\",\"#e4e318\",\"#e7e419\",\"#e9e419\",\"#ece41a\",\"#eee51b\",\"#f1e51c\",\"#f3e51e\",\"#f6e61f\",\"#f8e621\",\"#fae622\",\"#fde724\"],\"low\":-2.081032315944648e-08,\"high\":0.4999996426673992}}],\"annotations\":[{\"type\":\"map\",\"entries\":[[\"id\",\"5071ca6b-2185-48d6-81cd-11a08757afa9000055f42f3be670\"],[\"viewport\",[0.0,0.0,1.0,1.0]],[\"fontSize\",14.0],[\"fontFamily\",\"Arial\"],[\"color\",[0.0,0.0,0.0]],[\"LowerLeft\",null],[\"LowerRight\",null],[\"UpperLeft\",null],[\"UpperRight\",null],[\"LowerEdge\",null],[\"RightEdge\",null],[\"LeftEdge\",null],[\"UpperEdge\",\"uh real\"]]}],\"arrays\":{\"type\":\"map\",\"entries\":[[\"4778900442480e0ca6a1d3f90e483ab5\",{\"type\":\"bytes\",\"data\":\"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\"}],[\"43cd855470463556cc0f4b30c23d7f91\",{\"type\":\"bytes\",\"data\":\"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\"}],[\"b3cd9e370987c995708f4f2a37ed0cff\",{\"type\":\"bytes\",\"data\":\"X9Lv54Pr2T+hKVGA/v/fP6v1F4D+/98/sQKa+oXr2T/Pdh9S4HrUP8ZZbH/+/98/1kthyeJ61D+4ih27ievZP/AtwH0nXM8/9VVOfv7/3z8ycZ9DLlzPPwaRGrnketQ/XbLQu4nr2T+pZWNcPArHPzfqvXz+/98/PviJmEAKxz+e+wYHKVzPPwZskI/jetQ/OBWUvobr2T+hKVGA/v+/P44Wu3r+/98/FrYxRwUAwD90XdrrNQrHPyB/heMiXM8/IBQSSeF61D/TZTSAhOvZP892H1LgerQ/9tpFeP7/3z9mLXwL53q0PzaDywb7/78/lgQhcy8Kxz++McJPJFzPP13xo3zfetQ/WD3Lp4Pr2T+pZWNcPAqnP3E3XnX+/98/FS5MxD4Kpz+gKf0/4nq0P6X2XfPw/78//uIVxTYKxz8xEpmtJlzPP6skpendetQ/gfzP9YPr2T/Odh9S4HqUP/8rBHL+/98/2BLC9N96lD+QmEN0UwqnP9UT3cDderQ/ysVTCf3/vz8AGtB0PwrHP3qJCJkkXM8/vK2uSd161D+DvcxhhevZP852H1LgenQ/oLg3bv7/3z+1aWYFx3p0P26H5Qsje5Q/QJw9K2YKpz80CqIF3Xq0P9Sxrv8FAMA/ZeXf6kAKxz9kvwZeIVzPP9+gHR3fetQ/Ig9HeYbr2T/zCJ45lqyIOFHd+Gn+/98/AGDERfuZ7L0MoUQ5i3t0PyC2y3phe5Q/alAPDVwKpz+8A/bk2Xq0PxNigPMIAMA/UWV9vT0Kxz+7acIuJFzPP67nqsXhetQ/C4aX0YPr2T8AYMRF+5kMvp++YrBPfHQ/dtvtR1d7lD+qIS9hOQqnP94O3MPXerQ/LSZYIQgAwD8/Oq42PQrHP7YWIocoXM8/fSrHO+B61D8AAD5XnRYgvtxxUM9KfHQ/hiy/JRZ7lD/jrRCzHwqnP6AAIszberQ/NSm9lQMAwD8oLOnZPwrHP0yVD1EnXM8/AGDERfuZLL7SK/iMtXt0P4ULr6vmepQ/d7OHmCUKpz8MTXfK2nq0P4KuDQEEAMA/DM2yLzwKxz8AYIFOTFg2vrh/cnpUe3Q/3F+di+16lD+RcTMiJwqnP/JLxNvherQ/ZPjvJv7/vz8AAD5XnRZAvgR+LCBse3Q/W/mQet16lD/5liS5NQqnP5JFvvjferQ/AABpYeTlRb5aKDaiFnt0P/qme2XcepQ/NQOhqTsKpz8AYMRF+5lMviP9i3nnenQ/5rGa7N56lD8A4CUCcRlSvi5jDLzaenQ/AGCBTkxYVr4=\"}],[\"ce52d598102e2756143cf4f27a0b5911\",{\"type\":\"bytes\",\"data\":\"RAFU/0QCVf9EA1f/RQVY/0UGWv9FCFv/Rglc/0YLXv9GDF//Rg5h/0cPYv9HEWP/RxJl/0cUZv9HFWf/RxZp/0cYav9IGWv/SBps/0gcbv9IHW//SB5w/0ggcf9IIXL/SCJz/0gjdP9HJXX/RyZ2/0cnd/9HKHj/Ryp5/0crev9HLHv/Ri18/0YvfP9GMH3/RjF+/0Uyf/9FNH//RTWA/0U2gf9EN4H/RDmC/0M6g/9DO4P/QzyE/0I9hP9CPoX/QkCF/0FBhv9BQob/QEOH/0BEh/8/RYf/P0eI/z5IiP8+SYn/PUqJ/z1Lif89TIn/PE2K/zxOiv87UIr/O1GK/zpSi/86U4v/OVSL/zlVi/84Vov/OFeM/zdYjP83WYz/NlqM/zZbjP81XIz/NV2M/zRejf80X43/M2CN/zNhjf8yYo3/MmON/zFkjf8xZY3/MWaN/zBnjf8waI3/L2mN/y9qjf8ua47/LmyO/y5tjv8tbo7/LW+O/yxwjv8scY7/LHKO/ytzjv8rdI7/KnWO/yp2jv8qd47/KXiO/yl5jv8oeo7/KHqO/yh7jv8nfI7/J32O/yd+jv8mf47/JoCO/yaBjv8lgo7/JYON/ySEjf8khY3/JIaN/yOHjf8jiI3/I4mN/yKJjf8iio3/IouN/yGMjf8hjYz/IY6M/yCPjP8gkIz/IJGM/x+SjP8fk4v/H5SL/x+Vi/8flov/HpeK/x6Yiv8emYr/HpmK/x6aif8em4n/HpyJ/x6diP8enoj/Hp+I/x6gh/8foYf/H6KG/x+jhv8gpIX/IKWF/yGmhf8hp4T/IqeE/yOog/8jqYL/JKqC/yWrgf8mrIH/J62A/yiuf/8pr3//KrB+/yuxff8ssX3/LrJ8/y+ze/8wtHr/MrV6/zO2ef81t3j/Nrh3/zi5dv85uXb/O7p1/z27dP8+vHP/QL1y/0K+cf9EvnD/Rb9v/0fAbv9JwW3/S8Js/03Ca/9Pw2n/UcRo/1PFZ/9Vxmb/V8Zl/1nHZP9byGL/Xslh/2DJYP9iyl//ZMtd/2fMXP9pzFv/a81Z/23OWP9wzlb/cs9V/3TQVP930FL/edFR/3zST/9+0k7/gdNM/4PTS/+G1En/iNVH/4vVRv+N1kT/kNZD/5LXQf+V1z//l9g+/5rYPP+d2Tr/n9k4/6LaN/+l2jX/p9sz/6rbMv+t3DD/r9wu/7LdLP+13Sv/t90p/7reJ/+93ib/v98k/8LfIv/F3yH/x+Af/8rgHv/N4B3/z+Ec/9LhG//U4Rr/1+IZ/9riGP/c4hj/3+MY/+HjGP/k4xj/5+QZ/+nkGf/s5Br/7uUb//HlHP/z5R7/9uYf//jmIf/65iL//eck/w==\"}]]},\"scene\":{\"type\":\"map\",\"entries\":[[\"parent\",\"5071ca6b-2185-48d6-81cd-11a08757afa90x0\"],[\"id\",\"5071ca6b-2185-48d6-81cd-11a08757afa9000055f42ef72650\"],[\"type\",\"vtkXOpenGLRenderWindow\"],[\"properties\",{\"type\":\"map\",\"entries\":[[\"numberOfLayers\",2]]}],[\"dependencies\",[{\"type\":\"map\",\"entries\":[[\"parent\",\"5071ca6b-2185-48d6-81cd-11a08757afa9000055f42ef72650\"],[\"id\",\"5071ca6b-2185-48d6-81cd-11a08757afa9000055f42fa6b290\"],[\"type\",\"vtkOpenGLRenderer\"],[\"properties\",{\"type\":\"map\",\"entries\":[[\"background\",[1.0,1.0,1.0]],[\"background2\",[0.2,0.2,0.2]],[\"viewport\",[0.0,0.0,1.0,1.0]],[\"twoSidedLighting\",1],[\"lightFollowCamera\",1],[\"layer\",0],[\"preserveColorBuffer\",0],[\"preserveDepthBuffer\",0],[\"nearClippingPlaneTolerance\",0.001],[\"clippingRangeExpansion\",0.5],[\"useShadows\",0],[\"useDepthPeeling\",0],[\"occlusionRatio\",0.0],[\"maximumNumberOfPeels\",4],[\"interactive\",1]]}],[\"dependencies\",[{\"type\":\"map\",\"entries\":[[\"parent\",\"5071ca6b-2185-48d6-81cd-11a08757afa9000055f42fa6b290\"],[\"id\",\"000055f42f317d30\"],[\"type\",\"vtkOpenGLCamera\"],[\"properties\",{\"type\":\"map\",\"entries\":[[\"focalPoint\",[0.5,0.5,0.0]],[\"position\",[0.5,0.5,2.7320508075688776]],[\"viewUp\",[0.0,1.0,0.0]],[\"clippingRange\",[2.5590521887869815,2.956410296978415]]]}]]},{\"type\":\"map\",\"entries\":[[\"parent\",\"5071ca6b-2185-48d6-81cd-11a08757afa9000055f42fa6b290\"],[\"id\",\"5071ca6b-2185-48d6-81cd-11a08757afa9000055f42f6f7010\"],[\"type\",\"vtkOpenGLActor\"],[\"properties\",{\"type\":\"map\",\"entries\":[[\"visibility\",1],[\"pickable\",1],[\"dragable\",1],[\"useBounds\",true],[\"origin\",[0.0,0.0,0.0]],[\"position\",[0.0,0.0,0.0]],[\"scale\",[1.0,1.0,1.0]],[\"orientation\",[0.0,-0.0,0.0]],[\"forceOpaque\",false],[\"forceTranslucent\",false]]}],[\"calls\",[[\"setMapper\",[\"instance:${5071ca6b-2185-48d6-81cd-11a08757afa9000055f42fbcfd50}\"]],[\"setProperty\",[\"instance:${5071ca6b-2185-48d6-81cd-11a08757afa9000055f42fbd3e80}\"]]]],[\"dependencies\",[{\"type\":\"map\",\"entries\":[[\"parent\",\"5071ca6b-2185-48d6-81cd-11a08757afa9000055f42f6f7010\"],[\"id\",\"5071ca6b-2185-48d6-81cd-11a08757afa9000055f42fbcfd50\"],[\"properties\",{\"type\":\"map\",\"entries\":[[\"resolveCoincidentTopology\",0],[\"renderTime\",0.0],[\"arrayAccessMode\",1],[\"scalarRange\",[-2.081032315944648e-08,0.4999996426673992]],[\"useLookupTableScalarRange\",0],[\"scalarVisibility\",1],[\"colorByArrayName\",null],[\"colorMode\",1],[\"scalarMode\",1],[\"interpolateScalarsBeforeMapping\",1]]}],[\"calls\",[[\"setInputData\",[\"instance:${5071ca6b-2185-48d6-81cd-11a08757afa9000055f42fbcfd50-dataset-0}\",0]],[\"setLookupTable\",[\"instance:${5071ca6b-2185-48d6-81cd-11a08757afa9000055f42fbd02f0}\"]]]],[\"dependencies\",[{\"type\":\"map\",\"entries\":[[\"parent\",\"5071ca6b-2185-48d6-81cd-11a08757afa9000055f42fbcfd50\"],[\"id\",\"5071ca6b-2185-48d6-81cd-11a08757afa9000055f42fbcfd50-dataset-0\"],[\"type\",\"vtkPolyData\"],[\"properties\",{\"type\":\"map\",\"entries\":[[\"points\",{\"type\":\"map\",\"entries\":[[\"hash\",\"4778900442480e0ca6a1d3f90e483ab5\"],[\"vtkClass\",\"vtkPoints\"],[\"name\",\"Points\"],[\"dataType\",\"Float64Array\"],[\"numberOfComponents\",3],[\"size\",363],[\"ranges\",[{\"type\":\"map\",\"entries\":[[\"min\",-2.154228071576087e-18],[\"max\",1.0],[\"component\",null]]},{\"type\":\"map\",\"entries\":[[\"min\",-2.154228071576087e-18],[\"max\",1.0],[\"component\",null]]},{\"type\":\"map\",\"entries\":[[\"min\",0.0],[\"max\",0.0],[\"component\",null]]},{\"type\":\"map\",\"entries\":[[\"min\",3.0465385552677406e-18],[\"max\",1.414213562373095],[\"component\",null]]}]]]}],[\"polys\",{\"type\":\"map\",\"entries\":[[\"hash\",\"43cd855470463556cc0f4b30c23d7f91\"],[\"vtkClass\",\"vtkCellArray\"],[\"name\",null],[\"dataType\",\"Uint32Array\"],[\"numberOfComponents\",1],[\"size\",800],[\"ranges\",[{\"type\":\"map\",\"entries\":[[\"min\",0.0],[\"max\",120.0],[\"component\",null]]}]]]}],[\"fields\",[{\"type\":\"map\",\"entries\":[[\"hash\",\"b3cd9e370987c995708f4f2a37ed0cff\"],[\"vtkClass\",\"vtkDataArray\"],[\"name\",\"u_real\"],[\"dataType\",\"Float64Array\"],[\"numberOfComponents\",1],[\"size\",121],[\"ranges\",[{\"type\":\"map\",\"entries\":[[\"min\",-2.081032315944648e-08],[\"max\",0.4999996426673992],[\"component\",null]]}]],[\"location\",\"pointData\"],[\"registration\",\"setScalars\"]]}]]]}]]},{\"type\":\"map\",\"entries\":[[\"parent\",\"5071ca6b-2185-48d6-81cd-11a08757afa9000055f42fbcfd50\"],[\"id\",\"5071ca6b-2185-48d6-81cd-11a08757afa9000055f42fbd02f0\"],[\"type\",\"vtkLookupTable\"],[\"properties\",{\"type\":\"map\",\"entries\":[[\"numberOfColors\",256],[\"valueRange\",[-2.081032315944648e-08,0.4999996426673992]],[\"range\",[-2.081032315944648e-08,0.4999996426673992]],[\"hueRange\",[0.5,0]],[\"saturationRange\",[1.0,1.0]],[\"nanColor\",[0.6627450980392157,0.6627450980392157,0.6627450980392157,1.0]],[\"belowRangeColor\",[0.0,0.0,0.0,1.0]],[\"aboveRangeColor\",[1.0,1.0,1.0,1.0]],[\"useAboveRangeColor\",false],[\"useBelowRangeColor\",false],[\"alpha\",1.0],[\"vectorSize\",-1],[\"vectorComponent\",0],[\"vectorMode\",1],[\"indexedLookup\",0]]}],[\"arrays\",[{\"type\":\"map\",\"entries\":[[\"hash\",\"ce52d598102e2756143cf4f27a0b5911\"],[\"vtkClass\",\"vtkDataArray\"],[\"name\",null],[\"dataType\",\"Uint8Array\"],[\"numberOfComponents\",4],[\"size\",1024],[\"ranges\",[{\"type\":\"map\",\"entries\":[[\"min\",30.0],[\"max\",253.0],[\"component\",null]]},{\"type\":\"map\",\"entries\":[[\"min\",1.0],[\"max\",231.0],[\"component\",null]]},{\"type\":\"map\",\"entries\":[[\"min\",24.0],[\"max\",142.0],[\"component\",null]]},{\"type\":\"map\",\"entries\":[[\"min\",255.0],[\"max\",255.0],[\"component\",null]]},{\"type\":\"map\",\"entries\":[[\"min\",276.95848064285735],[\"max\",428.5918804643877],[\"component\",null]]}]],[\"registration\",\"setTable\"]]}]]]}]],[\"type\",\"vtkDataSetMapper\"]]},{\"type\":\"map\",\"entries\":[[\"parent\",\"5071ca6b-2185-48d6-81cd-11a08757afa9000055f42f6f7010\"],[\"id\",\"5071ca6b-2185-48d6-81cd-11a08757afa9000055f42fbd3e80\"],[\"type\",\"vtkOpenGLProperty\"],[\"properties\",{\"type\":\"map\",\"entries\":[[\"representation\",2],[\"diffuseColor\",[0.6784313725490196,0.8470588235294118,0.9019607843137255]],[\"color\",[0.6784313725490196,0.8470588235294118,0.9019607843137255]],[\"ambientColor\",[0.6784313725490196,0.8470588235294118,0.9019607843137255]],[\"specularColor\",[0.6784313725490196,0.8470588235294118,0.9019607843137255]],[\"edgeColor\",[0.0,0.0,0.0]],[\"ambient\",0.0],[\"diffuse\",1.0],[\"specular\",0.0],[\"specularPower\",100.0],[\"opacity\",1.0],[\"interpolation\",0],[\"edgeVisibility\",1],[\"backfaceCulling\",0],[\"frontfaceCulling\",0],[\"pointSize\",5.0],[\"lineWidth\",1.0],[\"lighting\",1]]}]]}]]]}]],[\"calls\",[[\"setActiveCamera\",[\"instance:${000055f42f317d30}\"]],[\"addViewProp\",[\"instance:${5071ca6b-2185-48d6-81cd-11a08757afa9000055f42f6f7010}\"]]]]]},{\"type\":\"map\",\"entries\":[[\"parent\",\"5071ca6b-2185-48d6-81cd-11a08757afa9000055f42ef72650\"],[\"id\",\"5071ca6b-2185-48d6-81cd-11a08757afa9000055f42fa410f0\"],[\"type\",\"vtkOpenGLRenderer\"],[\"properties\",{\"type\":\"map\",\"entries\":[[\"background\",[1.0,1.0,1.0]],[\"background2\",[0.2,0.2,0.2]],[\"viewport\",[0.0,0.0,1.0,1.0]],[\"twoSidedLighting\",1],[\"lightFollowCamera\",1],[\"layer\",1],[\"preserveColorBuffer\",1],[\"preserveDepthBuffer\",0],[\"nearClippingPlaneTolerance\",0.0],[\"clippingRangeExpansion\",0.5],[\"useShadows\",0],[\"useDepthPeeling\",0],[\"occlusionRatio\",0.0],[\"maximumNumberOfPeels\",4],[\"interactive\",0]]}],[\"dependencies\",[{\"type\":\"map\",\"entries\":[[\"parent\",\"5071ca6b-2185-48d6-81cd-11a08757afa9000055f42fa410f0\"],[\"id\",\"000055f42f4c73e0\"],[\"type\",\"vtkOpenGLCamera\"],[\"properties\",{\"type\":\"map\",\"entries\":[[\"focalPoint\",[0.0,0.0,0.0]],[\"position\",[0.0,0.0,1.0]],[\"viewUp\",[0.0,1.0,0.0]],[\"clippingRange\",[0.01,1000.01]]]}]]}]],[\"calls\",[[\"setActiveCamera\",[\"instance:${000055f42f4c73e0}\"]]]]]}]],[\"calls\",[[\"addRenderer\",[\"instance:${5071ca6b-2185-48d6-81cd-11a08757afa9000055f42fa6b290}\"]],[\"addRenderer\",[\"instance:${5071ca6b-2185-48d6-81cd-11a08757afa9000055f42fa410f0}\"]]]],[\"mtime\",19624]]}}},{\"type\":\"object\",\"name\":\"panel.models.comm_manager.CommManager\",\"id\":\"84b4c0b0-a59f-44f3-bc2b-e3f21a78351f\",\"attributes\":{\"plot_id\":\"b7884989-4ada-4ebe-8c6b-cb0e464ea19c\",\"comm_id\":\"131cc550199743319b48aa5284a97d5c\",\"client_comm_id\":\"a4e1798e585b403696c7fa03a2690a79\"}}],\"defs\":[{\"type\":\"model\",\"name\":\"ReactiveHTML1\"},{\"type\":\"model\",\"name\":\"FlexBox1\",\"properties\":[{\"name\":\"align_content\",\"kind\":\"Any\",\"default\":\"flex-start\"},{\"name\":\"align_items\",\"kind\":\"Any\",\"default\":\"flex-start\"},{\"name\":\"flex_direction\",\"kind\":\"Any\",\"default\":\"row\"},{\"name\":\"flex_wrap\",\"kind\":\"Any\",\"default\":\"wrap\"},{\"name\":\"justify_content\",\"kind\":\"Any\",\"default\":\"flex-start\"}]},{\"type\":\"model\",\"name\":\"FloatPanel1\",\"properties\":[{\"name\":\"config\",\"kind\":\"Any\",\"default\":{\"type\":\"map\"}},{\"name\":\"contained\",\"kind\":\"Any\",\"default\":true},{\"name\":\"position\",\"kind\":\"Any\",\"default\":\"right-top\"},{\"name\":\"offsetx\",\"kind\":\"Any\",\"default\":null},{\"name\":\"offsety\",\"kind\":\"Any\",\"default\":null},{\"name\":\"theme\",\"kind\":\"Any\",\"default\":\"primary\"},{\"name\":\"status\",\"kind\":\"Any\",\"default\":\"normalized\"}]},{\"type\":\"model\",\"name\":\"GridStack1\",\"properties\":[{\"name\":\"mode\",\"kind\":\"Any\",\"default\":\"warn\"},{\"name\":\"ncols\",\"kind\":\"Any\",\"default\":null},{\"name\":\"nrows\",\"kind\":\"Any\",\"default\":null},{\"name\":\"allow_resize\",\"kind\":\"Any\",\"default\":true},{\"name\":\"allow_drag\",\"kind\":\"Any\",\"default\":true},{\"name\":\"state\",\"kind\":\"Any\",\"default\":[]}]},{\"type\":\"model\",\"name\":\"drag1\",\"properties\":[{\"name\":\"slider_width\",\"kind\":\"Any\",\"default\":5},{\"name\":\"slider_color\",\"kind\":\"Any\",\"default\":\"black\"},{\"name\":\"value\",\"kind\":\"Any\",\"default\":50}]},{\"type\":\"model\",\"name\":\"click1\",\"properties\":[{\"name\":\"terminal_output\",\"kind\":\"Any\",\"default\":\"\"},{\"name\":\"debug_name\",\"kind\":\"Any\",\"default\":\"\"},{\"name\":\"clears\",\"kind\":\"Any\",\"default\":0}]},{\"type\":\"model\",\"name\":\"FastWrapper1\",\"properties\":[{\"name\":\"object\",\"kind\":\"Any\",\"default\":null},{\"name\":\"style\",\"kind\":\"Any\",\"default\":null}]},{\"type\":\"model\",\"name\":\"NotificationAreaBase1\",\"properties\":[{\"name\":\"js_events\",\"kind\":\"Any\",\"default\":{\"type\":\"map\"}},{\"name\":\"position\",\"kind\":\"Any\",\"default\":\"bottom-right\"},{\"name\":\"_clear\",\"kind\":\"Any\",\"default\":0}]},{\"type\":\"model\",\"name\":\"NotificationArea1\",\"properties\":[{\"name\":\"js_events\",\"kind\":\"Any\",\"default\":{\"type\":\"map\"}},{\"name\":\"notifications\",\"kind\":\"Any\",\"default\":[]},{\"name\":\"position\",\"kind\":\"Any\",\"default\":\"bottom-right\"},{\"name\":\"_clear\",\"kind\":\"Any\",\"default\":0},{\"name\":\"types\",\"kind\":\"Any\",\"default\":[{\"type\":\"map\",\"entries\":[[\"type\",\"warning\"],[\"background\",\"#ffc107\"],[\"icon\",{\"type\":\"map\",\"entries\":[[\"className\",\"fas fa-exclamation-triangle\"],[\"tagName\",\"i\"],[\"color\",\"white\"]]}]]},{\"type\":\"map\",\"entries\":[[\"type\",\"info\"],[\"background\",\"#007bff\"],[\"icon\",{\"type\":\"map\",\"entries\":[[\"className\",\"fas fa-info-circle\"],[\"tagName\",\"i\"],[\"color\",\"white\"]]}]]}]}]},{\"type\":\"model\",\"name\":\"Notification\",\"properties\":[{\"name\":\"background\",\"kind\":\"Any\",\"default\":null},{\"name\":\"duration\",\"kind\":\"Any\",\"default\":3000},{\"name\":\"icon\",\"kind\":\"Any\",\"default\":null},{\"name\":\"message\",\"kind\":\"Any\",\"default\":\"\"},{\"name\":\"notification_type\",\"kind\":\"Any\",\"default\":null},{\"name\":\"_destroyed\",\"kind\":\"Any\",\"default\":false}]},{\"type\":\"model\",\"name\":\"TemplateActions1\",\"properties\":[{\"name\":\"open_modal\",\"kind\":\"Any\",\"default\":0},{\"name\":\"close_modal\",\"kind\":\"Any\",\"default\":0}]},{\"type\":\"model\",\"name\":\"BootstrapTemplateActions1\",\"properties\":[{\"name\":\"open_modal\",\"kind\":\"Any\",\"default\":0},{\"name\":\"close_modal\",\"kind\":\"Any\",\"default\":0}]},{\"type\":\"model\",\"name\":\"MaterialTemplateActions1\",\"properties\":[{\"name\":\"open_modal\",\"kind\":\"Any\",\"default\":0},{\"name\":\"close_modal\",\"kind\":\"Any\",\"default\":0}]}]}};\n",
       "  var render_items = [{\"docid\":\"c811ff55-1b61-49cc-b7a5-be7615448525\",\"roots\":{\"b7884989-4ada-4ebe-8c6b-cb0e464ea19c\":\"bc17747b-07e9-4a80-83e7-47f3e8f95272\"},\"root_ids\":[\"b7884989-4ada-4ebe-8c6b-cb0e464ea19c\"]}];\n",
       "  var docs = Object.values(docs_json)\n",
       "  if (!docs) {\n",
       "    return\n",
       "  }\n",
       "  const py_version = docs[0].version.replace('rc', '-rc.').replace('.dev', '-dev.')\n",
       "  const is_dev = py_version.indexOf(\"+\") !== -1 || py_version.indexOf(\"-\") !== -1\n",
       "  function embed_document(root) {\n",
       "    var Bokeh = get_bokeh(root)\n",
       "    Bokeh.embed.embed_items_notebook(docs_json, render_items);\n",
       "    for (const render_item of render_items) {\n",
       "      for (const root_id of render_item.root_ids) {\n",
       "\tconst id_el = document.getElementById(root_id)\n",
       "\tif (id_el.children.length && (id_el.children[0].className === 'bk-root')) {\n",
       "\t  const root_el = id_el.children[0]\n",
       "\t  root_el.id = root_el.id + '-rendered'\n",
       "\t}\n",
       "      }\n",
       "    }\n",
       "  }\n",
       "  function get_bokeh(root) {\n",
       "    if (root.Bokeh === undefined) {\n",
       "      return null\n",
       "    } else if (root.Bokeh.version !== py_version && !is_dev) {\n",
       "      if (root.Bokeh.versions === undefined || !root.Bokeh.versions.has(py_version)) {\n",
       "\treturn null\n",
       "      }\n",
       "      return root.Bokeh.versions.get(py_version);\n",
       "    } else if (root.Bokeh.version === py_version) {\n",
       "      return root.Bokeh\n",
       "    }\n",
       "    return null\n",
       "  }\n",
       "  function is_loaded(root) {\n",
       "    var Bokeh = get_bokeh(root)\n",
       "    return (Bokeh != null && Bokeh.Panel !== undefined && ( root['vtk'] !== undefined) && ( root['vtk'] !== undefined))\n",
       "  }\n",
       "  if (is_loaded(root)) {\n",
       "    embed_document(root);\n",
       "  } else {\n",
       "    var attempts = 0;\n",
       "    var timer = setInterval(function(root) {\n",
       "      if (is_loaded(root)) {\n",
       "        clearInterval(timer);\n",
       "        embed_document(root);\n",
       "      } else if (document.readyState == \"complete\") {\n",
       "        attempts++;\n",
       "        if (attempts > 200) {\n",
       "          clearInterval(timer);\n",
       "\t  var Bokeh = get_bokeh(root)\n",
       "\t  if (Bokeh == null || Bokeh.Panel == null) {\n",
       "            console.warn(\"Panel: ERROR: Unable to run Panel code because Bokeh or Panel library is missing\");\n",
       "\t  } else {\n",
       "\t    console.warn(\"Panel: WARNING: Attempting to render but not all required libraries could be resolved.\")\n",
       "\t    embed_document(root)\n",
       "\t  }\n",
       "        }\n",
       "      }\n",
       "    }, 25, root)\n",
       "  }\n",
       "})(window);</script>"
      ],
      "text/plain": [
       "VTKRenderWindowSynchronized(vtkXOpenGLRenderWindow, color_mappers=[LinearColorMapper(id='d8c...], sizing_mode='stretch_width')"
      ]
     },
     "metadata": {
      "application/vnd.holoviews_exec.v0+json": {
       "id": "b7884989-4ada-4ebe-8c6b-cb0e464ea19c"
      }
     },
     "output_type": "display_data"
    }
   ],
   "source": [
    "p_real = pyvista.Plotter()\n",
    "p_real.add_text(\"uh real\", position=\"upper_edge\", font_size=14, color=\"black\")\n",
    "p_real.add_mesh(grid, show_edges=True)\n",
    "p_real.view_xy()\n",
    "if not pyvista.OFF_SCREEN:\n",
    "    p_real.show()"
   ]
  },
  {
   "cell_type": "code",
   "execution_count": 10,
   "id": "c179fdda-6ae6-4979-a19b-fadfebab2f0e",
   "metadata": {},
   "outputs": [
    {
     "data": {},
     "metadata": {},
     "output_type": "display_data"
    },
    {
     "data": {
      "application/vnd.holoviews_exec.v0+json": "",
      "text/html": [
       "<div id='9bb984ca-7ceb-47ef-9527-b1b4a6c1e5d8'>\n",
       "  <div id=\"f971bc9e-701e-4fb6-9d52-1efd8ee408ca\" data-root-id=\"9bb984ca-7ceb-47ef-9527-b1b4a6c1e5d8\" style=\"display: contents;\"></div>\n",
       "</div>\n",
       "<script type=\"application/javascript\">(function(root) {\n",
       "  var docs_json = {\"721e3cce-f37a-47fd-b4fb-f4be9dbe8245\":{\"version\":\"3.2.1\",\"title\":\"Bokeh Application\",\"roots\":[{\"type\":\"object\",\"name\":\"panel.models.vtk.VTKSynchronizedPlot\",\"id\":\"9bb984ca-7ceb-47ef-9527-b1b4a6c1e5d8\",\"attributes\":{\"stylesheets\":[\"\\n:host(.pn-loading.pn-arc):before, .pn-loading.pn-arc:before {\\n  background-image: url(\\\"data:image/svg+xml;base64,PHN2ZyB4bWxucz0iaHR0cDovL3d3dy53My5vcmcvMjAwMC9zdmciIHN0eWxlPSJtYXJnaW46IGF1dG87IGJhY2tncm91bmQ6IG5vbmU7IGRpc3BsYXk6IGJsb2NrOyBzaGFwZS1yZW5kZXJpbmc6IGF1dG87IiB2aWV3Qm94PSIwIDAgMTAwIDEwMCIgcHJlc2VydmVBc3BlY3RSYXRpbz0ieE1pZFlNaWQiPiAgPGNpcmNsZSBjeD0iNTAiIGN5PSI1MCIgZmlsbD0ibm9uZSIgc3Ryb2tlPSIjYzNjM2MzIiBzdHJva2Utd2lkdGg9IjEwIiByPSIzNSIgc3Ryb2tlLWRhc2hhcnJheT0iMTY0LjkzMzYxNDMxMzQ2NDE1IDU2Ljk3Nzg3MTQzNzgyMTM4Ij4gICAgPGFuaW1hdGVUcmFuc2Zvcm0gYXR0cmlidXRlTmFtZT0idHJhbnNmb3JtIiB0eXBlPSJyb3RhdGUiIHJlcGVhdENvdW50PSJpbmRlZmluaXRlIiBkdXI9IjFzIiB2YWx1ZXM9IjAgNTAgNTA7MzYwIDUwIDUwIiBrZXlUaW1lcz0iMDsxIj48L2FuaW1hdGVUcmFuc2Zvcm0+ICA8L2NpcmNsZT48L3N2Zz4=\\\");\\n  background-size: auto calc(min(50%, 400px));\\n}\",{\"type\":\"object\",\"name\":\"ImportedStyleSheet\",\"id\":\"5feb113d-39eb-46c4-a84a-b41856e7921a\",\"attributes\":{\"url\":\"https://cdn.holoviz.org/panel/1.2.1/dist/css/loading.css\"}},{\"type\":\"object\",\"name\":\"ImportedStyleSheet\",\"id\":\"95883bd5-6e48-4619-a4d4-f1762c03c385\",\"attributes\":{\"url\":\"https://cdn.holoviz.org/panel/1.2.1/dist/bundled/theme/default.css\"}},{\"type\":\"object\",\"name\":\"ImportedStyleSheet\",\"id\":\"e13f151d-370e-45e0-950c-b27e187fd7f1\",\"attributes\":{\"url\":\"https://cdn.holoviz.org/panel/1.2.1/dist/bundled/theme/native.css\"}}],\"margin\":[5,10],\"sizing_mode\":\"stretch_width\",\"align\":\"start\",\"axes\":{\"type\":\"object\",\"name\":\"panel.models.vtk.VTKAxes\",\"id\":\"a9b349fd-0547-4706-84ea-758c2e6a11f5\"},\"color_mappers\":[{\"type\":\"object\",\"name\":\"LinearColorMapper\",\"id\":\"610514b7-bb39-402b-aa1c-ee3bc0e04c26\",\"attributes\":{\"name\":\"u_imag\",\"palette\":[\"#440154\",\"#440255\",\"#440357\",\"#450558\",\"#45065a\",\"#45085b\",\"#46095c\",\"#460b5e\",\"#460c5f\",\"#460e61\",\"#470f62\",\"#471163\",\"#471265\",\"#471466\",\"#471567\",\"#471669\",\"#47186a\",\"#48196b\",\"#481a6c\",\"#481c6e\",\"#481d6f\",\"#481e70\",\"#482071\",\"#482172\",\"#482273\",\"#482374\",\"#472575\",\"#472676\",\"#472777\",\"#472878\",\"#472a79\",\"#472b7a\",\"#472c7b\",\"#462d7c\",\"#462f7c\",\"#46307d\",\"#46317e\",\"#45327f\",\"#45347f\",\"#453580\",\"#453681\",\"#443781\",\"#443982\",\"#433a83\",\"#433b83\",\"#433c84\",\"#423d84\",\"#423e85\",\"#424085\",\"#414186\",\"#414286\",\"#404387\",\"#404487\",\"#3f4587\",\"#3f4788\",\"#3e4888\",\"#3e4989\",\"#3d4a89\",\"#3d4b89\",\"#3d4c89\",\"#3c4d8a\",\"#3c4e8a\",\"#3b508a\",\"#3b518a\",\"#3a528b\",\"#3a538b\",\"#39548b\",\"#39558b\",\"#38568b\",\"#38578c\",\"#37588c\",\"#37598c\",\"#365a8c\",\"#365b8c\",\"#355c8c\",\"#355d8c\",\"#345e8d\",\"#345f8d\",\"#33608d\",\"#33618d\",\"#32628d\",\"#32638d\",\"#31648d\",\"#31658d\",\"#31668d\",\"#30678d\",\"#30688d\",\"#2f698d\",\"#2f6a8d\",\"#2e6b8e\",\"#2e6c8e\",\"#2e6d8e\",\"#2d6e8e\",\"#2d6f8e\",\"#2c708e\",\"#2c718e\",\"#2c728e\",\"#2b738e\",\"#2b748e\",\"#2a758e\",\"#2a768e\",\"#2a778e\",\"#29788e\",\"#29798e\",\"#287a8e\",\"#287a8e\",\"#287b8e\",\"#277c8e\",\"#277d8e\",\"#277e8e\",\"#267f8e\",\"#26808e\",\"#26818e\",\"#25828e\",\"#25838d\",\"#24848d\",\"#24858d\",\"#24868d\",\"#23878d\",\"#23888d\",\"#23898d\",\"#22898d\",\"#228a8d\",\"#228b8d\",\"#218c8d\",\"#218d8c\",\"#218e8c\",\"#208f8c\",\"#20908c\",\"#20918c\",\"#1f928c\",\"#1f938b\",\"#1f948b\",\"#1f958b\",\"#1f968b\",\"#1e978a\",\"#1e988a\",\"#1e998a\",\"#1e998a\",\"#1e9a89\",\"#1e9b89\",\"#1e9c89\",\"#1e9d88\",\"#1e9e88\",\"#1e9f88\",\"#1ea087\",\"#1fa187\",\"#1fa286\",\"#1fa386\",\"#20a485\",\"#20a585\",\"#21a685\",\"#21a784\",\"#22a784\",\"#23a883\",\"#23a982\",\"#24aa82\",\"#25ab81\",\"#26ac81\",\"#27ad80\",\"#28ae7f\",\"#29af7f\",\"#2ab07e\",\"#2bb17d\",\"#2cb17d\",\"#2eb27c\",\"#2fb37b\",\"#30b47a\",\"#32b57a\",\"#33b679\",\"#35b778\",\"#36b877\",\"#38b976\",\"#39b976\",\"#3bba75\",\"#3dbb74\",\"#3ebc73\",\"#40bd72\",\"#42be71\",\"#44be70\",\"#45bf6f\",\"#47c06e\",\"#49c16d\",\"#4bc26c\",\"#4dc26b\",\"#4fc369\",\"#51c468\",\"#53c567\",\"#55c666\",\"#57c665\",\"#59c764\",\"#5bc862\",\"#5ec961\",\"#60c960\",\"#62ca5f\",\"#64cb5d\",\"#67cc5c\",\"#69cc5b\",\"#6bcd59\",\"#6dce58\",\"#70ce56\",\"#72cf55\",\"#74d054\",\"#77d052\",\"#79d151\",\"#7cd24f\",\"#7ed24e\",\"#81d34c\",\"#83d34b\",\"#86d449\",\"#88d547\",\"#8bd546\",\"#8dd644\",\"#90d643\",\"#92d741\",\"#95d73f\",\"#97d83e\",\"#9ad83c\",\"#9dd93a\",\"#9fd938\",\"#a2da37\",\"#a5da35\",\"#a7db33\",\"#aadb32\",\"#addc30\",\"#afdc2e\",\"#b2dd2c\",\"#b5dd2b\",\"#b7dd29\",\"#bade27\",\"#bdde26\",\"#bfdf24\",\"#c2df22\",\"#c5df21\",\"#c7e01f\",\"#cae01e\",\"#cde01d\",\"#cfe11c\",\"#d2e11b\",\"#d4e11a\",\"#d7e219\",\"#dae218\",\"#dce218\",\"#dfe318\",\"#e1e318\",\"#e4e318\",\"#e7e419\",\"#e9e419\",\"#ece41a\",\"#eee51b\",\"#f1e51c\",\"#f3e51e\",\"#f6e61f\",\"#f8e621\",\"#fae622\",\"#fde724\"],\"low\":4.6406953161078545e-36,\"high\":0.9999992957399597}}],\"annotations\":[{\"type\":\"map\",\"entries\":[[\"id\",\"a60de00d-371b-45b4-80ba-df720cca6dbe000055f431db82a0\"],[\"viewport\",[0.0,0.0,1.0,1.0]],[\"fontSize\",14.0],[\"fontFamily\",\"Arial\"],[\"color\",[0.0,0.0,0.0]],[\"LowerLeft\",null],[\"LowerRight\",null],[\"UpperLeft\",null],[\"UpperRight\",null],[\"LowerEdge\",null],[\"RightEdge\",null],[\"LeftEdge\",null],[\"UpperEdge\",\"uh imag\"]]}],\"arrays\":{\"type\":\"map\",\"entries\":[[\"4778900442480e0ca6a1d3f90e483ab5\",{\"type\":\"bytes\",\"data\":\"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\"}],[\"43cd855470463556cc0f4b30c23d7f91\",{\"type\":\"bytes\",\"data\":\"AwAAAAAAAAABAAAAAgAAAAMAAAAAAAAAAwAAAAIAAAADAAAABAAAAAAAAAADAAAAAwAAAAMAAAACAAAABQAAAAMAAAAEAAAABgAAAAMAAAADAAAAAwAAAAcAAAAFAAAAAwAAAAgAAAAEAAAABgAAAAMAAAAGAAAAAwAAAAcAAAADAAAABwAAAAUAAAAJAAAAAwAAAAgAAAAKAAAABgAAAAMAAAAGAAAACwAAAAcAAAADAAAABwAAAAwAAAAJAAAAAwAAAA0AAAAIAAAACgAAAAMAAAAKAAAABgAAAAsAAAADAAAACwAAAAcAAAAMAAAAAwAAAAwAAAAJAAAADgAAAAMAAAANAAAADwAAAAoAAAADAAAACgAAABAAAAALAAAAAwAAAAsAAAARAAAADAAAAAMAAAAMAAAAEgAAAA4AAAADAAAAEwAAAA0AAAAPAAAAAwAAAA8AAAAKAAAAEAAAAAMAAAAQAAAACwAAABEAAAADAAAAEQAAAAwAAAASAAAAAwAAABIAAAAOAAAAFAAAAAMAAAATAAAAFQAAAA8AAAADAAAADwAAABYAAAAQAAAAAwAAABAAAAAXAAAAEQAAAAMAAAARAAAAGAAAABIAAAADAAAAEgAAABkAAAAUAAAAAwAAABoAAAATAAAAFQAAAAMAAAAVAAAADwAAABYAAAADAAAAFgAAABAAAAAXAAAAAwAAABcAAAARAAAAGAAAAAMAAAAYAAAAEgAAABkAAAADAAAAGQAAABQAAAAbAAAAAwAAABoAAAAcAAAAFQAAAAMAAAAVAAAAHQAAABYAAAADAAAAFgAAAB4AAAAXAAAAAwAAABcAAAAfAAAAGAAAAAMAAAAYAAAAIAAAABkAAAADAAAAGQAAACEAAAAbAAAAAwAAACIAAAAaAAAAHAAAAAMAAAAcAAAAFQAAAB0AAAADAAAAHQAAABYAAAAeAAAAAwAAAB4AAAAXAAAAHwAAAAMAAAAfAAAAGAAAACAAAAADAAAAIAAAABkAAAAhAAAAAwAAACEAAAAbAAAAIwAAAAMAAAAiAAAAJAAAABwAAAADAAAAHAAAACUAAAAdAAAAAwAAAB0AAAAmAAAAHgAAAAMAAAAeAAAAJwAAAB8AAAADAAAAHwAAACgAAAAgAAAAAwAAACAAAAApAAAAIQAAAAMAAAAhAAAAKgAAACMAAAADAAAAKwAAACIAAAAkAAAAAwAAACQAAAAcAAAAJQAAAAMAAAAlAAAAHQAAACYAAAADAAAAJgAAAB4AAAAnAAAAAwAAACcAAAAfAAAAKAAAAAMAAAAoAAAAIAAAACkAAAADAAAAKQAAACEAAAAqAAAAAwAAACoAAAAjAAAALAAAAAMAAAArAAAALQAAACQAAAADAAAAJAAAAC4AAAAlAAAAAwAAACUAAAAvAAAAJgAAAAMAAAAmAAAAMAAAACcAAAADAAAAJwAAADEAAAAoAAAAAwAAACgAAAAyAAAAKQAAAAMAAAApAAAAMwAAACoAAAADAAAAKgAAADQAAAAsAAAAAwAAADUAAAArAAAALQAAAAMAAAAtAAAAJAAAAC4AAAADAAAALgAAACUAAAAvAAAAAwAAAC8AAAAmAAAAMAAAAAMAAAAwAAAAJwAAADEAAAADAAAAMQAAACgAAAAyAAAAAwAAADIAAAApAAAAMwAAAAMAAAAzAAAAKgAAADQAAAADAAAANAAAACwAAAA2AAAAAwAAADUAAAA3AAAALQAAAAMAAAAtAAAAOAAAAC4AAAADAAAALgAAADkAAAAvAAAAAwAAAC8AAAA6AAAAMAAAAAMAAAAwAAAAOwAAADEAAAADAAAAMQAAADwAAAAyAAAAAwAAADIAAAA9AAAAMwAAAAMAAAAzAAAAPgAAADQAAAADAAAANAAAAD8AAAA2AAAAAwAAAEAAAAA1AAAANwAAAAMAAAA3AAAALQAAADgAAAADAAAAOAAAAC4AAAA5AAAAAwAAADkAAAAvAAAAOgAAAAMAAAA6AAAAMAAAADsAAAADAAAAOwAAADEAAAA8AAAAAwAAADwAAAAyAAAAPQAAAAMAAAA9AAAAMwAAAD4AAAADAAAAPgAAADQAAAA/AAAAAwAAAD8AAAA2AAAAQQAAAAMAAABAAAAAQgAAADcAAAADAAAANwAAAEMAAAA4AAAAAwAAADgAAABEAAAAOQAAAAMAAAA5AAAARQAAADoAAAADAAAAOgAAAEYAAAA7AAAAAwAAADsAAABHAAAAPAAAAAMAAAA8AAAASAAAAD0AAAADAAAAPQAAAEkAAAA+AAAAAwAAAD4AAABKAAAAPwAAAAMAAAA/AAAASwAAAEEAAAADAAAAQgAAADcAAABDAAAAAwAAAEMAAAA4AAAARAAAAAMAAABEAAAAOQAAAEUAAAADAAAARQAAADoAAABGAAAAAwAAAEYAAAA7AAAARwAAAAMAAABHAAAAPAAAAEgAAAADAAAASAAAAD0AAABJAAAAAwAAAEkAAAA+AAAASgAAAAMAAABKAAAAPwAAAEsAAAADAAAAQgAAAEwAAABDAAAAAwAAAEMAAABNAAAARAAAAAMAAABEAAAATgAAAEUAAAADAAAARQAAAE8AAABGAAAAAwAAAEYAAABQAAAARwAAAAMAAABHAAAAUQAAAEgAAAADAAAASAAAAFIAAABJAAAAAwAAAEkAAABTAAAASgAAAAMAAABKAAAAVAAAAEsAAAADAAAATAAAAEMAAABNAAAAAwAAAE0AAABEAAAATgAAAAMAAABOAAAARQAAAE8AAAADAAAATwAAAEYAAABQAAAAAwAAAFAAAABHAAAAUQAAAAMAAABRAAAASAAAAFIAAAADAAAAUgAAAEkAAABTAAAAAwAAAFMAAABKAAAAVAAAAAMAAABMAAAAVQAAAE0AAAADAAAATQAAAFYAAABOAAAAAwAAAE4AAABXAAAATwAAAAMAAABPAAAAWAAAAFAAAAADAAAAUAAAAFkAAABRAAAAAwAAAFEAAABaAAAAUgAAAAMAAABSAAAAWwAAAFMAAAADAAAAUwAAAFwAAABUAAAAAwAAAFUAAABNAAAAVgAAAAMAAABWAAAATgAAAFcAAAADAAAAVwAAAE8AAABYAAAAAwAAAFgAAABQAAAAWQAAAAMAAABZAAAAUQAAAFoAAAADAAAAWgAAAFIAAABbAAAAAwAAAFsAAABTAAAAXAAAAAMAAABVAAAAXQAAAFYAAAADAAAAVgAAAF4AAABXAAAAAwAAAFcAAABfAAAAWAAAAAMAAABYAAAAYAAAAFkAAAADAAAAWQAAAGEAAABaAAAAAwAAAFoAAABiAAAAWwAAAAMAAABbAAAAYwAAAFwAAAADAAAAXQAAAFYAAABeAAAAAwAAAF4AAABXAAAAXwAAAAMAAABfAAAAWAAAAGAAAAADAAAAYAAAAFkAAABhAAAAAwAAAGEAAABaAAAAYgAAAAMAAABiAAAAWwAAAGMAAAADAAAAXQAAAGQAAABeAAAAAwAAAF4AAABlAAAAXwAAAAMAAABfAAAAZgAAAGAAAAADAAAAYAAAAGcAAABhAAAAAwAAAGEAAABoAAAAYgAAAAMAAABiAAAAaQAAAGMAAAADAAAAZAAAAF4AAABlAAAAAwAAAGUAAABfAAAAZgAAAAMAAABmAAAAYAAAAGcAAAADAAAAZwAAAGEAAABoAAAAAwAAAGgAAABiAAAAaQAAAAMAAABkAAAAagAAAGUAAAADAAAAZQAAAGsAAABmAAAAAwAAAGYAAABsAAAAZwAAAAMAAABnAAAAbQAAAGgAAAADAAAAaAAAAG4AAABpAAAAAwAAAGoAAABlAAAAawAAAAMAAABrAAAAZgAAAGwAAAADAAAAbAAAAGcAAABtAAAAAwAAAG0AAABoAAAAbgAAAAMAAABqAAAAbwAAAGsAAAADAAAAawAAAHAAAABsAAAAAwAAAGwAAABxAAAAbQAAAAMAAABtAAAAcgAAAG4AAAADAAAAbwAAAGsAAABwAAAAAwAAAHAAAABsAAAAcQAAAAMAAABxAAAAbQAAAHIAAAADAAAAbwAAAHMAAABwAAAAAwAAAHAAAAB0AAAAcQAAAAMAAABxAAAAdQAAAHIAAAADAAAAcwAAAHAAAAB0AAAAAwAAAHQAAABxAAAAdQAAAAMAAABzAAAAdgAAAHQAAAADAAAAdAAAAHcAAAB1AAAAAwAAAHYAAAB0AAAAdwAAAAMAAAB2AAAAeAAAAHcAAAA=\"}],[\"1c3c002347751be75e37f88d0fc2bf49\",{\"type\":\"bytes\",\"data\":\"AIAlAnEZQj4AYIFOTFhGPrc7pLfheoQ/hx3ZuKd6hD8A4MJF+5k8PgmogKvgeqQ/idl4pHV6hD9Jb0XEwXqkPwAAamHk5TU+Sv4TiTwKtz/0ChfkPnqEP/gz4u6reqQ/Dk4uyigKtz8AAD5XnRYwPh7Dd2jgesQ/yP1NFSt6hD9whmGfmHqkP5SZqKcfCrc/7sqoxNh6xD8AYIFOTFgmPu51qZb+/88/YYDO4l16hD/N3sLvlnqkP96gduwcCrc/GcRC/Nd6xD99DByn/P/PPwDgwkX7mRw+04uPZzwK1z/YoeQ3rHqEP/LUjRq3eqQ/PPB3iyMKtz+JSu673HrEP2eNNHX+/88//6h82j4K1z8AAD5XnRYQPhdU7IgnXN8/opwCuQJ7hD/admFU4nqkP6lQw5A5Crc/gzQDOuR6xD/HKr29AgDQP+lQACo/Ctc/rGAgNy1c3z8AYMRF+5n8PeSJtVfgeuQ/lPfQqjV7hD8Ql0FsEHukPxoazmBOCrc//IoLZe16xD8Zav6wBgDQP5BuOzxACtc/dvxmIyxc3z/Bcr+I5HrkPwBgxEX7mdw9c+WF7YPr6T8Iz2zaJnuEPx7mwEQhe6Q/7KXpJWYKtz8Wy7YZ7HrEP2pyfdoIANA/Z6bmpkEK1z85bsSwKVzfP38BtjDkeuQ/WzI+FIjr6T/tdSdPlqyYOLI854X+/+8/znYfUuB6hD+66JTvD3ukP1yDLKhoCrc/vYSmxu56xD8ecLet///PP80k3ElCCtc/FnQMkidc3z985MAp43rkP2fcRXWI6+k/4IXXhP7/7z/Odh9S4HqkP4xi0mZZCrc/i7AyJ+x6xD+ygYhu9v/PP5YJHbQ0Ctc/6/+piChc3z93pvGQ4XrkP+wza16H6+k/CGnkg/7/7z+pZWNcPAq3P+QkuLPlesQ/tM/sofX/zz/CLykCLwrXP7NWoawdXN8/3FquNuF65D80xEAQiOvpPyrmDYP+/+8/znYfUuB6xD+IwSI99v/PP5vv7dc0Ctc/DLhGAx5c3z9iCTUd3nrkP7tgSMOJ6+k/S/1Tgv7/7z+hKVGA/v/PP91hPZk5Ctc/4ebO2itc3z/nN8IT4HrkP3FBeyWJ6+k/Za62gf7/7z+pZWNcPArXP3zOW4IyXN8/nesj+uV65D99JcRzievpP3r5NYH+/+8/7i3AfSdc3z8oHlRx6HrkP37yVW+H6+k/it7RgP7/7z/Odh9S4HrkP/zwktGG6+k/lV2KgP7/7z9d0u/ng+vpP5x2X4D+/+8/oSlRgP7/7z8=\"}],[\"ce52d598102e2756143cf4f27a0b5911\",{\"type\":\"bytes\",\"data\":\"RAFU/0QCVf9EA1f/RQVY/0UGWv9FCFv/Rglc/0YLXv9GDF//Rg5h/0cPYv9HEWP/RxJl/0cUZv9HFWf/RxZp/0cYav9IGWv/SBps/0gcbv9IHW//SB5w/0ggcf9IIXL/SCJz/0gjdP9HJXX/RyZ2/0cnd/9HKHj/Ryp5/0crev9HLHv/Ri18/0YvfP9GMH3/RjF+/0Uyf/9FNH//RTWA/0U2gf9EN4H/RDmC/0M6g/9DO4P/QzyE/0I9hP9CPoX/QkCF/0FBhv9BQob/QEOH/0BEh/8/RYf/P0eI/z5IiP8+SYn/PUqJ/z1Lif89TIn/PE2K/zxOiv87UIr/O1GK/zpSi/86U4v/OVSL/zlVi/84Vov/OFeM/zdYjP83WYz/NlqM/zZbjP81XIz/NV2M/zRejf80X43/M2CN/zNhjf8yYo3/MmON/zFkjf8xZY3/MWaN/zBnjf8waI3/L2mN/y9qjf8ua47/LmyO/y5tjv8tbo7/LW+O/yxwjv8scY7/LHKO/ytzjv8rdI7/KnWO/yp2jv8qd47/KXiO/yl5jv8oeo7/KHqO/yh7jv8nfI7/J32O/yd+jv8mf47/JoCO/yaBjv8lgo7/JYON/ySEjf8khY3/JIaN/yOHjf8jiI3/I4mN/yKJjf8iio3/IouN/yGMjf8hjYz/IY6M/yCPjP8gkIz/IJGM/x+SjP8fk4v/H5SL/x+Vi/8flov/HpeK/x6Yiv8emYr/HpmK/x6aif8em4n/HpyJ/x6diP8enoj/Hp+I/x6gh/8foYf/H6KG/x+jhv8gpIX/IKWF/yGmhf8hp4T/IqeE/yOog/8jqYL/JKqC/yWrgf8mrIH/J62A/yiuf/8pr3//KrB+/yuxff8ssX3/LrJ8/y+ze/8wtHr/MrV6/zO2ef81t3j/Nrh3/zi5dv85uXb/O7p1/z27dP8+vHP/QL1y/0K+cf9EvnD/Rb9v/0fAbv9JwW3/S8Js/03Ca/9Pw2n/UcRo/1PFZ/9Vxmb/V8Zl/1nHZP9byGL/Xslh/2DJYP9iyl//ZMtd/2fMXP9pzFv/a81Z/23OWP9wzlb/cs9V/3TQVP930FL/edFR/3zST/9+0k7/gdNM/4PTS/+G1En/iNVH/4vVRv+N1kT/kNZD/5LXQf+V1z//l9g+/5rYPP+d2Tr/n9k4/6LaN/+l2jX/p9sz/6rbMv+t3DD/r9wu/7LdLP+13Sv/t90p/7reJ/+93ib/v98k/8LfIv/F3yH/x+Af/8rgHv/N4B3/z+Ec/9LhG//U4Rr/1+IZ/9riGP/c4hj/3+MY/+HjGP/k4xj/5+QZ/+nkGf/s5Br/7uUb//HlHP/z5R7/9uYf//jmIf/65iL//eck/w==\"}]]},\"scene\":{\"type\":\"map\",\"entries\":[[\"parent\",\"a60de00d-371b-45b4-80ba-df720cca6dbe0x0\"],[\"id\",\"a60de00d-371b-45b4-80ba-df720cca6dbe000055f43128a790\"],[\"type\",\"vtkXOpenGLRenderWindow\"],[\"properties\",{\"type\":\"map\",\"entries\":[[\"numberOfLayers\",2]]}],[\"dependencies\",[{\"type\":\"map\",\"entries\":[[\"parent\",\"a60de00d-371b-45b4-80ba-df720cca6dbe000055f43128a790\"],[\"id\",\"a60de00d-371b-45b4-80ba-df720cca6dbe000055f431ee98f0\"],[\"type\",\"vtkOpenGLRenderer\"],[\"properties\",{\"type\":\"map\",\"entries\":[[\"background\",[1.0,1.0,1.0]],[\"background2\",[0.2,0.2,0.2]],[\"viewport\",[0.0,0.0,1.0,1.0]],[\"twoSidedLighting\",1],[\"lightFollowCamera\",1],[\"layer\",0],[\"preserveColorBuffer\",0],[\"preserveDepthBuffer\",0],[\"nearClippingPlaneTolerance\",0.001],[\"clippingRangeExpansion\",0.5],[\"useShadows\",0],[\"useDepthPeeling\",0],[\"occlusionRatio\",0.0],[\"maximumNumberOfPeels\",4],[\"interactive\",1]]}],[\"dependencies\",[{\"type\":\"map\",\"entries\":[[\"parent\",\"a60de00d-371b-45b4-80ba-df720cca6dbe000055f431ee98f0\"],[\"id\",\"000055f431db36d0\"],[\"type\",\"vtkOpenGLCamera\"],[\"properties\",{\"type\":\"map\",\"entries\":[[\"focalPoint\",[0.5,0.5,0.0]],[\"position\",[0.5,0.5,2.7320508075688776]],[\"viewUp\",[0.0,1.0,0.0]],[\"clippingRange\",[2.5590521887869815,2.956410296978415]]]}]]},{\"type\":\"map\",\"entries\":[[\"parent\",\"a60de00d-371b-45b4-80ba-df720cca6dbe000055f431ee98f0\"],[\"id\",\"a60de00d-371b-45b4-80ba-df720cca6dbe000055f431efb640\"],[\"type\",\"vtkOpenGLActor\"],[\"properties\",{\"type\":\"map\",\"entries\":[[\"visibility\",1],[\"pickable\",1],[\"dragable\",1],[\"useBounds\",true],[\"origin\",[0.0,0.0,0.0]],[\"position\",[0.0,0.0,0.0]],[\"scale\",[1.0,1.0,1.0]],[\"orientation\",[0.0,-0.0,0.0]],[\"forceOpaque\",false],[\"forceTranslucent\",false]]}],[\"calls\",[[\"setMapper\",[\"instance:${a60de00d-371b-45b4-80ba-df720cca6dbe000055f431e4cfa0}\"]],[\"setProperty\",[\"instance:${a60de00d-371b-45b4-80ba-df720cca6dbe000055f431322170}\"]]]],[\"dependencies\",[{\"type\":\"map\",\"entries\":[[\"parent\",\"a60de00d-371b-45b4-80ba-df720cca6dbe000055f431efb640\"],[\"id\",\"a60de00d-371b-45b4-80ba-df720cca6dbe000055f431e4cfa0\"],[\"properties\",{\"type\":\"map\",\"entries\":[[\"resolveCoincidentTopology\",0],[\"renderTime\",0.0],[\"arrayAccessMode\",1],[\"scalarRange\",[4.6406953161078545e-36,0.9999992957399597]],[\"useLookupTableScalarRange\",0],[\"scalarVisibility\",1],[\"colorByArrayName\",null],[\"colorMode\",1],[\"scalarMode\",1],[\"interpolateScalarsBeforeMapping\",1]]}],[\"calls\",[[\"setInputData\",[\"instance:${a60de00d-371b-45b4-80ba-df720cca6dbe000055f431e4cfa0-dataset-0}\",0]],[\"setLookupTable\",[\"instance:${a60de00d-371b-45b4-80ba-df720cca6dbe000055f431e4d540}\"]]]],[\"dependencies\",[{\"type\":\"map\",\"entries\":[[\"parent\",\"a60de00d-371b-45b4-80ba-df720cca6dbe000055f431e4cfa0\"],[\"id\",\"a60de00d-371b-45b4-80ba-df720cca6dbe000055f431e4cfa0-dataset-0\"],[\"type\",\"vtkPolyData\"],[\"properties\",{\"type\":\"map\",\"entries\":[[\"points\",{\"type\":\"map\",\"entries\":[[\"hash\",\"4778900442480e0ca6a1d3f90e483ab5\"],[\"vtkClass\",\"vtkPoints\"],[\"name\",\"Points\"],[\"dataType\",\"Float64Array\"],[\"numberOfComponents\",3],[\"size\",363],[\"ranges\",[{\"type\":\"map\",\"entries\":[[\"min\",-2.154228071576087e-18],[\"max\",1.0],[\"component\",null]]},{\"type\":\"map\",\"entries\":[[\"min\",-2.154228071576087e-18],[\"max\",1.0],[\"component\",null]]},{\"type\":\"map\",\"entries\":[[\"min\",0.0],[\"max\",0.0],[\"component\",null]]},{\"type\":\"map\",\"entries\":[[\"min\",3.0465385552677406e-18],[\"max\",1.414213562373095],[\"component\",null]]}]]]}],[\"polys\",{\"type\":\"map\",\"entries\":[[\"hash\",\"43cd855470463556cc0f4b30c23d7f91\"],[\"vtkClass\",\"vtkCellArray\"],[\"name\",null],[\"dataType\",\"Uint32Array\"],[\"numberOfComponents\",1],[\"size\",800],[\"ranges\",[{\"type\":\"map\",\"entries\":[[\"min\",0.0],[\"max\",120.0],[\"component\",null]]}]]]}],[\"fields\",[{\"type\":\"map\",\"entries\":[[\"hash\",\"1c3c002347751be75e37f88d0fc2bf49\"],[\"vtkClass\",\"vtkDataArray\"],[\"name\",\"u_imag\"],[\"dataType\",\"Float64Array\"],[\"numberOfComponents\",1],[\"size\",121],[\"ranges\",[{\"type\":\"map\",\"entries\":[[\"min\",4.6406953161078545e-36],[\"max\",0.9999992957399597],[\"component\",null]]}]],[\"location\",\"pointData\"],[\"registration\",\"setScalars\"]]}]]]}]]},{\"type\":\"map\",\"entries\":[[\"parent\",\"a60de00d-371b-45b4-80ba-df720cca6dbe000055f431e4cfa0\"],[\"id\",\"a60de00d-371b-45b4-80ba-df720cca6dbe000055f431e4d540\"],[\"type\",\"vtkLookupTable\"],[\"properties\",{\"type\":\"map\",\"entries\":[[\"numberOfColors\",256],[\"valueRange\",[4.6406953161078545e-36,0.9999992957399597]],[\"range\",[4.6406953161078545e-36,0.9999992957399597]],[\"hueRange\",[0.5,0]],[\"saturationRange\",[1.0,1.0]],[\"nanColor\",[0.6627450980392157,0.6627450980392157,0.6627450980392157,1.0]],[\"belowRangeColor\",[0.0,0.0,0.0,1.0]],[\"aboveRangeColor\",[1.0,1.0,1.0,1.0]],[\"useAboveRangeColor\",false],[\"useBelowRangeColor\",false],[\"alpha\",1.0],[\"vectorSize\",-1],[\"vectorComponent\",0],[\"vectorMode\",1],[\"indexedLookup\",0]]}],[\"arrays\",[{\"type\":\"map\",\"entries\":[[\"hash\",\"ce52d598102e2756143cf4f27a0b5911\"],[\"vtkClass\",\"vtkDataArray\"],[\"name\",null],[\"dataType\",\"Uint8Array\"],[\"numberOfComponents\",4],[\"size\",1024],[\"ranges\",[{\"type\":\"map\",\"entries\":[[\"min\",30.0],[\"max\",253.0],[\"component\",null]]},{\"type\":\"map\",\"entries\":[[\"min\",1.0],[\"max\",231.0],[\"component\",null]]},{\"type\":\"map\",\"entries\":[[\"min\",24.0],[\"max\",142.0],[\"component\",null]]},{\"type\":\"map\",\"entries\":[[\"min\",255.0],[\"max\",255.0],[\"component\",null]]},{\"type\":\"map\",\"entries\":[[\"min\",276.95848064285735],[\"max\",428.5918804643877],[\"component\",null]]}]],[\"registration\",\"setTable\"]]}]]]}]],[\"type\",\"vtkDataSetMapper\"]]},{\"type\":\"map\",\"entries\":[[\"parent\",\"a60de00d-371b-45b4-80ba-df720cca6dbe000055f431efb640\"],[\"id\",\"a60de00d-371b-45b4-80ba-df720cca6dbe000055f431322170\"],[\"type\",\"vtkOpenGLProperty\"],[\"properties\",{\"type\":\"map\",\"entries\":[[\"representation\",2],[\"diffuseColor\",[0.6784313725490196,0.8470588235294118,0.9019607843137255]],[\"color\",[0.6784313725490196,0.8470588235294118,0.9019607843137255]],[\"ambientColor\",[0.6784313725490196,0.8470588235294118,0.9019607843137255]],[\"specularColor\",[0.6784313725490196,0.8470588235294118,0.9019607843137255]],[\"edgeColor\",[0.0,0.0,0.0]],[\"ambient\",0.0],[\"diffuse\",1.0],[\"specular\",0.0],[\"specularPower\",100.0],[\"opacity\",1.0],[\"interpolation\",0],[\"edgeVisibility\",1],[\"backfaceCulling\",0],[\"frontfaceCulling\",0],[\"pointSize\",5.0],[\"lineWidth\",1.0],[\"lighting\",1]]}]]}]]]}]],[\"calls\",[[\"setActiveCamera\",[\"instance:${000055f431db36d0}\"]],[\"addViewProp\",[\"instance:${a60de00d-371b-45b4-80ba-df720cca6dbe000055f431efb640}\"]]]]]},{\"type\":\"map\",\"entries\":[[\"parent\",\"a60de00d-371b-45b4-80ba-df720cca6dbe000055f43128a790\"],[\"id\",\"a60de00d-371b-45b4-80ba-df720cca6dbe000055f431eeabc0\"],[\"type\",\"vtkOpenGLRenderer\"],[\"properties\",{\"type\":\"map\",\"entries\":[[\"background\",[1.0,1.0,1.0]],[\"background2\",[0.2,0.2,0.2]],[\"viewport\",[0.0,0.0,1.0,1.0]],[\"twoSidedLighting\",1],[\"lightFollowCamera\",1],[\"layer\",1],[\"preserveColorBuffer\",1],[\"preserveDepthBuffer\",0],[\"nearClippingPlaneTolerance\",0.0],[\"clippingRangeExpansion\",0.5],[\"useShadows\",0],[\"useDepthPeeling\",0],[\"occlusionRatio\",0.0],[\"maximumNumberOfPeels\",4],[\"interactive\",0]]}],[\"dependencies\",[{\"type\":\"map\",\"entries\":[[\"parent\",\"a60de00d-371b-45b4-80ba-df720cca6dbe000055f431eeabc0\"],[\"id\",\"000055f431e19820\"],[\"type\",\"vtkOpenGLCamera\"],[\"properties\",{\"type\":\"map\",\"entries\":[[\"focalPoint\",[0.0,0.0,0.0]],[\"position\",[0.0,0.0,1.0]],[\"viewUp\",[0.0,1.0,0.0]],[\"clippingRange\",[0.01,1000.01]]]}]]}]],[\"calls\",[[\"setActiveCamera\",[\"instance:${000055f431e19820}\"]]]]]}]],[\"calls\",[[\"addRenderer\",[\"instance:${a60de00d-371b-45b4-80ba-df720cca6dbe000055f431ee98f0}\"]],[\"addRenderer\",[\"instance:${a60de00d-371b-45b4-80ba-df720cca6dbe000055f431eeabc0}\"]]]],[\"mtime\",39167]]}}},{\"type\":\"object\",\"name\":\"panel.models.comm_manager.CommManager\",\"id\":\"e3723328-c482-4f4b-98c5-435ea4350e5c\",\"attributes\":{\"plot_id\":\"9bb984ca-7ceb-47ef-9527-b1b4a6c1e5d8\",\"comm_id\":\"347e825be40a4b96a0b3e798dea93327\",\"client_comm_id\":\"d1d797e6bffb4bfba4bbe2a0fb650c09\"}}],\"defs\":[{\"type\":\"model\",\"name\":\"ReactiveHTML1\"},{\"type\":\"model\",\"name\":\"FlexBox1\",\"properties\":[{\"name\":\"align_content\",\"kind\":\"Any\",\"default\":\"flex-start\"},{\"name\":\"align_items\",\"kind\":\"Any\",\"default\":\"flex-start\"},{\"name\":\"flex_direction\",\"kind\":\"Any\",\"default\":\"row\"},{\"name\":\"flex_wrap\",\"kind\":\"Any\",\"default\":\"wrap\"},{\"name\":\"justify_content\",\"kind\":\"Any\",\"default\":\"flex-start\"}]},{\"type\":\"model\",\"name\":\"FloatPanel1\",\"properties\":[{\"name\":\"config\",\"kind\":\"Any\",\"default\":{\"type\":\"map\"}},{\"name\":\"contained\",\"kind\":\"Any\",\"default\":true},{\"name\":\"position\",\"kind\":\"Any\",\"default\":\"right-top\"},{\"name\":\"offsetx\",\"kind\":\"Any\",\"default\":null},{\"name\":\"offsety\",\"kind\":\"Any\",\"default\":null},{\"name\":\"theme\",\"kind\":\"Any\",\"default\":\"primary\"},{\"name\":\"status\",\"kind\":\"Any\",\"default\":\"normalized\"}]},{\"type\":\"model\",\"name\":\"GridStack1\",\"properties\":[{\"name\":\"mode\",\"kind\":\"Any\",\"default\":\"warn\"},{\"name\":\"ncols\",\"kind\":\"Any\",\"default\":null},{\"name\":\"nrows\",\"kind\":\"Any\",\"default\":null},{\"name\":\"allow_resize\",\"kind\":\"Any\",\"default\":true},{\"name\":\"allow_drag\",\"kind\":\"Any\",\"default\":true},{\"name\":\"state\",\"kind\":\"Any\",\"default\":[]}]},{\"type\":\"model\",\"name\":\"drag1\",\"properties\":[{\"name\":\"slider_width\",\"kind\":\"Any\",\"default\":5},{\"name\":\"slider_color\",\"kind\":\"Any\",\"default\":\"black\"},{\"name\":\"value\",\"kind\":\"Any\",\"default\":50}]},{\"type\":\"model\",\"name\":\"click1\",\"properties\":[{\"name\":\"terminal_output\",\"kind\":\"Any\",\"default\":\"\"},{\"name\":\"debug_name\",\"kind\":\"Any\",\"default\":\"\"},{\"name\":\"clears\",\"kind\":\"Any\",\"default\":0}]},{\"type\":\"model\",\"name\":\"FastWrapper1\",\"properties\":[{\"name\":\"object\",\"kind\":\"Any\",\"default\":null},{\"name\":\"style\",\"kind\":\"Any\",\"default\":null}]},{\"type\":\"model\",\"name\":\"NotificationAreaBase1\",\"properties\":[{\"name\":\"js_events\",\"kind\":\"Any\",\"default\":{\"type\":\"map\"}},{\"name\":\"position\",\"kind\":\"Any\",\"default\":\"bottom-right\"},{\"name\":\"_clear\",\"kind\":\"Any\",\"default\":0}]},{\"type\":\"model\",\"name\":\"NotificationArea1\",\"properties\":[{\"name\":\"js_events\",\"kind\":\"Any\",\"default\":{\"type\":\"map\"}},{\"name\":\"notifications\",\"kind\":\"Any\",\"default\":[]},{\"name\":\"position\",\"kind\":\"Any\",\"default\":\"bottom-right\"},{\"name\":\"_clear\",\"kind\":\"Any\",\"default\":0},{\"name\":\"types\",\"kind\":\"Any\",\"default\":[{\"type\":\"map\",\"entries\":[[\"type\",\"warning\"],[\"background\",\"#ffc107\"],[\"icon\",{\"type\":\"map\",\"entries\":[[\"className\",\"fas fa-exclamation-triangle\"],[\"tagName\",\"i\"],[\"color\",\"white\"]]}]]},{\"type\":\"map\",\"entries\":[[\"type\",\"info\"],[\"background\",\"#007bff\"],[\"icon\",{\"type\":\"map\",\"entries\":[[\"className\",\"fas fa-info-circle\"],[\"tagName\",\"i\"],[\"color\",\"white\"]]}]]}]}]},{\"type\":\"model\",\"name\":\"Notification\",\"properties\":[{\"name\":\"background\",\"kind\":\"Any\",\"default\":null},{\"name\":\"duration\",\"kind\":\"Any\",\"default\":3000},{\"name\":\"icon\",\"kind\":\"Any\",\"default\":null},{\"name\":\"message\",\"kind\":\"Any\",\"default\":\"\"},{\"name\":\"notification_type\",\"kind\":\"Any\",\"default\":null},{\"name\":\"_destroyed\",\"kind\":\"Any\",\"default\":false}]},{\"type\":\"model\",\"name\":\"TemplateActions1\",\"properties\":[{\"name\":\"open_modal\",\"kind\":\"Any\",\"default\":0},{\"name\":\"close_modal\",\"kind\":\"Any\",\"default\":0}]},{\"type\":\"model\",\"name\":\"BootstrapTemplateActions1\",\"properties\":[{\"name\":\"open_modal\",\"kind\":\"Any\",\"default\":0},{\"name\":\"close_modal\",\"kind\":\"Any\",\"default\":0}]},{\"type\":\"model\",\"name\":\"MaterialTemplateActions1\",\"properties\":[{\"name\":\"open_modal\",\"kind\":\"Any\",\"default\":0},{\"name\":\"close_modal\",\"kind\":\"Any\",\"default\":0}]}]}};\n",
       "  var render_items = [{\"docid\":\"721e3cce-f37a-47fd-b4fb-f4be9dbe8245\",\"roots\":{\"9bb984ca-7ceb-47ef-9527-b1b4a6c1e5d8\":\"f971bc9e-701e-4fb6-9d52-1efd8ee408ca\"},\"root_ids\":[\"9bb984ca-7ceb-47ef-9527-b1b4a6c1e5d8\"]}];\n",
       "  var docs = Object.values(docs_json)\n",
       "  if (!docs) {\n",
       "    return\n",
       "  }\n",
       "  const py_version = docs[0].version.replace('rc', '-rc.').replace('.dev', '-dev.')\n",
       "  const is_dev = py_version.indexOf(\"+\") !== -1 || py_version.indexOf(\"-\") !== -1\n",
       "  function embed_document(root) {\n",
       "    var Bokeh = get_bokeh(root)\n",
       "    Bokeh.embed.embed_items_notebook(docs_json, render_items);\n",
       "    for (const render_item of render_items) {\n",
       "      for (const root_id of render_item.root_ids) {\n",
       "\tconst id_el = document.getElementById(root_id)\n",
       "\tif (id_el.children.length && (id_el.children[0].className === 'bk-root')) {\n",
       "\t  const root_el = id_el.children[0]\n",
       "\t  root_el.id = root_el.id + '-rendered'\n",
       "\t}\n",
       "      }\n",
       "    }\n",
       "  }\n",
       "  function get_bokeh(root) {\n",
       "    if (root.Bokeh === undefined) {\n",
       "      return null\n",
       "    } else if (root.Bokeh.version !== py_version && !is_dev) {\n",
       "      if (root.Bokeh.versions === undefined || !root.Bokeh.versions.has(py_version)) {\n",
       "\treturn null\n",
       "      }\n",
       "      return root.Bokeh.versions.get(py_version);\n",
       "    } else if (root.Bokeh.version === py_version) {\n",
       "      return root.Bokeh\n",
       "    }\n",
       "    return null\n",
       "  }\n",
       "  function is_loaded(root) {\n",
       "    var Bokeh = get_bokeh(root)\n",
       "    return (Bokeh != null && Bokeh.Panel !== undefined && ( root['vtk'] !== undefined) && ( root['vtk'] !== undefined))\n",
       "  }\n",
       "  if (is_loaded(root)) {\n",
       "    embed_document(root);\n",
       "  } else {\n",
       "    var attempts = 0;\n",
       "    var timer = setInterval(function(root) {\n",
       "      if (is_loaded(root)) {\n",
       "        clearInterval(timer);\n",
       "        embed_document(root);\n",
       "      } else if (document.readyState == \"complete\") {\n",
       "        attempts++;\n",
       "        if (attempts > 200) {\n",
       "          clearInterval(timer);\n",
       "\t  var Bokeh = get_bokeh(root)\n",
       "\t  if (Bokeh == null || Bokeh.Panel == null) {\n",
       "            console.warn(\"Panel: ERROR: Unable to run Panel code because Bokeh or Panel library is missing\");\n",
       "\t  } else {\n",
       "\t    console.warn(\"Panel: WARNING: Attempting to render but not all required libraries could be resolved.\")\n",
       "\t    embed_document(root)\n",
       "\t  }\n",
       "        }\n",
       "      }\n",
       "    }, 25, root)\n",
       "  }\n",
       "})(window);</script>"
      ],
      "text/plain": [
       "VTKRenderWindowSynchronized(vtkXOpenGLRenderWindow, color_mappers=[LinearColorMapper(id='610...], sizing_mode='stretch_width')"
      ]
     },
     "metadata": {
      "application/vnd.holoviews_exec.v0+json": {
       "id": "9bb984ca-7ceb-47ef-9527-b1b4a6c1e5d8"
      }
     },
     "output_type": "display_data"
    }
   ],
   "source": [
    "grid.set_active_scalars(\"u_imag\")\n",
    "p_imag = pyvista.Plotter()\n",
    "p_imag.add_text(\"uh imag\", position=\"upper_edge\", font_size=14, color=\"black\")\n",
    "p_imag.add_mesh(grid, show_edges=True)\n",
    "p_imag.view_xy()\n",
    "if not pyvista.OFF_SCREEN:\n",
    "    p_imag.show()"
   ]
  },
  {
   "cell_type": "code",
   "execution_count": null,
   "id": "a63144b5-e3fc-445e-acea-b5d744bf7634",
   "metadata": {},
   "outputs": [],
   "source": []
  }
 ],
 "metadata": {
  "jupytext": {
   "formats": "ipynb,py:light"
  },
  "kernelspec": {
   "display_name": "Python 3 (DOLFINx complex)",
   "language": "python",
   "name": "python3-complex"
  },
  "language_info": {
   "codemirror_mode": {
    "name": "ipython",
    "version": 3
   },
   "file_extension": ".py",
   "mimetype": "text/x-python",
   "name": "python",
   "nbconvert_exporter": "python",
   "pygments_lexer": "ipython3",
   "version": "3.10.6"
  }
 },
 "nbformat": 4,
 "nbformat_minor": 5
}
