{
 "cells": [
  {
   "cell_type": "markdown",
   "id": "908815e6-cdac-4915-bf52-5578f978d2e7",
   "metadata": {},
   "source": [
    "# Hyperelasticity\n",
    "Author: Jørgen S. Dokken and Garth N. Wells\n",
    "\n",
    "This section shows how to solve the hyperelasticity problem for deformation of a beam.\n",
    "\n",
    "We will also show how to create a constant boundary condition for a vector function space.\n",
    "\n",
    "We start by importing DOLFINx and some additional dependencies.\n",
    "Then, we create a slender cantilever consisting of hexahedral elements and create the function space `V` for our unknown."
   ]
  },
  {
   "cell_type": "code",
   "execution_count": 1,
   "id": "optional-cameroon",
   "metadata": {
    "tags": []
   },
   "outputs": [],
   "source": [
    "from dolfinx import log, default_scalar_type\n",
    "from dolfinx.fem.petsc import NonlinearProblem\n",
    "from dolfinx.nls.petsc import NewtonSolver\n",
    "import matplotlib.pyplot as plt\n",
    "import pyvista\n",
    "from dolfinx import nls\n",
    "import numpy as np\n",
    "import ufl\n",
    "\n",
    "from mpi4py import MPI\n",
    "from dolfinx import fem, mesh, plot\n",
    "L = 20.0\n",
    "domain = mesh.create_box(MPI.COMM_WORLD, [[0.0, 0.0, 0.0], [L, 1, 1]], [20, 5, 5], mesh.CellType.hexahedron)\n",
    "V = fem.VectorFunctionSpace(domain, (\"Lagrange\", 2))"
   ]
  },
  {
   "cell_type": "markdown",
   "id": "streaming-neutral",
   "metadata": {},
   "source": [
    "We create two python functions for determining the facets to apply boundary conditions to"
   ]
  },
  {
   "cell_type": "code",
   "execution_count": 2,
   "id": "major-factor",
   "metadata": {},
   "outputs": [],
   "source": [
    "def left(x):\n",
    "    return np.isclose(x[0], 0)\n",
    "\n",
    "\n",
    "def right(x):\n",
    "    return np.isclose(x[0], L)\n",
    "\n",
    "\n",
    "fdim = domain.topology.dim - 1\n",
    "left_facets = mesh.locate_entities_boundary(domain, fdim, left)\n",
    "right_facets = mesh.locate_entities_boundary(domain, fdim, right)"
   ]
  },
  {
   "cell_type": "markdown",
   "id": "figured-world",
   "metadata": {},
   "source": [
    "Next, we create a  marker based on these two functions"
   ]
  },
  {
   "cell_type": "code",
   "execution_count": 3,
   "id": "dated-india",
   "metadata": {},
   "outputs": [],
   "source": [
    "# Concatenate and sort the arrays based on facet indices. Left facets marked with 1, right facets with two\n",
    "marked_facets = np.hstack([left_facets, right_facets])\n",
    "marked_values = np.hstack([np.full_like(left_facets, 1), np.full_like(right_facets, 2)])\n",
    "sorted_facets = np.argsort(marked_facets)\n",
    "facet_tag = mesh.meshtags(domain, fdim, marked_facets[sorted_facets], marked_values[sorted_facets])"
   ]
  },
  {
   "cell_type": "markdown",
   "id": "renewable-glossary",
   "metadata": {},
   "source": [
    "We then create a function for supplying the boundary condition on the left side, which is fixed."
   ]
  },
  {
   "cell_type": "code",
   "execution_count": 4,
   "id": "confidential-french",
   "metadata": {},
   "outputs": [],
   "source": [
    "u_bc = np.array((0,) * domain.geometry.dim, dtype=default_scalar_type)"
   ]
  },
  {
   "cell_type": "markdown",
   "id": "musical-documentation",
   "metadata": {},
   "source": [
    "To apply the boundary condition, we identity the dofs located on the facets marked by the `MeshTag`."
   ]
  },
  {
   "cell_type": "code",
   "execution_count": 5,
   "id": "written-monster",
   "metadata": {},
   "outputs": [],
   "source": [
    "left_dofs = fem.locate_dofs_topological(V, facet_tag.dim, facet_tag.find(1))\n",
    "bcs = [fem.dirichletbc(u_bc, left_dofs, V)]"
   ]
  },
  {
   "cell_type": "markdown",
   "id": "indoor-chester",
   "metadata": {},
   "source": [
    "Next, we define the body force on the reference configuration (`B`), and nominal (first Piola-Kirchhoff) traction (`T`)."
   ]
  },
  {
   "cell_type": "code",
   "execution_count": 6,
   "id": "korean-carol",
   "metadata": {},
   "outputs": [],
   "source": [
    "B = fem.Constant(domain, default_scalar_type((0, 0, 0)))\n",
    "T = fem.Constant(domain, default_scalar_type((0, 0, 0)))"
   ]
  },
  {
   "cell_type": "markdown",
   "id": "blond-dynamics",
   "metadata": {},
   "source": [
    "Define the test and solution functions on the space $V$"
   ]
  },
  {
   "cell_type": "code",
   "execution_count": 7,
   "id": "vocational-experiment",
   "metadata": {},
   "outputs": [],
   "source": [
    "v = ufl.TestFunction(V)\n",
    "u = fem.Function(V)"
   ]
  },
  {
   "cell_type": "markdown",
   "id": "bright-belle",
   "metadata": {},
   "source": [
    "Define kinematic quantities used in the problem"
   ]
  },
  {
   "cell_type": "code",
   "execution_count": 8,
   "id": "vertical-original",
   "metadata": {},
   "outputs": [],
   "source": [
    "# Spatial dimension\n",
    "d = len(u)\n",
    "\n",
    "# Identity tensor\n",
    "I = ufl.variable(ufl.Identity(d))\n",
    "\n",
    "# Deformation gradient\n",
    "F = ufl.variable(I + ufl.grad(u))\n",
    "\n",
    "# Right Cauchy-Green tensor\n",
    "C = ufl.variable(F.T * F)\n",
    "\n",
    "# Invariants of deformation tensors\n",
    "Ic = ufl.variable(ufl.tr(C))\n",
    "J = ufl.variable(ufl.det(F))"
   ]
  },
  {
   "cell_type": "markdown",
   "id": "respiratory-compromise",
   "metadata": {},
   "source": [
    "Define the elasticity model via a stored strain energy density function $\\psi$, and create the expression for the first Piola-Kirchhoff stress:"
   ]
  },
  {
   "cell_type": "code",
   "execution_count": 9,
   "id": "incorrect-hello",
   "metadata": {},
   "outputs": [],
   "source": [
    "# Elasticity parameters\n",
    "E = default_scalar_type(1.0e4)\n",
    "nu = default_scalar_type(0.3)\n",
    "mu = fem.Constant(domain, E / (2 * (1 + nu)))\n",
    "lmbda = fem.Constant(domain, E * nu / ((1 + nu) * (1 - 2 * nu)))\n",
    "# Stored strain energy density (compressible neo-Hookean model)\n",
    "psi = (mu / 2) * (Ic - 3) - mu * ufl.ln(J) + (lmbda / 2) * (ufl.ln(J))**2\n",
    "# Stress\n",
    "# Hyper-elasticity\n",
    "P = ufl.diff(psi, F)"
   ]
  },
  {
   "cell_type": "markdown",
   "id": "grateful-battlefield",
   "metadata": {},
   "source": [
    "```{admonition} Comparison to linear elasticity\n",
    "To illustrate the difference between linear and hyperelasticity, the following lines can be uncommented to solve the linear elasticity problem.\n",
    "```"
   ]
  },
  {
   "cell_type": "code",
   "execution_count": 10,
   "id": "imperial-jurisdiction",
   "metadata": {},
   "outputs": [],
   "source": [
    "# P = 2.0 * mu * ufl.sym(ufl.grad(u)) + lmbda * ufl.tr(ufl.sym(ufl.grad(u))) * I"
   ]
  },
  {
   "cell_type": "markdown",
   "id": "alleged-genesis",
   "metadata": {},
   "source": [
    "Define the variational form with traction integral over all facets with value 2. We set the quadrature degree for the integrals to 4."
   ]
  },
  {
   "cell_type": "code",
   "execution_count": 11,
   "id": "recognized-conclusion",
   "metadata": {},
   "outputs": [],
   "source": [
    "metadata = {\"quadrature_degree\": 4}\n",
    "ds = ufl.Measure('ds', domain=domain, subdomain_data=facet_tag, metadata=metadata)\n",
    "dx = ufl.Measure(\"dx\", domain=domain, metadata=metadata)\n",
    "# Define form F (we want to find u such that F(u) = 0)\n",
    "F = ufl.inner(ufl.grad(v), P) * dx - ufl.inner(v, B) * dx - ufl.inner(v, T) * ds(2)"
   ]
  },
  {
   "cell_type": "markdown",
   "id": "historic-sherman",
   "metadata": {},
   "source": [
    "As the varitional form is non-linear and written on residual form, we use the non-linear problem class from DOLFINx to set up required structures to use a Newton solver."
   ]
  },
  {
   "cell_type": "code",
   "execution_count": 12,
   "id": "threatened-devices",
   "metadata": {},
   "outputs": [],
   "source": [
    "problem = NonlinearProblem(F, u, bcs)"
   ]
  },
  {
   "cell_type": "markdown",
   "id": "qualified-phrase",
   "metadata": {},
   "source": [
    "and then create and customize the Newton solver"
   ]
  },
  {
   "cell_type": "code",
   "execution_count": 13,
   "id": "special-globe",
   "metadata": {},
   "outputs": [],
   "source": [
    "solver = NewtonSolver(domain.comm, problem)\n",
    "\n",
    "# Set Newton solver options\n",
    "solver.atol = 1e-8\n",
    "solver.rtol = 1e-8\n",
    "solver.convergence_criterion = \"incremental\"\n"
   ]
  },
  {
   "cell_type": "markdown",
   "id": "marked-hungary",
   "metadata": {},
   "source": [
    "We create a function to plot the solution at each time step."
   ]
  },
  {
   "cell_type": "code",
   "execution_count": 14,
   "id": "noble-perception",
   "metadata": {},
   "outputs": [],
   "source": [
    "pyvista.start_xvfb()\n",
    "plotter = pyvista.Plotter()\n",
    "plotter.open_gif(\"deformation.gif\", fps=3)\n",
    "\n",
    "topology, cells, geometry = plot.vtk_mesh(u.function_space)\n",
    "function_grid = pyvista.UnstructuredGrid(topology, cells, geometry)\n",
    "\n",
    "values = np.zeros((geometry.shape[0], 3))\n",
    "values[:, :len(u)] = u.x.array.reshape(geometry.shape[0], len(u))\n",
    "function_grid[\"u\"] = values\n",
    "function_grid.set_active_vectors(\"u\")\n",
    "\n",
    "# Warp mesh by deformation\n",
    "warped = function_grid.warp_by_vector(\"u\", factor=1)\n",
    "warped.set_active_vectors(\"u\")\n",
    "\n",
    "# Add mesh to plotter and visualize\n",
    "actor = plotter.add_mesh(warped, show_edges=True, lighting=False, clim=[0, 10])\n",
    "\n",
    "# Compute magnitude of displacement to visualize in GIF\n",
    "Vs = fem.FunctionSpace(domain, (\"Lagrange\", 2))\n",
    "magnitude = fem.Function(Vs)\n",
    "us = fem.Expression(ufl.sqrt(sum([u[i]**2 for i in range(len(u))])), Vs.element.interpolation_points())\n",
    "magnitude.interpolate(us)\n",
    "warped[\"mag\"] = magnitude.x.array"
   ]
  },
  {
   "cell_type": "markdown",
   "id": "nasty-entertainment",
   "metadata": {},
   "source": [
    "Finally, we solve the problem over several time steps, updating the y-component of the traction"
   ]
  },
  {
   "cell_type": "code",
   "execution_count": 15,
   "id": "vanilla-referral",
   "metadata": {},
   "outputs": [
    {
     "name": "stderr",
     "output_type": "stream",
     "text": [
      "2023-09-05 09:39:34.101 (   4.153s) [main            ]              petsc.cpp:698   INFO| PETSc Krylov solver starting to solve system.\n",
      "2023-09-05 09:39:34.400 (   4.452s) [main            ]         TimeLogger.cpp:28    INFO| Elapsed wall, usr, sys time: 0.299288, 0.260000, 0.030000 (PETSc Krylov solver)\n",
      "2023-09-05 09:39:34.515 (   4.567s) [main            ]              petsc.cpp:698   INFO| PETSc Krylov solver starting to solve system.\n",
      "2023-09-05 09:39:34.746 (   4.797s) [main            ]         TimeLogger.cpp:28    INFO| Elapsed wall, usr, sys time: 0.230521, 0.190000, 0.050000 (PETSc Krylov solver)\n",
      "2023-09-05 09:39:34.751 (   4.803s) [main            ]       NewtonSolver.cpp:36    INFO| Newton iteration 2: r (abs) = 0.416658 (tol = 1e-08) r (rel) = 0.960684(tol = 1e-08)\n",
      "2023-09-05 09:39:34.861 (   4.913s) [main            ]              petsc.cpp:698   INFO| PETSc Krylov solver starting to solve system.\n",
      "2023-09-05 09:39:35.087 (   5.138s) [main            ]         TimeLogger.cpp:28    INFO| Elapsed wall, usr, sys time: 0.225784, 0.210000, 0.030000 (PETSc Krylov solver)\n",
      "2023-09-05 09:39:35.092 (   5.144s) [main            ]       NewtonSolver.cpp:36    INFO| Newton iteration 3: r (abs) = 0.408198 (tol = 1e-08) r (rel) = 0.941178(tol = 1e-08)\n",
      "2023-09-05 09:39:35.202 (   5.253s) [main            ]              petsc.cpp:698   INFO| PETSc Krylov solver starting to solve system.\n",
      "2023-09-05 09:39:35.441 (   5.492s) [main            ]         TimeLogger.cpp:28    INFO| Elapsed wall, usr, sys time: 0.238785, 0.210000, 0.020000 (PETSc Krylov solver)\n",
      "2023-09-05 09:39:35.446 (   5.498s) [main            ]       NewtonSolver.cpp:36    INFO| Newton iteration 4: r (abs) = 0.40178 (tol = 1e-08) r (rel) = 0.926379(tol = 1e-08)\n",
      "2023-09-05 09:39:35.550 (   5.602s) [main            ]              petsc.cpp:698   INFO| PETSc Krylov solver starting to solve system.\n",
      "2023-09-05 09:39:35.776 (   5.828s) [main            ]         TimeLogger.cpp:28    INFO| Elapsed wall, usr, sys time: 0.225889, 0.200000, 0.030000 (PETSc Krylov solver)\n",
      "2023-09-05 09:39:35.782 (   5.833s) [main            ]       NewtonSolver.cpp:36    INFO| Newton iteration 5: r (abs) = 0.396566 (tol = 1e-08) r (rel) = 0.914358(tol = 1e-08)\n",
      "2023-09-05 09:39:35.890 (   5.942s) [main            ]              petsc.cpp:698   INFO| PETSc Krylov solver starting to solve system.\n",
      "2023-09-05 09:39:36.126 (   6.178s) [main            ]         TimeLogger.cpp:28    INFO| Elapsed wall, usr, sys time: 0.236053, 0.210000, 0.020000 (PETSc Krylov solver)\n",
      "2023-09-05 09:39:36.131 (   6.183s) [main            ]       NewtonSolver.cpp:36    INFO| Newton iteration 6: r (abs) = 0.39216 (tol = 1e-08) r (rel) = 0.904199(tol = 1e-08)\n",
      "2023-09-05 09:39:36.237 (   6.289s) [main            ]              petsc.cpp:698   INFO| PETSc Krylov solver starting to solve system.\n",
      "2023-09-05 09:39:36.466 (   6.517s) [main            ]         TimeLogger.cpp:28    INFO| Elapsed wall, usr, sys time: 0.228266, 0.190000, 0.040000 (PETSc Krylov solver)\n",
      "2023-09-05 09:39:36.471 (   6.523s) [main            ]       NewtonSolver.cpp:36    INFO| Newton iteration 7: r (abs) = 0.388367 (tol = 1e-08) r (rel) = 0.895454(tol = 1e-08)\n",
      "2023-09-05 09:39:36.582 (   6.634s) [main            ]              petsc.cpp:698   INFO| PETSc Krylov solver starting to solve system.\n",
      "2023-09-05 09:39:36.821 (   6.873s) [main            ]         TimeLogger.cpp:28    INFO| Elapsed wall, usr, sys time: 0.238803, 0.210000, 0.030000 (PETSc Krylov solver)\n",
      "2023-09-05 09:39:36.826 (   6.878s) [main            ]       NewtonSolver.cpp:36    INFO| Newton iteration 8: r (abs) = 0.38507 (tol = 1e-08) r (rel) = 0.887851(tol = 1e-08)\n",
      "2023-09-05 09:39:36.935 (   6.987s) [main            ]              petsc.cpp:698   INFO| PETSc Krylov solver starting to solve system.\n",
      "2023-09-05 09:39:37.175 (   7.227s) [main            ]         TimeLogger.cpp:28    INFO| Elapsed wall, usr, sys time: 0.240331, 0.200000, 0.030000 (PETSc Krylov solver)\n",
      "2023-09-05 09:39:37.181 (   7.233s) [main            ]       NewtonSolver.cpp:36    INFO| Newton iteration 9: r (abs) = 0.382192 (tol = 1e-08) r (rel) = 0.881216(tol = 1e-08)\n",
      "2023-09-05 09:39:37.290 (   7.342s) [main            ]              petsc.cpp:698   INFO| PETSc Krylov solver starting to solve system.\n",
      "2023-09-05 09:39:37.517 (   7.569s) [main            ]         TimeLogger.cpp:28    INFO| Elapsed wall, usr, sys time: 0.226937, 0.210000, 0.020000 (PETSc Krylov solver)\n",
      "2023-09-05 09:39:37.522 (   7.574s) [main            ]       NewtonSolver.cpp:36    INFO| Newton iteration 10: r (abs) = 0.379681 (tol = 1e-08) r (rel) = 0.875427(tol = 1e-08)\n",
      "2023-09-05 09:39:37.630 (   7.681s) [main            ]              petsc.cpp:698   INFO| PETSc Krylov solver starting to solve system.\n",
      "2023-09-05 09:39:37.857 (   7.909s) [main            ]         TimeLogger.cpp:28    INFO| Elapsed wall, usr, sys time: 0.227861, 0.210000, 0.020000 (PETSc Krylov solver)\n",
      "2023-09-05 09:39:37.863 (   7.914s) [main            ]       NewtonSolver.cpp:36    INFO| Newton iteration 11: r (abs) = 0.3775 (tol = 1e-08) r (rel) = 0.870398(tol = 1e-08)\n",
      "2023-09-05 09:39:37.970 (   8.022s) [main            ]              petsc.cpp:698   INFO| PETSc Krylov solver starting to solve system.\n",
      "2023-09-05 09:39:38.196 (   8.248s) [main            ]         TimeLogger.cpp:28    INFO| Elapsed wall, usr, sys time: 0.226266, 0.200000, 0.030000 (PETSc Krylov solver)\n",
      "2023-09-05 09:39:38.202 (   8.253s) [main            ]       NewtonSolver.cpp:36    INFO| Newton iteration 12: r (abs) = 0.375623 (tol = 1e-08) r (rel) = 0.866068(tol = 1e-08)\n",
      "2023-09-05 09:39:38.311 (   8.362s) [main            ]              petsc.cpp:698   INFO| PETSc Krylov solver starting to solve system.\n",
      "2023-09-05 09:39:38.544 (   8.596s) [main            ]         TimeLogger.cpp:28    INFO| Elapsed wall, usr, sys time: 0.233478, 0.200000, 0.030000 (PETSc Krylov solver)\n",
      "2023-09-05 09:39:38.551 (   8.603s) [main            ]       NewtonSolver.cpp:36    INFO| Newton iteration 13: r (abs) = 0.374027 (tol = 1e-08) r (rel) = 0.862391(tol = 1e-08)\n",
      "2023-09-05 09:39:38.659 (   8.710s) [main            ]              petsc.cpp:698   INFO| PETSc Krylov solver starting to solve system.\n",
      "2023-09-05 09:39:38.884 (   8.936s) [main            ]         TimeLogger.cpp:28    INFO| Elapsed wall, usr, sys time: 0.225532, 0.180000, 0.050000 (PETSc Krylov solver)\n",
      "2023-09-05 09:39:38.890 (   8.941s) [main            ]       NewtonSolver.cpp:36    INFO| Newton iteration 14: r (abs) = 0.3727 (tol = 1e-08) r (rel) = 0.859331(tol = 1e-08)\n",
      "2023-09-05 09:39:38.997 (   9.049s) [main            ]              petsc.cpp:698   INFO| PETSc Krylov solver starting to solve system.\n",
      "2023-09-05 09:39:39.226 (   9.278s) [main            ]         TimeLogger.cpp:28    INFO| Elapsed wall, usr, sys time: 0.229031, 0.180000, 0.040000 (PETSc Krylov solver)\n",
      "2023-09-05 09:39:39.232 (   9.283s) [main            ]       NewtonSolver.cpp:36    INFO| Newton iteration 15: r (abs) = 0.371631 (tol = 1e-08) r (rel) = 0.856865(tol = 1e-08)\n",
      "2023-09-05 09:39:39.340 (   9.391s) [main            ]              petsc.cpp:698   INFO| PETSc Krylov solver starting to solve system.\n",
      "2023-09-05 09:39:39.565 (   9.617s) [main            ]         TimeLogger.cpp:28    INFO| Elapsed wall, usr, sys time: 0.225714, 0.200000, 0.020000 (PETSc Krylov solver)\n",
      "2023-09-05 09:39:39.571 (   9.623s) [main            ]       NewtonSolver.cpp:36    INFO| Newton iteration 16: r (abs) = 0.370811 (tol = 1e-08) r (rel) = 0.854974(tol = 1e-08)\n",
      "2023-09-05 09:39:39.680 (   9.732s) [main            ]              petsc.cpp:698   INFO| PETSc Krylov solver starting to solve system.\n",
      "2023-09-05 09:39:39.922 (   9.973s) [main            ]         TimeLogger.cpp:28    INFO| Elapsed wall, usr, sys time: 0.241368, 0.220000, 0.030000 (PETSc Krylov solver)\n",
      "2023-09-05 09:39:39.928 (   9.979s) [main            ]       NewtonSolver.cpp:36    INFO| Newton iteration 17: r (abs) = 0.370236 (tol = 1e-08) r (rel) = 0.853648(tol = 1e-08)\n",
      "2023-09-05 09:39:40.039 (  10.090s) [main            ]              petsc.cpp:698   INFO| PETSc Krylov solver starting to solve system.\n",
      "2023-09-05 09:39:40.274 (  10.326s) [main            ]         TimeLogger.cpp:28    INFO| Elapsed wall, usr, sys time: 0.235192, 0.220000, 0.010000 (PETSc Krylov solver)\n",
      "2023-09-05 09:39:40.279 (  10.331s) [main            ]       NewtonSolver.cpp:36    INFO| Newton iteration 18: r (abs) = 0.369902 (tol = 1e-08) r (rel) = 0.852878(tol = 1e-08)\n",
      "2023-09-05 09:39:40.388 (  10.439s) [main            ]              petsc.cpp:698   INFO| PETSc Krylov solver starting to solve system.\n",
      "2023-09-05 09:39:40.624 (  10.676s) [main            ]         TimeLogger.cpp:28    INFO| Elapsed wall, usr, sys time: 0.236376, 0.210000, 0.030000 (PETSc Krylov solver)\n",
      "2023-09-05 09:39:40.629 (  10.681s) [main            ]       NewtonSolver.cpp:36    INFO| Newton iteration 19: r (abs) = 0.369809 (tol = 1e-08) r (rel) = 0.852663(tol = 1e-08)\n",
      "2023-09-05 09:39:40.738 (  10.790s) [main            ]              petsc.cpp:698   INFO| PETSc Krylov solver starting to solve system.\n",
      "2023-09-05 09:39:40.967 (  11.018s) [main            ]         TimeLogger.cpp:28    INFO| Elapsed wall, usr, sys time: 0.228210, 0.190000, 0.040000 (PETSc Krylov solver)\n",
      "2023-09-05 09:39:40.972 (  11.024s) [main            ]       NewtonSolver.cpp:36    INFO| Newton iteration 20: r (abs) = 0.369956 (tol = 1e-08) r (rel) = 0.853003(tol = 1e-08)\n",
      "2023-09-05 09:39:41.081 (  11.132s) [main            ]              petsc.cpp:698   INFO| PETSc Krylov solver starting to solve system.\n",
      "2023-09-05 09:39:41.309 (  11.361s) [main            ]         TimeLogger.cpp:28    INFO| Elapsed wall, usr, sys time: 0.228480, 0.200000, 0.030000 (PETSc Krylov solver)\n",
      "2023-09-05 09:39:41.315 (  11.366s) [main            ]       NewtonSolver.cpp:36    INFO| Newton iteration 21: r (abs) = 0.370346 (tol = 1e-08) r (rel) = 0.853902(tol = 1e-08)\n",
      "2023-09-05 09:39:41.422 (  11.474s) [main            ]              petsc.cpp:698   INFO| PETSc Krylov solver starting to solve system.\n",
      "2023-09-05 09:39:41.662 (  11.713s) [main            ]         TimeLogger.cpp:28    INFO| Elapsed wall, usr, sys time: 0.239671, 0.220000, 0.030000 (PETSc Krylov solver)\n",
      "2023-09-05 09:39:41.667 (  11.719s) [main            ]       NewtonSolver.cpp:36    INFO| Newton iteration 22: r (abs) = 0.370981 (tol = 1e-08) r (rel) = 0.855367(tol = 1e-08)\n",
      "2023-09-05 09:39:41.777 (  11.828s) [main            ]              petsc.cpp:698   INFO| PETSc Krylov solver starting to solve system.\n",
      "2023-09-05 09:39:42.009 (  12.061s) [main            ]         TimeLogger.cpp:28    INFO| Elapsed wall, usr, sys time: 0.232285, 0.220000, 0.020000 (PETSc Krylov solver)\n",
      "2023-09-05 09:39:42.014 (  12.066s) [main            ]       NewtonSolver.cpp:36    INFO| Newton iteration 23: r (abs) = 0.371865 (tol = 1e-08) r (rel) = 0.857405(tol = 1e-08)\n",
      "2023-09-05 09:39:42.124 (  12.176s) [main            ]              petsc.cpp:698   INFO| PETSc Krylov solver starting to solve system.\n",
      "2023-09-05 09:39:42.352 (  12.404s) [main            ]         TimeLogger.cpp:28    INFO| Elapsed wall, usr, sys time: 0.228012, 0.200000, 0.030000 (PETSc Krylov solver)\n",
      "2023-09-05 09:39:42.358 (  12.409s) [main            ]       NewtonSolver.cpp:36    INFO| Newton iteration 24: r (abs) = 0.373004 (tol = 1e-08) r (rel) = 0.86003(tol = 1e-08)\n",
      "2023-09-05 09:39:42.467 (  12.518s) [main            ]              petsc.cpp:698   INFO| PETSc Krylov solver starting to solve system.\n",
      "2023-09-05 09:39:42.709 (  12.760s) [main            ]         TimeLogger.cpp:28    INFO| Elapsed wall, usr, sys time: 0.242131, 0.230000, 0.010000 (PETSc Krylov solver)\n",
      "2023-09-05 09:39:42.714 (  12.766s) [main            ]       NewtonSolver.cpp:36    INFO| Newton iteration 25: r (abs) = 0.374402 (tol = 1e-08) r (rel) = 0.863254(tol = 1e-08)\n",
      "2023-09-05 09:39:42.825 (  12.877s) [main            ]              petsc.cpp:698   INFO| PETSc Krylov solver starting to solve system.\n",
      "2023-09-05 09:39:43.056 (  13.108s) [main            ]         TimeLogger.cpp:28    INFO| Elapsed wall, usr, sys time: 0.231035, 0.200000, 0.030000 (PETSc Krylov solver)\n",
      "2023-09-05 09:39:43.061 (  13.113s) [main            ]       NewtonSolver.cpp:36    INFO| Newton iteration 26: r (abs) = 0.376067 (tol = 1e-08) r (rel) = 0.867094(tol = 1e-08)\n",
      "2023-09-05 09:39:43.169 (  13.221s) [main            ]              petsc.cpp:698   INFO| PETSc Krylov solver starting to solve system.\n",
      "2023-09-05 09:39:43.399 (  13.451s) [main            ]         TimeLogger.cpp:28    INFO| Elapsed wall, usr, sys time: 0.229743, 0.210000, 0.020000 (PETSc Krylov solver)\n",
      "2023-09-05 09:39:43.405 (  13.457s) [main            ]       NewtonSolver.cpp:36    INFO| Newton iteration 27: r (abs) = 0.378007 (tol = 1e-08) r (rel) = 0.871566(tol = 1e-08)\n",
      "2023-09-05 09:39:43.521 (  13.573s) [main            ]              petsc.cpp:698   INFO| PETSc Krylov solver starting to solve system.\n",
      "2023-09-05 09:39:43.766 (  13.818s) [main            ]         TimeLogger.cpp:28    INFO| Elapsed wall, usr, sys time: 0.245194, 0.240000, 0.000000 (PETSc Krylov solver)\n",
      "2023-09-05 09:39:43.772 (  13.824s) [main            ]       NewtonSolver.cpp:36    INFO| Newton iteration 28: r (abs) = 0.380229 (tol = 1e-08) r (rel) = 0.87669(tol = 1e-08)\n",
      "2023-09-05 09:39:43.885 (  13.937s) [main            ]              petsc.cpp:698   INFO| PETSc Krylov solver starting to solve system.\n",
      "2023-09-05 09:39:44.124 (  14.176s) [main            ]         TimeLogger.cpp:28    INFO| Elapsed wall, usr, sys time: 0.238841, 0.230000, 0.020000 (PETSc Krylov solver)\n",
      "2023-09-05 09:39:44.130 (  14.181s) [main            ]       NewtonSolver.cpp:36    INFO| Newton iteration 29: r (abs) = 0.382744 (tol = 1e-08) r (rel) = 0.882487(tol = 1e-08)\n",
      "2023-09-05 09:39:44.242 (  14.294s) [main            ]              petsc.cpp:698   INFO| PETSc Krylov solver starting to solve system.\n",
      "2023-09-05 09:39:44.481 (  14.533s) [main            ]         TimeLogger.cpp:28    INFO| Elapsed wall, usr, sys time: 0.238573, 0.210000, 0.040000 (PETSc Krylov solver)\n",
      "2023-09-05 09:39:44.486 (  14.538s) [main            ]       NewtonSolver.cpp:36    INFO| Newton iteration 30: r (abs) = 0.38556 (tol = 1e-08) r (rel) = 0.888981(tol = 1e-08)\n",
      "2023-09-05 09:39:44.597 (  14.649s) [main            ]              petsc.cpp:698   INFO| PETSc Krylov solver starting to solve system.\n",
      "2023-09-05 09:39:44.834 (  14.885s) [main            ]         TimeLogger.cpp:28    INFO| Elapsed wall, usr, sys time: 0.236572, 0.220000, 0.010000 (PETSc Krylov solver)\n",
      "2023-09-05 09:39:44.839 (  14.891s) [main            ]       NewtonSolver.cpp:36    INFO| Newton iteration 31: r (abs) = 0.38869 (tol = 1e-08) r (rel) = 0.896197(tol = 1e-08)\n",
      "2023-09-05 09:39:44.950 (  15.001s) [main            ]              petsc.cpp:698   INFO| PETSc Krylov solver starting to solve system.\n",
      "2023-09-05 09:39:45.180 (  15.231s) [main            ]         TimeLogger.cpp:28    INFO| Elapsed wall, usr, sys time: 0.229916, 0.190000, 0.050000 (PETSc Krylov solver)\n",
      "2023-09-05 09:39:45.185 (  15.237s) [main            ]       NewtonSolver.cpp:36    INFO| Newton iteration 32: r (abs) = 0.392144 (tol = 1e-08) r (rel) = 0.904161(tol = 1e-08)\n",
      "2023-09-05 09:39:45.293 (  15.344s) [main            ]              petsc.cpp:698   INFO| PETSc Krylov solver starting to solve system.\n",
      "2023-09-05 09:39:45.523 (  15.575s) [main            ]         TimeLogger.cpp:28    INFO| Elapsed wall, usr, sys time: 0.230317, 0.220000, 0.020000 (PETSc Krylov solver)\n",
      "2023-09-05 09:39:45.529 (  15.580s) [main            ]       NewtonSolver.cpp:36    INFO| Newton iteration 33: r (abs) = 0.395935 (tol = 1e-08) r (rel) = 0.912903(tol = 1e-08)\n",
      "2023-09-05 09:39:45.639 (  15.690s) [main            ]              petsc.cpp:698   INFO| PETSc Krylov solver starting to solve system.\n",
      "2023-09-05 09:39:45.868 (  15.920s) [main            ]         TimeLogger.cpp:28    INFO| Elapsed wall, usr, sys time: 0.229419, 0.200000, 0.030000 (PETSc Krylov solver)\n",
      "2023-09-05 09:39:45.874 (  15.925s) [main            ]       NewtonSolver.cpp:36    INFO| Newton iteration 34: r (abs) = 0.400077 (tol = 1e-08) r (rel) = 0.922453(tol = 1e-08)\n",
      "2023-09-05 09:39:45.982 (  16.034s) [main            ]              petsc.cpp:698   INFO| PETSc Krylov solver starting to solve system.\n",
      "2023-09-05 09:39:46.212 (  16.263s) [main            ]         TimeLogger.cpp:28    INFO| Elapsed wall, usr, sys time: 0.229449, 0.200000, 0.040000 (PETSc Krylov solver)\n",
      "2023-09-05 09:39:46.218 (  16.269s) [main            ]       NewtonSolver.cpp:36    INFO| Newton iteration 35: r (abs) = 0.404584 (tol = 1e-08) r (rel) = 0.932843(tol = 1e-08)\n",
      "2023-09-05 09:39:46.328 (  16.380s) [main            ]              petsc.cpp:698   INFO| PETSc Krylov solver starting to solve system.\n",
      "2023-09-05 09:39:46.557 (  16.609s) [main            ]         TimeLogger.cpp:28    INFO| Elapsed wall, usr, sys time: 0.229514, 0.180000, 0.050000 (PETSc Krylov solver)\n",
      "2023-09-05 09:39:46.563 (  16.614s) [main            ]       NewtonSolver.cpp:36    INFO| Newton iteration 36: r (abs) = 0.40947 (tol = 1e-08) r (rel) = 0.944111(tol = 1e-08)\n",
      "2023-09-05 09:39:46.674 (  16.726s) [main            ]              petsc.cpp:698   INFO| PETSc Krylov solver starting to solve system.\n",
      "2023-09-05 09:39:46.912 (  16.964s) [main            ]         TimeLogger.cpp:28    INFO| Elapsed wall, usr, sys time: 0.238226, 0.210000, 0.040000 (PETSc Krylov solver)\n",
      "2023-09-05 09:39:46.918 (  16.969s) [main            ]       NewtonSolver.cpp:36    INFO| Newton iteration 37: r (abs) = 0.414753 (tol = 1e-08) r (rel) = 0.956292(tol = 1e-08)\n",
      "2023-09-05 09:39:47.028 (  17.080s) [main            ]              petsc.cpp:698   INFO| PETSc Krylov solver starting to solve system.\n",
      "2023-09-05 09:39:47.264 (  17.316s) [main            ]         TimeLogger.cpp:28    INFO| Elapsed wall, usr, sys time: 0.235964, 0.200000, 0.040000 (PETSc Krylov solver)\n",
      "2023-09-05 09:39:47.270 (  17.322s) [main            ]       NewtonSolver.cpp:36    INFO| Newton iteration 38: r (abs) = 0.42045 (tol = 1e-08) r (rel) = 0.969427(tol = 1e-08)\n",
      "2023-09-05 09:39:47.382 (  17.434s) [main            ]              petsc.cpp:698   INFO| PETSc Krylov solver starting to solve system.\n",
      "2023-09-05 09:39:47.620 (  17.672s) [main            ]         TimeLogger.cpp:28    INFO| Elapsed wall, usr, sys time: 0.237459, 0.190000, 0.050000 (PETSc Krylov solver)\n",
      "2023-09-05 09:39:47.627 (  17.678s) [main            ]       NewtonSolver.cpp:36    INFO| Newton iteration 39: r (abs) = 0.42658 (tol = 1e-08) r (rel) = 0.98356(tol = 1e-08)\n",
      "2023-09-05 09:39:47.737 (  17.788s) [main            ]              petsc.cpp:698   INFO| PETSc Krylov solver starting to solve system.\n",
      "2023-09-05 09:39:47.975 (  18.026s) [main            ]         TimeLogger.cpp:28    INFO| Elapsed wall, usr, sys time: 0.237873, 0.220000, 0.030000 (PETSc Krylov solver)\n",
      "2023-09-05 09:39:47.980 (  18.032s) [main            ]       NewtonSolver.cpp:36    INFO| Newton iteration 40: r (abs) = 0.433162 (tol = 1e-08) r (rel) = 0.998736(tol = 1e-08)\n",
      "2023-09-05 09:39:48.089 (  18.141s) [main            ]              petsc.cpp:698   INFO| PETSc Krylov solver starting to solve system.\n",
      "2023-09-05 09:39:48.327 (  18.379s) [main            ]         TimeLogger.cpp:28    INFO| Elapsed wall, usr, sys time: 0.237971, 0.210000, 0.030000 (PETSc Krylov solver)\n",
      "2023-09-05 09:39:48.333 (  18.385s) [main            ]       NewtonSolver.cpp:36    INFO| Newton iteration 41: r (abs) = 0.440217 (tol = 1e-08) r (rel) = 1.015(tol = 1e-08)\n",
      "2023-09-05 09:39:48.444 (  18.495s) [main            ]              petsc.cpp:698   INFO| PETSc Krylov solver starting to solve system.\n",
      "2023-09-05 09:39:48.683 (  18.735s) [main            ]         TimeLogger.cpp:28    INFO| Elapsed wall, usr, sys time: 0.239595, 0.200000, 0.040000 (PETSc Krylov solver)\n",
      "2023-09-05 09:39:48.690 (  18.742s) [main            ]       NewtonSolver.cpp:36    INFO| Newton iteration 42: r (abs) = 0.44777 (tol = 1e-08) r (rel) = 1.03242(tol = 1e-08)\n",
      "2023-09-05 09:39:48.804 (  18.855s) [main            ]              petsc.cpp:698   INFO| PETSc Krylov solver starting to solve system.\n",
      "2023-09-05 09:39:49.038 (  19.089s) [main            ]         TimeLogger.cpp:28    INFO| Elapsed wall, usr, sys time: 0.234177, 0.190000, 0.050000 (PETSc Krylov solver)\n",
      "2023-09-05 09:39:49.043 (  19.095s) [main            ]       NewtonSolver.cpp:36    INFO| Newton iteration 43: r (abs) = 0.455844 (tol = 1e-08) r (rel) = 1.05103(tol = 1e-08)\n",
      "2023-09-05 09:39:49.154 (  19.206s) [main            ]              petsc.cpp:698   INFO| PETSc Krylov solver starting to solve system.\n",
      "2023-09-05 09:39:49.387 (  19.439s) [main            ]         TimeLogger.cpp:28    INFO| Elapsed wall, usr, sys time: 0.233071, 0.220000, 0.010000 (PETSc Krylov solver)\n",
      "2023-09-05 09:39:49.393 (  19.444s) [main            ]       NewtonSolver.cpp:36    INFO| Newton iteration 44: r (abs) = 0.464466 (tol = 1e-08) r (rel) = 1.07091(tol = 1e-08)\n",
      "2023-09-05 09:39:49.504 (  19.555s) [main            ]              petsc.cpp:698   INFO| PETSc Krylov solver starting to solve system.\n",
      "2023-09-05 09:39:49.738 (  19.789s) [main            ]         TimeLogger.cpp:28    INFO| Elapsed wall, usr, sys time: 0.233949, 0.220000, 0.020000 (PETSc Krylov solver)\n",
      "2023-09-05 09:39:49.743 (  19.795s) [main            ]       NewtonSolver.cpp:36    INFO| Newton iteration 45: r (abs) = 0.473664 (tol = 1e-08) r (rel) = 1.09212(tol = 1e-08)\n",
      "2023-09-05 09:39:49.853 (  19.905s) [main            ]              petsc.cpp:698   INFO| PETSc Krylov solver starting to solve system.\n",
      "2023-09-05 09:39:50.087 (  20.139s) [main            ]         TimeLogger.cpp:28    INFO| Elapsed wall, usr, sys time: 0.233722, 0.200000, 0.030000 (PETSc Krylov solver)\n",
      "2023-09-05 09:39:50.093 (  20.144s) [main            ]       NewtonSolver.cpp:36    INFO| Newton iteration 46: r (abs) = 0.483471 (tol = 1e-08) r (rel) = 1.11473(tol = 1e-08)\n",
      "2023-09-05 09:39:50.203 (  20.254s) [main            ]              petsc.cpp:698   INFO| PETSc Krylov solver starting to solve system.\n",
      "2023-09-05 09:39:50.439 (  20.491s) [main            ]         TimeLogger.cpp:28    INFO| Elapsed wall, usr, sys time: 0.236480, 0.210000, 0.020000 (PETSc Krylov solver)\n",
      "2023-09-05 09:39:50.445 (  20.496s) [main            ]       NewtonSolver.cpp:36    INFO| Newton iteration 47: r (abs) = 0.493919 (tol = 1e-08) r (rel) = 1.13882(tol = 1e-08)\n",
      "2023-09-05 09:39:50.555 (  20.607s) [main            ]              petsc.cpp:698   INFO| PETSc Krylov solver starting to solve system.\n",
      "2023-09-05 09:39:50.792 (  20.843s) [main            ]         TimeLogger.cpp:28    INFO| Elapsed wall, usr, sys time: 0.236722, 0.230000, 0.020000 (PETSc Krylov solver)\n",
      "2023-09-05 09:39:50.797 (  20.849s) [main            ]       NewtonSolver.cpp:36    INFO| Newton iteration 48: r (abs) = 0.505045 (tol = 1e-08) r (rel) = 1.16448(tol = 1e-08)\n",
      "2023-09-05 09:39:50.907 (  20.958s) [main            ]              petsc.cpp:698   INFO| PETSc Krylov solver starting to solve system.\n",
      "2023-09-05 09:39:51.152 (  21.203s) [main            ]         TimeLogger.cpp:28    INFO| Elapsed wall, usr, sys time: 0.244959, 0.220000, 0.030000 (PETSc Krylov solver)\n",
      "2023-09-05 09:39:51.158 (  21.209s) [main            ]       NewtonSolver.cpp:36    INFO| Newton iteration 49: r (abs) = 0.51689 (tol = 1e-08) r (rel) = 1.19179(tol = 1e-08)\n",
      "2023-09-05 09:39:51.263 (  21.314s) [main            ]              petsc.cpp:698   INFO| PETSc Krylov solver starting to solve system.\n",
      "2023-09-05 09:39:51.494 (  21.546s) [main            ]         TimeLogger.cpp:28    INFO| Elapsed wall, usr, sys time: 0.231867, 0.210000, 0.020000 (PETSc Krylov solver)\n",
      "2023-09-05 09:39:51.500 (  21.552s) [main            ]       NewtonSolver.cpp:36    INFO| Newton iteration 50: r (abs) = 0.529496 (tol = 1e-08) r (rel) = 1.22085(tol = 1e-08)\n"
     ]
    },
    {
     "ename": "RuntimeError",
     "evalue": "Newton solver did not converge because maximum number of iterations reached",
     "output_type": "error",
     "traceback": [
      "\u001b[0;31m---------------------------------------------------------------------------\u001b[0m",
      "\u001b[0;31mRuntimeError\u001b[0m                              Traceback (most recent call last)",
      "Cell \u001b[0;32mIn[15], line 5\u001b[0m\n\u001b[1;32m      3\u001b[0m \u001b[38;5;28;01mfor\u001b[39;00m n \u001b[38;5;129;01min\u001b[39;00m \u001b[38;5;28mrange\u001b[39m(\u001b[38;5;241m1\u001b[39m, \u001b[38;5;241m10\u001b[39m):\n\u001b[1;32m      4\u001b[0m     T\u001b[38;5;241m.\u001b[39mvalue[\u001b[38;5;241m2\u001b[39m] \u001b[38;5;241m=\u001b[39m n \u001b[38;5;241m*\u001b[39m tval0\n\u001b[0;32m----> 5\u001b[0m     num_its, converged \u001b[38;5;241m=\u001b[39m \u001b[43msolver\u001b[49m\u001b[38;5;241;43m.\u001b[39;49m\u001b[43msolve\u001b[49m\u001b[43m(\u001b[49m\u001b[43mu\u001b[49m\u001b[43m)\u001b[49m\n\u001b[1;32m      6\u001b[0m     \u001b[38;5;28;01massert\u001b[39;00m (converged)\n\u001b[1;32m      7\u001b[0m     u\u001b[38;5;241m.\u001b[39mx\u001b[38;5;241m.\u001b[39mscatter_forward()\n",
      "File \u001b[0;32m/usr/local/dolfinx-real/lib/python3.10/dist-packages/dolfinx/nls/petsc.py:46\u001b[0m, in \u001b[0;36mNewtonSolver.solve\u001b[0;34m(self, u)\u001b[0m\n\u001b[1;32m     43\u001b[0m \u001b[38;5;28;01mdef\u001b[39;00m \u001b[38;5;21msolve\u001b[39m(\u001b[38;5;28mself\u001b[39m, u: fem\u001b[38;5;241m.\u001b[39mFunction):\n\u001b[1;32m     44\u001b[0m \u001b[38;5;250m    \u001b[39m\u001b[38;5;124;03m\"\"\"Solve non-linear problem into function u. Returns the number\u001b[39;00m\n\u001b[1;32m     45\u001b[0m \u001b[38;5;124;03m    of iterations and if the solver converged.\"\"\"\u001b[39;00m\n\u001b[0;32m---> 46\u001b[0m     n, converged \u001b[38;5;241m=\u001b[39m \u001b[38;5;28;43msuper\u001b[39;49m\u001b[43m(\u001b[49m\u001b[43m)\u001b[49m\u001b[38;5;241;43m.\u001b[39;49m\u001b[43msolve\u001b[49m\u001b[43m(\u001b[49m\u001b[43mu\u001b[49m\u001b[38;5;241;43m.\u001b[39;49m\u001b[43mvector\u001b[49m\u001b[43m)\u001b[49m\n\u001b[1;32m     47\u001b[0m     u\u001b[38;5;241m.\u001b[39mx\u001b[38;5;241m.\u001b[39mscatter_forward()\n\u001b[1;32m     48\u001b[0m     \u001b[38;5;28;01mreturn\u001b[39;00m n, converged\n",
      "\u001b[0;31mRuntimeError\u001b[0m: Newton solver did not converge because maximum number of iterations reached"
     ]
    }
   ],
   "source": [
    "log.set_log_level(log.LogLevel.INFO)\n",
    "tval0 = -1.5\n",
    "for n in range(1, 10):\n",
    "    T.value[2] = n * tval0\n",
    "    num_its, converged = solver.solve(u)\n",
    "    assert (converged)\n",
    "    u.x.scatter_forward()\n",
    "    print(f\"Time step {n}, Number of iterations {num_its}, Load {T.value}\")\n",
    "    function_grid[\"u\"][:, :len(u)] = u.x.array.reshape(geometry.shape[0], len(u))\n",
    "    magnitude.interpolate(us)\n",
    "    warped.set_active_scalars(\"mag\")\n",
    "    warped_n = function_grid.warp_by_vector(factor=1)\n",
    "    plotter.update_coordinates(warped_n.points.copy(), render=False)\n",
    "    plotter.update_scalar_bar_range([0, 10])\n",
    "    plotter.update_scalars(magnitude.x.array)\n",
    "    plotter.write_frame()\n",
    "plotter.close()"
   ]
  },
  {
   "cell_type": "markdown",
   "id": "906ef59c-7e89-46e7-9222-9a6e925f4180",
   "metadata": {},
   "source": [
    "<img src=\"./deformation.gif\" alt=\"gif\" class=\"bg-primary mb-1\" width=\"800px\">"
   ]
  }
 ],
 "metadata": {
  "jupytext": {
   "formats": "ipynb,py:light"
  },
  "kernelspec": {
   "display_name": "Python 3 (ipykernel)",
   "language": "python",
   "name": "python3"
  },
  "language_info": {
   "codemirror_mode": {
    "name": "ipython",
    "version": 3
   },
   "file_extension": ".py",
   "mimetype": "text/x-python",
   "name": "python",
   "nbconvert_exporter": "python",
   "pygments_lexer": "ipython3",
   "version": "3.10.6"
  }
 },
 "nbformat": 4,
 "nbformat_minor": 5
}
